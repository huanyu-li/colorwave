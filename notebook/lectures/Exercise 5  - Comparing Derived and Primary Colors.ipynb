{
 "cells": [
  {
   "cell_type": "code",
   "execution_count": 1,
   "metadata": {},
   "outputs": [],
   "source": [
    "from rsplib import RSPEngine, RSPPublisher, Stream, rdf_table,load_graph, accessURL"
   ]
  },
  {
   "cell_type": "code",
   "execution_count": 4,
   "metadata": {},
   "outputs": [],
   "source": [
    "jasper = RSPEngine(\"http://jasper:8181/jasper\")"
   ]
  },
  {
   "cell_type": "code",
   "execution_count": 5,
   "metadata": {},
   "outputs": [
    {
     "data": {
      "text/plain": [
       "[http://jasper:8181/jasper/streams/bluecount,\n",
       " http://streamhub:9292/streamhub/streams/colorstream,\n",
       " http://redstream:1255/red,\n",
       " http://jasper:8181/jasper/streams/reasoning]"
      ]
     },
     "execution_count": 5,
     "metadata": {},
     "output_type": "execute_result"
    }
   ],
   "source": [
    "jasper.streams()"
   ]
  },
  {
   "cell_type": "markdown",
   "metadata": {},
   "source": [
    "# If you did not create the yellow color stream before go back to Ex4"
   ]
  },
  {
   "cell_type": "code",
   "execution_count": 6,
   "metadata": {},
   "outputs": [],
   "source": [
    "qid  = 'reasoning2'\n",
    "tbox = 'https://raw.githubusercontent.com/riccardotommasini/colorwave/master/colors.owl'\n",
    "frmt = 'JSON'\n",
    "body = '''\n",
    "    PREFIX colors: <http://www.streamreasoning.org/ontologies/2018/9/colors#>\n",
    "    SELECT (COUNT(?p) AS ?cntPrimary) (COUNT(?d) AS ?cntDerived) ((?cntPrimary>?cntDerived) as ?morePrimaryThanDerived)  \n",
    "    FROM NAMED WINDOW <cw> ON <http://streamhub:9292/streamhub/streams/colorstream> [RANGE PT15S STEP PT5S]\n",
    "    FROM NAMED WINDOW <yw> ON <http://streamhub:9292/streamhub/streams/colorstream> [RANGE PT15S STEP PT5S]\n",
    "    WHERE {\n",
    "        { WINDOW ?pw { ?p a colors:Primary . }}\n",
    "        UNION\n",
    "        { WINDOW ?dw { ?d a colors:Derived . }}\n",
    "    }\n",
    "\n",
    "    '''"
   ]
  },
  {
   "cell_type": "code",
   "execution_count": 7,
   "metadata": {},
   "outputs": [],
   "source": [
    "reasoning2q = jasper.create(qid, body, tbox, frmt)"
   ]
  },
  {
   "cell_type": "code",
   "execution_count": 8,
   "metadata": {},
   "outputs": [],
   "source": [
    "r = jasper.expose(qid, 'HTTP', retention=5)"
   ]
  },
  {
   "cell_type": "code",
   "execution_count": 9,
   "metadata": {},
   "outputs": [],
   "source": [
    "endpoint = reasoning2q.stream().endpoints()[0]"
   ]
  },
  {
   "cell_type": "code",
   "execution_count": 14,
   "metadata": {},
   "outputs": [],
   "source": [
    "resp = endpoint.call()"
   ]
  },
  {
   "cell_type": "code",
   "execution_count": 15,
   "metadata": {},
   "outputs": [
    {
     "data": {
      "text/plain": [
       "[\n",
       "    {\n",
       "        \"morePrimaryThanDerived\": true,\n",
       "        \"cntPrimary\": 1,\n",
       "        \"eventTime\": 1589229326580,\n",
       "        \"cntDerived\": 0,\n",
       "        \"processingTime\": 1589229326598\n",
       "    },\n",
       "    {\n",
       "        \"morePrimaryThanDerived\": true,\n",
       "        \"cntPrimary\": 1,\n",
       "        \"eventTime\": 1589229326580,\n",
       "        \"cntDerived\": 0,\n",
       "        \"processingTime\": 1589229326602\n",
       "    },\n",
       "    {\n",
       "        \"morePrimaryThanDerived\": true,\n",
       "        \"cntPrimary\": 1,\n",
       "        \"eventTime\": 1589229326580,\n",
       "        \"cntDerived\": 0,\n",
       "        \"processingTime\": 1589229326603\n",
       "    },\n",
       "    {\n",
       "        \"morePrimaryThanDerived\": true,\n",
       "        \"cntPrimary\": 1,\n",
       "        \"eventTime\": 1589229326580,\n",
       "        \"cntDerived\": 0,\n",
       "        \"processingTime\": 1589229326610\n",
       "    },\n",
       "    {\n",
       "        \"morePrimaryThanDerived\": true,\n",
       "        \"cntPrimary\": 1,\n",
       "        \"eventTime\": 1589229326580,\n",
       "        \"cntDerived\": 0,\n",
       "        \"processingTime\": 1589229326611\n",
       "    }\n",
       "]"
      ]
     },
     "execution_count": 15,
     "metadata": {},
     "output_type": "execute_result"
    }
   ],
   "source": [
    "resp"
   ]
  },
  {
   "cell_type": "code",
   "execution_count": 16,
   "metadata": {},
   "outputs": [
    {
     "data": {
      "text/html": [
       "<div>\n",
       "<style scoped>\n",
       "    .dataframe tbody tr th:only-of-type {\n",
       "        vertical-align: middle;\n",
       "    }\n",
       "\n",
       "    .dataframe tbody tr th {\n",
       "        vertical-align: top;\n",
       "    }\n",
       "\n",
       "    .dataframe thead th {\n",
       "        text-align: right;\n",
       "    }\n",
       "</style>\n",
       "<table border=\"1\" class=\"dataframe\">\n",
       "  <thead>\n",
       "    <tr style=\"text-align: right;\">\n",
       "      <th></th>\n",
       "      <th>cntDerived</th>\n",
       "      <th>cntPrimary</th>\n",
       "      <th>eventTime</th>\n",
       "      <th>morePrimaryThanDerived</th>\n",
       "      <th>processingTime</th>\n",
       "    </tr>\n",
       "  </thead>\n",
       "  <tbody>\n",
       "    <tr>\n",
       "      <th>0</th>\n",
       "      <td>0</td>\n",
       "      <td>1</td>\n",
       "      <td>1589229326580</td>\n",
       "      <td>True</td>\n",
       "      <td>1589229326598</td>\n",
       "    </tr>\n",
       "    <tr>\n",
       "      <th>1</th>\n",
       "      <td>0</td>\n",
       "      <td>1</td>\n",
       "      <td>1589229326580</td>\n",
       "      <td>True</td>\n",
       "      <td>1589229326602</td>\n",
       "    </tr>\n",
       "    <tr>\n",
       "      <th>2</th>\n",
       "      <td>0</td>\n",
       "      <td>1</td>\n",
       "      <td>1589229326580</td>\n",
       "      <td>True</td>\n",
       "      <td>1589229326603</td>\n",
       "    </tr>\n",
       "    <tr>\n",
       "      <th>3</th>\n",
       "      <td>0</td>\n",
       "      <td>1</td>\n",
       "      <td>1589229326580</td>\n",
       "      <td>True</td>\n",
       "      <td>1589229326610</td>\n",
       "    </tr>\n",
       "    <tr>\n",
       "      <th>4</th>\n",
       "      <td>0</td>\n",
       "      <td>1</td>\n",
       "      <td>1589229326580</td>\n",
       "      <td>True</td>\n",
       "      <td>1589229326611</td>\n",
       "    </tr>\n",
       "  </tbody>\n",
       "</table>\n",
       "</div>"
      ],
      "text/plain": [
       "   cntDerived  cntPrimary      eventTime  morePrimaryThanDerived  \\\n",
       "0           0           1  1589229326580                    True   \n",
       "1           0           1  1589229326580                    True   \n",
       "2           0           1  1589229326580                    True   \n",
       "3           0           1  1589229326580                    True   \n",
       "4           0           1  1589229326580                    True   \n",
       "\n",
       "   processingTime  \n",
       "0   1589229326598  \n",
       "1   1589229326602  \n",
       "2   1589229326603  \n",
       "3   1589229326610  \n",
       "4   1589229326611  "
      ]
     },
     "execution_count": 16,
     "metadata": {},
     "output_type": "execute_result"
    }
   ],
   "source": [
    "df = resp.dataframe(['cntPrimary', 'cntDerived'])\n",
    "df"
   ]
  },
  {
   "cell_type": "code",
   "execution_count": 17,
   "metadata": {},
   "outputs": [
    {
     "data": {
      "image/png": "[encoded data removed]",
      "text/plain": [
       "<Figure size 360x360 with 1 Axes>"
      ]
     },
     "metadata": {},
     "output_type": "display_data"
    }
   ],
   "source": [
    "%matplotlib inline\n",
    "import pandas as pd\n",
    "\n",
    "df1 = df[['cntPrimary', 'cntDerived']]\n",
    "cntg_mean = df1['cntPrimary'].mean()\n",
    "cntr_mean = df1['cntDerived'].mean()\n",
    "\n",
    "df = pd.DataFrame({'means': [cntg_mean, cntr_mean]}, index=['primary', 'derived'])\n",
    "plot = df.plot.pie(y='means', colors=[\"#e10000\", \"#00e100\"], figsize=(5, 5))"
   ]
  },
  {
   "cell_type": "code",
   "execution_count": 19,
   "metadata": {},
   "outputs": [
    {
     "data": {
      "text/plain": [
       "'Not Found Resource with id [reasoning2]'"
      ]
     },
     "execution_count": 19,
     "metadata": {},
     "output_type": "execute_result"
    }
   ],
   "source": [
    "jasper.delete(qid)"
   ]
  },
  {
   "cell_type": "code",
   "execution_count": null,
   "metadata": {},
   "outputs": [],
   "source": []
  }
 ],
 "metadata": {
  "kernelspec": {
   "display_name": "Python 3",
   "language": "python",
   "name": "python3"
  },
  "language_info": {
   "codemirror_mode": {
    "name": "ipython",
    "version": 3
   },
   "file_extension": ".py",
   "mimetype": "text/x-python",
   "name": "python",
   "nbconvert_exporter": "python",
   "pygments_lexer": "ipython3",
   "version": "3.6.7"
  }
 },
 "nbformat": 4,
 "nbformat_minor": 2
}
