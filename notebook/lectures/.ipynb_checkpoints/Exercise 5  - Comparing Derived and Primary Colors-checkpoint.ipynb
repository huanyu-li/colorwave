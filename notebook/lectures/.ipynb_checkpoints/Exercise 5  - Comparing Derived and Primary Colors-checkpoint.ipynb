{
 "cells": [
  {
   "cell_type": "code",
   "execution_count": 1,
   "metadata": {},
   "outputs": [],
   "source": [
    "from rsplib import RSPEngine, RSPPublisher, Stream, rdf_table,load_graph, accessURL"
   ]
  },
  {
   "cell_type": "code",
   "execution_count": 2,
   "metadata": {},
   "outputs": [],
   "source": [
    "jasper = RSPEngine(\"http://jasper:8181/jasper\")"
   ]
  },
  {
   "cell_type": "code",
   "execution_count": 3,
   "metadata": {},
   "outputs": [
    {
     "data": {
      "text/plain": [
       "[http://streamhub:9292/streamhub/streams/colorstream,\n",
       " http://jasper:8181/jasper/streams/yellow]"
      ]
     },
     "execution_count": 3,
     "metadata": {},
     "output_type": "execute_result"
    }
   ],
   "source": [
    "jasper.streams()"
   ]
  },
  {
   "cell_type": "markdown",
   "metadata": {},
   "source": [
    "# If you did not create the yellow color stream before go back to Ex4"
   ]
  },
  {
   "cell_type": "code",
   "execution_count": 4,
   "metadata": {},
   "outputs": [],
   "source": [
    "qid  = 'reasoning2'\n",
    "tbox = 'https://raw.githubusercontent.com/riccardotommasini/colorwave/master/colors.owl'\n",
    "frmt = 'JSON'\n",
    "body = '''\n",
    "    \n",
    "    SELECT (COUNT(?p) AS ?cntPrimary) (COUNT(?d) AS ?cntDerived) ((?cntPrimary>?cntDerived) as ?morePrimaryThanDerived)  \n",
    "    FROM NAMED WINDOW <cw> ON <http://streamhub:9292/streamhub/streams/colorstream> [RANGE PT15S STEP PT5S]\n",
    "    FROM NAMED WINDOW <yw> ON <http://jasper:8181/jasper/streams/yellow> [RANGE PT15S STEP PT5S]\n",
    "    WHERE {\n",
    "        { WINDOW ?pw { ?p a <http://www.streamreasoning.org/ontologies/2018/9/colors#Primary> . }}\n",
    "        UNION\n",
    "        { WINDOW ?dw { ?d a <http://www.streamreasoning.org/ontologies/2018/9/colors#Derived>. }}\n",
    "    }\n",
    "\n",
    "    '''"
   ]
  },
  {
   "cell_type": "code",
   "execution_count": 5,
   "metadata": {},
   "outputs": [],
   "source": [
    "reasoning2q = jasper.create(qid, body, tbox, frmt)"
   ]
  },
  {
   "cell_type": "code",
   "execution_count": 6,
   "metadata": {},
   "outputs": [],
   "source": [
    "r = jasper.expose(qid, 'HTTP', retention=5)"
   ]
  },
  {
   "cell_type": "code",
   "execution_count": 7,
   "metadata": {},
   "outputs": [],
   "source": [
    "endpoint = reasoning2q.stream().endpoints()[0]"
   ]
  },
  {
   "cell_type": "code",
   "execution_count": 8,
   "metadata": {},
   "outputs": [],
   "source": [
    "resp = endpoint.call()"
   ]
  },
  {
   "cell_type": "code",
   "execution_count": 9,
   "metadata": {},
   "outputs": [
    {
     "data": {
      "text/plain": [
       "[\n",
       "    {\n",
       "        \"head_vars_0\": \"cntPrimary\",\n",
       "        \"head_vars_1\": \"cntDerived\",\n",
       "        \"head_vars_2\": \"morePrimaryThanDerived\",\n",
       "        \"results_bindings_0_cntPrimary_type\": \"literal\",\n",
       "        \"results_bindings_0_cntPrimary_datatype\": \"http://www.w3.org/2001/XMLSchema#integer\",\n",
       "        \"results_bindings_0_cntPrimary_value\": \"76\",\n",
       "        \"results_bindings_0_cntDerived_type\": \"literal\",\n",
       "        \"results_bindings_0_cntDerived_datatype\": \"http://www.w3.org/2001/XMLSchema#integer\",\n",
       "        \"results_bindings_0_cntDerived_value\": \"55\",\n",
       "        \"results_bindings_0_morePrimaryThanDerived_type\": \"literal\",\n",
       "        \"results_bindings_0_morePrimaryThanDerived_datatype\": \"http://www.w3.org/2001/XMLSchema#boolean\",\n",
       "        \"results_bindings_0_morePrimaryThanDerived_value\": \"true\"\n",
       "    },\n",
       "    {\n",
       "        \"head_vars_0\": \"cntPrimary\",\n",
       "        \"head_vars_1\": \"cntDerived\",\n",
       "        \"head_vars_2\": \"morePrimaryThanDerived\",\n",
       "        \"results_bindings_0_cntPrimary_type\": \"literal\",\n",
       "        \"results_bindings_0_cntPrimary_datatype\": \"http://www.w3.org/2001/XMLSchema#integer\",\n",
       "        \"results_bindings_0_cntPrimary_value\": \"134\",\n",
       "        \"results_bindings_0_cntDerived_type\": \"literal\",\n",
       "        \"results_bindings_0_cntDerived_datatype\": \"http://www.w3.org/2001/XMLSchema#integer\",\n",
       "        \"results_bindings_0_cntDerived_value\": \"55\",\n",
       "        \"results_bindings_0_morePrimaryThanDerived_type\": \"literal\",\n",
       "        \"results_bindings_0_morePrimaryThanDerived_datatype\": \"http://www.w3.org/2001/XMLSchema#boolean\",\n",
       "        \"results_bindings_0_morePrimaryThanDerived_value\": \"true\"\n",
       "    },\n",
       "    {\n",
       "        \"head_vars_0\": \"cntPrimary\",\n",
       "        \"head_vars_1\": \"cntDerived\",\n",
       "        \"head_vars_2\": \"morePrimaryThanDerived\",\n",
       "        \"results_bindings_0_cntPrimary_type\": \"literal\",\n",
       "        \"results_bindings_0_cntPrimary_datatype\": \"http://www.w3.org/2001/XMLSchema#integer\",\n",
       "        \"results_bindings_0_cntPrimary_value\": \"134\",\n",
       "        \"results_bindings_0_cntDerived_type\": \"literal\",\n",
       "        \"results_bindings_0_cntDerived_datatype\": \"http://www.w3.org/2001/XMLSchema#integer\",\n",
       "        \"results_bindings_0_cntDerived_value\": \"100\",\n",
       "        \"results_bindings_0_morePrimaryThanDerived_type\": \"literal\",\n",
       "        \"results_bindings_0_morePrimaryThanDerived_datatype\": \"http://www.w3.org/2001/XMLSchema#boolean\",\n",
       "        \"results_bindings_0_morePrimaryThanDerived_value\": \"true\"\n",
       "    },\n",
       "    {\n",
       "        \"head_vars_0\": \"cntPrimary\",\n",
       "        \"head_vars_1\": \"cntDerived\",\n",
       "        \"head_vars_2\": \"morePrimaryThanDerived\",\n",
       "        \"results_bindings_0_cntPrimary_type\": \"literal\",\n",
       "        \"results_bindings_0_cntPrimary_datatype\": \"http://www.w3.org/2001/XMLSchema#integer\",\n",
       "        \"results_bindings_0_cntPrimary_value\": \"198\",\n",
       "        \"results_bindings_0_cntDerived_type\": \"literal\",\n",
       "        \"results_bindings_0_cntDerived_datatype\": \"http://www.w3.org/2001/XMLSchema#integer\",\n",
       "        \"results_bindings_0_cntDerived_value\": \"100\",\n",
       "        \"results_bindings_0_morePrimaryThanDerived_type\": \"literal\",\n",
       "        \"results_bindings_0_morePrimaryThanDerived_datatype\": \"http://www.w3.org/2001/XMLSchema#boolean\",\n",
       "        \"results_bindings_0_morePrimaryThanDerived_value\": \"true\"\n",
       "    },\n",
       "    {\n",
       "        \"head_vars_0\": \"cntPrimary\",\n",
       "        \"head_vars_1\": \"cntDerived\",\n",
       "        \"head_vars_2\": \"morePrimaryThanDerived\",\n",
       "        \"results_bindings_0_cntPrimary_type\": \"literal\",\n",
       "        \"results_bindings_0_cntPrimary_datatype\": \"http://www.w3.org/2001/XMLSchema#integer\",\n",
       "        \"results_bindings_0_cntPrimary_value\": \"198\",\n",
       "        \"results_bindings_0_cntDerived_type\": \"literal\",\n",
       "        \"results_bindings_0_cntDerived_datatype\": \"http://www.w3.org/2001/XMLSchema#integer\",\n",
       "        \"results_bindings_0_cntDerived_value\": \"128\",\n",
       "        \"results_bindings_0_morePrimaryThanDerived_type\": \"literal\",\n",
       "        \"results_bindings_0_morePrimaryThanDerived_datatype\": \"http://www.w3.org/2001/XMLSchema#boolean\",\n",
       "        \"results_bindings_0_morePrimaryThanDerived_value\": \"true\"\n",
       "    }\n",
       "]"
      ]
     },
     "execution_count": 9,
     "metadata": {},
     "output_type": "execute_result"
    }
   ],
   "source": [
    "resp.flatten()"
   ]
  },
  {
   "cell_type": "code",
   "execution_count": 10,
   "metadata": {},
   "outputs": [
    {
     "data": {
      "text/html": [
       "<div>\n",
       "<style scoped>\n",
       "    .dataframe tbody tr th:only-of-type {\n",
       "        vertical-align: middle;\n",
       "    }\n",
       "\n",
       "    .dataframe tbody tr th {\n",
       "        vertical-align: top;\n",
       "    }\n",
       "\n",
       "    .dataframe thead th {\n",
       "        text-align: right;\n",
       "    }\n",
       "</style>\n",
       "<table border=\"1\" class=\"dataframe\">\n",
       "  <thead>\n",
       "    <tr style=\"text-align: right;\">\n",
       "      <th></th>\n",
       "      <th>head_vars_0</th>\n",
       "      <th>head_vars_1</th>\n",
       "      <th>head_vars_2</th>\n",
       "      <th>results_bindings_0_cntDerived_datatype</th>\n",
       "      <th>results_bindings_0_cntDerived_type</th>\n",
       "      <th>results_bindings_0_cntDerived_value</th>\n",
       "      <th>results_bindings_0_cntPrimary_datatype</th>\n",
       "      <th>results_bindings_0_cntPrimary_type</th>\n",
       "      <th>results_bindings_0_cntPrimary_value</th>\n",
       "      <th>results_bindings_0_morePrimaryThanDerived_datatype</th>\n",
       "      <th>results_bindings_0_morePrimaryThanDerived_type</th>\n",
       "      <th>results_bindings_0_morePrimaryThanDerived_value</th>\n",
       "    </tr>\n",
       "  </thead>\n",
       "  <tbody>\n",
       "    <tr>\n",
       "      <th>0</th>\n",
       "      <td>cntPrimary</td>\n",
       "      <td>cntDerived</td>\n",
       "      <td>morePrimaryThanDerived</td>\n",
       "      <td>http://www.w3.org/2001/XMLSchema#integer</td>\n",
       "      <td>literal</td>\n",
       "      <td>55</td>\n",
       "      <td>http://www.w3.org/2001/XMLSchema#integer</td>\n",
       "      <td>literal</td>\n",
       "      <td>76</td>\n",
       "      <td>http://www.w3.org/2001/XMLSchema#boolean</td>\n",
       "      <td>literal</td>\n",
       "      <td>true</td>\n",
       "    </tr>\n",
       "    <tr>\n",
       "      <th>1</th>\n",
       "      <td>cntPrimary</td>\n",
       "      <td>cntDerived</td>\n",
       "      <td>morePrimaryThanDerived</td>\n",
       "      <td>http://www.w3.org/2001/XMLSchema#integer</td>\n",
       "      <td>literal</td>\n",
       "      <td>55</td>\n",
       "      <td>http://www.w3.org/2001/XMLSchema#integer</td>\n",
       "      <td>literal</td>\n",
       "      <td>134</td>\n",
       "      <td>http://www.w3.org/2001/XMLSchema#boolean</td>\n",
       "      <td>literal</td>\n",
       "      <td>true</td>\n",
       "    </tr>\n",
       "    <tr>\n",
       "      <th>2</th>\n",
       "      <td>cntPrimary</td>\n",
       "      <td>cntDerived</td>\n",
       "      <td>morePrimaryThanDerived</td>\n",
       "      <td>http://www.w3.org/2001/XMLSchema#integer</td>\n",
       "      <td>literal</td>\n",
       "      <td>100</td>\n",
       "      <td>http://www.w3.org/2001/XMLSchema#integer</td>\n",
       "      <td>literal</td>\n",
       "      <td>134</td>\n",
       "      <td>http://www.w3.org/2001/XMLSchema#boolean</td>\n",
       "      <td>literal</td>\n",
       "      <td>true</td>\n",
       "    </tr>\n",
       "    <tr>\n",
       "      <th>3</th>\n",
       "      <td>cntPrimary</td>\n",
       "      <td>cntDerived</td>\n",
       "      <td>morePrimaryThanDerived</td>\n",
       "      <td>http://www.w3.org/2001/XMLSchema#integer</td>\n",
       "      <td>literal</td>\n",
       "      <td>100</td>\n",
       "      <td>http://www.w3.org/2001/XMLSchema#integer</td>\n",
       "      <td>literal</td>\n",
       "      <td>198</td>\n",
       "      <td>http://www.w3.org/2001/XMLSchema#boolean</td>\n",
       "      <td>literal</td>\n",
       "      <td>true</td>\n",
       "    </tr>\n",
       "    <tr>\n",
       "      <th>4</th>\n",
       "      <td>cntPrimary</td>\n",
       "      <td>cntDerived</td>\n",
       "      <td>morePrimaryThanDerived</td>\n",
       "      <td>http://www.w3.org/2001/XMLSchema#integer</td>\n",
       "      <td>literal</td>\n",
       "      <td>128</td>\n",
       "      <td>http://www.w3.org/2001/XMLSchema#integer</td>\n",
       "      <td>literal</td>\n",
       "      <td>198</td>\n",
       "      <td>http://www.w3.org/2001/XMLSchema#boolean</td>\n",
       "      <td>literal</td>\n",
       "      <td>true</td>\n",
       "    </tr>\n",
       "  </tbody>\n",
       "</table>\n",
       "</div>"
      ],
      "text/plain": [
       "  head_vars_0 head_vars_1             head_vars_2  \\\n",
       "0  cntPrimary  cntDerived  morePrimaryThanDerived   \n",
       "1  cntPrimary  cntDerived  morePrimaryThanDerived   \n",
       "2  cntPrimary  cntDerived  morePrimaryThanDerived   \n",
       "3  cntPrimary  cntDerived  morePrimaryThanDerived   \n",
       "4  cntPrimary  cntDerived  morePrimaryThanDerived   \n",
       "\n",
       "     results_bindings_0_cntDerived_datatype  \\\n",
       "0  http://www.w3.org/2001/XMLSchema#integer   \n",
       "1  http://www.w3.org/2001/XMLSchema#integer   \n",
       "2  http://www.w3.org/2001/XMLSchema#integer   \n",
       "3  http://www.w3.org/2001/XMLSchema#integer   \n",
       "4  http://www.w3.org/2001/XMLSchema#integer   \n",
       "\n",
       "  results_bindings_0_cntDerived_type  results_bindings_0_cntDerived_value  \\\n",
       "0                            literal                                   55   \n",
       "1                            literal                                   55   \n",
       "2                            literal                                  100   \n",
       "3                            literal                                  100   \n",
       "4                            literal                                  128   \n",
       "\n",
       "     results_bindings_0_cntPrimary_datatype  \\\n",
       "0  http://www.w3.org/2001/XMLSchema#integer   \n",
       "1  http://www.w3.org/2001/XMLSchema#integer   \n",
       "2  http://www.w3.org/2001/XMLSchema#integer   \n",
       "3  http://www.w3.org/2001/XMLSchema#integer   \n",
       "4  http://www.w3.org/2001/XMLSchema#integer   \n",
       "\n",
       "  results_bindings_0_cntPrimary_type  results_bindings_0_cntPrimary_value  \\\n",
       "0                            literal                                   76   \n",
       "1                            literal                                  134   \n",
       "2                            literal                                  134   \n",
       "3                            literal                                  198   \n",
       "4                            literal                                  198   \n",
       "\n",
       "  results_bindings_0_morePrimaryThanDerived_datatype  \\\n",
       "0           http://www.w3.org/2001/XMLSchema#boolean   \n",
       "1           http://www.w3.org/2001/XMLSchema#boolean   \n",
       "2           http://www.w3.org/2001/XMLSchema#boolean   \n",
       "3           http://www.w3.org/2001/XMLSchema#boolean   \n",
       "4           http://www.w3.org/2001/XMLSchema#boolean   \n",
       "\n",
       "  results_bindings_0_morePrimaryThanDerived_type  \\\n",
       "0                                        literal   \n",
       "1                                        literal   \n",
       "2                                        literal   \n",
       "3                                        literal   \n",
       "4                                        literal   \n",
       "\n",
       "  results_bindings_0_morePrimaryThanDerived_value  \n",
       "0                                            true  \n",
       "1                                            true  \n",
       "2                                            true  \n",
       "3                                            true  \n",
       "4                                            true  "
      ]
     },
     "execution_count": 10,
     "metadata": {},
     "output_type": "execute_result"
    }
   ],
   "source": [
    "df = resp.flatten().dataframe(['results_bindings_0_cntPrimary_value', 'results_bindings_0_cntDerived_value'])\n",
    "df"
   ]
  },
  {
   "cell_type": "code",
   "execution_count": 11,
   "metadata": {},
   "outputs": [
    {
     "data": {
      "image/png": "[encoded data removed]",
      "text/plain": [
       "<Figure size 360x360 with 1 Axes>"
      ]
     },
     "metadata": {},
     "output_type": "display_data"
    }
   ],
   "source": [
    "%matplotlib inline\n",
    "import pandas as pd\n",
    "\n",
    "df1 = df[['results_bindings_0_cntPrimary_value','results_bindings_0_cntDerived_value']]\n",
    "cntg_mean = df1['results_bindings_0_cntPrimary_value'].mean()\n",
    "cntr_mean = df1['results_bindings_0_cntDerived_value'].mean()\n",
    "\n",
    "df = pd.DataFrame({'means': [cntg_mean, cntr_mean]}, index=['primary', 'derived'])\n",
    "plot = df.plot.pie(y='means', colors=[\"#e10000\", \"#00e100\"], figsize=(5, 5))"
   ]
  },
  {
   "cell_type": "code",
   "execution_count": 12,
   "metadata": {},
   "outputs": [
    {
     "data": {
      "text/plain": [
       "{\n",
       "    \"@id\": \"queries/reasoning2\",\n",
       "    \"@type\": \"vprov:Task\",\n",
       "    \"prov:generated\": {\n",
       "        \"@id\": \"streams/reasoning2\"\n",
       "    },\n",
       "    \"prov:uses\": {\n",
       "        \"@id\": \"streams/yellow\"\n",
       "    },\n",
       "    \"@context\": {\n",
       "        \"@base\": \"http://jasper:8181/jasper/\",\n",
       "        \"rdf\": \"http://www.w3.org/1999/02/22-rdf-syntax-ns#\",\n",
       "        \"vsd\": \"http://w3id.org/rsp/vocals-sd#\",\n",
       "        \"vocals\": \"http://w3id.org/rsp/vocals#\",\n",
       "        \"xsd\": \"http://www.w3.org/2001/XMLSchema#\",\n",
       "        \"format\": \"http://www.w3.org/ns/formats/\",\n",
       "        \"rdfs\": \"http://www.w3.org/2000/01/rdf-schema#\",\n",
       "        \"vprov\": \"http://w3id.org/rsp/vocals-prov#\",\n",
       "        \"dcat\": \"http://www.w3.org/ns/dcat#\",\n",
       "        \"prov\": \"http://www.w3.org/ns/prov#\"\n",
       "    }\n",
       "}"
      ]
     },
     "execution_count": 12,
     "metadata": {},
     "output_type": "execute_result"
    }
   ],
   "source": [
    "jasper.delete(qid)"
   ]
  },
  {
   "cell_type": "code",
   "execution_count": null,
   "metadata": {},
   "outputs": [],
   "source": []
  }
 ],
 "metadata": {
  "kernelspec": {
   "display_name": "Python 3",
   "language": "python",
   "name": "python3"
  },
  "language_info": {
   "codemirror_mode": {
    "name": "ipython",
    "version": 3
   },
   "file_extension": ".py",
   "mimetype": "text/x-python",
   "name": "python",
   "nbconvert_exporter": "python",
   "pygments_lexer": "ipython3",
   "version": "3.6.7"
  }
 },
 "nbformat": 4,
 "nbformat_minor": 2
}
