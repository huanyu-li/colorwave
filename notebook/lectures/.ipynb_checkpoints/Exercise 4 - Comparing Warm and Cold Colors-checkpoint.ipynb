{
 "cells": [
  {
   "cell_type": "code",
   "execution_count": 1,
   "metadata": {},
   "outputs": [],
   "source": [
    "from rsplib import RSPEngine, RSPPublisher, Stream, rdf_table, load_graph, accessURL"
   ]
  },
  {
   "cell_type": "code",
   "execution_count": 2,
   "metadata": {},
   "outputs": [],
   "source": [
    "jasper = RSPEngine(\"http://jasper:8181/jasper\")"
   ]
  },
  {
   "cell_type": "code",
   "execution_count": 3,
   "metadata": {},
   "outputs": [],
   "source": [
    "qid  = 'reasoning'\n",
    "tbox = 'http://mynotebook:8888/files/colors.owl'\n",
    "frmt = 'JSON'\n",
    "body =  ''' \n",
    "        SELECT (COUNT(?w) AS ?cntWarm) (COUNT(?c) AS ?cntCold) ((?cntWarm>?cntCold) as ?moreWarmThanCold)  \n",
    "        FROM NAMED WINDOW <cw> ON <http://streamhub:9292/streamhub/streams/colorstream> [RANGE PT15S STEP PT5S]\n",
    "        WHERE {\n",
    "            { WINDOW <cw> { ?w a <http://www.streamreasoning.org/ontologies/2018/9/colors#Warm>. } }\n",
    "            UNION\n",
    "            { WINDOW <cw> { ?c a <http://www.streamreasoning.org/ontologies/2018/9/colors#Cold> .} }\n",
    "        }\n",
    "    '''"
   ]
  },
  {
   "cell_type": "code",
   "execution_count": 4,
   "metadata": {},
   "outputs": [],
   "source": [
    "reasoning1q = jasper.create(qid, body, tbox, frmt)"
   ]
  },
  {
   "cell_type": "code",
   "execution_count": 5,
   "metadata": {},
   "outputs": [
    {
     "data": {
      "text/plain": [
       "[http://jasper:8181/jasper/streams/reasoning,\n",
       " http://streamhub:9292/streamhub/streams/colorstream]"
      ]
     },
     "execution_count": 5,
     "metadata": {},
     "output_type": "execute_result"
    }
   ],
   "source": [
    "jasper.streams()"
   ]
  },
  {
   "cell_type": "code",
   "execution_count": 6,
   "metadata": {},
   "outputs": [],
   "source": [
    "r = jasper.expose(qid, 'HTTP', retention=5)"
   ]
  },
  {
   "cell_type": "code",
   "execution_count": 7,
   "metadata": {},
   "outputs": [],
   "source": [
    "reasoning1_stream = reasoning1q.stream()"
   ]
  },
  {
   "cell_type": "code",
   "execution_count": 8,
   "metadata": {},
   "outputs": [
    {
     "data": {
      "text/plain": [
       "[GET http://jasper:8182/jasper/streams/reasoning/observers/1965641306]"
      ]
     },
     "execution_count": 8,
     "metadata": {},
     "output_type": "execute_result"
    }
   ],
   "source": [
    "r.endpoints()"
   ]
  },
  {
   "cell_type": "code",
   "execution_count": 9,
   "metadata": {},
   "outputs": [],
   "source": [
    "endpoint = reasoning1_stream.endpoints()[0]"
   ]
  },
  {
   "cell_type": "code",
   "execution_count": 10,
   "metadata": {},
   "outputs": [
    {
     "data": {
      "text/html": [
       "<div>\n",
       "<style scoped>\n",
       "    .dataframe tbody tr th:only-of-type {\n",
       "        vertical-align: middle;\n",
       "    }\n",
       "\n",
       "    .dataframe tbody tr th {\n",
       "        vertical-align: top;\n",
       "    }\n",
       "\n",
       "    .dataframe thead th {\n",
       "        text-align: right;\n",
       "    }\n",
       "</style>\n",
       "<table border=\"1\" class=\"dataframe\">\n",
       "  <thead>\n",
       "    <tr style=\"text-align: right;\">\n",
       "      <th></th>\n",
       "      <th>head_vars_0</th>\n",
       "      <th>head_vars_1</th>\n",
       "      <th>head_vars_2</th>\n",
       "      <th>results_bindings_0_cntCold_datatype</th>\n",
       "      <th>results_bindings_0_cntCold_type</th>\n",
       "      <th>results_bindings_0_cntCold_value</th>\n",
       "      <th>results_bindings_0_cntWarm_datatype</th>\n",
       "      <th>results_bindings_0_cntWarm_type</th>\n",
       "      <th>results_bindings_0_cntWarm_value</th>\n",
       "      <th>results_bindings_0_moreWarmThanCold_datatype</th>\n",
       "      <th>results_bindings_0_moreWarmThanCold_type</th>\n",
       "      <th>results_bindings_0_moreWarmThanCold_value</th>\n",
       "    </tr>\n",
       "  </thead>\n",
       "  <tbody>\n",
       "    <tr>\n",
       "      <th>0</th>\n",
       "      <td>cntWarm</td>\n",
       "      <td>cntCold</td>\n",
       "      <td>moreWarmThanCold</td>\n",
       "      <td>http://www.w3.org/2001/XMLSchema#integer</td>\n",
       "      <td>literal</td>\n",
       "      <td>69</td>\n",
       "      <td>http://www.w3.org/2001/XMLSchema#integer</td>\n",
       "      <td>literal</td>\n",
       "      <td>71</td>\n",
       "      <td>http://www.w3.org/2001/XMLSchema#boolean</td>\n",
       "      <td>literal</td>\n",
       "      <td>true</td>\n",
       "    </tr>\n",
       "    <tr>\n",
       "      <th>1</th>\n",
       "      <td>cntWarm</td>\n",
       "      <td>cntCold</td>\n",
       "      <td>moreWarmThanCold</td>\n",
       "      <td>http://www.w3.org/2001/XMLSchema#integer</td>\n",
       "      <td>literal</td>\n",
       "      <td>114</td>\n",
       "      <td>http://www.w3.org/2001/XMLSchema#integer</td>\n",
       "      <td>literal</td>\n",
       "      <td>105</td>\n",
       "      <td>http://www.w3.org/2001/XMLSchema#boolean</td>\n",
       "      <td>literal</td>\n",
       "      <td>false</td>\n",
       "    </tr>\n",
       "    <tr>\n",
       "      <th>2</th>\n",
       "      <td>cntWarm</td>\n",
       "      <td>cntCold</td>\n",
       "      <td>moreWarmThanCold</td>\n",
       "      <td>http://www.w3.org/2001/XMLSchema#integer</td>\n",
       "      <td>literal</td>\n",
       "      <td>123</td>\n",
       "      <td>http://www.w3.org/2001/XMLSchema#integer</td>\n",
       "      <td>literal</td>\n",
       "      <td>96</td>\n",
       "      <td>http://www.w3.org/2001/XMLSchema#boolean</td>\n",
       "      <td>literal</td>\n",
       "      <td>false</td>\n",
       "    </tr>\n",
       "    <tr>\n",
       "      <th>3</th>\n",
       "      <td>cntWarm</td>\n",
       "      <td>cntCold</td>\n",
       "      <td>moreWarmThanCold</td>\n",
       "      <td>http://www.w3.org/2001/XMLSchema#integer</td>\n",
       "      <td>literal</td>\n",
       "      <td>113</td>\n",
       "      <td>http://www.w3.org/2001/XMLSchema#integer</td>\n",
       "      <td>literal</td>\n",
       "      <td>104</td>\n",
       "      <td>http://www.w3.org/2001/XMLSchema#boolean</td>\n",
       "      <td>literal</td>\n",
       "      <td>false</td>\n",
       "    </tr>\n",
       "    <tr>\n",
       "      <th>4</th>\n",
       "      <td>cntWarm</td>\n",
       "      <td>cntCold</td>\n",
       "      <td>moreWarmThanCold</td>\n",
       "      <td>http://www.w3.org/2001/XMLSchema#integer</td>\n",
       "      <td>literal</td>\n",
       "      <td>106</td>\n",
       "      <td>http://www.w3.org/2001/XMLSchema#integer</td>\n",
       "      <td>literal</td>\n",
       "      <td>105</td>\n",
       "      <td>http://www.w3.org/2001/XMLSchema#boolean</td>\n",
       "      <td>literal</td>\n",
       "      <td>false</td>\n",
       "    </tr>\n",
       "  </tbody>\n",
       "</table>\n",
       "</div>"
      ],
      "text/plain": [
       "  head_vars_0 head_vars_1       head_vars_2  \\\n",
       "0     cntWarm     cntCold  moreWarmThanCold   \n",
       "1     cntWarm     cntCold  moreWarmThanCold   \n",
       "2     cntWarm     cntCold  moreWarmThanCold   \n",
       "3     cntWarm     cntCold  moreWarmThanCold   \n",
       "4     cntWarm     cntCold  moreWarmThanCold   \n",
       "\n",
       "        results_bindings_0_cntCold_datatype results_bindings_0_cntCold_type  \\\n",
       "0  http://www.w3.org/2001/XMLSchema#integer                         literal   \n",
       "1  http://www.w3.org/2001/XMLSchema#integer                         literal   \n",
       "2  http://www.w3.org/2001/XMLSchema#integer                         literal   \n",
       "3  http://www.w3.org/2001/XMLSchema#integer                         literal   \n",
       "4  http://www.w3.org/2001/XMLSchema#integer                         literal   \n",
       "\n",
       "  results_bindings_0_cntCold_value       results_bindings_0_cntWarm_datatype  \\\n",
       "0                               69  http://www.w3.org/2001/XMLSchema#integer   \n",
       "1                              114  http://www.w3.org/2001/XMLSchema#integer   \n",
       "2                              123  http://www.w3.org/2001/XMLSchema#integer   \n",
       "3                              113  http://www.w3.org/2001/XMLSchema#integer   \n",
       "4                              106  http://www.w3.org/2001/XMLSchema#integer   \n",
       "\n",
       "  results_bindings_0_cntWarm_type results_bindings_0_cntWarm_value  \\\n",
       "0                         literal                               71   \n",
       "1                         literal                              105   \n",
       "2                         literal                               96   \n",
       "3                         literal                              104   \n",
       "4                         literal                              105   \n",
       "\n",
       "  results_bindings_0_moreWarmThanCold_datatype  \\\n",
       "0     http://www.w3.org/2001/XMLSchema#boolean   \n",
       "1     http://www.w3.org/2001/XMLSchema#boolean   \n",
       "2     http://www.w3.org/2001/XMLSchema#boolean   \n",
       "3     http://www.w3.org/2001/XMLSchema#boolean   \n",
       "4     http://www.w3.org/2001/XMLSchema#boolean   \n",
       "\n",
       "  results_bindings_0_moreWarmThanCold_type  \\\n",
       "0                                  literal   \n",
       "1                                  literal   \n",
       "2                                  literal   \n",
       "3                                  literal   \n",
       "4                                  literal   \n",
       "\n",
       "  results_bindings_0_moreWarmThanCold_value  \n",
       "0                                      true  \n",
       "1                                     false  \n",
       "2                                     false  \n",
       "3                                     false  \n",
       "4                                     false  "
      ]
     },
     "execution_count": 10,
     "metadata": {},
     "output_type": "execute_result"
    }
   ],
   "source": [
    "endpoint.call().flatten().dataframe()"
   ]
  },
  {
   "cell_type": "code",
   "execution_count": 11,
   "metadata": {},
   "outputs": [
    {
     "data": {
      "text/html": [
       "<div>\n",
       "<style scoped>\n",
       "    .dataframe tbody tr th:only-of-type {\n",
       "        vertical-align: middle;\n",
       "    }\n",
       "\n",
       "    .dataframe tbody tr th {\n",
       "        vertical-align: top;\n",
       "    }\n",
       "\n",
       "    .dataframe thead th {\n",
       "        text-align: right;\n",
       "    }\n",
       "</style>\n",
       "<table border=\"1\" class=\"dataframe\">\n",
       "  <thead>\n",
       "    <tr style=\"text-align: right;\">\n",
       "      <th></th>\n",
       "      <th>head_vars_0</th>\n",
       "      <th>head_vars_1</th>\n",
       "      <th>head_vars_2</th>\n",
       "      <th>results_bindings_0_cntCold_datatype</th>\n",
       "      <th>results_bindings_0_cntCold_type</th>\n",
       "      <th>results_bindings_0_cntCold_value</th>\n",
       "      <th>results_bindings_0_cntWarm_datatype</th>\n",
       "      <th>results_bindings_0_cntWarm_type</th>\n",
       "      <th>results_bindings_0_cntWarm_value</th>\n",
       "      <th>results_bindings_0_moreWarmThanCold_datatype</th>\n",
       "      <th>results_bindings_0_moreWarmThanCold_type</th>\n",
       "      <th>results_bindings_0_moreWarmThanCold_value</th>\n",
       "    </tr>\n",
       "  </thead>\n",
       "  <tbody>\n",
       "    <tr>\n",
       "      <th>0</th>\n",
       "      <td>cntWarm</td>\n",
       "      <td>cntCold</td>\n",
       "      <td>moreWarmThanCold</td>\n",
       "      <td>http://www.w3.org/2001/XMLSchema#integer</td>\n",
       "      <td>literal</td>\n",
       "      <td>114</td>\n",
       "      <td>http://www.w3.org/2001/XMLSchema#integer</td>\n",
       "      <td>literal</td>\n",
       "      <td>105</td>\n",
       "      <td>http://www.w3.org/2001/XMLSchema#boolean</td>\n",
       "      <td>literal</td>\n",
       "      <td>false</td>\n",
       "    </tr>\n",
       "    <tr>\n",
       "      <th>1</th>\n",
       "      <td>cntWarm</td>\n",
       "      <td>cntCold</td>\n",
       "      <td>moreWarmThanCold</td>\n",
       "      <td>http://www.w3.org/2001/XMLSchema#integer</td>\n",
       "      <td>literal</td>\n",
       "      <td>123</td>\n",
       "      <td>http://www.w3.org/2001/XMLSchema#integer</td>\n",
       "      <td>literal</td>\n",
       "      <td>96</td>\n",
       "      <td>http://www.w3.org/2001/XMLSchema#boolean</td>\n",
       "      <td>literal</td>\n",
       "      <td>false</td>\n",
       "    </tr>\n",
       "    <tr>\n",
       "      <th>2</th>\n",
       "      <td>cntWarm</td>\n",
       "      <td>cntCold</td>\n",
       "      <td>moreWarmThanCold</td>\n",
       "      <td>http://www.w3.org/2001/XMLSchema#integer</td>\n",
       "      <td>literal</td>\n",
       "      <td>113</td>\n",
       "      <td>http://www.w3.org/2001/XMLSchema#integer</td>\n",
       "      <td>literal</td>\n",
       "      <td>104</td>\n",
       "      <td>http://www.w3.org/2001/XMLSchema#boolean</td>\n",
       "      <td>literal</td>\n",
       "      <td>false</td>\n",
       "    </tr>\n",
       "    <tr>\n",
       "      <th>3</th>\n",
       "      <td>cntWarm</td>\n",
       "      <td>cntCold</td>\n",
       "      <td>moreWarmThanCold</td>\n",
       "      <td>http://www.w3.org/2001/XMLSchema#integer</td>\n",
       "      <td>literal</td>\n",
       "      <td>106</td>\n",
       "      <td>http://www.w3.org/2001/XMLSchema#integer</td>\n",
       "      <td>literal</td>\n",
       "      <td>105</td>\n",
       "      <td>http://www.w3.org/2001/XMLSchema#boolean</td>\n",
       "      <td>literal</td>\n",
       "      <td>false</td>\n",
       "    </tr>\n",
       "    <tr>\n",
       "      <th>4</th>\n",
       "      <td>cntWarm</td>\n",
       "      <td>cntCold</td>\n",
       "      <td>moreWarmThanCold</td>\n",
       "      <td>http://www.w3.org/2001/XMLSchema#integer</td>\n",
       "      <td>literal</td>\n",
       "      <td>124</td>\n",
       "      <td>http://www.w3.org/2001/XMLSchema#integer</td>\n",
       "      <td>literal</td>\n",
       "      <td>108</td>\n",
       "      <td>http://www.w3.org/2001/XMLSchema#boolean</td>\n",
       "      <td>literal</td>\n",
       "      <td>false</td>\n",
       "    </tr>\n",
       "  </tbody>\n",
       "</table>\n",
       "</div>"
      ],
      "text/plain": [
       "  head_vars_0 head_vars_1       head_vars_2  \\\n",
       "0     cntWarm     cntCold  moreWarmThanCold   \n",
       "1     cntWarm     cntCold  moreWarmThanCold   \n",
       "2     cntWarm     cntCold  moreWarmThanCold   \n",
       "3     cntWarm     cntCold  moreWarmThanCold   \n",
       "4     cntWarm     cntCold  moreWarmThanCold   \n",
       "\n",
       "        results_bindings_0_cntCold_datatype results_bindings_0_cntCold_type  \\\n",
       "0  http://www.w3.org/2001/XMLSchema#integer                         literal   \n",
       "1  http://www.w3.org/2001/XMLSchema#integer                         literal   \n",
       "2  http://www.w3.org/2001/XMLSchema#integer                         literal   \n",
       "3  http://www.w3.org/2001/XMLSchema#integer                         literal   \n",
       "4  http://www.w3.org/2001/XMLSchema#integer                         literal   \n",
       "\n",
       "   results_bindings_0_cntCold_value       results_bindings_0_cntWarm_datatype  \\\n",
       "0                               114  http://www.w3.org/2001/XMLSchema#integer   \n",
       "1                               123  http://www.w3.org/2001/XMLSchema#integer   \n",
       "2                               113  http://www.w3.org/2001/XMLSchema#integer   \n",
       "3                               106  http://www.w3.org/2001/XMLSchema#integer   \n",
       "4                               124  http://www.w3.org/2001/XMLSchema#integer   \n",
       "\n",
       "  results_bindings_0_cntWarm_type  results_bindings_0_cntWarm_value  \\\n",
       "0                         literal                               105   \n",
       "1                         literal                                96   \n",
       "2                         literal                               104   \n",
       "3                         literal                               105   \n",
       "4                         literal                               108   \n",
       "\n",
       "  results_bindings_0_moreWarmThanCold_datatype  \\\n",
       "0     http://www.w3.org/2001/XMLSchema#boolean   \n",
       "1     http://www.w3.org/2001/XMLSchema#boolean   \n",
       "2     http://www.w3.org/2001/XMLSchema#boolean   \n",
       "3     http://www.w3.org/2001/XMLSchema#boolean   \n",
       "4     http://www.w3.org/2001/XMLSchema#boolean   \n",
       "\n",
       "  results_bindings_0_moreWarmThanCold_type  \\\n",
       "0                                  literal   \n",
       "1                                  literal   \n",
       "2                                  literal   \n",
       "3                                  literal   \n",
       "4                                  literal   \n",
       "\n",
       "  results_bindings_0_moreWarmThanCold_value  \n",
       "0                                     false  \n",
       "1                                     false  \n",
       "2                                     false  \n",
       "3                                     false  \n",
       "4                                     false  "
      ]
     },
     "execution_count": 11,
     "metadata": {},
     "output_type": "execute_result"
    }
   ],
   "source": [
    "df = endpoint.call().flatten().dataframe(['results_bindings_0_cntCold_value', 'results_bindings_0_cntWarm_value'])\n",
    "df"
   ]
  },
  {
   "cell_type": "code",
   "execution_count": 12,
   "metadata": {},
   "outputs": [
    {
     "data": {
      "image/png": "[encoded data removed]",
      "text/plain": [
       "<Figure size 360x360 with 1 Axes>"
      ]
     },
     "metadata": {},
     "output_type": "display_data"
    }
   ],
   "source": [
    "%matplotlib inline\n",
    "import pandas as pd\n",
    "\n",
    "df1 = df[['results_bindings_0_cntCold_value','results_bindings_0_cntWarm_value']]\n",
    "cntg_mean = df1['results_bindings_0_cntCold_value'].mean()\n",
    "cntr_mean = df1['results_bindings_0_cntWarm_value'].mean()\n",
    "\n",
    "df = pd.DataFrame({'means': [cntg_mean, cntr_mean]}, index=['Cold', 'Warm'])\n",
    "plot = df.plot.pie(y='means', colors=[\"#0000e1\", \"#e10000\"], figsize=(5, 5))"
   ]
  },
  {
   "cell_type": "code",
   "execution_count": 13,
   "metadata": {},
   "outputs": [
    {
     "data": {
      "text/plain": [
       "{\n",
       "    \"@id\": \"queries/reasoning\",\n",
       "    \"@type\": \"vprov:Task\",\n",
       "    \"prov:generated\": {\n",
       "        \"@id\": \"streams/reasoning\"\n",
       "    },\n",
       "    \"prov:uses\": {\n",
       "        \"@id\": \"http://streamhub:9292/streamhub/streams/colorstream\"\n",
       "    },\n",
       "    \"@context\": {\n",
       "        \"@base\": \"http://jasper:8181/jasper/\",\n",
       "        \"rdf\": \"http://www.w3.org/1999/02/22-rdf-syntax-ns#\",\n",
       "        \"vsd\": \"http://w3id.org/rsp/vocals-sd#\",\n",
       "        \"vocals\": \"http://w3id.org/rsp/vocals#\",\n",
       "        \"xsd\": \"http://www.w3.org/2001/XMLSchema#\",\n",
       "        \"format\": \"http://www.w3.org/ns/formats/\",\n",
       "        \"rdfs\": \"http://www.w3.org/2000/01/rdf-schema#\",\n",
       "        \"vprov\": \"http://w3id.org/rsp/vocals-prov#\",\n",
       "        \"dcat\": \"http://www.w3.org/ns/dcat#\",\n",
       "        \"prov\": \"http://www.w3.org/ns/prov#\"\n",
       "    }\n",
       "}"
      ]
     },
     "execution_count": 13,
     "metadata": {},
     "output_type": "execute_result"
    }
   ],
   "source": [
    "jasper.delete(qid)"
   ]
  },
  {
   "cell_type": "code",
   "execution_count": null,
   "metadata": {},
   "outputs": [],
   "source": []
  }
 ],
 "metadata": {
  "kernelspec": {
   "display_name": "Python 3",
   "language": "python",
   "name": "python3"
  },
  "language_info": {
   "codemirror_mode": {
    "name": "ipython",
    "version": 3
   },
   "file_extension": ".py",
   "mimetype": "text/x-python",
   "name": "python",
   "nbconvert_exporter": "python",
   "pygments_lexer": "ipython3",
   "version": "3.6.7"
  }
 },
 "nbformat": 4,
 "nbformat_minor": 2
}
