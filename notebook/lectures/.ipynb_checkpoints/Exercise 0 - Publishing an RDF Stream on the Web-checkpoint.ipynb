{
 "cells": [
  {
   "cell_type": "markdown",
   "metadata": {},
   "source": [
    "# Check the Publisher Endpoint"
   ]
  },
  {
   "cell_type": "code",
   "execution_count": 1,
   "metadata": {},
   "outputs": [],
   "source": [
    "from rsplib import RSPPublisher"
   ]
  },
  {
   "cell_type": "code",
   "execution_count": 2,
   "metadata": {},
   "outputs": [],
   "source": [
    "streamhub = RSPPublisher(\"http://streamhub:9292/streamhub\")"
   ]
  },
  {
   "cell_type": "code",
   "execution_count": 3,
   "metadata": {},
   "outputs": [
    {
     "data": {
      "text/html": [
       "<div>\n",
       "<style scoped>\n",
       "    .dataframe tbody tr th:only-of-type {\n",
       "        vertical-align: middle;\n",
       "    }\n",
       "\n",
       "    .dataframe tbody tr th {\n",
       "        vertical-align: top;\n",
       "    }\n",
       "\n",
       "    .dataframe thead th {\n",
       "        text-align: right;\n",
       "    }\n",
       "</style>\n",
       "<table border=\"1\" class=\"dataframe\">\n",
       "  <thead>\n",
       "    <tr style=\"text-align: right;\">\n",
       "      <th></th>\n",
       "      <th>Subject</th>\n",
       "      <th>Predicate</th>\n",
       "      <th>Object</th>\n",
       "    </tr>\n",
       "  </thead>\n",
       "  <tbody>\n",
       "    <tr>\n",
       "      <th>0</th>\n",
       "      <td>node1e7qbo691x4</td>\n",
       "      <td>http://w3id.org/rsp/vocals#feature</td>\n",
       "      <td>http://streamhub:8181/streamhub/StreamGetterFe...</td>\n",
       "    </tr>\n",
       "    <tr>\n",
       "      <th>1</th>\n",
       "      <td>http://streamhub:8181/streamhub</td>\n",
       "      <td>http://w3id.org/rsp/vocals-sd#hasService</td>\n",
       "      <td>node1e7qbo691x6</td>\n",
       "    </tr>\n",
       "    <tr>\n",
       "      <th>2</th>\n",
       "      <td>node1e7qbo691x7</td>\n",
       "      <td>http://w3id.org/rsp/vocals-sd#uri_param</td>\n",
       "      <td>node1e7qbo691x8</td>\n",
       "    </tr>\n",
       "    <tr>\n",
       "      <th>3</th>\n",
       "      <td>http://streamhub:8181/streamhub</td>\n",
       "      <td>http://www.w3.org/1999/02/22-rdf-syntax-ns#type</td>\n",
       "      <td>http://w3id.org/rsp/vocals-sd#PublishingService</td>\n",
       "    </tr>\n",
       "    <tr>\n",
       "      <th>4</th>\n",
       "      <td>node1e7qbo691x7</td>\n",
       "      <td>http://w3id.org/rsp/vocals-sd#method</td>\n",
       "      <td>DELETE</td>\n",
       "    </tr>\n",
       "  </tbody>\n",
       "</table>\n",
       "</div>"
      ],
      "text/plain": [
       "                           Subject  \\\n",
       "0                  node1e7qbo691x4   \n",
       "1  http://streamhub:8181/streamhub   \n",
       "2                  node1e7qbo691x7   \n",
       "3  http://streamhub:8181/streamhub   \n",
       "4                  node1e7qbo691x7   \n",
       "\n",
       "                                         Predicate  \\\n",
       "0               http://w3id.org/rsp/vocals#feature   \n",
       "1         http://w3id.org/rsp/vocals-sd#hasService   \n",
       "2          http://w3id.org/rsp/vocals-sd#uri_param   \n",
       "3  http://www.w3.org/1999/02/22-rdf-syntax-ns#type   \n",
       "4             http://w3id.org/rsp/vocals-sd#method   \n",
       "\n",
       "                                              Object  \n",
       "0  http://streamhub:8181/streamhub/StreamGetterFe...  \n",
       "1                                    node1e7qbo691x6  \n",
       "2                                    node1e7qbo691x8  \n",
       "3    http://w3id.org/rsp/vocals-sd#PublishingService  \n",
       "4                                             DELETE  "
      ]
     },
     "execution_count": 3,
     "metadata": {},
     "output_type": "execute_result"
    }
   ],
   "source": [
    "streamhub.service().rdf_table().head()"
   ]
  },
  {
   "cell_type": "markdown",
   "metadata": {},
   "source": [
    "# Publishing a Stream"
   ]
  },
  {
   "cell_type": "markdown",
   "metadata": {},
   "source": [
    "## Publication Query - SPARQL-like Syntax"
   ]
  },
  {
   "cell_type": "code",
   "execution_count": 4,
   "metadata": {},
   "outputs": [],
   "source": [
    "vocals = '''\n",
    "BASE  <http://streamhub:9292/streamhub>\n",
    "PREFIX xsd: <http://www.w3.org/2001/XMLSchema#>\n",
    "PREFIX rdfs: <http://www.w3.org/2000/01/rdf-schema#>\n",
    "PREFIX dcat: <http://www.w3.org/ns/dcat#>\n",
    "PREFIX frmt: <http://www.w3.org/ns/formats/>\n",
    "PREFIX vocals: <http://w3id.org/rsp/vocals#>\n",
    "PREFIX vsd: <http://w3id.org/rsp/vocals-sd#>\n",
    "REGISTER STREAM :colorstream\n",
    "FROM SOURCE <ws://colorstream:8080>\n",
    "WHERE {\n",
    "\n",
    "           {this} a vocals:StreamDescriptor .\n",
    "\n",
    "           {publisher} a vsd:PublishingService ;\n",
    "                         vsd:hasFeature vsd:replaying ;\n",
    "                         vsd:resultFormat frmt:JSON-LD .\n",
    "\n",
    "           :ColorEndpoint a vocals:StreamEndpoint ;\n",
    "                            dcat:title \"A Color Stream Endpoint\"^^xsd:string ;\n",
    "                            dcat:description \"Streaming endpoint to consume Colors via WebSocket\"^^xsd:string ;\n",
    "                            dcat:license <https://creativecommons.org/licenses/by-nc/4.0/> ;\n",
    "                            dcat:format frmt:JSON-LD ;\n",
    "                            dcat:accessURL {source} ;\n",
    "                            vsd:publishedBy {publisher} .\n",
    "\n",
    "           {stream} a vocals:RDFStream ;\n",
    "                    dcat:title \"Color Stream\"^^xsd:string ;\n",
    "                    dcat:description \"Stream of colors\"^^xsd:string ;\n",
    "                    dcat:publisher {publisher} ;\n",
    "                    dcat:landingPage <https://example.org/rw/colors/> ;\n",
    "                    vocals:hasEndpoint :ColorEndpoint  .\n",
    "\n",
    "}'''"
   ]
  },
  {
   "cell_type": "code",
   "execution_count": 5,
   "metadata": {},
   "outputs": [
    {
     "data": {
      "text/plain": [
       "{\n",
       "    \"@id\": \"streams/colorstream\",\n",
       "    \"@type\": \"vocals:StreamDescriptor\",\n",
       "    \"dcat:dataset\": {\n",
       "        \"@id\": \"streams/colorstream\",\n",
       "        \"@type\": \"vocals:RDFStream\",\n",
       "        \"dcat:description\": \"Stream of colors\",\n",
       "        \"dcat:landingPage\": \"https://example.org/rw/colors/\",\n",
       "        \"dcat:publisher\": \"http://streamhub:9292/streamhub\",\n",
       "        \"dcat:title\": \"Color Stream\",\n",
       "        \"vocals:hasEndpoint\": [\n",
       "            [\n",
       "                {\n",
       "                    \"@id\": \"http://streamhub:9292/streamhub/ColorEndpoint\",\n",
       "                    \"@type\": \"http://w3id.org/rsp/vocals#StreamEndpoint\",\n",
       "                    \"dcat:title\": \"A Color Stream Endpoint\",\n",
       "                    \"dcat:description\": \"Streaming endpoint to consume Colors via WebSocket\",\n",
       "                    \"dcat:license\": \"https://creativecommons.org/licenses/by-nc/4.0/\",\n",
       "                    \"dcat:format\": \"http://www.w3.org/ns/formats/JSON-LD\",\n",
       "                    \"dcat:accessURL\": \"ws://colorstream:8080\",\n",
       "                    \"vsd:publishedBy\": \"http://streamhub:9292/streamhub\"\n",
       "                }\n",
       "            ],\n",
       "            \"http://streamhub:9292/streamhub/ColorEndpoint\"\n",
       "        ]\n",
       "    },\n",
       "    \"vsd:publishedBy\": {\n",
       "        \"@id\": \"./\",\n",
       "        \"@type\": \"vsd:PublishingService\",\n",
       "        \"vsd:hasFeature\": \"http://w3id.org/rsp/vocals-sd#replaying\",\n",
       "        \"vsd:resultFormat\": \"http://www.w3.org/ns/formats/JSON-LD\"\n",
       "    },\n",
       "    \"@context\": {\n",
       "        \"frmt\": \"http://www.w3.org/ns/formats/\",\n",
       "        \"owl\": \"http://www.w3.org/2002/07/owl#\",\n",
       "        \"rdf\": \"http://www.w3.org/1999/02/22-rdf-syntax-ns#\",\n",
       "        \"vsd\": \"http://w3id.org/rsp/vocals-sd#\",\n",
       "        \"xsd\": \"http://www.w3.org/2001/XMLSchema#\",\n",
       "        \"format\": \"http://www.w3.org/ns/formats/\",\n",
       "        \"vocals\": \"http://w3id.org/rsp/vocals#\",\n",
       "        \"rdfs\": \"http://www.w3.org/2000/01/rdf-schema#\",\n",
       "        \"vprov\": \"http://w3id.org/rsp/vocals-prov#\",\n",
       "        \"dcat\": \"http://www.w3.org/ns/dcat#\",\n",
       "        \"@base\": \"http://streamhub:9292/streamhub/\",\n",
       "        \"dcat:accessURL\": {\n",
       "            \"@type\": \"xsd:string\"\n",
       "        },\n",
       "        \"dcat:description\": {\n",
       "            \"@type\": \"http://www.w3.org/2001/XMLSchema#string\"\n",
       "        },\n",
       "        \"dcat:title\": {\n",
       "            \"@type\": \"http://www.w3.org/2001/XMLSchema#string\"\n",
       "        }\n",
       "    }\n",
       "}"
      ]
     },
     "execution_count": 5,
     "metadata": {},
     "output_type": "execute_result"
    }
   ],
   "source": [
    "streamhub.publish(vocals)"
   ]
  },
  {
   "cell_type": "markdown",
   "metadata": {},
   "source": [
    "## Checking if there is any stream"
   ]
  },
  {
   "cell_type": "code",
   "execution_count": 6,
   "metadata": {},
   "outputs": [
    {
     "data": {
      "text/plain": [
       "[http://streamhub:9292/streamhub/streams/colorstream]"
      ]
     },
     "execution_count": 6,
     "metadata": {},
     "output_type": "execute_result"
    }
   ],
   "source": [
    "streamhub.lists()"
   ]
  },
  {
   "cell_type": "code",
   "execution_count": 7,
   "metadata": {},
   "outputs": [
    {
     "data": {
      "text/plain": [
       "[GET ws://colorstream:8080]"
      ]
     },
     "execution_count": 7,
     "metadata": {},
     "output_type": "execute_result"
    }
   ],
   "source": [
    "streamhub.lists()[0].endpoints()"
   ]
  },
  {
   "cell_type": "markdown",
   "metadata": {},
   "source": [
    "## Getting the stream just registered"
   ]
  },
  {
   "cell_type": "code",
   "execution_count": 8,
   "metadata": {},
   "outputs": [],
   "source": [
    "colorstream = streamhub.lists()[0].endpoints()[0]"
   ]
  },
  {
   "cell_type": "code",
   "execution_count": 9,
   "metadata": {},
   "outputs": [
    {
     "name": "stdout",
     "output_type": "stream",
     "text": [
      "WARNING: WebSocket will be open for a single connection!\n"
     ]
    },
    {
     "data": {
      "text/plain": [
       "{\n",
       "    \"@context\": {\n",
       "        \"color\": \"http://www.streamreasoning.org/ontologies/2018/9/colors#\",\n",
       "        \"rdf\": \"http://www.w3.org/1999/02/22-rdf-syntax-ns#\",\n",
       "        \"rdfs\": \"http://www.w3.org/2000/01/rdf-schema#\"\n",
       "    },\n",
       "    \"@id\": \"8aa3202b-93b7-42f8-bdd0-c8b66a53066d\",\n",
       "    \"@type\": \"color:Green\"\n",
       "}"
      ]
     },
     "execution_count": 9,
     "metadata": {},
     "output_type": "execute_result"
    }
   ],
   "source": [
    "colorstream.call()"
   ]
  },
  {
   "cell_type": "markdown",
   "metadata": {},
   "source": [
    "## Deleting the stream registered"
   ]
  },
  {
   "cell_type": "raw",
   "metadata": {},
   "source": [
    "streamhub.delete('colorstream')"
   ]
  },
  {
   "cell_type": "raw",
   "metadata": {},
   "source": [
    "streamhub.lists()"
   ]
  }
 ],
 "metadata": {
  "kernelspec": {
   "display_name": "Python 3",
   "language": "python",
   "name": "python3"
  },
  "language_info": {
   "codemirror_mode": {
    "name": "ipython",
    "version": 3
   },
   "file_extension": ".py",
   "mimetype": "text/x-python",
   "name": "python",
   "nbconvert_exporter": "python",
   "pygments_lexer": "ipython3",
   "version": "3.6.7"
  }
 },
 "nbformat": 4,
 "nbformat_minor": 2
}
