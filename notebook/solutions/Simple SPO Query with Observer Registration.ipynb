{
 "cells": [
  {
   "cell_type": "code",
   "execution_count": 55,
   "metadata": {},
   "outputs": [],
   "source": [
    "default_headers = {\n",
    "          'Content-Type': 'application/json',\n",
    "          'Access-Control-Allow-Origin': '*'\n",
    "        }"
   ]
  },
  {
   "cell_type": "code",
   "execution_count": 105,
   "metadata": {},
   "outputs": [],
   "source": [
    "from IPython.display import display_javascript, display_html, display\n",
    "import uuid\n",
    "\n",
    "class RenderJSON(object):\n",
    "    def __init__(self, json_data):\n",
    "        if isinstance(json_data, dict):\n",
    "            self.json_str = json.dumps(json_data)\n",
    "        elif isinstance(json_data, list):\n",
    "            self.json_str = json.dumps(json_data)\n",
    "        else:\n",
    "            self.json_str = json\n",
    "        self.uuid = str(uuid.uuid4())\n",
    "        \n",
    "    def _ipython_display_(self):\n",
    "        display_html('<div id=\"{}\" style=\"height: 150px; width:100%;\"></div>'.format(self.uuid),\n",
    "            raw=True\n",
    "        )\n",
    "        display_javascript(\"\"\"\n",
    "        require([\"https://rawgit.com/caldwell/renderjson/master/renderjson.js\"], function() {\n",
    "          document.getElementById('%s').appendChild(renderjson(%s))\n",
    "        });\n",
    "        \"\"\" % (self.uuid, self.json_str), raw=True)"
   ]
  },
  {
   "cell_type": "code",
   "execution_count": 106,
   "metadata": {},
   "outputs": [],
   "source": [
    "import requests, json"
   ]
  },
  {
   "cell_type": "code",
   "execution_count": 107,
   "metadata": {},
   "outputs": [],
   "source": [
    "engine = \"http://docker.for.mac.localhost:8181\""
   ]
  },
  {
   "cell_type": "code",
   "execution_count": 108,
   "metadata": {},
   "outputs": [],
   "source": [
    "e = requests.get(engine + \"/jasper\").json()"
   ]
  },
  {
   "cell_type": "code",
   "execution_count": 109,
   "metadata": {},
   "outputs": [
    {
     "data": {
      "text/html": [
       "<div id=\"c211a63b-362c-4a6f-bf54-206146e455d9\" style=\"height: 150px; width:100%;\"></div>"
      ]
     },
     "metadata": {},
     "output_type": "display_data"
    },
    {
     "data": {
      "application/javascript": [
       "\n",
       "        require([\"https://rawgit.com/caldwell/renderjson/master/renderjson.js\"], function() {\n",
       "          document.getElementById('c211a63b-362c-4a6f-bf54-206146e455d9').appendChild(renderjson({\"@graph\": [{\"@id\": \"_:b0\", \"feature\": \"http://localhost:8181//QueryDeletionFeature\", \"endpoint\": \"/queries/:query\", \"method\": \"DELETE\", \"name\": \"QueryDeletionFeature\", \"uri_param\": \"_:b17\"}, {\"@id\": \"_:b1\", \"feature\": \"http://localhost:8181//StreamsGetterFeature\", \"endpoint\": \"/streams\", \"method\": \"GET\", \"name\": \"StreamsGetterFeature\"}, {\"@id\": \"_:b10\", \"name\": \"source\"}, {\"@id\": \"_:b11\", \"name\": \"body\"}, {\"@id\": \"_:b12\", \"@type\": \"xsd:string\", \"index\": \"1\", \"name\": \"source\"}, {\"@id\": \"_:b13\", \"index\": \"0\", \"name\": \"stream\", \"type\": \"xsd:string\"}, {\"@id\": \"_:b14\", \"@type\": \"xsd:string\", \"index\": \"0\", \"name\": \"body\"}, {\"@id\": \"_:b15\", \"index\": \"0\", \"name\": \"stream\", \"type\": \"xsd:string\"}, {\"@id\": \"_:b16\", \"index\": \"0\", \"name\": \"query\", \"type\": \"xsd:string\"}, {\"@id\": \"_:b17\", \"index\": \"0\", \"name\": \"query\", \"type\": \"xsd:string\"}, {\"@id\": \"_:b18\", \"@type\": \"xsd:string\", \"index\": \"0\", \"name\": \"id\"}, {\"@id\": \"_:b2\", \"feature\": \"http://localhost:8181//QueryRegistrationFeature\", \"body\": \"{\\\"id\\\":\\\"http://www.w3.org/2001/XMLSchema#string\\\",\\\"body\\\":\\\"http://www.w3.org/2001/XMLSchema#string\\\",\\\"tbox\\\":\\\"http://www.w3.org/2001/XMLSchema#string\\\"}\", \"body_param\": [\"_:b8\", \"_:b14\", \"_:b18\"], \"endpoint\": \"/queries\", \"method\": \"POST\", \"name\": \"QueryRegistrationFeature\"}, {\"@id\": \"_:b3\", \"feature\": \"http://localhost:8181//StreamDeletionFeature\", \"endpoint\": \"/streams/:stream\", \"method\": \"DELETE\", \"name\": \"StreamDeletionFeature\", \"uri_param\": \"_:b9\"}, {\"@id\": \"_:b4\", \"feature\": \"http://localhost:8181//QueriesGetterFeature\", \"endpoint\": \"/queries\", \"method\": \"GET\", \"name\": \"QueriesGetterFeature\"}, {\"@id\": \"_:b5\", \"feature\": \"http://localhost:8181//StreamGetterFeature\", \"endpoint\": \"/streams/:stream\", \"method\": \"GET\", \"name\": \"StreamGetterFeature\", \"uri_param\": \"_:b15\"}, {\"@id\": \"_:b6\", \"feature\": \"http://localhost:8181//QueryGetterFeature\", \"endpoint\": \"/queries/:query\", \"method\": \"GET\", \"name\": \"QueryGetterFeature\", \"uri_param\": \"_:b16\"}, {\"@id\": \"_:b7\", \"feature\": \"http://localhost:8181//StreamRegistrationFeature\", \"body\": \"{\\\"source\\\":\\\"http://www.w3.org/2001/XMLSchema#string\\\"}\", \"body_param\": \"_:b12\", \"endpoint\": \"/streams/:stream\", \"method\": \"POST\", \"name\": \"StreamRegistrationFeature\", \"uri_param\": \"_:b13\"}, {\"@id\": \"_:b8\", \"@type\": \"xsd:string\", \"index\": \"0\", \"name\": \"tbox\"}, {\"@id\": \"_:b9\", \"index\": \"0\", \"name\": \"stream\", \"type\": \"xsd:string\"}, {\"@id\": \"http://localhost:8181/jasper\", \"@type\": \"vsd:ProcessingService\", \"base\": \"http://localhost:8181/jasper\", \"hasService\": [\"_:b0\", \"_:b1\", \"_:b2\", \"_:b3\", \"_:b4\", \"_:b5\", \"_:b6\", \"_:b7\"]}], \"@context\": {\"hasService\": {\"@id\": \"http://w3id.org/rsp/vocals-sd#hasService\", \"@type\": \"@id\"}, \"base\": {\"@id\": \"http://w3id.org/rsp/vocals-sd#base\"}, \"index\": {\"@id\": \"http://w3id.org/rsp/vocals-sd#index\"}, \"name\": {\"@id\": \"http://w3id.org/rsp/vocals-sd#name\"}, \"method\": {\"@id\": \"http://w3id.org/rsp/vocals-sd#method\"}, \"endpoint\": {\"@id\": \"http://w3id.org/rsp/vocals-sd#endpoint\"}, \"feature\": {\"@id\": \"http://w3id.org/rsp/vocals#feature\", \"@type\": \"@id\"}, \"uri_param\": {\"@id\": \"http://w3id.org/rsp/vocals-sd#uri_param\", \"@type\": \"@id\"}, \"body\": {\"@id\": \"http://w3id.org/rsp/vocals-sd#body\"}, \"body_param\": {\"@id\": \"http://w3id.org/rsp/vocals-sd#body_param\", \"@type\": \"@id\"}, \"type\": {\"@id\": \"http://w3id.org/rsp/vocals-sd#type\", \"@type\": \"@id\"}, \"frmt\": \"http://www.w3.org/ns/formats/\", \"vsd\": \"http://w3id.org/rsp/vocals-sd#\", \"vocals\": \"http://w3id.org/rsp/vocals#\", \"xsd\": \"http://www.w3.org/2001/XMLSchema#\"}}))\n",
       "        });\n",
       "        "
      ]
     },
     "metadata": {},
     "output_type": "display_data"
    }
   ],
   "source": [
    "RenderJSON(e)"
   ]
  },
  {
   "cell_type": "code",
   "execution_count": 174,
   "metadata": {},
   "outputs": [],
   "source": [
    "l = requests.get(engine + \"/jasper/streams\").json()"
   ]
  },
  {
   "cell_type": "code",
   "execution_count": 175,
   "metadata": {},
   "outputs": [
    {
     "data": {
      "text/html": [
       "<div id=\"b8275e89-4047-433c-83cb-15084f7e56f5\" style=\"height: 150px; width:100%;\"></div>"
      ]
     },
     "metadata": {},
     "output_type": "display_data"
    },
    {
     "data": {
      "application/javascript": [
       "\n",
       "        require([\"https://rawgit.com/caldwell/renderjson/master/renderjson.js\"], function() {\n",
       "          document.getElementById('b8275e89-4047-433c-83cb-15084f7e56f5').appendChild(renderjson([{\"iri\": \"http://localhost:1255/red\"}, {\"iri\": \"http://localhost:8181/jasper/streams/q2\"}]))\n",
       "        });\n",
       "        "
      ]
     },
     "metadata": {},
     "output_type": "display_data"
    }
   ],
   "source": [
    "RenderJSON(l)"
   ]
  },
  {
   "cell_type": "code",
   "execution_count": 176,
   "metadata": {},
   "outputs": [],
   "source": [
    "qs = requests.get(engine + \"/jasper/queries\").json()"
   ]
  },
  {
   "cell_type": "code",
   "execution_count": 177,
   "metadata": {},
   "outputs": [
    {
     "data": {
      "text/html": [
       "<div id=\"e55b4d64-68ed-4253-b092-a937f53ff0ce\" style=\"height: 150px; width:100%;\"></div>"
      ]
     },
     "metadata": {},
     "output_type": "display_data"
    },
    {
     "data": {
      "application/javascript": [
       "\n",
       "        require([\"https://rawgit.com/caldwell/renderjson/master/renderjson.js\"], function() {\n",
       "          document.getElementById('e55b4d64-68ed-4253-b092-a937f53ff0ce').appendChild(renderjson([{\"iri\": \"http://localhost:8181/jasper/queries/q2\"}]))\n",
       "        });\n",
       "        "
      ]
     },
     "metadata": {},
     "output_type": "display_data"
    }
   ],
   "source": [
    "RenderJSON(qs)"
   ]
  },
  {
   "cell_type": "code",
   "execution_count": 270,
   "metadata": {},
   "outputs": [
    {
     "data": {
      "text/html": [
       "<div id=\"0d1dec33-6130-42ec-8cbd-dafda1b54eac\" style=\"height: 150px; width:100%;\"></div>"
      ]
     },
     "metadata": {},
     "output_type": "display_data"
    },
    {
     "data": {
      "application/javascript": [
       "\n",
       "        require([\"https://rawgit.com/caldwell/renderjson/master/renderjson.js\"], function() {\n",
       "          document.getElementById('0d1dec33-6130-42ec-8cbd-dafda1b54eac').appendChild(renderjson({\"id\": \"q1\", \"tbox\": \"file:///Users/riccardo/Desktop/colors.owl\", \"body\": \"CONSTRUCT {?s ?p ?o} FROM NAMED WINDOW <w1> ON <http://localhost:1255/red> [RANGE PT10S STEP PT10S] WHERE { WINDOW ?w { ?s ?p ?o } }\"}))\n",
       "        });\n",
       "        "
      ]
     },
     "metadata": {},
     "output_type": "display_data"
    }
   ],
   "source": [
    "body = {\n",
    "    'id':'q1',\n",
    "    'tbox': 'file:///Users/riccardo/Desktop/colors.owl',\n",
    "    'body': 'CONSTRUCT {?s ?p ?o} FROM NAMED WINDOW <w1> ON <http://localhost:1255/red> [RANGE PT10S STEP PT10S] WHERE { WINDOW ?w { ?s ?p ?o } }'\n",
    "}\n",
    "    \n",
    "data = json.dumps(body)\n",
    "\n",
    "RenderJSON(body)"
   ]
  },
  {
   "cell_type": "code",
   "execution_count": 271,
   "metadata": {},
   "outputs": [],
   "source": [
    "q = requests.post(engine + \"/jasper/queries\", data = data, headers=default_headers).json()"
   ]
  },
  {
   "cell_type": "code",
   "execution_count": 173,
   "metadata": {},
   "outputs": [
    {
     "data": {
      "text/html": [
       "<div id=\"7cdc8635-f02a-4a35-b132-46a57e3b6e94\" style=\"height: 150px; width:100%;\"></div>"
      ]
     },
     "metadata": {},
     "output_type": "display_data"
    },
    {
     "data": {
      "application/javascript": [
       "\n",
       "        require([\"https://rawgit.com/caldwell/renderjson/master/renderjson.js\"], function() {\n",
       "          document.getElementById('7cdc8635-f02a-4a35-b132-46a57e3b6e94').appendChild(renderjson({\"@id\": \"queries/q2\", \"@type\": \"vprov:Task\", \"prov:generated\": {\"@id\": \"streams/q2\"}, \"prov:uses\": {\"@id\": \"http://localhost:1255/red\"}, \"@context\": {\"@base\": \"http://localhost:8181/jasper/\", \"rdf\": \"http://www.w3.org/1999/02/22-rdf-syntax-ns#\", \"vsd\": \"http://w3id.org/rsp/vocals-sd#\", \"vocals\": \"http://w3id.org/rsp/vocals#\", \"xsd\": \"http://www.w3.org/2001/XMLSchema#\", \"format\": \"http://www.w3.org/ns/formats/\", \"rdfs\": \"http://www.w3.org/2000/01/rdf-schema#\", \"vprov\": \"http://w3id.org/rsp/vocals-prov#\", \"dcat\": \"https://www.w3.org/TR/vocab-dcat/\", \"prov\": \"http://www.w3.org/ns/prov#\"}}))\n",
       "        });\n",
       "        "
      ]
     },
     "metadata": {},
     "output_type": "display_data"
    }
   ],
   "source": [
    "RenderJSON(q)"
   ]
  },
  {
   "cell_type": "code",
   "execution_count": 272,
   "metadata": {},
   "outputs": [],
   "source": [
    "os = requests.get(engine + \"/jasper/observers/q2\").json()"
   ]
  },
  {
   "cell_type": "code",
   "execution_count": 273,
   "metadata": {},
   "outputs": [
    {
     "data": {
      "text/html": [
       "<div id=\"9f0eb68f-74a2-4e8d-a889-9d15fa9738dd\" style=\"height: 150px; width:100%;\"></div>"
      ]
     },
     "metadata": {},
     "output_type": "display_data"
    },
    {
     "data": {
      "application/javascript": [
       "\n",
       "        require([\"https://rawgit.com/caldwell/renderjson/master/renderjson.js\"], function() {\n",
       "          document.getElementById('9f0eb68f-74a2-4e8d-a889-9d15fa9738dd').appendChild(renderjson([]))\n",
       "        });\n",
       "        "
      ]
     },
     "metadata": {},
     "output_type": "display_data"
    }
   ],
   "source": [
    "RenderJSON(os)"
   ]
  },
  {
   "cell_type": "code",
   "execution_count": 274,
   "metadata": {},
   "outputs": [],
   "source": [
    "data=json.dumps({ \n",
    "    'stream': engine + \"/jasper/queries/q1\",\n",
    "    'protocol': \"WEBSOCKET\" \n",
    "})"
   ]
  },
  {
   "cell_type": "code",
   "execution_count": 275,
   "metadata": {
    "scrolled": true
   },
   "outputs": [],
   "source": [
    "o = requests.post(engine + \"/jasper/observers/q1\", data = json.dumps({'protocol':\"HTTP\", \"retention\":5}) , headers=default_headers).json()"
   ]
  },
  {
   "cell_type": "code",
   "execution_count": 276,
   "metadata": {},
   "outputs": [],
   "source": [
    "os = requests.get(engine + \"/jasper/observers/q1\").json()"
   ]
  },
  {
   "cell_type": "code",
   "execution_count": 277,
   "metadata": {},
   "outputs": [
    {
     "data": {
      "text/html": [
       "<div id=\"c2410c84-95a6-413a-859c-ca1db25a3fc3\" style=\"height: 150px; width:100%;\"></div>"
      ]
     },
     "metadata": {},
     "output_type": "display_data"
    },
    {
     "data": {
      "application/javascript": [
       "\n",
       "        require([\"https://rawgit.com/caldwell/renderjson/master/renderjson.js\"], function() {\n",
       "          document.getElementById('c2410c84-95a6-413a-859c-ca1db25a3fc3').appendChild(renderjson({\"@type\": \"vocals:StreamDescriptor\", \"dcat:dataset\": {\"@id\": \"http://localhost:8181/jasper/streams/q1\", \"@type\": \"vocals:RDFStream\", \"vocals:hasEndpoint\": [{\"@type\": \"vocals:StreamEndpoint\", \"dcat:accessURL\": \"http://localhost:8182/jasper/streams/q1/observers/513111409\"}]}, \"@context\": {\"dcat\": \"https://www.w3.org/TR/vocab-dcat/\", \"vocals\": \"http://w3id.org/rsp/vocals#\"}}))\n",
       "        });\n",
       "        "
      ]
     },
     "metadata": {},
     "output_type": "display_data"
    }
   ],
   "source": [
    "RenderJSON(o)"
   ]
  },
  {
   "cell_type": "code",
   "execution_count": 278,
   "metadata": {},
   "outputs": [
    {
     "data": {
      "text/html": [
       "<div id=\"34e82645-901d-4af4-a5e5-d6d415069eb9\" style=\"height: 150px; width:100%;\"></div>"
      ]
     },
     "metadata": {},
     "output_type": "display_data"
    },
    {
     "data": {
      "application/javascript": [
       "\n",
       "        require([\"https://rawgit.com/caldwell/renderjson/master/renderjson.js\"], function() {\n",
       "          document.getElementById('34e82645-901d-4af4-a5e5-d6d415069eb9').appendChild(renderjson([{\"@type\": \"vocals:StreamEndpoint\", \"dcat:accessURL\": \"http://localhost:8182/jasper/streams/q1/observers/513111409\", \"@context\": {\"vocals\": \"http://w3id.org/rsp/vocals#\"}}]))\n",
       "        });\n",
       "        "
      ]
     },
     "metadata": {},
     "output_type": "display_data"
    }
   ],
   "source": [
    "RenderJSON(os)"
   ]
  },
  {
   "cell_type": "code",
   "execution_count": 280,
   "metadata": {},
   "outputs": [],
   "source": [
    "o = requests.post(engine + \"/jasper/observers/q1\", data = json.dumps({'protocol':\"WEBSOCKET\"}) , headers=default_headers).json()"
   ]
  },
  {
   "cell_type": "code",
   "execution_count": 281,
   "metadata": {},
   "outputs": [
    {
     "data": {
      "text/html": [
       "<div id=\"9d38efa9-1bad-4520-a5c7-85b6d51d6e81\" style=\"height: 150px; width:100%;\"></div>"
      ]
     },
     "metadata": {},
     "output_type": "display_data"
    },
    {
     "data": {
      "application/javascript": [
       "\n",
       "        require([\"https://rawgit.com/caldwell/renderjson/master/renderjson.js\"], function() {\n",
       "          document.getElementById('9d38efa9-1bad-4520-a5c7-85b6d51d6e81').appendChild(renderjson({\"@type\": \"vocals:StreamDescriptor\", \"dcat:dataset\": {\"@id\": \"http://localhost:8181/jasper/streams/q1\", \"@type\": \"vocals:RDFStream\", \"vocals:hasEndpoint\": [{\"@type\": \"vocals:StreamEndpoint\", \"dcat:accessURL\": \"http://localhost:8182/jasper/streams/q1/observers/513111409\"}, {\"@type\": \"vocals:StreamEndpoint\", \"dcat:accessURL\": \"ws://localhost:8183/jasper/streams/q1/observers/1434964989\", \"dcat:format\": \"frmt:JSON-LD\", \"vsd:publishedBy\": \"http://localhost:8181/jasper\"}]}, \"@context\": {\"dcat\": \"http://www.w3.org/ns/dcat#\", \"vocals\": \"http://w3id.org/rsp/vocals#\", \"vsd\": \"http://w3id.org/rsp/vocals-sd#\"}}))\n",
       "        });\n",
       "        "
      ]
     },
     "metadata": {},
     "output_type": "display_data"
    }
   ],
   "source": [
    "RenderJSON(o)"
   ]
  },
  {
   "cell_type": "code",
   "execution_count": 287,
   "metadata": {},
   "outputs": [
    {
     "data": {
      "text/html": [
       "<div id=\"5117607a-f213-42b2-a377-26c5e163b67b\" style=\"height: 150px; width:100%;\"></div>"
      ]
     },
     "metadata": {},
     "output_type": "display_data"
    },
    {
     "data": {
      "application/javascript": [
       "\n",
       "        require([\"https://rawgit.com/caldwell/renderjson/master/renderjson.js\"], function() {\n",
       "          document.getElementById('5117607a-f213-42b2-a377-26c5e163b67b').appendChild(renderjson({\"id\": \"q2\", \"tbox\": \"file:///Users/riccardo/Desktop/colors.owl\", \"body\": \"CONSTRUCT {?s ?p ?o} FROM NAMED WINDOW <w1> ON <http://localhost:8181/jasper/streams/q9> [RANGE PT10S STEP PT10S] WHERE { WINDOW ?w { ?s ?p ?o } }\"}))\n",
       "        });\n",
       "        "
      ]
     },
     "metadata": {},
     "output_type": "display_data"
    }
   ],
   "source": [
    "body = {\n",
    "    'id':'q2',\n",
    "    'tbox': 'file:///Users/riccardo/Desktop/colors.owl',\n",
    "    'body': 'CONSTRUCT {?s ?p ?o} FROM NAMED WINDOW <w1> ON <http://localhost:8181/jasper/streams/q1> [RANGE PT10S STEP PT10S] WHERE { WINDOW ?w { ?s ?p ?o } }'\n",
    "}\n",
    "    \n",
    "data = json.dumps(body)\n",
    "\n",
    "RenderJSON(body)\n"
   ]
  },
  {
   "cell_type": "code",
   "execution_count": 288,
   "metadata": {},
   "outputs": [],
   "source": [
    "q = requests.post(engine + \"/jasper/queries\", data = data, headers=default_headers)"
   ]
  },
  {
   "cell_type": "code",
   "execution_count": 289,
   "metadata": {},
   "outputs": [
    {
     "data": {
      "text/plain": [
       "'Not found: http://localhost:8181/jasper/streams/q9'"
      ]
     },
     "execution_count": 289,
     "metadata": {},
     "output_type": "execute_result"
    }
   ],
   "source": [
    "q.text"
   ]
  },
  {
   "cell_type": "code",
   "execution_count": 286,
   "metadata": {},
   "outputs": [
    {
     "data": {
      "text/html": [
       "<div id=\"5e594567-def6-4176-b4ab-a0057426ef1d\" style=\"height: 150px; width:100%;\"></div>"
      ]
     },
     "metadata": {},
     "output_type": "display_data"
    },
    {
     "data": {
      "application/javascript": [
       "\n",
       "        require([\"https://rawgit.com/caldwell/renderjson/master/renderjson.js\"], function() {\n",
       "          document.getElementById('5e594567-def6-4176-b4ab-a0057426ef1d').appendChild(renderjson({\"@id\": \"queries/q2\", \"@type\": \"vprov:Task\", \"prov:generated\": {\"@id\": \"streams/q2\"}, \"prov:uses\": {\"@id\": \"streams/q1\"}, \"@context\": {\"@base\": \"http://localhost:8181/jasper/\", \"rdf\": \"http://www.w3.org/1999/02/22-rdf-syntax-ns#\", \"vsd\": \"http://w3id.org/rsp/vocals-sd#\", \"vocals\": \"http://w3id.org/rsp/vocals#\", \"xsd\": \"http://www.w3.org/2001/XMLSchema#\", \"format\": \"http://www.w3.org/ns/formats/\", \"rdfs\": \"http://www.w3.org/2000/01/rdf-schema#\", \"vprov\": \"http://w3id.org/rsp/vocals-prov#\", \"dcat\": \"http://www.w3.org/ns/dcat#\", \"prov\": \"http://www.w3.org/ns/prov#\"}}))\n",
       "        });\n",
       "        "
      ]
     },
     "metadata": {},
     "output_type": "display_data"
    }
   ],
   "source": [
    "RenderJSON(q.json())"
   ]
  },
  {
   "cell_type": "code",
   "execution_count": 190,
   "metadata": {},
   "outputs": [],
   "source": [
    "from rdflib import Graph, plugin\n",
    "from rdflib.serializer import Serializer"
   ]
  },
  {
   "cell_type": "code",
   "execution_count": 292,
   "metadata": {},
   "outputs": [],
   "source": [
    "a = requests.get(\"http://docker.for.mac.localhost:8182/jasper/streams/q1/observers/513111409\").json()"
   ]
  },
  {
   "cell_type": "code",
   "execution_count": 293,
   "metadata": {},
   "outputs": [
    {
     "data": {
      "text/html": [
       "<div id=\"de868e8a-f0a9-4d36-aa25-0e4d95a768d2\" style=\"height: 150px; width:100%;\"></div>"
      ]
     },
     "metadata": {},
     "output_type": "display_data"
    },
    {
     "data": {
      "application/javascript": [
       "\n",
       "        require([\"https://rawgit.com/caldwell/renderjson/master/renderjson.js\"], function() {\n",
       "          document.getElementById('de868e8a-f0a9-4d36-aa25-0e4d95a768d2').appendChild(renderjson([{\"@graph\": [{\"@id\": \"_:b0\", \"@type\": \"http://www.w3.org/2002/07/owl#Restriction\", \"onProperty\": \"http://www.streamreasoning.org/ontologies/2018/9/colors#from\", \"someValuesFrom\": \"http://www.streamreasoning.org/ontologies/2018/9/colors#Green\"}, {\"@id\": \"_:b1\", \"@type\": \"http://www.w3.org/2002/07/owl#Restriction\", \"onProperty\": \"http://www.streamreasoning.org/ontologies/2018/9/colors#from\", \"someValuesFrom\": \"http://www.streamreasoning.org/ontologies/2018/9/colors#Red\"}, {\"@id\": \"http://localhost:8181/4a1abcbd-1c63-4644-ae6e-30684543d098\", \"@type\": \"http://w3id.org/rsp/vocals#Red\"}, {\"@id\": \"http://localhost:8181/de199a16-3c77-49fe-85d5-e648f7464f1d\", \"@type\": \"http://w3id.org/rsp/vocals#Red\"}, {\"@id\": \"http://localhost:8181/fa3c7c65-fb5f-4519-979f-80c2e7b9453f\", \"@type\": \"http://w3id.org/rsp/vocals#Red\"}, {\"@id\": \"http://www.streamreasoning.org/ontologies/2018/9/colors\", \"@type\": \"http://www.w3.org/2002/07/owl#Ontology\"}, {\"@id\": \"http://www.streamreasoning.org/ontologies/2018/9/colors#Blue\", \"@type\": \"http://www.w3.org/2002/07/owl#Class\", \"subClassOf\": [\"http://www.streamreasoning.org/ontologies/2018/9/colors#Cold\", \"http://www.streamreasoning.org/ontologies/2018/9/colors#Primary\"]}, {\"@id\": \"http://www.streamreasoning.org/ontologies/2018/9/colors#Cold\", \"@type\": \"http://www.w3.org/2002/07/owl#Class\", \"subClassOf\": \"http://www.streamreasoning.org/ontologies/2018/9/colors#Color\"}, {\"@id\": \"http://www.streamreasoning.org/ontologies/2018/9/colors#Color\", \"@type\": \"http://www.w3.org/2002/07/owl#Class\"}, {\"@id\": \"http://www.streamreasoning.org/ontologies/2018/9/colors#Derived\", \"@type\": \"http://www.w3.org/2002/07/owl#Class\", \"subClassOf\": \"http://www.streamreasoning.org/ontologies/2018/9/colors#Color\"}, {\"@id\": \"http://www.streamreasoning.org/ontologies/2018/9/colors#Green\", \"@type\": \"http://www.w3.org/2002/07/owl#Class\", \"subClassOf\": [\"http://www.streamreasoning.org/ontologies/2018/9/colors#Cold\", \"http://www.streamreasoning.org/ontologies/2018/9/colors#Primary\"]}, {\"@id\": \"http://www.streamreasoning.org/ontologies/2018/9/colors#Primary\", \"@type\": \"http://www.w3.org/2002/07/owl#Class\", \"subClassOf\": \"http://www.streamreasoning.org/ontologies/2018/9/colors#Color\"}, {\"@id\": \"http://www.streamreasoning.org/ontologies/2018/9/colors#Red\", \"@type\": \"http://www.w3.org/2002/07/owl#Class\", \"subClassOf\": [\"http://www.streamreasoning.org/ontologies/2018/9/colors#Primary\", \"http://www.streamreasoning.org/ontologies/2018/9/colors#Warm\"]}, {\"@id\": \"http://www.streamreasoning.org/ontologies/2018/9/colors#Warm\", \"@type\": \"http://www.w3.org/2002/07/owl#Class\", \"subClassOf\": \"http://www.streamreasoning.org/ontologies/2018/9/colors#Color\"}, {\"@id\": \"http://www.streamreasoning.org/ontologies/2018/9/colors#Yellow\", \"@type\": \"http://www.w3.org/2002/07/owl#Class\", \"subClassOf\": [\"http://www.streamreasoning.org/ontologies/2018/9/colors#Warm\", \"_:b0\", \"_:b1\"]}, {\"@id\": \"http://www.streamreasoning.org/ontologies/2018/9/colors#from\", \"@type\": \"http://www.w3.org/2002/07/owl#ObjectProperty\", \"domain\": \"http://www.streamreasoning.org/ontologies/2018/9/colors#Derived\", \"range\": \"http://www.streamreasoning.org/ontologies/2018/9/colors#Color\"}, {\"@id\": \"http://www.streamreasoning.org/ontologies/2018/9/colors#o1\", \"@type\": \"http://www.w3.org/2002/07/owl#NamedIndividual\"}], \"@context\": {\"onProperty\": {\"@id\": \"http://www.w3.org/2002/07/owl#onProperty\", \"@type\": \"@id\"}, \"someValuesFrom\": {\"@id\": \"http://www.w3.org/2002/07/owl#someValuesFrom\", \"@type\": \"@id\"}, \"subClassOf\": {\"@id\": \"http://www.w3.org/2000/01/rdf-schema#subClassOf\", \"@type\": \"@id\"}, \"domain\": {\"@id\": \"http://www.w3.org/2000/01/rdf-schema#domain\", \"@type\": \"@id\"}, \"range\": {\"@id\": \"http://www.w3.org/2000/01/rdf-schema#range\", \"@type\": \"@id\"}}}, {\"@graph\": [{\"@id\": \"_:b0\", \"@type\": \"http://www.w3.org/2002/07/owl#Restriction\", \"onProperty\": \"http://www.streamreasoning.org/ontologies/2018/9/colors#from\", \"someValuesFrom\": \"http://www.streamreasoning.org/ontologies/2018/9/colors#Green\"}, {\"@id\": \"_:b1\", \"@type\": \"http://www.w3.org/2002/07/owl#Restriction\", \"onProperty\": \"http://www.streamreasoning.org/ontologies/2018/9/colors#from\", \"someValuesFrom\": \"http://www.streamreasoning.org/ontologies/2018/9/colors#Red\"}, {\"@id\": \"http://localhost:8181/02154a44-50cf-4ae4-a880-ba0f041a00e0\", \"@type\": \"http://w3id.org/rsp/vocals#Red\"}, {\"@id\": \"http://localhost:8181/3d476ea3-356f-4201-ac15-cb1e63766076\", \"@type\": \"http://w3id.org/rsp/vocals#Red\"}, {\"@id\": \"http://localhost:8181/4cd4ec31-74fa-4e54-acf5-a1d51536ec36\", \"@type\": \"http://w3id.org/rsp/vocals#Red\"}, {\"@id\": \"http://localhost:8181/7bcff54e-eb86-47ac-a64a-bca6ebb94a2b\", \"@type\": \"http://w3id.org/rsp/vocals#Red\"}, {\"@id\": \"http://localhost:8181/fdc0da5c-1dd1-468c-abbc-9351d49ee41f\", \"@type\": \"http://w3id.org/rsp/vocals#Red\"}, {\"@id\": \"http://www.streamreasoning.org/ontologies/2018/9/colors\", \"@type\": \"http://www.w3.org/2002/07/owl#Ontology\"}, {\"@id\": \"http://www.streamreasoning.org/ontologies/2018/9/colors#Blue\", \"@type\": \"http://www.w3.org/2002/07/owl#Class\", \"subClassOf\": [\"http://www.streamreasoning.org/ontologies/2018/9/colors#Cold\", \"http://www.streamreasoning.org/ontologies/2018/9/colors#Primary\"]}, {\"@id\": \"http://www.streamreasoning.org/ontologies/2018/9/colors#Cold\", \"@type\": \"http://www.w3.org/2002/07/owl#Class\", \"subClassOf\": \"http://www.streamreasoning.org/ontologies/2018/9/colors#Color\"}, {\"@id\": \"http://www.streamreasoning.org/ontologies/2018/9/colors#Color\", \"@type\": \"http://www.w3.org/2002/07/owl#Class\"}, {\"@id\": \"http://www.streamreasoning.org/ontologies/2018/9/colors#Derived\", \"@type\": \"http://www.w3.org/2002/07/owl#Class\", \"subClassOf\": \"http://www.streamreasoning.org/ontologies/2018/9/colors#Color\"}, {\"@id\": \"http://www.streamreasoning.org/ontologies/2018/9/colors#Green\", \"@type\": \"http://www.w3.org/2002/07/owl#Class\", \"subClassOf\": [\"http://www.streamreasoning.org/ontologies/2018/9/colors#Cold\", \"http://www.streamreasoning.org/ontologies/2018/9/colors#Primary\"]}, {\"@id\": \"http://www.streamreasoning.org/ontologies/2018/9/colors#Primary\", \"@type\": \"http://www.w3.org/2002/07/owl#Class\", \"subClassOf\": \"http://www.streamreasoning.org/ontologies/2018/9/colors#Color\"}, {\"@id\": \"http://www.streamreasoning.org/ontologies/2018/9/colors#Red\", \"@type\": \"http://www.w3.org/2002/07/owl#Class\", \"subClassOf\": [\"http://www.streamreasoning.org/ontologies/2018/9/colors#Primary\", \"http://www.streamreasoning.org/ontologies/2018/9/colors#Warm\"]}, {\"@id\": \"http://www.streamreasoning.org/ontologies/2018/9/colors#Warm\", \"@type\": \"http://www.w3.org/2002/07/owl#Class\", \"subClassOf\": \"http://www.streamreasoning.org/ontologies/2018/9/colors#Color\"}, {\"@id\": \"http://www.streamreasoning.org/ontologies/2018/9/colors#Yellow\", \"@type\": \"http://www.w3.org/2002/07/owl#Class\", \"subClassOf\": [\"http://www.streamreasoning.org/ontologies/2018/9/colors#Warm\", \"_:b0\", \"_:b1\"]}, {\"@id\": \"http://www.streamreasoning.org/ontologies/2018/9/colors#from\", \"@type\": \"http://www.w3.org/2002/07/owl#ObjectProperty\", \"domain\": \"http://www.streamreasoning.org/ontologies/2018/9/colors#Derived\", \"range\": \"http://www.streamreasoning.org/ontologies/2018/9/colors#Color\"}, {\"@id\": \"http://www.streamreasoning.org/ontologies/2018/9/colors#o1\", \"@type\": \"http://www.w3.org/2002/07/owl#NamedIndividual\"}], \"@context\": {\"subClassOf\": {\"@id\": \"http://www.w3.org/2000/01/rdf-schema#subClassOf\", \"@type\": \"@id\"}, \"domain\": {\"@id\": \"http://www.w3.org/2000/01/rdf-schema#domain\", \"@type\": \"@id\"}, \"range\": {\"@id\": \"http://www.w3.org/2000/01/rdf-schema#range\", \"@type\": \"@id\"}, \"onProperty\": {\"@id\": \"http://www.w3.org/2002/07/owl#onProperty\", \"@type\": \"@id\"}, \"someValuesFrom\": {\"@id\": \"http://www.w3.org/2002/07/owl#someValuesFrom\", \"@type\": \"@id\"}}}, {\"@graph\": [{\"@id\": \"_:b0\", \"@type\": \"http://www.w3.org/2002/07/owl#Restriction\", \"onProperty\": \"http://www.streamreasoning.org/ontologies/2018/9/colors#from\", \"someValuesFrom\": \"http://www.streamreasoning.org/ontologies/2018/9/colors#Green\"}, {\"@id\": \"_:b1\", \"@type\": \"http://www.w3.org/2002/07/owl#Restriction\", \"onProperty\": \"http://www.streamreasoning.org/ontologies/2018/9/colors#from\", \"someValuesFrom\": \"http://www.streamreasoning.org/ontologies/2018/9/colors#Red\"}, {\"@id\": \"http://localhost:8181/d7e45a50-e6e9-4b5f-ba69-036af9ed3f16\", \"@type\": \"http://w3id.org/rsp/vocals#Red\"}, {\"@id\": \"http://www.streamreasoning.org/ontologies/2018/9/colors\", \"@type\": \"http://www.w3.org/2002/07/owl#Ontology\"}, {\"@id\": \"http://www.streamreasoning.org/ontologies/2018/9/colors#Blue\", \"@type\": \"http://www.w3.org/2002/07/owl#Class\", \"subClassOf\": [\"http://www.streamreasoning.org/ontologies/2018/9/colors#Cold\", \"http://www.streamreasoning.org/ontologies/2018/9/colors#Primary\"]}, {\"@id\": \"http://www.streamreasoning.org/ontologies/2018/9/colors#Cold\", \"@type\": \"http://www.w3.org/2002/07/owl#Class\", \"subClassOf\": \"http://www.streamreasoning.org/ontologies/2018/9/colors#Color\"}, {\"@id\": \"http://www.streamreasoning.org/ontologies/2018/9/colors#Color\", \"@type\": \"http://www.w3.org/2002/07/owl#Class\"}, {\"@id\": \"http://www.streamreasoning.org/ontologies/2018/9/colors#Derived\", \"@type\": \"http://www.w3.org/2002/07/owl#Class\", \"subClassOf\": \"http://www.streamreasoning.org/ontologies/2018/9/colors#Color\"}, {\"@id\": \"http://www.streamreasoning.org/ontologies/2018/9/colors#Green\", \"@type\": \"http://www.w3.org/2002/07/owl#Class\", \"subClassOf\": [\"http://www.streamreasoning.org/ontologies/2018/9/colors#Cold\", \"http://www.streamreasoning.org/ontologies/2018/9/colors#Primary\"]}, {\"@id\": \"http://www.streamreasoning.org/ontologies/2018/9/colors#Primary\", \"@type\": \"http://www.w3.org/2002/07/owl#Class\", \"subClassOf\": \"http://www.streamreasoning.org/ontologies/2018/9/colors#Color\"}, {\"@id\": \"http://www.streamreasoning.org/ontologies/2018/9/colors#Red\", \"@type\": \"http://www.w3.org/2002/07/owl#Class\", \"subClassOf\": [\"http://www.streamreasoning.org/ontologies/2018/9/colors#Primary\", \"http://www.streamreasoning.org/ontologies/2018/9/colors#Warm\"]}, {\"@id\": \"http://www.streamreasoning.org/ontologies/2018/9/colors#Warm\", \"@type\": \"http://www.w3.org/2002/07/owl#Class\", \"subClassOf\": \"http://www.streamreasoning.org/ontologies/2018/9/colors#Color\"}, {\"@id\": \"http://www.streamreasoning.org/ontologies/2018/9/colors#Yellow\", \"@type\": \"http://www.w3.org/2002/07/owl#Class\", \"subClassOf\": [\"http://www.streamreasoning.org/ontologies/2018/9/colors#Warm\", \"_:b0\", \"_:b1\"]}, {\"@id\": \"http://www.streamreasoning.org/ontologies/2018/9/colors#from\", \"@type\": \"http://www.w3.org/2002/07/owl#ObjectProperty\", \"domain\": \"http://www.streamreasoning.org/ontologies/2018/9/colors#Derived\", \"range\": \"http://www.streamreasoning.org/ontologies/2018/9/colors#Color\"}, {\"@id\": \"http://www.streamreasoning.org/ontologies/2018/9/colors#o1\", \"@type\": \"http://www.w3.org/2002/07/owl#NamedIndividual\"}], \"@context\": {\"subClassOf\": {\"@id\": \"http://www.w3.org/2000/01/rdf-schema#subClassOf\", \"@type\": \"@id\"}, \"onProperty\": {\"@id\": \"http://www.w3.org/2002/07/owl#onProperty\", \"@type\": \"@id\"}, \"someValuesFrom\": {\"@id\": \"http://www.w3.org/2002/07/owl#someValuesFrom\", \"@type\": \"@id\"}, \"domain\": {\"@id\": \"http://www.w3.org/2000/01/rdf-schema#domain\", \"@type\": \"@id\"}, \"range\": {\"@id\": \"http://www.w3.org/2000/01/rdf-schema#range\", \"@type\": \"@id\"}}}, {\"@graph\": [{\"@id\": \"_:b0\", \"@type\": \"http://www.w3.org/2002/07/owl#Restriction\", \"onProperty\": \"http://www.streamreasoning.org/ontologies/2018/9/colors#from\", \"someValuesFrom\": \"http://www.streamreasoning.org/ontologies/2018/9/colors#Green\"}, {\"@id\": \"_:b1\", \"@type\": \"http://www.w3.org/2002/07/owl#Restriction\", \"onProperty\": \"http://www.streamreasoning.org/ontologies/2018/9/colors#from\", \"someValuesFrom\": \"http://www.streamreasoning.org/ontologies/2018/9/colors#Red\"}, {\"@id\": \"http://localhost:8181/494eb47d-c87f-4b66-b564-74afee58ddcf\", \"@type\": \"http://w3id.org/rsp/vocals#Red\"}, {\"@id\": \"http://localhost:8181/52c2b014-064b-4706-9048-a4974630eeaf\", \"@type\": \"http://w3id.org/rsp/vocals#Red\"}, {\"@id\": \"http://localhost:8181/52ec098f-2724-4ced-8b7a-7c185337b018\", \"@type\": \"http://w3id.org/rsp/vocals#Red\"}, {\"@id\": \"http://localhost:8181/606af75a-e79d-45fa-8da2-a10908a48351\", \"@type\": \"http://w3id.org/rsp/vocals#Red\"}, {\"@id\": \"http://www.streamreasoning.org/ontologies/2018/9/colors\", \"@type\": \"http://www.w3.org/2002/07/owl#Ontology\"}, {\"@id\": \"http://www.streamreasoning.org/ontologies/2018/9/colors#Blue\", \"@type\": \"http://www.w3.org/2002/07/owl#Class\", \"subClassOf\": [\"http://www.streamreasoning.org/ontologies/2018/9/colors#Cold\", \"http://www.streamreasoning.org/ontologies/2018/9/colors#Primary\"]}, {\"@id\": \"http://www.streamreasoning.org/ontologies/2018/9/colors#Cold\", \"@type\": \"http://www.w3.org/2002/07/owl#Class\", \"subClassOf\": \"http://www.streamreasoning.org/ontologies/2018/9/colors#Color\"}, {\"@id\": \"http://www.streamreasoning.org/ontologies/2018/9/colors#Color\", \"@type\": \"http://www.w3.org/2002/07/owl#Class\"}, {\"@id\": \"http://www.streamreasoning.org/ontologies/2018/9/colors#Derived\", \"@type\": \"http://www.w3.org/2002/07/owl#Class\", \"subClassOf\": \"http://www.streamreasoning.org/ontologies/2018/9/colors#Color\"}, {\"@id\": \"http://www.streamreasoning.org/ontologies/2018/9/colors#Green\", \"@type\": \"http://www.w3.org/2002/07/owl#Class\", \"subClassOf\": [\"http://www.streamreasoning.org/ontologies/2018/9/colors#Cold\", \"http://www.streamreasoning.org/ontologies/2018/9/colors#Primary\"]}, {\"@id\": \"http://www.streamreasoning.org/ontologies/2018/9/colors#Primary\", \"@type\": \"http://www.w3.org/2002/07/owl#Class\", \"subClassOf\": \"http://www.streamreasoning.org/ontologies/2018/9/colors#Color\"}, {\"@id\": \"http://www.streamreasoning.org/ontologies/2018/9/colors#Red\", \"@type\": \"http://www.w3.org/2002/07/owl#Class\", \"subClassOf\": [\"http://www.streamreasoning.org/ontologies/2018/9/colors#Primary\", \"http://www.streamreasoning.org/ontologies/2018/9/colors#Warm\"]}, {\"@id\": \"http://www.streamreasoning.org/ontologies/2018/9/colors#Warm\", \"@type\": \"http://www.w3.org/2002/07/owl#Class\", \"subClassOf\": \"http://www.streamreasoning.org/ontologies/2018/9/colors#Color\"}, {\"@id\": \"http://www.streamreasoning.org/ontologies/2018/9/colors#Yellow\", \"@type\": \"http://www.w3.org/2002/07/owl#Class\", \"subClassOf\": [\"http://www.streamreasoning.org/ontologies/2018/9/colors#Warm\", \"_:b0\", \"_:b1\"]}, {\"@id\": \"http://www.streamreasoning.org/ontologies/2018/9/colors#from\", \"@type\": \"http://www.w3.org/2002/07/owl#ObjectProperty\", \"domain\": \"http://www.streamreasoning.org/ontologies/2018/9/colors#Derived\", \"range\": \"http://www.streamreasoning.org/ontologies/2018/9/colors#Color\"}, {\"@id\": \"http://www.streamreasoning.org/ontologies/2018/9/colors#o1\", \"@type\": \"http://www.w3.org/2002/07/owl#NamedIndividual\"}], \"@context\": {\"subClassOf\": {\"@id\": \"http://www.w3.org/2000/01/rdf-schema#subClassOf\", \"@type\": \"@id\"}, \"onProperty\": {\"@id\": \"http://www.w3.org/2002/07/owl#onProperty\", \"@type\": \"@id\"}, \"someValuesFrom\": {\"@id\": \"http://www.w3.org/2002/07/owl#someValuesFrom\", \"@type\": \"@id\"}, \"domain\": {\"@id\": \"http://www.w3.org/2000/01/rdf-schema#domain\", \"@type\": \"@id\"}, \"range\": {\"@id\": \"http://www.w3.org/2000/01/rdf-schema#range\", \"@type\": \"@id\"}}}, {\"@graph\": [{\"@id\": \"_:b0\", \"@type\": \"http://www.w3.org/2002/07/owl#Restriction\", \"onProperty\": \"http://www.streamreasoning.org/ontologies/2018/9/colors#from\", \"someValuesFrom\": \"http://www.streamreasoning.org/ontologies/2018/9/colors#Green\"}, {\"@id\": \"_:b1\", \"@type\": \"http://www.w3.org/2002/07/owl#Restriction\", \"onProperty\": \"http://www.streamreasoning.org/ontologies/2018/9/colors#from\", \"someValuesFrom\": \"http://www.streamreasoning.org/ontologies/2018/9/colors#Red\"}, {\"@id\": \"http://localhost:8181/c960cd63-b5ce-441e-96c2-262edba4c220\", \"@type\": \"http://w3id.org/rsp/vocals#Red\"}, {\"@id\": \"http://www.streamreasoning.org/ontologies/2018/9/colors\", \"@type\": \"http://www.w3.org/2002/07/owl#Ontology\"}, {\"@id\": \"http://www.streamreasoning.org/ontologies/2018/9/colors#Blue\", \"@type\": \"http://www.w3.org/2002/07/owl#Class\", \"subClassOf\": [\"http://www.streamreasoning.org/ontologies/2018/9/colors#Cold\", \"http://www.streamreasoning.org/ontologies/2018/9/colors#Primary\"]}, {\"@id\": \"http://www.streamreasoning.org/ontologies/2018/9/colors#Cold\", \"@type\": \"http://www.w3.org/2002/07/owl#Class\", \"subClassOf\": \"http://www.streamreasoning.org/ontologies/2018/9/colors#Color\"}, {\"@id\": \"http://www.streamreasoning.org/ontologies/2018/9/colors#Color\", \"@type\": \"http://www.w3.org/2002/07/owl#Class\"}, {\"@id\": \"http://www.streamreasoning.org/ontologies/2018/9/colors#Derived\", \"@type\": \"http://www.w3.org/2002/07/owl#Class\", \"subClassOf\": \"http://www.streamreasoning.org/ontologies/2018/9/colors#Color\"}, {\"@id\": \"http://www.streamreasoning.org/ontologies/2018/9/colors#Green\", \"@type\": \"http://www.w3.org/2002/07/owl#Class\", \"subClassOf\": [\"http://www.streamreasoning.org/ontologies/2018/9/colors#Cold\", \"http://www.streamreasoning.org/ontologies/2018/9/colors#Primary\"]}, {\"@id\": \"http://www.streamreasoning.org/ontologies/2018/9/colors#Primary\", \"@type\": \"http://www.w3.org/2002/07/owl#Class\", \"subClassOf\": \"http://www.streamreasoning.org/ontologies/2018/9/colors#Color\"}, {\"@id\": \"http://www.streamreasoning.org/ontologies/2018/9/colors#Red\", \"@type\": \"http://www.w3.org/2002/07/owl#Class\", \"subClassOf\": [\"http://www.streamreasoning.org/ontologies/2018/9/colors#Primary\", \"http://www.streamreasoning.org/ontologies/2018/9/colors#Warm\"]}, {\"@id\": \"http://www.streamreasoning.org/ontologies/2018/9/colors#Warm\", \"@type\": \"http://www.w3.org/2002/07/owl#Class\", \"subClassOf\": \"http://www.streamreasoning.org/ontologies/2018/9/colors#Color\"}, {\"@id\": \"http://www.streamreasoning.org/ontologies/2018/9/colors#Yellow\", \"@type\": \"http://www.w3.org/2002/07/owl#Class\", \"subClassOf\": [\"http://www.streamreasoning.org/ontologies/2018/9/colors#Warm\", \"_:b0\", \"_:b1\"]}, {\"@id\": \"http://www.streamreasoning.org/ontologies/2018/9/colors#from\", \"@type\": \"http://www.w3.org/2002/07/owl#ObjectProperty\", \"domain\": \"http://www.streamreasoning.org/ontologies/2018/9/colors#Derived\", \"range\": \"http://www.streamreasoning.org/ontologies/2018/9/colors#Color\"}, {\"@id\": \"http://www.streamreasoning.org/ontologies/2018/9/colors#o1\", \"@type\": \"http://www.w3.org/2002/07/owl#NamedIndividual\"}], \"@context\": {\"subClassOf\": {\"@id\": \"http://www.w3.org/2000/01/rdf-schema#subClassOf\", \"@type\": \"@id\"}, \"onProperty\": {\"@id\": \"http://www.w3.org/2002/07/owl#onProperty\", \"@type\": \"@id\"}, \"someValuesFrom\": {\"@id\": \"http://www.w3.org/2002/07/owl#someValuesFrom\", \"@type\": \"@id\"}, \"domain\": {\"@id\": \"http://www.w3.org/2000/01/rdf-schema#domain\", \"@type\": \"@id\"}, \"range\": {\"@id\": \"http://www.w3.org/2000/01/rdf-schema#range\", \"@type\": \"@id\"}}}]))\n",
       "        });\n",
       "        "
      ]
     },
     "metadata": {},
     "output_type": "display_data"
    }
   ],
   "source": [
    "RenderJSON(a)"
   ]
  },
  {
   "cell_type": "code",
   "execution_count": null,
   "metadata": {},
   "outputs": [],
   "source": []
  },
  {
   "cell_type": "code",
   "execution_count": 239,
   "metadata": {},
   "outputs": [],
   "source": [
    "g = Graph().parse(data=a, format='json-ld')"
   ]
  },
  {
   "cell_type": "code",
   "execution_count": 240,
   "metadata": {},
   "outputs": [
    {
     "data": {
      "text/plain": [
       "<Graph identifier=N20d79d4182b342cfb038f3b88df20959 (<class 'rdflib.graph.Graph'>)>"
      ]
     },
     "execution_count": 240,
     "metadata": {},
     "output_type": "execute_result"
    }
   ],
   "source": [
    "g"
   ]
  },
  {
   "cell_type": "code",
   "execution_count": 241,
   "metadata": {},
   "outputs": [
    {
     "name": "stdout",
     "output_type": "stream",
     "text": [
      "(rdflib.term.URIRef('http://localhost:8181/jasper/streams/q2'), rdflib.term.Literal('frmt:JSON-LD'), rdflib.term.BNode('N458a702826994fa8b35d0b45b4e772da'), rdflib.term.Literal('ws://localhost:8183/jasper/streams/q2/observers/2107142250', datatype=rdflib.term.URIRef('xsd:string')), rdflib.term.Literal('http://localhost:8181/jasper'))\n"
     ]
    }
   ],
   "source": [
    "qres = g.query('''PREFIX vsd: <http://w3id.org/rsp/vocals-sd#>\n",
    "PREFIX vocals: <http://w3id.org/rsp/vocals#>\n",
    "PREFIX dcat: <http://www.w3.org/ns/dcat#>\n",
    "\n",
    "SELECT *\n",
    "WHERE {\n",
    "\n",
    "    ?stream a vocals:RDFStream ;\n",
    "              vocals:hasEndpoint ?endpoint .\n",
    "\n",
    "    ?endpoint dcat:accessURL ?url ;\n",
    "              dcat:format ?format ;\n",
    "              vsd:publishedBy ?service .\n",
    "\n",
    "\n",
    "\n",
    "}''')\n",
    "\n",
    "for row in qres:\n",
    "    print(row)"
   ]
  },
  {
   "cell_type": "code",
   "execution_count": null,
   "metadata": {},
   "outputs": [],
   "source": []
  }
 ],
 "metadata": {
  "kernelspec": {
   "display_name": "Python 3",
   "language": "python",
   "name": "python3"
  },
  "language_info": {
   "codemirror_mode": {
    "name": "ipython",
    "version": 3
   },
   "file_extension": ".py",
   "mimetype": "text/x-python",
   "name": "python",
   "nbconvert_exporter": "python",
   "pygments_lexer": "ipython3",
   "version": "3.6.2"
  }
 },
 "nbformat": 4,
 "nbformat_minor": 2
}
