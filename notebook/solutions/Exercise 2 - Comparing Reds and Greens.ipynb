{
 "cells": [
  {
   "cell_type": "code",
   "execution_count": 1,
   "metadata": {},
   "outputs": [],
   "source": [
    "from rsplib import RSPEngine, RSPPublisher, Stream, rdf_table,load_graph, accessURL"
   ]
  },
  {
   "cell_type": "code",
   "execution_count": 2,
   "metadata": {},
   "outputs": [],
   "source": [
    "jasper = RSPEngine(\"http://jasper:8181/jasper\")"
   ]
  },
  {
   "cell_type": "code",
   "execution_count": 3,
   "metadata": {},
   "outputs": [
    {
     "data": {
      "text/plain": [
       "[http://shapestream:4000/shapes,\n",
       " http://redstream:1255/red,\n",
       " http://jasper:8181/jasper/streams/redcount,\n",
       " http://jasper:8181/jasper/streams/CntHouses,\n",
       " http://jasper:8181/jasper/streams/assemble,\n",
       " http://jasper:8181/jasper/streams/assemble]"
      ]
     },
     "execution_count": 3,
     "metadata": {},
     "output_type": "execute_result"
    }
   ],
   "source": [
    "jasper.streams()"
   ]
  },
  {
   "cell_type": "code",
   "execution_count": 4,
   "metadata": {},
   "outputs": [
    {
     "data": {
      "text/plain": [
       "[http://jasper:8181/jasper/queries/redcount,\n",
       " http://jasper:8181/jasper/queries/CntHouses,\n",
       " http://jasper:8181/jasper/queries/assemble]"
      ]
     },
     "execution_count": 4,
     "metadata": {},
     "output_type": "execute_result"
    }
   ],
   "source": [
    "jasper.tasks()"
   ]
  },
  {
   "cell_type": "code",
   "execution_count": 5,
   "metadata": {},
   "outputs": [],
   "source": [
    "qid = 'redgreen'\n",
    "tbox = 'https://raw.githubusercontent.com/riccardotommasini/colorwave/master/colors.owl'\n",
    "frmt = 'JSON'\n",
    "body = '''\n",
    "    \n",
    "SELECT (COUNT(?r) AS ?cntr) (count(?g) AS ?cntg) ((?cntr>?cntg) as ?moreRedsThanGreens)\n",
    "FROM NAMED WINDOW <rw> ON <http://redstream:1255/red> [RANGE PT15S STEP PT5S]\n",
    "FROM NAMED WINDOW <gw> ON <http://greenstream:2255/green> [RANGE PT15S STEP PT5S]\n",
    "WHERE {\n",
    "    { WINDOW <rw> { ?r a <http://www.streamreasoning.org/ontologies/2018/9/colors#Red> .} }\n",
    "    UNION \n",
    "    { WINDOW <gw> { ?g a <http://www.streamreasoning.org/ontologies/2018/9/colors#Green> .} }\n",
    "}\n",
    "\n",
    "    '''"
   ]
  },
  {
   "cell_type": "code",
   "execution_count": 6,
   "metadata": {},
   "outputs": [
    {
     "data": {
      "text/html": [
       "<div id=\"197553e9-be5e-4aa2-9c3f-8bc2da4ea507\" style=\"height: 150px; width:100%;\"></div>"
      ]
     },
     "metadata": {},
     "output_type": "display_data"
    },
    {
     "data": {
      "application/javascript": [
       "\n",
       "        require([\"http://localhost:8080/files/renderjson.js\"], function() {\n",
       "          document.getElementById('197553e9-be5e-4aa2-9c3f-8bc2da4ea507').appendChild(renderjson([\n",
       "  {\n",
       "    \"@id\": \"http://jasper:8181/jasper/queries/redgreen\",\n",
       "    \"@type\": [\n",
       "      \"http://w3id.org/rsp/vocals-prov#Task\"\n",
       "    ],\n",
       "    \"http://www.w3.org/ns/prov#generated\": [\n",
       "      {\n",
       "        \"@id\": \"http://jasper:8181/jasper/streams/redgreen\"\n",
       "      }\n",
       "    ],\n",
       "    \"http://www.w3.org/ns/prov#uses\": [\n",
       "      {\n",
       "        \"@id\": \"http://greenstream:2255/green\"\n",
       "      }\n",
       "    ]\n",
       "  }\n",
       "]))\n",
       "        });\n",
       "        "
      ]
     },
     "metadata": {},
     "output_type": "display_data"
    }
   ],
   "source": [
    "jasper.create(qid, body, tbox, frmt)"
   ]
  },
  {
   "cell_type": "code",
   "execution_count": 8,
   "metadata": {},
   "outputs": [],
   "source": [
    "redgreen_q = jasper.getq(qid)"
   ]
  },
  {
   "cell_type": "code",
   "execution_count": 14,
   "metadata": {},
   "outputs": [
    {
     "data": {
      "text/plain": [
       "[http://jasper:8181/jasper/streams/redgreen,\n",
       " http://shapestream:4000/shapes,\n",
       " http://redstream:1255/red,\n",
       " http://greenstream:2255/green,\n",
       " http://jasper:8181/jasper/streams/redcount,\n",
       " http://jasper:8181/jasper/streams/CntHouses,\n",
       " http://jasper:8181/jasper/streams/assemble,\n",
       " http://jasper:8181/jasper/streams/assemble]"
      ]
     },
     "execution_count": 14,
     "metadata": {},
     "output_type": "execute_result"
    }
   ],
   "source": [
    "jasper.streams()"
   ]
  },
  {
   "cell_type": "code",
   "execution_count": 15,
   "metadata": {},
   "outputs": [],
   "source": [
    "redgreen_stream = redgreen_q.stream()"
   ]
  },
  {
   "cell_type": "code",
   "execution_count": 17,
   "metadata": {},
   "outputs": [
    {
     "data": {
      "image/svg+xml": [
       "<?xml version=\"1.0\" encoding=\"UTF-8\" standalone=\"no\"?>\n",
       "<!DOCTYPE svg PUBLIC \"-//W3C//DTD SVG 1.1//EN\"\n",
       " \"http://www.w3.org/Graphics/SVG/1.1/DTD/svg11.dtd\">\n",
       "<!-- Generated by graphviz version 2.40.1 (20161225.0304)\n",
       " -->\n",
       "<!-- Title: %3 Pages: 1 -->\n",
       "<svg class=\"unconfined\" width=\"546pt\" height=\"290pt\"\n",
       " viewBox=\"0.00 0.00 545.50 290.00\" xmlns=\"http://www.w3.org/2000/svg\" xmlns:xlink=\"http://www.w3.org/1999/xlink\">\n",
       "<g id=\"graph0\" class=\"graph\" transform=\"scale(1 1) rotate(0) translate(4 286)\">\n",
       "<title>%3</title>\n",
       "<polygon fill=\"#ffffff\" stroke=\"transparent\" points=\"-4,4 -4,-286 541.5,-286 541.5,4 -4,4\"/>\n",
       "<!-- node0 -->\n",
       "<g id=\"node1\" class=\"node\">\n",
       "<title>node0</title>\n",
       "<g id=\"a_node1\"><a xlink:href=\"http://jasper:8181/jasper/streams/redgreen\" xlink:title=\"redgreen\" target=\"_other\">\n",
       "<text text-anchor=\"middle\" x=\"341\" y=\"-179.5\" font-family=\"DejaVu Sans,Tahoma,Geneva,sans-serif\" font-size=\"10.00\" fill=\"#0000ff\">redgreen</text>\n",
       "</a>\n",
       "</g>\n",
       "</g>\n",
       "<!-- node1 -->\n",
       "<g id=\"node2\" class=\"node\">\n",
       "<title>node1</title>\n",
       "<text text-anchor=\"middle\" x=\"108\" y=\"-97.5\" font-family=\"DejaVu Sans,Tahoma,Geneva,sans-serif\" font-size=\"10.00\" fill=\"#000000\">Nd71e39753beb430d96833010975d25b7</text>\n",
       "</g>\n",
       "<!-- node0&#45;&gt;node1 -->\n",
       "<g id=\"edge1\" class=\"edge\">\n",
       "<title>node0&#45;&gt;node1</title>\n",
       "<g id=\"a_edge1\"><a xlink:href=\"http://w3id.org/rsp/vocals#hasEndpoint\" xlink:title=\"vocals:hasEndpoint\" target=\"_other\">\n",
       "<path fill=\"none\" stroke=\"#9fc9e5\" stroke-opacity=\"0.376471\" d=\"M310.5393,-171.2799C274.7237,-158.6753 214.3953,-137.4439 168.8737,-121.4234\"/>\n",
       "<polygon fill=\"#9fc9e5\" fill-opacity=\"0.376471\" stroke=\"#9fc9e5\" stroke-opacity=\"0.376471\" points=\"159.3987,-118.0888 170.3255,-117.1638 164.1152,-119.7487 168.8316,-121.4086 168.8316,-121.4086 168.8316,-121.4086 164.1152,-119.7487 167.3377,-125.6534 159.3987,-118.0888 159.3987,-118.0888\"/>\n",
       "</a>\n",
       "</g>\n",
       "<g id=\"a_edge1&#45;label\"><a xlink:href=\"http://w3id.org/rsp/vocals#hasEndpoint\" xlink:title=\"vocals:hasEndpoint\" target=\"_other\">\n",
       "<text text-anchor=\"middle\" x=\"284.5\" y=\"-138.8\" font-family=\"Times,serif\" font-size=\"9.00\" fill=\"#204080\">vocals:hasEndpoint</text>\n",
       "</a>\n",
       "</g>\n",
       "</g>\n",
       "<!-- node2 -->\n",
       "<g id=\"node3\" class=\"node\">\n",
       "<title>node2</title>\n",
       "<text text-anchor=\"middle\" x=\"341\" y=\"-97.5\" font-family=\"DejaVu Sans,Tahoma,Geneva,sans-serif\" font-size=\"10.00\" fill=\"#000000\">N2889877a80344692911781032af74b15</text>\n",
       "</g>\n",
       "<!-- node0&#45;&gt;node2 -->\n",
       "<g id=\"edge5\" class=\"edge\">\n",
       "<title>node0&#45;&gt;node2</title>\n",
       "<g id=\"a_edge5\"><a xlink:href=\"http://w3id.org/rsp/vocals#hasEndpoint\" xlink:title=\"vocals:hasEndpoint\" target=\"_other\">\n",
       "<path fill=\"none\" stroke=\"#9fc9e5\" stroke-opacity=\"0.376471\" d=\"M341,-163.8015C341,-153.3976 341,-140.1215 341,-128.3768\"/>\n",
       "<polygon fill=\"#9fc9e5\" fill-opacity=\"0.376471\" stroke=\"#9fc9e5\" stroke-opacity=\"0.376471\" points=\"341,-118.1476 345.5001,-128.1475 341,-123.1476 341.0001,-128.1476 341.0001,-128.1476 341.0001,-128.1476 341,-123.1476 336.5001,-128.1476 341,-118.1476 341,-118.1476\"/>\n",
       "</a>\n",
       "</g>\n",
       "<g id=\"a_edge5&#45;label\"><a xlink:href=\"http://w3id.org/rsp/vocals#hasEndpoint\" xlink:title=\"vocals:hasEndpoint\" target=\"_other\">\n",
       "<text text-anchor=\"middle\" x=\"386.5\" y=\"-138.8\" font-family=\"Times,serif\" font-size=\"9.00\" fill=\"#204080\">vocals:hasEndpoint</text>\n",
       "</a>\n",
       "</g>\n",
       "</g>\n",
       "<!-- node6 -->\n",
       "<g id=\"node7\" class=\"node\">\n",
       "<title>node6</title>\n",
       "<g id=\"a_node7\"><a xlink:href=\"http://w3id.org/rsp/vocals#RDFStream\" xlink:title=\"RDFStream\" target=\"_other\">\n",
       "<text text-anchor=\"middle\" x=\"502\" y=\"-97.5\" font-family=\"DejaVu Sans,Tahoma,Geneva,sans-serif\" font-size=\"10.00\" fill=\"#0000ff\">RDFStream</text>\n",
       "</a>\n",
       "</g>\n",
       "</g>\n",
       "<!-- node0&#45;&gt;node6 -->\n",
       "<g id=\"edge7\" class=\"edge\">\n",
       "<title>node0&#45;&gt;node6</title>\n",
       "<g id=\"a_edge7\"><a xlink:href=\"http://www.w3.org/1999/02/22-rdf-syntax-ns#type\" xlink:title=\"rdf:type\" target=\"_other\">\n",
       "<path fill=\"none\" stroke=\"#9fc9e5\" stroke-opacity=\"0.376471\" d=\"M371.0777,-167.6793C374.0715,-166.3864 377.0819,-165.1376 380,-164 404.3577,-154.5048 412.5727,-157.6025 436,-146 448.1473,-139.984 460.5704,-131.9179 471.3141,-124.2209\"/>\n",
       "<polygon fill=\"#9fc9e5\" fill-opacity=\"0.376471\" stroke=\"#9fc9e5\" stroke-opacity=\"0.376471\" points=\"479.533,-118.1733 474.1454,-127.7245 475.5057,-121.1366 471.4784,-124.1 471.4784,-124.1 471.4784,-124.1 475.5057,-121.1366 468.8115,-120.4754 479.533,-118.1733 479.533,-118.1733\"/>\n",
       "</a>\n",
       "</g>\n",
       "<g id=\"a_edge7&#45;label\"><a xlink:href=\"http://www.w3.org/1999/02/22-rdf-syntax-ns#type\" xlink:title=\"rdf:type\" target=\"_other\">\n",
       "<text text-anchor=\"middle\" x=\"471.5\" y=\"-138.8\" font-family=\"Times,serif\" font-size=\"9.00\" fill=\"#204080\">rdf:type</text>\n",
       "</a>\n",
       "</g>\n",
       "</g>\n",
       "<!-- node3 -->\n",
       "<g id=\"node4\" class=\"node\">\n",
       "<title>node3</title>\n",
       "<g id=\"a_node4\"><a xlink:href=\"http://w3id.org/rsp/vocals#StreamEndpoint\" xlink:title=\"StreamEndpoint\" target=\"_other\">\n",
       "<text text-anchor=\"middle\" x=\"224\" y=\"-15.5\" font-family=\"DejaVu Sans,Tahoma,Geneva,sans-serif\" font-size=\"10.00\" fill=\"#0000ff\">StreamEndpoint</text>\n",
       "</a>\n",
       "</g>\n",
       "</g>\n",
       "<!-- node1&#45;&gt;node3 -->\n",
       "<g id=\"edge3\" class=\"edge\">\n",
       "<title>node1&#45;&gt;node3</title>\n",
       "<g id=\"a_edge3\"><a xlink:href=\"http://www.w3.org/1999/02/22-rdf-syntax-ns#type\" xlink:title=\"rdf:type\" target=\"_other\">\n",
       "<path fill=\"none\" stroke=\"#9fc9e5\" stroke-opacity=\"0.376471\" d=\"M133.7442,-81.8015C150.2641,-70.1237 171.903,-54.8272 189.8517,-42.1393\"/>\n",
       "<polygon fill=\"#9fc9e5\" fill-opacity=\"0.376471\" stroke=\"#9fc9e5\" stroke-opacity=\"0.376471\" points=\"198.3278,-36.1476 192.7596,-45.5946 194.2449,-39.0338 190.162,-41.92 190.162,-41.92 190.162,-41.92 194.2449,-39.0338 187.5644,-38.2454 198.3278,-36.1476 198.3278,-36.1476\"/>\n",
       "</a>\n",
       "</g>\n",
       "<g id=\"a_edge3&#45;label\"><a xlink:href=\"http://www.w3.org/1999/02/22-rdf-syntax-ns#type\" xlink:title=\"rdf:type\" target=\"_other\">\n",
       "<text text-anchor=\"middle\" x=\"191.5\" y=\"-56.8\" font-family=\"Times,serif\" font-size=\"9.00\" fill=\"#204080\">rdf:type</text>\n",
       "</a>\n",
       "</g>\n",
       "</g>\n",
       "<!-- node2&#45;&gt;node3 -->\n",
       "<g id=\"edge2\" class=\"edge\">\n",
       "<title>node2&#45;&gt;node3</title>\n",
       "<g id=\"a_edge2\"><a xlink:href=\"http://www.w3.org/1999/02/22-rdf-syntax-ns#type\" xlink:title=\"rdf:type\" target=\"_other\">\n",
       "<path fill=\"none\" stroke=\"#9fc9e5\" stroke-opacity=\"0.376471\" d=\"M315.0339,-81.8015C298.3716,-70.1237 276.5461,-54.8272 258.4427,-42.1393\"/>\n",
       "<polygon fill=\"#9fc9e5\" fill-opacity=\"0.376471\" stroke=\"#9fc9e5\" stroke-opacity=\"0.376471\" points=\"249.8935,-36.1476 260.6653,-38.2019 253.988,-39.0173 258.0826,-41.8869 258.0826,-41.8869 258.0826,-41.8869 253.988,-39.0173 255.4998,-45.572 249.8935,-36.1476 249.8935,-36.1476\"/>\n",
       "</a>\n",
       "</g>\n",
       "<g id=\"a_edge2&#45;label\"><a xlink:href=\"http://www.w3.org/1999/02/22-rdf-syntax-ns#type\" xlink:title=\"rdf:type\" target=\"_other\">\n",
       "<text text-anchor=\"middle\" x=\"308.5\" y=\"-56.8\" font-family=\"Times,serif\" font-size=\"9.00\" fill=\"#204080\">rdf:type</text>\n",
       "</a>\n",
       "</g>\n",
       "</g>\n",
       "<!-- node4 -->\n",
       "<g id=\"node5\" class=\"node\">\n",
       "<title>node4</title>\n",
       "<text text-anchor=\"middle\" x=\"390\" y=\"-261.5\" font-family=\"DejaVu Sans,Tahoma,Geneva,sans-serif\" font-size=\"10.00\" fill=\"#000000\">N9f2ff9671f124cd7915347baf08709d9</text>\n",
       "</g>\n",
       "<!-- node4&#45;&gt;node0 -->\n",
       "<g id=\"edge4\" class=\"edge\">\n",
       "<title>node4&#45;&gt;node0</title>\n",
       "<g id=\"a_edge4\"><a xlink:href=\"http://www.w3.org/ns/dcat#dataset\" xlink:title=\"dcat:dataset\" target=\"_other\">\n",
       "<path fill=\"none\" stroke=\"#9fc9e5\" stroke-opacity=\"0.376471\" d=\"M372.9788,-245.7555C368.402,-240.2979 363.7007,-234.1288 360,-228 356.5415,-222.2722 353.4368,-215.8005 350.7883,-209.5592\"/>\n",
       "<polygon fill=\"#9fc9e5\" fill-opacity=\"0.376471\" stroke=\"#9fc9e5\" stroke-opacity=\"0.376471\" points=\"347.0167,-200.0809 354.8951,-207.7086 348.8653,-204.7267 350.714,-209.3724 350.714,-209.3724 350.714,-209.3724 348.8653,-204.7267 346.5329,-211.0362 347.0167,-200.0809 347.0167,-200.0809\"/>\n",
       "</a>\n",
       "</g>\n",
       "<g id=\"a_edge4&#45;label\"><a xlink:href=\"http://www.w3.org/ns/dcat#dataset\" xlink:title=\"dcat:dataset\" target=\"_other\">\n",
       "<text text-anchor=\"middle\" x=\"389\" y=\"-220.8\" font-family=\"Times,serif\" font-size=\"9.00\" fill=\"#204080\">dcat:dataset</text>\n",
       "</a>\n",
       "</g>\n",
       "</g>\n",
       "<!-- node5 -->\n",
       "<g id=\"node6\" class=\"node\">\n",
       "<title>node5</title>\n",
       "<g id=\"a_node6\"><a xlink:href=\"http://w3id.org/rsp/vocals#StreamDescriptor\" xlink:title=\"StreamDescriptor\" target=\"_other\">\n",
       "<text text-anchor=\"middle\" x=\"440\" y=\"-179.5\" font-family=\"DejaVu Sans,Tahoma,Geneva,sans-serif\" font-size=\"10.00\" fill=\"#0000ff\">StreamDescriptor</text>\n",
       "</a>\n",
       "</g>\n",
       "</g>\n",
       "<!-- node4&#45;&gt;node5 -->\n",
       "<g id=\"edge6\" class=\"edge\">\n",
       "<title>node4&#45;&gt;node5</title>\n",
       "<g id=\"a_edge6\"><a xlink:href=\"http://www.w3.org/1999/02/22-rdf-syntax-ns#type\" xlink:title=\"rdf:type\" target=\"_other\">\n",
       "<path fill=\"none\" stroke=\"#9fc9e5\" stroke-opacity=\"0.376471\" d=\"M405.3254,-245.8663C409.6807,-240.3109 414.2536,-234.0618 418,-228 421.5429,-222.2675 424.924,-215.8767 427.9264,-209.7261\"/>\n",
       "<polygon fill=\"#9fc9e5\" fill-opacity=\"0.376471\" stroke=\"#9fc9e5\" stroke-opacity=\"0.376471\" points=\"432.3014,-200.3875 432.134,-211.3521 430.1802,-204.9153 428.059,-209.443 428.059,-209.443 428.059,-209.443 430.1802,-204.9153 423.984,-207.5339 432.3014,-200.3875 432.3014,-200.3875\"/>\n",
       "</a>\n",
       "</g>\n",
       "<g id=\"a_edge6&#45;label\"><a xlink:href=\"http://www.w3.org/1999/02/22-rdf-syntax-ns#type\" xlink:title=\"rdf:type\" target=\"_other\">\n",
       "<text text-anchor=\"middle\" x=\"441.5\" y=\"-220.8\" font-family=\"Times,serif\" font-size=\"9.00\" fill=\"#204080\">rdf:type</text>\n",
       "</a>\n",
       "</g>\n",
       "</g>\n",
       "</g>\n",
       "</svg>\n"
      ]
     },
     "metadata": {},
     "output_type": "display_data"
    }
   ],
   "source": [
    "from rsplib.drawgraph import draw_graph\n",
    "from IPython.display import display_html, Javascript, SVG, Image, display_svg,display_png\n",
    "\n",
    "data, metadata = draw_graph(redgreen_stream.g, 'svg')\n",
    "display_svg(data['image/svg+xml'], raw=True)"
   ]
  },
  {
   "cell_type": "code",
   "execution_count": 12,
   "metadata": {},
   "outputs": [],
   "source": [
    "r = jasper.expose(qid, 'HTTP', retention=5)"
   ]
  },
  {
   "cell_type": "code",
   "execution_count": 19,
   "metadata": {},
   "outputs": [],
   "source": [
    "endpoint = redgreen_stream.endpoints()[0]\n"
   ]
  },
  {
   "cell_type": "code",
   "execution_count": 20,
   "metadata": {},
   "outputs": [],
   "source": [
    "resp = endpoint.call()"
   ]
  },
  {
   "cell_type": "code",
   "execution_count": 21,
   "metadata": {},
   "outputs": [
    {
     "data": {
      "text/html": [
       "<div id=\"8f81b6af-7dfe-4e75-aa3d-c9c6f287eb79\" style=\"height: 150px; width:100%;\"></div>"
      ]
     },
     "metadata": {},
     "output_type": "display_data"
    },
    {
     "data": {
      "application/javascript": [
       "\n",
       "        require([\"http://localhost:8080/files/renderjson.js\"], function() {\n",
       "          document.getElementById('8f81b6af-7dfe-4e75-aa3d-c9c6f287eb79').appendChild(renderjson([{\"head\": {\"vars\": [\"cntr\", \"cntg\", \"moreRedsThanGreens\"]}, \"results\": {\"bindings\": [{\"cntr\": {\"type\": \"literal\", \"datatype\": \"http://www.w3.org/2001/XMLSchema#integer\", \"value\": \"2\"}, \"cntg\": {\"type\": \"literal\", \"datatype\": \"http://www.w3.org/2001/XMLSchema#integer\", \"value\": \"8\"}, \"moreRedsThanGreens\": {\"type\": \"literal\", \"datatype\": \"http://www.w3.org/2001/XMLSchema#boolean\", \"value\": \"false\"}}]}}, {\"head\": {\"vars\": [\"cntr\", \"cntg\", \"moreRedsThanGreens\"]}, \"results\": {\"bindings\": [{\"cntr\": {\"type\": \"literal\", \"datatype\": \"http://www.w3.org/2001/XMLSchema#integer\", \"value\": \"2\"}, \"cntg\": {\"type\": \"literal\", \"datatype\": \"http://www.w3.org/2001/XMLSchema#integer\", \"value\": \"7\"}, \"moreRedsThanGreens\": {\"type\": \"literal\", \"datatype\": \"http://www.w3.org/2001/XMLSchema#boolean\", \"value\": \"false\"}}]}}, {\"head\": {\"vars\": [\"cntr\", \"cntg\", \"moreRedsThanGreens\"]}, \"results\": {\"bindings\": [{\"cntr\": {\"type\": \"literal\", \"datatype\": \"http://www.w3.org/2001/XMLSchema#integer\", \"value\": \"2\"}, \"cntg\": {\"type\": \"literal\", \"datatype\": \"http://www.w3.org/2001/XMLSchema#integer\", \"value\": \"7\"}, \"moreRedsThanGreens\": {\"type\": \"literal\", \"datatype\": \"http://www.w3.org/2001/XMLSchema#boolean\", \"value\": \"false\"}}]}}, {\"head\": {\"vars\": [\"cntr\", \"cntg\", \"moreRedsThanGreens\"]}, \"results\": {\"bindings\": [{\"cntr\": {\"type\": \"literal\", \"datatype\": \"http://www.w3.org/2001/XMLSchema#integer\", \"value\": \"2\"}, \"cntg\": {\"type\": \"literal\", \"datatype\": \"http://www.w3.org/2001/XMLSchema#integer\", \"value\": \"5\"}, \"moreRedsThanGreens\": {\"type\": \"literal\", \"datatype\": \"http://www.w3.org/2001/XMLSchema#boolean\", \"value\": \"false\"}}]}}, {\"head\": {\"vars\": [\"cntr\", \"cntg\", \"moreRedsThanGreens\"]}, \"results\": {\"bindings\": [{\"cntr\": {\"type\": \"literal\", \"datatype\": \"http://www.w3.org/2001/XMLSchema#integer\", \"value\": \"2\"}, \"cntg\": {\"type\": \"literal\", \"datatype\": \"http://www.w3.org/2001/XMLSchema#integer\", \"value\": \"6\"}, \"moreRedsThanGreens\": {\"type\": \"literal\", \"datatype\": \"http://www.w3.org/2001/XMLSchema#boolean\", \"value\": \"false\"}}]}}]))\n",
       "        });\n",
       "        "
      ]
     },
     "metadata": {},
     "output_type": "display_data"
    }
   ],
   "source": [
    "resp"
   ]
  },
  {
   "cell_type": "code",
   "execution_count": 22,
   "metadata": {},
   "outputs": [
    {
     "data": {
      "text/html": [
       "<div>\n",
       "<style scoped>\n",
       "    .dataframe tbody tr th:only-of-type {\n",
       "        vertical-align: middle;\n",
       "    }\n",
       "\n",
       "    .dataframe tbody tr th {\n",
       "        vertical-align: top;\n",
       "    }\n",
       "\n",
       "    .dataframe thead th {\n",
       "        text-align: right;\n",
       "    }\n",
       "</style>\n",
       "<table border=\"1\" class=\"dataframe\">\n",
       "  <thead>\n",
       "    <tr style=\"text-align: right;\">\n",
       "      <th></th>\n",
       "      <th>head_vars_0</th>\n",
       "      <th>head_vars_1</th>\n",
       "      <th>head_vars_2</th>\n",
       "      <th>results_bindings_0_cntg_datatype</th>\n",
       "      <th>results_bindings_0_cntg_type</th>\n",
       "      <th>results_bindings_0_cntg_value</th>\n",
       "      <th>results_bindings_0_cntr_datatype</th>\n",
       "      <th>results_bindings_0_cntr_type</th>\n",
       "      <th>results_bindings_0_cntr_value</th>\n",
       "      <th>results_bindings_0_moreRedsThanGreens_datatype</th>\n",
       "      <th>results_bindings_0_moreRedsThanGreens_type</th>\n",
       "      <th>results_bindings_0_moreRedsThanGreens_value</th>\n",
       "    </tr>\n",
       "  </thead>\n",
       "  <tbody>\n",
       "    <tr>\n",
       "      <th>0</th>\n",
       "      <td>cntr</td>\n",
       "      <td>cntg</td>\n",
       "      <td>moreRedsThanGreens</td>\n",
       "      <td>http://www.w3.org/2001/XMLSchema#integer</td>\n",
       "      <td>literal</td>\n",
       "      <td>8</td>\n",
       "      <td>http://www.w3.org/2001/XMLSchema#integer</td>\n",
       "      <td>literal</td>\n",
       "      <td>2</td>\n",
       "      <td>http://www.w3.org/2001/XMLSchema#boolean</td>\n",
       "      <td>literal</td>\n",
       "      <td>false</td>\n",
       "    </tr>\n",
       "    <tr>\n",
       "      <th>1</th>\n",
       "      <td>cntr</td>\n",
       "      <td>cntg</td>\n",
       "      <td>moreRedsThanGreens</td>\n",
       "      <td>http://www.w3.org/2001/XMLSchema#integer</td>\n",
       "      <td>literal</td>\n",
       "      <td>7</td>\n",
       "      <td>http://www.w3.org/2001/XMLSchema#integer</td>\n",
       "      <td>literal</td>\n",
       "      <td>2</td>\n",
       "      <td>http://www.w3.org/2001/XMLSchema#boolean</td>\n",
       "      <td>literal</td>\n",
       "      <td>false</td>\n",
       "    </tr>\n",
       "    <tr>\n",
       "      <th>2</th>\n",
       "      <td>cntr</td>\n",
       "      <td>cntg</td>\n",
       "      <td>moreRedsThanGreens</td>\n",
       "      <td>http://www.w3.org/2001/XMLSchema#integer</td>\n",
       "      <td>literal</td>\n",
       "      <td>7</td>\n",
       "      <td>http://www.w3.org/2001/XMLSchema#integer</td>\n",
       "      <td>literal</td>\n",
       "      <td>2</td>\n",
       "      <td>http://www.w3.org/2001/XMLSchema#boolean</td>\n",
       "      <td>literal</td>\n",
       "      <td>false</td>\n",
       "    </tr>\n",
       "    <tr>\n",
       "      <th>3</th>\n",
       "      <td>cntr</td>\n",
       "      <td>cntg</td>\n",
       "      <td>moreRedsThanGreens</td>\n",
       "      <td>http://www.w3.org/2001/XMLSchema#integer</td>\n",
       "      <td>literal</td>\n",
       "      <td>5</td>\n",
       "      <td>http://www.w3.org/2001/XMLSchema#integer</td>\n",
       "      <td>literal</td>\n",
       "      <td>2</td>\n",
       "      <td>http://www.w3.org/2001/XMLSchema#boolean</td>\n",
       "      <td>literal</td>\n",
       "      <td>false</td>\n",
       "    </tr>\n",
       "    <tr>\n",
       "      <th>4</th>\n",
       "      <td>cntr</td>\n",
       "      <td>cntg</td>\n",
       "      <td>moreRedsThanGreens</td>\n",
       "      <td>http://www.w3.org/2001/XMLSchema#integer</td>\n",
       "      <td>literal</td>\n",
       "      <td>6</td>\n",
       "      <td>http://www.w3.org/2001/XMLSchema#integer</td>\n",
       "      <td>literal</td>\n",
       "      <td>2</td>\n",
       "      <td>http://www.w3.org/2001/XMLSchema#boolean</td>\n",
       "      <td>literal</td>\n",
       "      <td>false</td>\n",
       "    </tr>\n",
       "  </tbody>\n",
       "</table>\n",
       "</div>"
      ],
      "text/plain": [
       "  head_vars_0 head_vars_1         head_vars_2  \\\n",
       "0        cntr        cntg  moreRedsThanGreens   \n",
       "1        cntr        cntg  moreRedsThanGreens   \n",
       "2        cntr        cntg  moreRedsThanGreens   \n",
       "3        cntr        cntg  moreRedsThanGreens   \n",
       "4        cntr        cntg  moreRedsThanGreens   \n",
       "\n",
       "           results_bindings_0_cntg_datatype results_bindings_0_cntg_type  \\\n",
       "0  http://www.w3.org/2001/XMLSchema#integer                      literal   \n",
       "1  http://www.w3.org/2001/XMLSchema#integer                      literal   \n",
       "2  http://www.w3.org/2001/XMLSchema#integer                      literal   \n",
       "3  http://www.w3.org/2001/XMLSchema#integer                      literal   \n",
       "4  http://www.w3.org/2001/XMLSchema#integer                      literal   \n",
       "\n",
       "   results_bindings_0_cntg_value          results_bindings_0_cntr_datatype  \\\n",
       "0                              8  http://www.w3.org/2001/XMLSchema#integer   \n",
       "1                              7  http://www.w3.org/2001/XMLSchema#integer   \n",
       "2                              7  http://www.w3.org/2001/XMLSchema#integer   \n",
       "3                              5  http://www.w3.org/2001/XMLSchema#integer   \n",
       "4                              6  http://www.w3.org/2001/XMLSchema#integer   \n",
       "\n",
       "  results_bindings_0_cntr_type  results_bindings_0_cntr_value  \\\n",
       "0                      literal                              2   \n",
       "1                      literal                              2   \n",
       "2                      literal                              2   \n",
       "3                      literal                              2   \n",
       "4                      literal                              2   \n",
       "\n",
       "  results_bindings_0_moreRedsThanGreens_datatype  \\\n",
       "0       http://www.w3.org/2001/XMLSchema#boolean   \n",
       "1       http://www.w3.org/2001/XMLSchema#boolean   \n",
       "2       http://www.w3.org/2001/XMLSchema#boolean   \n",
       "3       http://www.w3.org/2001/XMLSchema#boolean   \n",
       "4       http://www.w3.org/2001/XMLSchema#boolean   \n",
       "\n",
       "  results_bindings_0_moreRedsThanGreens_type  \\\n",
       "0                                    literal   \n",
       "1                                    literal   \n",
       "2                                    literal   \n",
       "3                                    literal   \n",
       "4                                    literal   \n",
       "\n",
       "  results_bindings_0_moreRedsThanGreens_value  \n",
       "0                                       false  \n",
       "1                                       false  \n",
       "2                                       false  \n",
       "3                                       false  \n",
       "4                                       false  "
      ]
     },
     "execution_count": 22,
     "metadata": {},
     "output_type": "execute_result"
    }
   ],
   "source": [
    "df = resp.flatten()\n",
    "df = df.dataframe(['results_bindings_0_cntg_value', 'results_bindings_0_cntr_value'])\n",
    "df"
   ]
  },
  {
   "cell_type": "code",
   "execution_count": 23,
   "metadata": {},
   "outputs": [
    {
     "data": {
      "image/png": "[encoded data removed]",
      "text/plain": [
       "<Figure size 360x360 with 1 Axes>"
      ]
     },
     "metadata": {},
     "output_type": "display_data"
    }
   ],
   "source": [
    "%matplotlib inline\n",
    "import pandas as pd\n",
    "\n",
    "df1 = df[['results_bindings_0_cntg_value','results_bindings_0_cntr_value']]\n",
    "cntg_mean = df1['results_bindings_0_cntg_value'].mean()\n",
    "cntr_mean = df1['results_bindings_0_cntr_value'].mean()\n",
    "\n",
    "df = pd.DataFrame({'means': [cntg_mean, cntr_mean]}, index=['red', 'green'])\n",
    "plot = df.plot.pie(y='means', colors=[\"#e10000\", \"#00e100\"], figsize=(5, 5))"
   ]
  },
  {
   "cell_type": "code",
   "execution_count": 27,
   "metadata": {},
   "outputs": [
    {
     "data": {
      "text/plain": [
       "<matplotlib.axes._subplots.AxesSubplot at 0x7fdbde4a95f8>"
      ]
     },
     "execution_count": 27,
     "metadata": {},
     "output_type": "execute_result"
    },
    {
     "data": {
      "image/png": "[encoded data removed]",
      "text/plain": [
       "<Figure size 432x288 with 1 Axes>"
      ]
     },
     "metadata": {},
     "output_type": "display_data"
    }
   ],
   "source": [
    "df1.plot.bar(color=[\"#e10000\", \"#00e100\"])"
   ]
  },
  {
   "cell_type": "code",
   "execution_count": null,
   "metadata": {},
   "outputs": [],
   "source": []
  }
 ],
 "metadata": {
  "kernelspec": {
   "display_name": "Python 3",
   "language": "python",
   "name": "python3"
  },
  "language_info": {
   "codemirror_mode": {
    "name": "ipython",
    "version": 3
   },
   "file_extension": ".py",
   "mimetype": "text/x-python",
   "name": "python",
   "nbconvert_exporter": "python",
   "pygments_lexer": "ipython3",
   "version": "3.6.3"
  }
 },
 "nbformat": 4,
 "nbformat_minor": 2
}
