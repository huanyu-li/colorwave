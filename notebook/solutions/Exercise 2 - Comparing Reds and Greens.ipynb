{
 "cells": [
  {
   "cell_type": "code",
   "execution_count": 2,
   "metadata": {},
   "outputs": [],
   "source": [
    "from rsplib import RSPEngine, RSPPublisher, Stream, rdf_table,load_graph, accessURL"
   ]
  },
  {
   "cell_type": "code",
   "execution_count": 3,
   "metadata": {},
   "outputs": [],
   "source": [
    "jasper = RSPEngine(\"http://jasper:8181/jasper\")"
   ]
  },
  {
   "cell_type": "code",
   "execution_count": 4,
   "metadata": {},
   "outputs": [
    {
     "data": {
      "text/plain": [
       "[http://redstream:1255/red, http://jasper:8181/jasper/streams/redcount]"
      ]
     },
     "execution_count": 4,
     "metadata": {},
     "output_type": "execute_result"
    }
   ],
   "source": [
    "jasper.streams()"
   ]
  },
  {
   "cell_type": "code",
   "execution_count": 5,
   "metadata": {},
   "outputs": [
    {
     "data": {
      "text/plain": [
       "[http://jasper:8181/jasper/queries/redcount]"
      ]
     },
     "execution_count": 5,
     "metadata": {},
     "output_type": "execute_result"
    }
   ],
   "source": [
    "jasper.tasks()"
   ]
  },
  {
   "cell_type": "code",
   "execution_count": 6,
   "metadata": {},
   "outputs": [],
   "source": [
    "qid = 'redgreen'\n",
    "tbox = 'https://raw.githubusercontent.com/riccardotommasini/colorwave/master/colors.owl'\n",
    "frmt = 'JSON'\n",
    "body = '''\n",
    "    \n",
    "SELECT (COUNT(?r) AS ?cntr) (count(?g) AS ?cntg) ((?cntr>?cntg) as ?moreRedsThanGreens)\n",
    "FROM NAMED WINDOW <rw> ON <http://redstream:1255/red> [RANGE PT15S STEP PT5S]\n",
    "FROM NAMED WINDOW <gw> ON <http://greenstream:2255/green> [RANGE PT15S STEP PT5S]\n",
    "WHERE {\n",
    "    { WINDOW <rw> { ?r a <http://www.streamreasoning.org/ontologies/2018/9/colors#Red> .} }\n",
    "    UNION \n",
    "    { WINDOW <gw> { ?g a <http://www.streamreasoning.org/ontologies/2018/9/colors#Green> .} }\n",
    "}\n",
    "\n",
    "    '''"
   ]
  },
  {
   "cell_type": "code",
   "execution_count": 7,
   "metadata": {},
   "outputs": [
    {
     "data": {
      "text/html": [
       "<div id=\"c348d9d6-d8b0-4098-a510-a48263ff60a5\" style=\"height: 150px; width:100%;\"></div>"
      ]
     },
     "metadata": {},
     "output_type": "display_data"
    },
    {
     "data": {
      "application/javascript": [
       "\n",
       "        require([\"http://localhost:8080/files/renderjson.js\"], function() {\n",
       "          document.getElementById('c348d9d6-d8b0-4098-a510-a48263ff60a5').appendChild(renderjson([\n",
       "  {\n",
       "    \"@id\": \"http://jasper:8181/jasper/queries/redgreen\",\n",
       "    \"@type\": [\n",
       "      \"http://w3id.org/rsp/vocals-prov#Task\"\n",
       "    ],\n",
       "    \"http://www.w3.org/ns/prov#generated\": [\n",
       "      {\n",
       "        \"@id\": \"http://jasper:8181/jasper/streams/redgreen\"\n",
       "      }\n",
       "    ],\n",
       "    \"http://www.w3.org/ns/prov#uses\": [\n",
       "      {\n",
       "        \"@id\": \"http://greenstream:2255/green\"\n",
       "      }\n",
       "    ]\n",
       "  }\n",
       "]))\n",
       "        });\n",
       "        "
      ]
     },
     "metadata": {},
     "output_type": "display_data"
    }
   ],
   "source": [
    "jasper.create(qid, body, tbox, frmt)"
   ]
  },
  {
   "cell_type": "code",
   "execution_count": 8,
   "metadata": {},
   "outputs": [
    {
     "data": {
      "text/plain": [
       "[http://redstream:1255/red,\n",
       " http://greenstream:2255/green,\n",
       " http://jasper:8181/jasper/streams/redgreen,\n",
       " http://jasper:8181/jasper/streams/redcount]"
      ]
     },
     "execution_count": 8,
     "metadata": {},
     "output_type": "execute_result"
    }
   ],
   "source": [
    "jasper.streams()"
   ]
  },
  {
   "cell_type": "code",
   "execution_count": 9,
   "metadata": {},
   "outputs": [],
   "source": [
    "redgreen = jasper.streams()[3]"
   ]
  },
  {
   "cell_type": "code",
   "execution_count": 10,
   "metadata": {},
   "outputs": [],
   "source": [
    "r = jasper.expose(qid, 'HTTP', retention=5)"
   ]
  },
  {
   "cell_type": "code",
   "execution_count": 11,
   "metadata": {},
   "outputs": [
    {
     "data": {
      "text/html": [
       "<div id=\"4ff255e0-30da-488f-a0b5-96e75fe14d51\" style=\"height: 150px; width:100%;\"></div>"
      ]
     },
     "metadata": {},
     "output_type": "display_data"
    },
    {
     "data": {
      "application/javascript": [
       "\n",
       "        require([\"http://localhost:8080/files/renderjson.js\"], function() {\n",
       "          document.getElementById('4ff255e0-30da-488f-a0b5-96e75fe14d51').appendChild(renderjson([\n",
       "  {\n",
       "    \"@id\": \"_:N453e87da29734972a25c61c810516ca6\",\n",
       "    \"@type\": [\n",
       "      \"http://w3id.org/rsp/vocals#StreamDescriptor\"\n",
       "    ],\n",
       "    \"http://www.w3.org/ns/dcat#dataset\": [\n",
       "      {\n",
       "        \"@id\": \"http://jasper:8181/jasper/streams/redgreen\"\n",
       "      }\n",
       "    ]\n",
       "  },\n",
       "  {\n",
       "    \"@id\": \"http://jasper:8181/jasper/streams/redgreen\",\n",
       "    \"@type\": [\n",
       "      \"http://w3id.org/rsp/vocals#RDFStream\"\n",
       "    ],\n",
       "    \"http://w3id.org/rsp/vocals#hasEndpoint\": [\n",
       "      {\n",
       "        \"@id\": \"_:N9b839bca2d304dcd9cd0190a1ab2c3a8\"\n",
       "      }\n",
       "    ]\n",
       "  },\n",
       "  {\n",
       "    \"@id\": \"_:N9b839bca2d304dcd9cd0190a1ab2c3a8\",\n",
       "    \"@type\": [\n",
       "      \"http://w3id.org/rsp/vocals#StreamEndpoint\"\n",
       "    ],\n",
       "    \"http://www.w3.org/ns/dcat#accessURL\": [\n",
       "      {\n",
       "        \"@value\": \"http://jasper:8183/jasper/streams/redgreen/observers/1401278871\"\n",
       "      }\n",
       "    ]\n",
       "  }\n",
       "]))\n",
       "        });\n",
       "        "
      ]
     },
     "metadata": {},
     "output_type": "display_data"
    }
   ],
   "source": [
    "r"
   ]
  },
  {
   "cell_type": "code",
   "execution_count": 12,
   "metadata": {},
   "outputs": [
    {
     "data": {
      "text/html": [
       "<div id=\"015ec7fd-fda4-4bad-92b8-e98aab5f33d6\" style=\"height: 150px; width:100%;\"></div>"
      ]
     },
     "metadata": {},
     "output_type": "display_data"
    },
    {
     "data": {
      "application/javascript": [
       "\n",
       "        require([\"http://localhost:8080/files/renderjson.js\"], function() {\n",
       "          document.getElementById('015ec7fd-fda4-4bad-92b8-e98aab5f33d6').appendChild(renderjson([\n",
       "  {\n",
       "    \"@id\": \"http://jasper:8181/jasper/streams/redcount\",\n",
       "    \"@type\": [\n",
       "      \"http://w3id.org/rsp/vocals#RDFStream\"\n",
       "    ],\n",
       "    \"http://w3id.org/rsp/vocals#hasEndpoint\": [\n",
       "      {\n",
       "        \"@id\": \"_:N871ec92280d345e98e109c3142023cc1\"\n",
       "      }\n",
       "    ]\n",
       "  },\n",
       "  {\n",
       "    \"@id\": \"_:N871ec92280d345e98e109c3142023cc1\",\n",
       "    \"@type\": [\n",
       "      \"http://w3id.org/rsp/vocals#StreamEndpoint\"\n",
       "    ],\n",
       "    \"http://www.w3.org/ns/dcat#accessURL\": [\n",
       "      {\n",
       "        \"@value\": \"http://jasper:8182/jasper/streams/redcount/observers/1978539811\"\n",
       "      }\n",
       "    ]\n",
       "  },\n",
       "  {\n",
       "    \"@id\": \"_:Nee900175e7dd47609cf7ad4024987c6f\",\n",
       "    \"@type\": [\n",
       "      \"http://w3id.org/rsp/vocals#StreamDescriptor\"\n",
       "    ],\n",
       "    \"http://www.w3.org/ns/dcat#dataset\": [\n",
       "      {\n",
       "        \"@id\": \"http://jasper:8181/jasper/streams/redcount\"\n",
       "      }\n",
       "    ]\n",
       "  }\n",
       "]))\n",
       "        });\n",
       "        "
      ]
     },
     "metadata": {},
     "output_type": "display_data"
    }
   ],
   "source": [
    "redgreen"
   ]
  },
  {
   "cell_type": "code",
   "execution_count": 13,
   "metadata": {},
   "outputs": [
    {
     "data": {
      "text/plain": [
       "[GET http://jasper:8182/jasper/streams/redcount/observers/1978539811]"
      ]
     },
     "execution_count": 13,
     "metadata": {},
     "output_type": "execute_result"
    }
   ],
   "source": [
    "redgreen.endpoints()\n"
   ]
  },
  {
   "cell_type": "code",
   "execution_count": 24,
   "metadata": {},
   "outputs": [],
   "source": [
    "endpoint = jasper.getq(qid).stream().endpoints()[0]\n"
   ]
  },
  {
   "cell_type": "code",
   "execution_count": 25,
   "metadata": {},
   "outputs": [],
   "source": [
    "resp = endpoint.call()"
   ]
  },
  {
   "cell_type": "code",
   "execution_count": 26,
   "metadata": {},
   "outputs": [
    {
     "data": {
      "text/html": [
       "<div id=\"dccf43fe-f1f3-42f0-834c-6b5c1121068d\" style=\"height: 150px; width:100%;\"></div>"
      ]
     },
     "metadata": {},
     "output_type": "display_data"
    },
    {
     "data": {
      "application/javascript": [
       "\n",
       "        require([\"http://localhost:8080/files/renderjson.js\"], function() {\n",
       "          document.getElementById('dccf43fe-f1f3-42f0-834c-6b5c1121068d').appendChild(renderjson([{\"head\": {\"vars\": [\"cntr\", \"cntg\", \"moreRedsThanGreens\"]}, \"results\": {\"bindings\": [{\"cntr\": {\"type\": \"literal\", \"datatype\": \"http://www.w3.org/2001/XMLSchema#integer\", \"value\": \"7\"}, \"cntg\": {\"type\": \"literal\", \"datatype\": \"http://www.w3.org/2001/XMLSchema#integer\", \"value\": \"8\"}, \"moreRedsThanGreens\": {\"type\": \"literal\", \"datatype\": \"http://www.w3.org/2001/XMLSchema#boolean\", \"value\": \"false\"}}]}}, {\"head\": {\"vars\": [\"cntr\", \"cntg\", \"moreRedsThanGreens\"]}, \"results\": {\"bindings\": [{\"cntr\": {\"type\": \"literal\", \"datatype\": \"http://www.w3.org/2001/XMLSchema#integer\", \"value\": \"7\"}, \"cntg\": {\"type\": \"literal\", \"datatype\": \"http://www.w3.org/2001/XMLSchema#integer\", \"value\": \"3\"}, \"moreRedsThanGreens\": {\"type\": \"literal\", \"datatype\": \"http://www.w3.org/2001/XMLSchema#boolean\", \"value\": \"true\"}}]}}, {\"head\": {\"vars\": [\"cntr\", \"cntg\", \"moreRedsThanGreens\"]}, \"results\": {\"bindings\": [{\"cntr\": {\"type\": \"literal\", \"datatype\": \"http://www.w3.org/2001/XMLSchema#integer\", \"value\": \"6\"}, \"cntg\": {\"type\": \"literal\", \"datatype\": \"http://www.w3.org/2001/XMLSchema#integer\", \"value\": \"3\"}, \"moreRedsThanGreens\": {\"type\": \"literal\", \"datatype\": \"http://www.w3.org/2001/XMLSchema#boolean\", \"value\": \"true\"}}]}}, {\"head\": {\"vars\": [\"cntr\", \"cntg\", \"moreRedsThanGreens\"]}, \"results\": {\"bindings\": [{\"cntr\": {\"type\": \"literal\", \"datatype\": \"http://www.w3.org/2001/XMLSchema#integer\", \"value\": \"6\"}, \"cntg\": {\"type\": \"literal\", \"datatype\": \"http://www.w3.org/2001/XMLSchema#integer\", \"value\": \"3\"}, \"moreRedsThanGreens\": {\"type\": \"literal\", \"datatype\": \"http://www.w3.org/2001/XMLSchema#boolean\", \"value\": \"true\"}}]}}, {\"head\": {\"vars\": [\"cntr\", \"cntg\", \"moreRedsThanGreens\"]}, \"results\": {\"bindings\": [{\"cntr\": {\"type\": \"literal\", \"datatype\": \"http://www.w3.org/2001/XMLSchema#integer\", \"value\": \"6\"}, \"cntg\": {\"type\": \"literal\", \"datatype\": \"http://www.w3.org/2001/XMLSchema#integer\", \"value\": \"4\"}, \"moreRedsThanGreens\": {\"type\": \"literal\", \"datatype\": \"http://www.w3.org/2001/XMLSchema#boolean\", \"value\": \"true\"}}]}}]))\n",
       "        });\n",
       "        "
      ]
     },
     "metadata": {},
     "output_type": "display_data"
    }
   ],
   "source": [
    "resp"
   ]
  },
  {
   "cell_type": "code",
   "execution_count": 27,
   "metadata": {},
   "outputs": [
    {
     "data": {
      "text/html": [
       "<div>\n",
       "<table border=\"1\" class=\"dataframe\">\n",
       "  <thead>\n",
       "    <tr style=\"text-align: right;\">\n",
       "      <th></th>\n",
       "      <th>head_vars_0</th>\n",
       "      <th>head_vars_1</th>\n",
       "      <th>head_vars_2</th>\n",
       "      <th>results_bindings_0_cntg_datatype</th>\n",
       "      <th>results_bindings_0_cntg_type</th>\n",
       "      <th>results_bindings_0_cntg_value</th>\n",
       "      <th>results_bindings_0_cntr_datatype</th>\n",
       "      <th>results_bindings_0_cntr_type</th>\n",
       "      <th>results_bindings_0_cntr_value</th>\n",
       "      <th>results_bindings_0_moreRedsThanGreens_datatype</th>\n",
       "      <th>results_bindings_0_moreRedsThanGreens_type</th>\n",
       "      <th>results_bindings_0_moreRedsThanGreens_value</th>\n",
       "    </tr>\n",
       "  </thead>\n",
       "  <tbody>\n",
       "    <tr>\n",
       "      <th>0</th>\n",
       "      <td>cntr</td>\n",
       "      <td>cntg</td>\n",
       "      <td>moreRedsThanGreens</td>\n",
       "      <td>http://www.w3.org/2001/XMLSchema#integer</td>\n",
       "      <td>literal</td>\n",
       "      <td>8</td>\n",
       "      <td>http://www.w3.org/2001/XMLSchema#integer</td>\n",
       "      <td>literal</td>\n",
       "      <td>7</td>\n",
       "      <td>http://www.w3.org/2001/XMLSchema#boolean</td>\n",
       "      <td>literal</td>\n",
       "      <td>false</td>\n",
       "    </tr>\n",
       "    <tr>\n",
       "      <th>1</th>\n",
       "      <td>cntr</td>\n",
       "      <td>cntg</td>\n",
       "      <td>moreRedsThanGreens</td>\n",
       "      <td>http://www.w3.org/2001/XMLSchema#integer</td>\n",
       "      <td>literal</td>\n",
       "      <td>3</td>\n",
       "      <td>http://www.w3.org/2001/XMLSchema#integer</td>\n",
       "      <td>literal</td>\n",
       "      <td>7</td>\n",
       "      <td>http://www.w3.org/2001/XMLSchema#boolean</td>\n",
       "      <td>literal</td>\n",
       "      <td>true</td>\n",
       "    </tr>\n",
       "    <tr>\n",
       "      <th>2</th>\n",
       "      <td>cntr</td>\n",
       "      <td>cntg</td>\n",
       "      <td>moreRedsThanGreens</td>\n",
       "      <td>http://www.w3.org/2001/XMLSchema#integer</td>\n",
       "      <td>literal</td>\n",
       "      <td>3</td>\n",
       "      <td>http://www.w3.org/2001/XMLSchema#integer</td>\n",
       "      <td>literal</td>\n",
       "      <td>6</td>\n",
       "      <td>http://www.w3.org/2001/XMLSchema#boolean</td>\n",
       "      <td>literal</td>\n",
       "      <td>true</td>\n",
       "    </tr>\n",
       "    <tr>\n",
       "      <th>3</th>\n",
       "      <td>cntr</td>\n",
       "      <td>cntg</td>\n",
       "      <td>moreRedsThanGreens</td>\n",
       "      <td>http://www.w3.org/2001/XMLSchema#integer</td>\n",
       "      <td>literal</td>\n",
       "      <td>3</td>\n",
       "      <td>http://www.w3.org/2001/XMLSchema#integer</td>\n",
       "      <td>literal</td>\n",
       "      <td>6</td>\n",
       "      <td>http://www.w3.org/2001/XMLSchema#boolean</td>\n",
       "      <td>literal</td>\n",
       "      <td>true</td>\n",
       "    </tr>\n",
       "    <tr>\n",
       "      <th>4</th>\n",
       "      <td>cntr</td>\n",
       "      <td>cntg</td>\n",
       "      <td>moreRedsThanGreens</td>\n",
       "      <td>http://www.w3.org/2001/XMLSchema#integer</td>\n",
       "      <td>literal</td>\n",
       "      <td>4</td>\n",
       "      <td>http://www.w3.org/2001/XMLSchema#integer</td>\n",
       "      <td>literal</td>\n",
       "      <td>6</td>\n",
       "      <td>http://www.w3.org/2001/XMLSchema#boolean</td>\n",
       "      <td>literal</td>\n",
       "      <td>true</td>\n",
       "    </tr>\n",
       "  </tbody>\n",
       "</table>\n",
       "</div>"
      ],
      "text/plain": [
       "  head_vars_0 head_vars_1         head_vars_2  \\\n",
       "0        cntr        cntg  moreRedsThanGreens   \n",
       "1        cntr        cntg  moreRedsThanGreens   \n",
       "2        cntr        cntg  moreRedsThanGreens   \n",
       "3        cntr        cntg  moreRedsThanGreens   \n",
       "4        cntr        cntg  moreRedsThanGreens   \n",
       "\n",
       "           results_bindings_0_cntg_datatype results_bindings_0_cntg_type  \\\n",
       "0  http://www.w3.org/2001/XMLSchema#integer                      literal   \n",
       "1  http://www.w3.org/2001/XMLSchema#integer                      literal   \n",
       "2  http://www.w3.org/2001/XMLSchema#integer                      literal   \n",
       "3  http://www.w3.org/2001/XMLSchema#integer                      literal   \n",
       "4  http://www.w3.org/2001/XMLSchema#integer                      literal   \n",
       "\n",
       "   results_bindings_0_cntg_value          results_bindings_0_cntr_datatype  \\\n",
       "0                              8  http://www.w3.org/2001/XMLSchema#integer   \n",
       "1                              3  http://www.w3.org/2001/XMLSchema#integer   \n",
       "2                              3  http://www.w3.org/2001/XMLSchema#integer   \n",
       "3                              3  http://www.w3.org/2001/XMLSchema#integer   \n",
       "4                              4  http://www.w3.org/2001/XMLSchema#integer   \n",
       "\n",
       "  results_bindings_0_cntr_type  results_bindings_0_cntr_value  \\\n",
       "0                      literal                              7   \n",
       "1                      literal                              7   \n",
       "2                      literal                              6   \n",
       "3                      literal                              6   \n",
       "4                      literal                              6   \n",
       "\n",
       "  results_bindings_0_moreRedsThanGreens_datatype  \\\n",
       "0       http://www.w3.org/2001/XMLSchema#boolean   \n",
       "1       http://www.w3.org/2001/XMLSchema#boolean   \n",
       "2       http://www.w3.org/2001/XMLSchema#boolean   \n",
       "3       http://www.w3.org/2001/XMLSchema#boolean   \n",
       "4       http://www.w3.org/2001/XMLSchema#boolean   \n",
       "\n",
       "  results_bindings_0_moreRedsThanGreens_type  \\\n",
       "0                                    literal   \n",
       "1                                    literal   \n",
       "2                                    literal   \n",
       "3                                    literal   \n",
       "4                                    literal   \n",
       "\n",
       "  results_bindings_0_moreRedsThanGreens_value  \n",
       "0                                       false  \n",
       "1                                        true  \n",
       "2                                        true  \n",
       "3                                        true  \n",
       "4                                        true  "
      ]
     },
     "execution_count": 27,
     "metadata": {},
     "output_type": "execute_result"
    }
   ],
   "source": [
    "df = resp.flatten()\n",
    "df = df.dataframe(['results_bindings_0_cntg_value', 'results_bindings_0_cntr_value'])\n",
    "df"
   ]
  },
  {
   "cell_type": "code",
   "execution_count": 28,
   "metadata": {},
   "outputs": [
    {
     "data": {
      "image/png": "[encoded data removed]",
      "text/plain": [
       "<matplotlib.figure.Figure at 0x7f602bc2f278>"
      ]
     },
     "metadata": {},
     "output_type": "display_data"
    }
   ],
   "source": [
    "%matplotlib inline\n",
    "import pandas as pd\n",
    "\n",
    "df1 = df[['results_bindings_0_cntg_value','results_bindings_0_cntr_value']]\n",
    "cntg_mean = df1['results_bindings_0_cntg_value'].mean()\n",
    "cntr_mean = df1['results_bindings_0_cntr_value'].mean()\n",
    "\n",
    "df = pd.DataFrame({'means': [cntg_mean, cntr_mean]}, index=['red', 'green'])\n",
    "plot = df.plot.pie(y='means', colors=[\"#e10000\", \"#00e100\"], figsize=(5, 5))"
   ]
  },
  {
   "cell_type": "code",
   "execution_count": 30,
   "metadata": {},
   "outputs": [
    {
     "ename": "KeyError",
     "evalue": "\"['results_bindings_0_cntg_value' 'results_bindings_0_cntr_value'] not in index\"",
     "output_type": "error",
     "traceback": [
      "\u001b[0;31m---------------------------------------------------------------------------\u001b[0m",
      "\u001b[0;31mKeyError\u001b[0m                                  Traceback (most recent call last)",
      "\u001b[0;32m<ipython-input-30-421bcde8366c>\u001b[0m in \u001b[0;36m<module>\u001b[0;34m()\u001b[0m\n\u001b[0;32m----> 1\u001b[0;31m \u001b[0mdf\u001b[0m\u001b[0;34m.\u001b[0m\u001b[0mplot\u001b[0m\u001b[0;34m.\u001b[0m\u001b[0mline\u001b[0m\u001b[0;34m(\u001b[0m\u001b[0my\u001b[0m\u001b[0;34m=\u001b[0m\u001b[0;34m[\u001b[0m\u001b[0;34m'results_bindings_0_cntg_value'\u001b[0m\u001b[0;34m,\u001b[0m \u001b[0;34m'results_bindings_0_cntr_value'\u001b[0m\u001b[0;34m]\u001b[0m\u001b[0;34m,\u001b[0m \u001b[0mfigsize\u001b[0m\u001b[0;34m=\u001b[0m\u001b[0;34m(\u001b[0m\u001b[0;36m10\u001b[0m\u001b[0;34m,\u001b[0m\u001b[0;36m5\u001b[0m\u001b[0;34m)\u001b[0m\u001b[0;34m,\u001b[0m \u001b[0mgrid\u001b[0m\u001b[0;34m=\u001b[0m\u001b[0;32mTrue\u001b[0m\u001b[0;34m)\u001b[0m\u001b[0;34m\u001b[0m\u001b[0m\n\u001b[0m",
      "\u001b[0;32m/opt/conda/lib/python3.6/site-packages/pandas/tools/plotting.py\u001b[0m in \u001b[0;36mline\u001b[0;34m(self, x, y, **kwds)\u001b[0m\n\u001b[1;32m   3792\u001b[0m         \u001b[0maxes\u001b[0m \u001b[0;34m:\u001b[0m \u001b[0mmatplotlib\u001b[0m\u001b[0;34m.\u001b[0m\u001b[0mAxesSubplot\u001b[0m \u001b[0;32mor\u001b[0m \u001b[0mnp\u001b[0m\u001b[0;34m.\u001b[0m\u001b[0marray\u001b[0m \u001b[0mof\u001b[0m \u001b[0mthem\u001b[0m\u001b[0;34m\u001b[0m\u001b[0m\n\u001b[1;32m   3793\u001b[0m         \"\"\"\n\u001b[0;32m-> 3794\u001b[0;31m         \u001b[0;32mreturn\u001b[0m \u001b[0mself\u001b[0m\u001b[0;34m(\u001b[0m\u001b[0mkind\u001b[0m\u001b[0;34m=\u001b[0m\u001b[0;34m'line'\u001b[0m\u001b[0;34m,\u001b[0m \u001b[0mx\u001b[0m\u001b[0;34m=\u001b[0m\u001b[0mx\u001b[0m\u001b[0;34m,\u001b[0m \u001b[0my\u001b[0m\u001b[0;34m=\u001b[0m\u001b[0my\u001b[0m\u001b[0;34m,\u001b[0m \u001b[0;34m**\u001b[0m\u001b[0mkwds\u001b[0m\u001b[0;34m)\u001b[0m\u001b[0;34m\u001b[0m\u001b[0m\n\u001b[0m\u001b[1;32m   3795\u001b[0m \u001b[0;34m\u001b[0m\u001b[0m\n\u001b[1;32m   3796\u001b[0m     \u001b[0;32mdef\u001b[0m \u001b[0mbar\u001b[0m\u001b[0;34m(\u001b[0m\u001b[0mself\u001b[0m\u001b[0;34m,\u001b[0m \u001b[0mx\u001b[0m\u001b[0;34m=\u001b[0m\u001b[0;32mNone\u001b[0m\u001b[0;34m,\u001b[0m \u001b[0my\u001b[0m\u001b[0;34m=\u001b[0m\u001b[0;32mNone\u001b[0m\u001b[0;34m,\u001b[0m \u001b[0;34m**\u001b[0m\u001b[0mkwds\u001b[0m\u001b[0;34m)\u001b[0m\u001b[0;34m:\u001b[0m\u001b[0;34m\u001b[0m\u001b[0m\n",
      "\u001b[0;32m/opt/conda/lib/python3.6/site-packages/pandas/tools/plotting.py\u001b[0m in \u001b[0;36m__call__\u001b[0;34m(self, x, y, kind, ax, subplots, sharex, sharey, layout, figsize, use_index, title, grid, legend, style, logx, logy, loglog, xticks, yticks, xlim, ylim, rot, fontsize, colormap, table, yerr, xerr, secondary_y, sort_columns, **kwds)\u001b[0m\n\u001b[1;32m   3772\u001b[0m                           \u001b[0mfontsize\u001b[0m\u001b[0;34m=\u001b[0m\u001b[0mfontsize\u001b[0m\u001b[0;34m,\u001b[0m \u001b[0mcolormap\u001b[0m\u001b[0;34m=\u001b[0m\u001b[0mcolormap\u001b[0m\u001b[0;34m,\u001b[0m \u001b[0mtable\u001b[0m\u001b[0;34m=\u001b[0m\u001b[0mtable\u001b[0m\u001b[0;34m,\u001b[0m\u001b[0;34m\u001b[0m\u001b[0m\n\u001b[1;32m   3773\u001b[0m                           \u001b[0myerr\u001b[0m\u001b[0;34m=\u001b[0m\u001b[0myerr\u001b[0m\u001b[0;34m,\u001b[0m \u001b[0mxerr\u001b[0m\u001b[0;34m=\u001b[0m\u001b[0mxerr\u001b[0m\u001b[0;34m,\u001b[0m \u001b[0msecondary_y\u001b[0m\u001b[0;34m=\u001b[0m\u001b[0msecondary_y\u001b[0m\u001b[0;34m,\u001b[0m\u001b[0;34m\u001b[0m\u001b[0m\n\u001b[0;32m-> 3774\u001b[0;31m                           sort_columns=sort_columns, **kwds)\n\u001b[0m\u001b[1;32m   3775\u001b[0m     \u001b[0m__call__\u001b[0m\u001b[0;34m.\u001b[0m\u001b[0m__doc__\u001b[0m \u001b[0;34m=\u001b[0m \u001b[0mplot_frame\u001b[0m\u001b[0;34m.\u001b[0m\u001b[0m__doc__\u001b[0m\u001b[0;34m\u001b[0m\u001b[0m\n\u001b[1;32m   3776\u001b[0m \u001b[0;34m\u001b[0m\u001b[0m\n",
      "\u001b[0;32m/opt/conda/lib/python3.6/site-packages/pandas/tools/plotting.py\u001b[0m in \u001b[0;36mplot_frame\u001b[0;34m(data, x, y, kind, ax, subplots, sharex, sharey, layout, figsize, use_index, title, grid, legend, style, logx, logy, loglog, xticks, yticks, xlim, ylim, rot, fontsize, colormap, table, yerr, xerr, secondary_y, sort_columns, **kwds)\u001b[0m\n\u001b[1;32m   2641\u001b[0m                  \u001b[0myerr\u001b[0m\u001b[0;34m=\u001b[0m\u001b[0myerr\u001b[0m\u001b[0;34m,\u001b[0m \u001b[0mxerr\u001b[0m\u001b[0;34m=\u001b[0m\u001b[0mxerr\u001b[0m\u001b[0;34m,\u001b[0m\u001b[0;34m\u001b[0m\u001b[0m\n\u001b[1;32m   2642\u001b[0m                  \u001b[0msecondary_y\u001b[0m\u001b[0;34m=\u001b[0m\u001b[0msecondary_y\u001b[0m\u001b[0;34m,\u001b[0m \u001b[0msort_columns\u001b[0m\u001b[0;34m=\u001b[0m\u001b[0msort_columns\u001b[0m\u001b[0;34m,\u001b[0m\u001b[0;34m\u001b[0m\u001b[0m\n\u001b[0;32m-> 2643\u001b[0;31m                  **kwds)\n\u001b[0m\u001b[1;32m   2644\u001b[0m \u001b[0;34m\u001b[0m\u001b[0m\n\u001b[1;32m   2645\u001b[0m \u001b[0;34m\u001b[0m\u001b[0m\n",
      "\u001b[0;32m/opt/conda/lib/python3.6/site-packages/pandas/tools/plotting.py\u001b[0m in \u001b[0;36m_plot\u001b[0;34m(data, x, y, subplots, ax, kind, **kwds)\u001b[0m\n\u001b[1;32m   2454\u001b[0m                     \u001b[0my\u001b[0m \u001b[0;34m=\u001b[0m \u001b[0mdata\u001b[0m\u001b[0;34m.\u001b[0m\u001b[0mcolumns\u001b[0m\u001b[0;34m[\u001b[0m\u001b[0my\u001b[0m\u001b[0;34m]\u001b[0m\u001b[0;34m\u001b[0m\u001b[0m\n\u001b[1;32m   2455\u001b[0m                 \u001b[0mlabel\u001b[0m \u001b[0;34m=\u001b[0m \u001b[0mkwds\u001b[0m\u001b[0;34m[\u001b[0m\u001b[0;34m'label'\u001b[0m\u001b[0;34m]\u001b[0m \u001b[0;32mif\u001b[0m \u001b[0;34m'label'\u001b[0m \u001b[0;32min\u001b[0m \u001b[0mkwds\u001b[0m \u001b[0;32melse\u001b[0m \u001b[0my\u001b[0m\u001b[0;34m\u001b[0m\u001b[0m\n\u001b[0;32m-> 2456\u001b[0;31m                 \u001b[0mseries\u001b[0m \u001b[0;34m=\u001b[0m \u001b[0mdata\u001b[0m\u001b[0;34m[\u001b[0m\u001b[0my\u001b[0m\u001b[0;34m]\u001b[0m\u001b[0;34m.\u001b[0m\u001b[0mcopy\u001b[0m\u001b[0;34m(\u001b[0m\u001b[0;34m)\u001b[0m  \u001b[0;31m# Don't modify\u001b[0m\u001b[0;34m\u001b[0m\u001b[0m\n\u001b[0m\u001b[1;32m   2457\u001b[0m                 \u001b[0mseries\u001b[0m\u001b[0;34m.\u001b[0m\u001b[0mname\u001b[0m \u001b[0;34m=\u001b[0m \u001b[0mlabel\u001b[0m\u001b[0;34m\u001b[0m\u001b[0m\n\u001b[1;32m   2458\u001b[0m \u001b[0;34m\u001b[0m\u001b[0m\n",
      "\u001b[0;32m/opt/conda/lib/python3.6/site-packages/pandas/core/frame.py\u001b[0m in \u001b[0;36m__getitem__\u001b[0;34m(self, key)\u001b[0m\n\u001b[1;32m   2051\u001b[0m         \u001b[0;32mif\u001b[0m \u001b[0misinstance\u001b[0m\u001b[0;34m(\u001b[0m\u001b[0mkey\u001b[0m\u001b[0;34m,\u001b[0m \u001b[0;34m(\u001b[0m\u001b[0mSeries\u001b[0m\u001b[0;34m,\u001b[0m \u001b[0mnp\u001b[0m\u001b[0;34m.\u001b[0m\u001b[0mndarray\u001b[0m\u001b[0;34m,\u001b[0m \u001b[0mIndex\u001b[0m\u001b[0;34m,\u001b[0m \u001b[0mlist\u001b[0m\u001b[0;34m)\u001b[0m\u001b[0;34m)\u001b[0m\u001b[0;34m:\u001b[0m\u001b[0;34m\u001b[0m\u001b[0m\n\u001b[1;32m   2052\u001b[0m             \u001b[0;31m# either boolean or fancy integer index\u001b[0m\u001b[0;34m\u001b[0m\u001b[0;34m\u001b[0m\u001b[0m\n\u001b[0;32m-> 2053\u001b[0;31m             \u001b[0;32mreturn\u001b[0m \u001b[0mself\u001b[0m\u001b[0;34m.\u001b[0m\u001b[0m_getitem_array\u001b[0m\u001b[0;34m(\u001b[0m\u001b[0mkey\u001b[0m\u001b[0;34m)\u001b[0m\u001b[0;34m\u001b[0m\u001b[0m\n\u001b[0m\u001b[1;32m   2054\u001b[0m         \u001b[0;32melif\u001b[0m \u001b[0misinstance\u001b[0m\u001b[0;34m(\u001b[0m\u001b[0mkey\u001b[0m\u001b[0;34m,\u001b[0m \u001b[0mDataFrame\u001b[0m\u001b[0;34m)\u001b[0m\u001b[0;34m:\u001b[0m\u001b[0;34m\u001b[0m\u001b[0m\n\u001b[1;32m   2055\u001b[0m             \u001b[0;32mreturn\u001b[0m \u001b[0mself\u001b[0m\u001b[0;34m.\u001b[0m\u001b[0m_getitem_frame\u001b[0m\u001b[0;34m(\u001b[0m\u001b[0mkey\u001b[0m\u001b[0;34m)\u001b[0m\u001b[0;34m\u001b[0m\u001b[0m\n",
      "\u001b[0;32m/opt/conda/lib/python3.6/site-packages/pandas/core/frame.py\u001b[0m in \u001b[0;36m_getitem_array\u001b[0;34m(self, key)\u001b[0m\n\u001b[1;32m   2095\u001b[0m             \u001b[0;32mreturn\u001b[0m \u001b[0mself\u001b[0m\u001b[0;34m.\u001b[0m\u001b[0mtake\u001b[0m\u001b[0;34m(\u001b[0m\u001b[0mindexer\u001b[0m\u001b[0;34m,\u001b[0m \u001b[0maxis\u001b[0m\u001b[0;34m=\u001b[0m\u001b[0;36m0\u001b[0m\u001b[0;34m,\u001b[0m \u001b[0mconvert\u001b[0m\u001b[0;34m=\u001b[0m\u001b[0;32mFalse\u001b[0m\u001b[0;34m)\u001b[0m\u001b[0;34m\u001b[0m\u001b[0m\n\u001b[1;32m   2096\u001b[0m         \u001b[0;32melse\u001b[0m\u001b[0;34m:\u001b[0m\u001b[0;34m\u001b[0m\u001b[0m\n\u001b[0;32m-> 2097\u001b[0;31m             \u001b[0mindexer\u001b[0m \u001b[0;34m=\u001b[0m \u001b[0mself\u001b[0m\u001b[0;34m.\u001b[0m\u001b[0mix\u001b[0m\u001b[0;34m.\u001b[0m\u001b[0m_convert_to_indexer\u001b[0m\u001b[0;34m(\u001b[0m\u001b[0mkey\u001b[0m\u001b[0;34m,\u001b[0m \u001b[0maxis\u001b[0m\u001b[0;34m=\u001b[0m\u001b[0;36m1\u001b[0m\u001b[0;34m)\u001b[0m\u001b[0;34m\u001b[0m\u001b[0m\n\u001b[0m\u001b[1;32m   2098\u001b[0m             \u001b[0;32mreturn\u001b[0m \u001b[0mself\u001b[0m\u001b[0;34m.\u001b[0m\u001b[0mtake\u001b[0m\u001b[0;34m(\u001b[0m\u001b[0mindexer\u001b[0m\u001b[0;34m,\u001b[0m \u001b[0maxis\u001b[0m\u001b[0;34m=\u001b[0m\u001b[0;36m1\u001b[0m\u001b[0;34m,\u001b[0m \u001b[0mconvert\u001b[0m\u001b[0;34m=\u001b[0m\u001b[0;32mTrue\u001b[0m\u001b[0;34m)\u001b[0m\u001b[0;34m\u001b[0m\u001b[0m\n\u001b[1;32m   2099\u001b[0m \u001b[0;34m\u001b[0m\u001b[0m\n",
      "\u001b[0;32m/opt/conda/lib/python3.6/site-packages/pandas/core/indexing.py\u001b[0m in \u001b[0;36m_convert_to_indexer\u001b[0;34m(self, obj, axis, is_setter)\u001b[0m\n\u001b[1;32m   1228\u001b[0m                 \u001b[0mmask\u001b[0m \u001b[0;34m=\u001b[0m \u001b[0mcheck\u001b[0m \u001b[0;34m==\u001b[0m \u001b[0;34m-\u001b[0m\u001b[0;36m1\u001b[0m\u001b[0;34m\u001b[0m\u001b[0m\n\u001b[1;32m   1229\u001b[0m                 \u001b[0;32mif\u001b[0m \u001b[0mmask\u001b[0m\u001b[0;34m.\u001b[0m\u001b[0many\u001b[0m\u001b[0;34m(\u001b[0m\u001b[0;34m)\u001b[0m\u001b[0;34m:\u001b[0m\u001b[0;34m\u001b[0m\u001b[0m\n\u001b[0;32m-> 1230\u001b[0;31m                     \u001b[0;32mraise\u001b[0m \u001b[0mKeyError\u001b[0m\u001b[0;34m(\u001b[0m\u001b[0;34m'%s not in index'\u001b[0m \u001b[0;34m%\u001b[0m \u001b[0mobjarr\u001b[0m\u001b[0;34m[\u001b[0m\u001b[0mmask\u001b[0m\u001b[0;34m]\u001b[0m\u001b[0;34m)\u001b[0m\u001b[0;34m\u001b[0m\u001b[0m\n\u001b[0m\u001b[1;32m   1231\u001b[0m \u001b[0;34m\u001b[0m\u001b[0m\n\u001b[1;32m   1232\u001b[0m                 \u001b[0;32mreturn\u001b[0m \u001b[0m_values_from_object\u001b[0m\u001b[0;34m(\u001b[0m\u001b[0mindexer\u001b[0m\u001b[0;34m)\u001b[0m\u001b[0;34m\u001b[0m\u001b[0m\n",
      "\u001b[0;31mKeyError\u001b[0m: \"['results_bindings_0_cntg_value' 'results_bindings_0_cntr_value'] not in index\""
     ]
    }
   ],
   "source": [
    "df.plot.line(y=['results_bindings_0_cntg_value', 'results_bindings_0_cntr_value'], figsize=(10,5), grid=True)"
   ]
  },
  {
   "cell_type": "code",
   "execution_count": null,
   "metadata": {},
   "outputs": [],
   "source": []
  }
 ],
 "metadata": {
  "kernelspec": {
   "display_name": "Python 3",
   "language": "python",
   "name": "python3"
  },
  "language_info": {
   "codemirror_mode": {
    "name": "ipython",
    "version": 3
   },
   "file_extension": ".py",
   "mimetype": "text/x-python",
   "name": "python",
   "nbconvert_exporter": "python",
   "pygments_lexer": "ipython3",
   "version": "3.6.2"
  }
 },
 "nbformat": 4,
 "nbformat_minor": 2
}
