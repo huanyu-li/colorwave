{
 "cells": [
  {
   "cell_type": "code",
   "execution_count": 2,
   "metadata": {},
   "outputs": [],
   "source": [
    "from rsplib import RSPEngine, RSPPublisher, Stream, rdf_table,load_graph, accessURL"
   ]
  },
  {
   "cell_type": "code",
   "execution_count": 3,
   "metadata": {},
   "outputs": [],
   "source": [
    "jasper = RSPEngine(\"http://jasper:8181/jasper\")"
   ]
  },
  {
   "cell_type": "code",
   "execution_count": 4,
   "metadata": {},
   "outputs": [],
   "source": [
    "qid  = 'assemble'\n",
    "tbox = \"http://mynotebook:8888/files/blocks.owl\"\n",
    "body = '''\n",
    "   CONSTRUCT { \n",
    "           ?o <http://www.streamreasoning.org/ontologies/2018/9/shapes#madeOf> ?t, ?s .           \n",
    "           ?t a <http://www.streamreasoning.org/ontologies/2018/9/shapes#Triangle> ; \n",
    "               <http://www.streamreasoning.org/ontologies/2018/9/shapes#above> ?s .           \n",
    "           ?s a <http://www.streamreasoning.org/ontologies/2018/9/shapes#Square> .\n",
    "    }\n",
    "        FROM NAMED WINDOW <rw> ON <http://shapestream:4000/shapes> [RANGE PT15S STEP PT5S]\n",
    "        WHERE {\n",
    "            { WINDOW ?w1 { ?s a <http://www.streamreasoning.org/ontologies/2018/9/shapes#Square>.\n",
    "                           ?t a <http://www.streamreasoning.org/ontologies/2018/9/shapes#Triangle> .} }\n",
    "            BIND( UUID() as ?o )\n",
    "        }\n",
    "    '''"
   ]
  },
  {
   "cell_type": "code",
   "execution_count": 5,
   "metadata": {},
   "outputs": [],
   "source": [
    "assembleq = jasper.create(qid, body, tbox)"
   ]
  },
  {
   "cell_type": "code",
   "execution_count": 6,
   "metadata": {},
   "outputs": [
    {
     "data": {
      "text/html": [
       "<div id=\"35757493-d710-43cf-a2e4-17c37e7c4598\" style=\"height: 150px; width:100%;\"></div>"
      ]
     },
     "metadata": {},
     "output_type": "display_data"
    },
    {
     "data": {
      "application/javascript": [
       "\n",
       "        require([\"http://localhost:8080/files/renderjson.js\"], function() {\n",
       "          document.getElementById('35757493-d710-43cf-a2e4-17c37e7c4598').appendChild(renderjson([\n",
       "  {\n",
       "    \"@id\": \"http://jasper:8181/jasper/queries/assemble\",\n",
       "    \"@type\": [\n",
       "      \"http://w3id.org/rsp/vocals-prov#Task\"\n",
       "    ],\n",
       "    \"http://www.w3.org/ns/prov#generated\": [\n",
       "      {\n",
       "        \"@id\": \"http://jasper:8181/jasper/streams/assemble\"\n",
       "      }\n",
       "    ],\n",
       "    \"http://www.w3.org/ns/prov#uses\": [\n",
       "      {\n",
       "        \"@id\": \"http://shapestream:4000/shapes\"\n",
       "      }\n",
       "    ]\n",
       "  }\n",
       "]))\n",
       "        });\n",
       "        "
      ]
     },
     "metadata": {},
     "output_type": "display_data"
    }
   ],
   "source": [
    "assembleq"
   ]
  },
  {
   "cell_type": "code",
   "execution_count": 7,
   "metadata": {},
   "outputs": [],
   "source": [
    "r = jasper.expose(qid, 'HTTP', retention=5)"
   ]
  },
  {
   "cell_type": "code",
   "execution_count": 8,
   "metadata": {},
   "outputs": [
    {
     "data": {
      "text/plain": [
       "[http://shapestream:4000/shapes, http://jasper:8181/jasper/streams/assemble]"
      ]
     },
     "execution_count": 8,
     "metadata": {},
     "output_type": "execute_result"
    }
   ],
   "source": [
    "jasper.streams()"
   ]
  },
  {
   "cell_type": "code",
   "execution_count": null,
   "metadata": {},
   "outputs": [],
   "source": []
  },
  {
   "cell_type": "code",
   "execution_count": 9,
   "metadata": {},
   "outputs": [],
   "source": [
    "endpoints = assembleq.stream().endpoints()"
   ]
  },
  {
   "cell_type": "code",
   "execution_count": 10,
   "metadata": {},
   "outputs": [
    {
     "data": {
      "text/plain": [
       "[GET http://jasper:8182/jasper/streams/assemble/observers/64304567]"
      ]
     },
     "execution_count": 10,
     "metadata": {},
     "output_type": "execute_result"
    }
   ],
   "source": [
    "endpoints"
   ]
  },
  {
   "cell_type": "code",
   "execution_count": 11,
   "metadata": {},
   "outputs": [],
   "source": [
    "endpoint = endpoints[0]"
   ]
  },
  {
   "cell_type": "code",
   "execution_count": 12,
   "metadata": {},
   "outputs": [
    {
     "data": {
      "text/plain": [
       "GET http://jasper:8182/jasper/streams/assemble/observers/64304567"
      ]
     },
     "execution_count": 12,
     "metadata": {},
     "output_type": "execute_result"
    }
   ],
   "source": [
    "endpoint"
   ]
  },
  {
   "cell_type": "code",
   "execution_count": 14,
   "metadata": {},
   "outputs": [],
   "source": [
    "df = endpoint.call().flatten().dataframe()"
   ]
  },
  {
   "cell_type": "code",
   "execution_count": 15,
   "metadata": {},
   "outputs": [
    {
     "data": {
      "text/html": [
       "<div>\n",
       "<style scoped>\n",
       "    .dataframe tbody tr th:only-of-type {\n",
       "        vertical-align: middle;\n",
       "    }\n",
       "\n",
       "    .dataframe tbody tr th {\n",
       "        vertical-align: top;\n",
       "    }\n",
       "\n",
       "    .dataframe thead th {\n",
       "        text-align: right;\n",
       "    }\n",
       "</style>\n",
       "<table border=\"1\" class=\"dataframe\">\n",
       "  <thead>\n",
       "    <tr style=\"text-align: right;\">\n",
       "      <th></th>\n",
       "      <th>@context_above_@id</th>\n",
       "      <th>@context_above_@type</th>\n",
       "      <th>@context_madeOf_@id</th>\n",
       "      <th>@context_madeOf_@type</th>\n",
       "      <th>@graph_0_@id</th>\n",
       "      <th>@graph_0_@type</th>\n",
       "      <th>@graph_10_@id</th>\n",
       "      <th>@graph_10_@type</th>\n",
       "      <th>@graph_10_above_0</th>\n",
       "      <th>@graph_10_above_1</th>\n",
       "      <th>...</th>\n",
       "      <th>@graph_9_above_1</th>\n",
       "      <th>@graph_9_above_10</th>\n",
       "      <th>@graph_9_above_2</th>\n",
       "      <th>@graph_9_above_3</th>\n",
       "      <th>@graph_9_above_4</th>\n",
       "      <th>@graph_9_above_5</th>\n",
       "      <th>@graph_9_above_6</th>\n",
       "      <th>@graph_9_above_7</th>\n",
       "      <th>@graph_9_above_8</th>\n",
       "      <th>@graph_9_above_9</th>\n",
       "    </tr>\n",
       "  </thead>\n",
       "  <tbody>\n",
       "    <tr>\n",
       "      <th>0</th>\n",
       "      <td>http://www.streamreasoning.org/ontologies/2018...</td>\n",
       "      <td>@id</td>\n",
       "      <td>http://www.streamreasoning.org/ontologies/2018...</td>\n",
       "      <td>@id</td>\n",
       "      <td>_:b0</td>\n",
       "      <td>http://www.streamreasoning.org/ontologies/2018...</td>\n",
       "      <td>_:b5</td>\n",
       "      <td>http://www.streamreasoning.org/ontologies/2018...</td>\n",
       "      <td>NaN</td>\n",
       "      <td>NaN</td>\n",
       "      <td>...</td>\n",
       "      <td>NaN</td>\n",
       "      <td>NaN</td>\n",
       "      <td>NaN</td>\n",
       "      <td>NaN</td>\n",
       "      <td>NaN</td>\n",
       "      <td>NaN</td>\n",
       "      <td>NaN</td>\n",
       "      <td>NaN</td>\n",
       "      <td>NaN</td>\n",
       "      <td>NaN</td>\n",
       "    </tr>\n",
       "    <tr>\n",
       "      <th>1</th>\n",
       "      <td>http://www.streamreasoning.org/ontologies/2018...</td>\n",
       "      <td>@id</td>\n",
       "      <td>http://www.streamreasoning.org/ontologies/2018...</td>\n",
       "      <td>@id</td>\n",
       "      <td>_:b0</td>\n",
       "      <td>http://www.streamreasoning.org/ontologies/2018...</td>\n",
       "      <td>_:b5</td>\n",
       "      <td>http://www.streamreasoning.org/ontologies/2018...</td>\n",
       "      <td>_:b9</td>\n",
       "      <td>_:b4</td>\n",
       "      <td>...</td>\n",
       "      <td>NaN</td>\n",
       "      <td>NaN</td>\n",
       "      <td>NaN</td>\n",
       "      <td>NaN</td>\n",
       "      <td>NaN</td>\n",
       "      <td>NaN</td>\n",
       "      <td>NaN</td>\n",
       "      <td>NaN</td>\n",
       "      <td>NaN</td>\n",
       "      <td>NaN</td>\n",
       "    </tr>\n",
       "    <tr>\n",
       "      <th>2</th>\n",
       "      <td>http://www.streamreasoning.org/ontologies/2018...</td>\n",
       "      <td>@id</td>\n",
       "      <td>http://www.streamreasoning.org/ontologies/2018...</td>\n",
       "      <td>@id</td>\n",
       "      <td>_:b0</td>\n",
       "      <td>http://www.streamreasoning.org/ontologies/2018...</td>\n",
       "      <td>_:b5</td>\n",
       "      <td>http://www.streamreasoning.org/ontologies/2018...</td>\n",
       "      <td>NaN</td>\n",
       "      <td>NaN</td>\n",
       "      <td>...</td>\n",
       "      <td>_:b0</td>\n",
       "      <td>_:b1</td>\n",
       "      <td>_:b11</td>\n",
       "      <td>http://www.streamreasoning.org/ontologies/2018...</td>\n",
       "      <td>http://www.streamreasoning.org/ontologies/2018...</td>\n",
       "      <td>_:b12</td>\n",
       "      <td>_:b13</td>\n",
       "      <td>_:b10</td>\n",
       "      <td>_:b8</td>\n",
       "      <td>_:b3</td>\n",
       "    </tr>\n",
       "    <tr>\n",
       "      <th>3</th>\n",
       "      <td>http://www.streamreasoning.org/ontologies/2018...</td>\n",
       "      <td>@id</td>\n",
       "      <td>http://www.streamreasoning.org/ontologies/2018...</td>\n",
       "      <td>@id</td>\n",
       "      <td>_:b0</td>\n",
       "      <td>http://www.streamreasoning.org/ontologies/2018...</td>\n",
       "      <td>_:b5</td>\n",
       "      <td>http://www.streamreasoning.org/ontologies/2018...</td>\n",
       "      <td>NaN</td>\n",
       "      <td>NaN</td>\n",
       "      <td>...</td>\n",
       "      <td>_:b9</td>\n",
       "      <td>_:b11</td>\n",
       "      <td>_:b3</td>\n",
       "      <td>_:b5</td>\n",
       "      <td>http://www.streamreasoning.org/ontologies/2018...</td>\n",
       "      <td>_:b0</td>\n",
       "      <td>http://www.streamreasoning.org/ontologies/2018...</td>\n",
       "      <td>_:b1</td>\n",
       "      <td>_:b10</td>\n",
       "      <td>_:b12</td>\n",
       "    </tr>\n",
       "    <tr>\n",
       "      <th>4</th>\n",
       "      <td>http://www.streamreasoning.org/ontologies/2018...</td>\n",
       "      <td>@id</td>\n",
       "      <td>http://www.streamreasoning.org/ontologies/2018...</td>\n",
       "      <td>@id</td>\n",
       "      <td>_:b0</td>\n",
       "      <td>http://www.streamreasoning.org/ontologies/2018...</td>\n",
       "      <td>_:b5</td>\n",
       "      <td>http://www.streamreasoning.org/ontologies/2018...</td>\n",
       "      <td>NaN</td>\n",
       "      <td>NaN</td>\n",
       "      <td>...</td>\n",
       "      <td>NaN</td>\n",
       "      <td>NaN</td>\n",
       "      <td>NaN</td>\n",
       "      <td>NaN</td>\n",
       "      <td>NaN</td>\n",
       "      <td>NaN</td>\n",
       "      <td>NaN</td>\n",
       "      <td>NaN</td>\n",
       "      <td>NaN</td>\n",
       "      <td>NaN</td>\n",
       "    </tr>\n",
       "  </tbody>\n",
       "</table>\n",
       "<p>5 rows × 425 columns</p>\n",
       "</div>"
      ],
      "text/plain": [
       "                                  @context_above_@id @context_above_@type  \\\n",
       "0  http://www.streamreasoning.org/ontologies/2018...                  @id   \n",
       "1  http://www.streamreasoning.org/ontologies/2018...                  @id   \n",
       "2  http://www.streamreasoning.org/ontologies/2018...                  @id   \n",
       "3  http://www.streamreasoning.org/ontologies/2018...                  @id   \n",
       "4  http://www.streamreasoning.org/ontologies/2018...                  @id   \n",
       "\n",
       "                                 @context_madeOf_@id @context_madeOf_@type  \\\n",
       "0  http://www.streamreasoning.org/ontologies/2018...                   @id   \n",
       "1  http://www.streamreasoning.org/ontologies/2018...                   @id   \n",
       "2  http://www.streamreasoning.org/ontologies/2018...                   @id   \n",
       "3  http://www.streamreasoning.org/ontologies/2018...                   @id   \n",
       "4  http://www.streamreasoning.org/ontologies/2018...                   @id   \n",
       "\n",
       "  @graph_0_@id                                     @graph_0_@type  \\\n",
       "0         _:b0  http://www.streamreasoning.org/ontologies/2018...   \n",
       "1         _:b0  http://www.streamreasoning.org/ontologies/2018...   \n",
       "2         _:b0  http://www.streamreasoning.org/ontologies/2018...   \n",
       "3         _:b0  http://www.streamreasoning.org/ontologies/2018...   \n",
       "4         _:b0  http://www.streamreasoning.org/ontologies/2018...   \n",
       "\n",
       "  @graph_10_@id                                    @graph_10_@type  \\\n",
       "0          _:b5  http://www.streamreasoning.org/ontologies/2018...   \n",
       "1          _:b5  http://www.streamreasoning.org/ontologies/2018...   \n",
       "2          _:b5  http://www.streamreasoning.org/ontologies/2018...   \n",
       "3          _:b5  http://www.streamreasoning.org/ontologies/2018...   \n",
       "4          _:b5  http://www.streamreasoning.org/ontologies/2018...   \n",
       "\n",
       "  @graph_10_above_0 @graph_10_above_1       ...        @graph_9_above_1  \\\n",
       "0               NaN               NaN       ...                     NaN   \n",
       "1              _:b9              _:b4       ...                     NaN   \n",
       "2               NaN               NaN       ...                    _:b0   \n",
       "3               NaN               NaN       ...                    _:b9   \n",
       "4               NaN               NaN       ...                     NaN   \n",
       "\n",
       "  @graph_9_above_10 @graph_9_above_2  \\\n",
       "0               NaN              NaN   \n",
       "1               NaN              NaN   \n",
       "2              _:b1            _:b11   \n",
       "3             _:b11             _:b3   \n",
       "4               NaN              NaN   \n",
       "\n",
       "                                    @graph_9_above_3  \\\n",
       "0                                                NaN   \n",
       "1                                                NaN   \n",
       "2  http://www.streamreasoning.org/ontologies/2018...   \n",
       "3                                               _:b5   \n",
       "4                                                NaN   \n",
       "\n",
       "                                    @graph_9_above_4 @graph_9_above_5  \\\n",
       "0                                                NaN              NaN   \n",
       "1                                                NaN              NaN   \n",
       "2  http://www.streamreasoning.org/ontologies/2018...            _:b12   \n",
       "3  http://www.streamreasoning.org/ontologies/2018...             _:b0   \n",
       "4                                                NaN              NaN   \n",
       "\n",
       "                                    @graph_9_above_6 @graph_9_above_7  \\\n",
       "0                                                NaN              NaN   \n",
       "1                                                NaN              NaN   \n",
       "2                                              _:b13            _:b10   \n",
       "3  http://www.streamreasoning.org/ontologies/2018...             _:b1   \n",
       "4                                                NaN              NaN   \n",
       "\n",
       "  @graph_9_above_8 @graph_9_above_9  \n",
       "0              NaN              NaN  \n",
       "1              NaN              NaN  \n",
       "2             _:b8             _:b3  \n",
       "3            _:b10            _:b12  \n",
       "4              NaN              NaN  \n",
       "\n",
       "[5 rows x 425 columns]"
      ]
     },
     "execution_count": 15,
     "metadata": {},
     "output_type": "execute_result"
    }
   ],
   "source": [
    "df"
   ]
  },
  {
   "cell_type": "code",
   "execution_count": 13,
   "metadata": {},
   "outputs": [],
   "source": [
    "r = jasper.expose(qid, 'WEBSOCKET')"
   ]
  },
  {
   "cell_type": "code",
   "execution_count": null,
   "metadata": {},
   "outputs": [],
   "source": [
    "jasper.delete(qid)"
   ]
  }
 ],
 "metadata": {
  "kernelspec": {
   "display_name": "Python 3",
   "language": "python",
   "name": "python3"
  },
  "language_info": {
   "codemirror_mode": {
    "name": "ipython",
    "version": 3
   },
   "file_extension": ".py",
   "mimetype": "text/x-python",
   "name": "python",
   "nbconvert_exporter": "python",
   "pygments_lexer": "ipython3",
   "version": "3.6.3"
  }
 },
 "nbformat": 4,
 "nbformat_minor": 2
}
