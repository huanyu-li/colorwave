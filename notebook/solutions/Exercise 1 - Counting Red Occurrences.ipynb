{
 "cells": [
  {
   "cell_type": "code",
   "execution_count": 14,
   "metadata": {},
   "outputs": [],
   "source": [
    "from rsplib import RSPEngine, RSPPublisher, Stream, rdf_table,load_graph, accessURL, Task, URIRef"
   ]
  },
  {
   "cell_type": "code",
   "execution_count": 15,
   "metadata": {},
   "outputs": [],
   "source": [
    "jasper = RSPEngine(\"http://docker.for.mac.localhost:8181/jasper\")"
   ]
  },
  {
   "cell_type": "code",
   "execution_count": 16,
   "metadata": {},
   "outputs": [
    {
     "data": {
      "text/html": [
       "<div id=\"3da681db-d5d0-4ec2-829d-4b0975774b4e\" style=\"height: 150px; width:100%;\"></div>"
      ]
     },
     "metadata": {},
     "output_type": "display_data"
    },
    {
     "data": {
      "application/javascript": [
       "\n",
       "        require([\"http://localhost:8080/files/renderjson.js\"], function() {\n",
       "          document.getElementById('3da681db-d5d0-4ec2-829d-4b0975774b4e').appendChild(renderjson({\"@graph\": [{\"@id\": \"_:b0\", \"index\": \"0\", \"name\": \"query\", \"type\": \"xsd:string\"}, {\"@id\": \"_:b1\", \"feature\": \"http://jasper:8181//QueryDeletionFeature\", \"endpoint\": \"/queries/:query\", \"method\": \"DELETE\", \"name\": \"QueryDeletionFeature\", \"uri_param\": \"_:b0\"}, {\"@id\": \"_:b10\", \"index\": \"0\", \"name\": \"stream\", \"type\": \"xsd:string\"}, {\"@id\": \"_:b11\", \"name\": \"body\"}, {\"@id\": \"_:b12\", \"index\": \"0\", \"name\": \"stream\", \"type\": \"xsd:string\"}, {\"@id\": \"_:b13\", \"@type\": \"xsd:string\", \"index\": \"0\", \"name\": \"format\"}, {\"@id\": \"_:b14\", \"@type\": \"xsd:string\", \"index\": \"1\", \"name\": \"source\"}, {\"@id\": \"_:b15\", \"name\": \"source\"}, {\"@id\": \"_:b16\", \"@type\": \"xsd:string\", \"index\": \"0\", \"name\": \"tbox\"}, {\"@id\": \"_:b17\", \"@type\": \"xsd:string\", \"index\": \"0\", \"name\": \"body\"}, {\"@id\": \"_:b18\", \"index\": \"0\", \"name\": \"stream\", \"type\": \"xsd:string\"}, {\"@id\": \"_:b19\", \"index\": \"0\", \"name\": \"query\", \"type\": \"xsd:string\"}, {\"@id\": \"_:b2\", \"feature\": \"http://jasper:8181//QueriesGetterFeature\", \"endpoint\": \"/queries\", \"method\": \"GET\", \"name\": \"QueriesGetterFeature\"}, {\"@id\": \"_:b3\", \"feature\": \"http://jasper:8181//QueryRegistrationFeature\", \"body\": \"{\\\"id\\\":\\\"http://www.w3.org/2001/XMLSchema#string\\\",\\\"body\\\":\\\"http://www.w3.org/2001/XMLSchema#string\\\",\\\"tbox\\\":\\\"http://www.w3.org/2001/XMLSchema#string\\\",\\\"format\\\":\\\"http://www.w3.org/2001/XMLSchema#string\\\"}\", \"body_param\": [\"_:b13\", \"_:b16\", \"_:b17\", \"_:b9\"], \"endpoint\": \"/queries\", \"method\": \"POST\", \"name\": \"QueryRegistrationFeature\"}, {\"@id\": \"_:b4\", \"feature\": \"http://jasper:8181//QueryGetterFeature\", \"endpoint\": \"/queries/:query\", \"method\": \"GET\", \"name\": \"QueryGetterFeature\", \"uri_param\": \"_:b19\"}, {\"@id\": \"_:b5\", \"feature\": \"http://jasper:8181//StreamRegistrationFeature\", \"body\": \"{\\\"source\\\":\\\"http://www.w3.org/2001/XMLSchema#string\\\"}\", \"body_param\": \"_:b14\", \"endpoint\": \"/streams/:stream\", \"method\": \"POST\", \"name\": \"StreamRegistrationFeature\", \"uri_param\": \"_:b18\"}, {\"@id\": \"_:b6\", \"feature\": \"http://jasper:8181//StreamGetterFeature\", \"endpoint\": \"/streams/:stream\", \"method\": \"GET\", \"name\": \"StreamGetterFeature\", \"uri_param\": \"_:b12\"}, {\"@id\": \"_:b7\", \"feature\": \"http://jasper:8181//StreamsGetterFeature\", \"endpoint\": \"/streams\", \"method\": \"GET\", \"name\": \"StreamsGetterFeature\"}, {\"@id\": \"_:b8\", \"feature\": \"http://jasper:8181//StreamDeletionFeature\", \"endpoint\": \"/streams/:stream\", \"method\": \"DELETE\", \"name\": \"StreamDeletionFeature\", \"uri_param\": \"_:b10\"}, {\"@id\": \"_:b9\", \"@type\": \"xsd:string\", \"index\": \"0\", \"name\": \"id\"}, {\"@id\": \"http://jasper:8181/jasper\", \"@type\": \"vsd:ProcessingService\", \"base\": \"http://jasper:8181/jasper\", \"hasService\": [\"_:b2\", \"_:b3\", \"_:b4\", \"_:b5\", \"_:b6\", \"_:b1\", \"_:b7\", \"_:b8\"]}], \"@context\": {\"name\": {\"@id\": \"http://w3id.org/rsp/vocals-sd#name\"}, \"index\": {\"@id\": \"http://w3id.org/rsp/vocals-sd#index\"}, \"type\": {\"@id\": \"http://w3id.org/rsp/vocals-sd#type\", \"@type\": \"@id\"}, \"method\": {\"@id\": \"http://w3id.org/rsp/vocals-sd#method\"}, \"endpoint\": {\"@id\": \"http://w3id.org/rsp/vocals-sd#endpoint\"}, \"feature\": {\"@id\": \"http://w3id.org/rsp/vocals#feature\", \"@type\": \"@id\"}, \"uri_param\": {\"@id\": \"http://w3id.org/rsp/vocals-sd#uri_param\", \"@type\": \"@id\"}, \"hasService\": {\"@id\": \"http://w3id.org/rsp/vocals-sd#hasService\", \"@type\": \"@id\"}, \"base\": {\"@id\": \"http://w3id.org/rsp/vocals-sd#base\"}, \"body\": {\"@id\": \"http://w3id.org/rsp/vocals-sd#body\"}, \"body_param\": {\"@id\": \"http://w3id.org/rsp/vocals-sd#body_param\", \"@type\": \"@id\"}, \"frmt\": \"http://www.w3.org/ns/formats/\", \"vsd\": \"http://w3id.org/rsp/vocals-sd#\", \"vocals\": \"http://w3id.org/rsp/vocals#\", \"xsd\": \"http://www.w3.org/2001/XMLSchema#\"}}))\n",
       "        });\n",
       "        "
      ]
     },
     "metadata": {},
     "output_type": "display_data"
    }
   ],
   "source": [
    "jasper.service()"
   ]
  },
  {
   "cell_type": "code",
   "execution_count": 17,
   "metadata": {},
   "outputs": [
    {
     "data": {
      "text/plain": [
       "[]"
      ]
     },
     "execution_count": 17,
     "metadata": {},
     "output_type": "execute_result"
    }
   ],
   "source": [
    "jasper.streams()"
   ]
  },
  {
   "cell_type": "code",
   "execution_count": 18,
   "metadata": {},
   "outputs": [
    {
     "data": {
      "text/plain": [
       "[]"
      ]
     },
     "execution_count": 18,
     "metadata": {},
     "output_type": "execute_result"
    }
   ],
   "source": [
    "jasper.tasks()"
   ]
  },
  {
   "cell_type": "code",
   "execution_count": 19,
   "metadata": {},
   "outputs": [],
   "source": [
    "qid  = \"redcount\"\n",
    "tbox = \"http://mynotebook:8888/files/colors.owl\"\n",
    "frmt = \"JSON\"\n",
    "body =\"\"\"\n",
    "        SELECT (COUNT(?r) as ?numRed)\n",
    "        FROM NAMED WINDOW <rw> ON <http://redstream:1255/red> [RANGE PT15S STEP PT5S]\n",
    "        WHERE {\n",
    "                WINDOW ?rw { ?r a <http://www.streamreasoning.org/ontologies/2018/9/colors#Red> .}\n",
    "            }\n",
    "      \"\"\""
   ]
  },
  {
   "cell_type": "code",
   "execution_count": 20,
   "metadata": {},
   "outputs": [
    {
     "ename": "JSONDecodeError",
     "evalue": "Expecting value: line 1 column 1 (char 0)",
     "output_type": "error",
     "traceback": [
      "\u001b[0;31m---------------------------------------------------------------------------\u001b[0m",
      "\u001b[0;31mJSONDecodeError\u001b[0m                           Traceback (most recent call last)",
      "\u001b[0;32m<ipython-input-20-213a32e13cf5>\u001b[0m in \u001b[0;36m<module>\u001b[0;34m()\u001b[0m\n\u001b[0;32m----> 1\u001b[0;31m \u001b[0mredcount_query\u001b[0m \u001b[0;34m=\u001b[0m \u001b[0mjasper\u001b[0m\u001b[0;34m.\u001b[0m\u001b[0mcreate\u001b[0m\u001b[0;34m(\u001b[0m\u001b[0mqid\u001b[0m\u001b[0;34m,\u001b[0m \u001b[0mbody\u001b[0m\u001b[0;34m,\u001b[0m \u001b[0mtbox\u001b[0m\u001b[0;34m,\u001b[0m \u001b[0mfrmt\u001b[0m\u001b[0;34m)\u001b[0m\u001b[0;34m\u001b[0m\u001b[0m\n\u001b[0m",
      "\u001b[0;32m~/work/rsplib/rsp.py\u001b[0m in \u001b[0;36mcreate\u001b[0;34m(self, idd, query, tbox, frmt)\u001b[0m\n\u001b[1;32m    245\u001b[0m         \u001b[0mbody\u001b[0m \u001b[0;34m=\u001b[0m \u001b[0;34m{\u001b[0m \u001b[0;34m'id'\u001b[0m\u001b[0;34m:\u001b[0m\u001b[0midd\u001b[0m\u001b[0;34m,\u001b[0m \u001b[0;34m'tbox'\u001b[0m\u001b[0;34m:\u001b[0m \u001b[0mtbox\u001b[0m\u001b[0;34m,\u001b[0m \u001b[0;34m'body'\u001b[0m\u001b[0;34m:\u001b[0m \u001b[0mquery\u001b[0m\u001b[0;34m,\u001b[0m \u001b[0;34m'format'\u001b[0m\u001b[0;34m:\u001b[0m\u001b[0mfrmt\u001b[0m\u001b[0;34m}\u001b[0m\u001b[0;34m\u001b[0m\u001b[0m\n\u001b[1;32m    246\u001b[0m         \u001b[0mr\u001b[0m \u001b[0;34m=\u001b[0m \u001b[0mrequests\u001b[0m\u001b[0;34m.\u001b[0m\u001b[0mpost\u001b[0m\u001b[0;34m(\u001b[0m\u001b[0mself\u001b[0m\u001b[0;34m.\u001b[0m\u001b[0mbase\u001b[0m \u001b[0;34m+\u001b[0m \u001b[0;34m\"/queries\"\u001b[0m\u001b[0;34m,\u001b[0m \u001b[0mdata\u001b[0m \u001b[0;34m=\u001b[0m \u001b[0mjson\u001b[0m\u001b[0;34m.\u001b[0m\u001b[0mdumps\u001b[0m\u001b[0;34m(\u001b[0m\u001b[0mbody\u001b[0m\u001b[0;34m)\u001b[0m\u001b[0;34m,\u001b[0m \u001b[0mheaders\u001b[0m\u001b[0;34m=\u001b[0m\u001b[0mdefault_headers\u001b[0m\u001b[0;34m)\u001b[0m\u001b[0;34m\u001b[0m\u001b[0m\n\u001b[0;32m--> 247\u001b[0;31m         \u001b[0;32mreturn\u001b[0m \u001b[0mTask\u001b[0m\u001b[0;34m(\u001b[0m\u001b[0mqid\u001b[0m\u001b[0;34m=\u001b[0m\u001b[0midd\u001b[0m\u001b[0;34m,\u001b[0m \u001b[0mbase\u001b[0m\u001b[0;34m=\u001b[0m\u001b[0mself\u001b[0m\u001b[0;34m.\u001b[0m\u001b[0mbase\u001b[0m\u001b[0;34m,\u001b[0m \u001b[0mres\u001b[0m\u001b[0;34m=\u001b[0m\u001b[0mJSONLDResult\u001b[0m\u001b[0;34m(\u001b[0m\u001b[0mr\u001b[0m\u001b[0;34m.\u001b[0m\u001b[0mjson\u001b[0m\u001b[0;34m(\u001b[0m\u001b[0;34m)\u001b[0m\u001b[0;34m)\u001b[0m\u001b[0;34m)\u001b[0m\u001b[0;34m\u001b[0m\u001b[0m\n\u001b[0m\u001b[1;32m    248\u001b[0m \u001b[0;34m\u001b[0m\u001b[0m\n\u001b[1;32m    249\u001b[0m     \u001b[0;32mdef\u001b[0m \u001b[0mexpose\u001b[0m\u001b[0;34m(\u001b[0m\u001b[0mself\u001b[0m\u001b[0;34m,\u001b[0m \u001b[0mqid\u001b[0m\u001b[0;34m,\u001b[0m \u001b[0mprotocol\u001b[0m\u001b[0;34m=\u001b[0m\u001b[0;34m'HTTP'\u001b[0m\u001b[0;34m,\u001b[0m \u001b[0mretention\u001b[0m\u001b[0;34m=\u001b[0m\u001b[0;36m3\u001b[0m\u001b[0;34m)\u001b[0m\u001b[0;34m:\u001b[0m\u001b[0;34m\u001b[0m\u001b[0m\n",
      "\u001b[0;32m/opt/conda/lib/python3.6/site-packages/requests/models.py\u001b[0m in \u001b[0;36mjson\u001b[0;34m(self, **kwargs)\u001b[0m\n\u001b[1;32m    882\u001b[0m                 \u001b[0;32mtry\u001b[0m\u001b[0;34m:\u001b[0m\u001b[0;34m\u001b[0m\u001b[0m\n\u001b[1;32m    883\u001b[0m                     return complexjson.loads(\n\u001b[0;32m--> 884\u001b[0;31m                         \u001b[0mself\u001b[0m\u001b[0;34m.\u001b[0m\u001b[0mcontent\u001b[0m\u001b[0;34m.\u001b[0m\u001b[0mdecode\u001b[0m\u001b[0;34m(\u001b[0m\u001b[0mencoding\u001b[0m\u001b[0;34m)\u001b[0m\u001b[0;34m,\u001b[0m \u001b[0;34m**\u001b[0m\u001b[0mkwargs\u001b[0m\u001b[0;34m\u001b[0m\u001b[0m\n\u001b[0m\u001b[1;32m    885\u001b[0m                     )\n\u001b[1;32m    886\u001b[0m                 \u001b[0;32mexcept\u001b[0m \u001b[0mUnicodeDecodeError\u001b[0m\u001b[0;34m:\u001b[0m\u001b[0;34m\u001b[0m\u001b[0m\n",
      "\u001b[0;32m/opt/conda/lib/python3.6/json/__init__.py\u001b[0m in \u001b[0;36mloads\u001b[0;34m(s, encoding, cls, object_hook, parse_float, parse_int, parse_constant, object_pairs_hook, **kw)\u001b[0m\n\u001b[1;32m    352\u001b[0m             \u001b[0mparse_int\u001b[0m \u001b[0;32mis\u001b[0m \u001b[0;32mNone\u001b[0m \u001b[0;32mand\u001b[0m \u001b[0mparse_float\u001b[0m \u001b[0;32mis\u001b[0m \u001b[0;32mNone\u001b[0m \u001b[0;32mand\u001b[0m\u001b[0;34m\u001b[0m\u001b[0m\n\u001b[1;32m    353\u001b[0m             parse_constant is None and object_pairs_hook is None and not kw):\n\u001b[0;32m--> 354\u001b[0;31m         \u001b[0;32mreturn\u001b[0m \u001b[0m_default_decoder\u001b[0m\u001b[0;34m.\u001b[0m\u001b[0mdecode\u001b[0m\u001b[0;34m(\u001b[0m\u001b[0ms\u001b[0m\u001b[0;34m)\u001b[0m\u001b[0;34m\u001b[0m\u001b[0m\n\u001b[0m\u001b[1;32m    355\u001b[0m     \u001b[0;32mif\u001b[0m \u001b[0mcls\u001b[0m \u001b[0;32mis\u001b[0m \u001b[0;32mNone\u001b[0m\u001b[0;34m:\u001b[0m\u001b[0;34m\u001b[0m\u001b[0m\n\u001b[1;32m    356\u001b[0m         \u001b[0mcls\u001b[0m \u001b[0;34m=\u001b[0m \u001b[0mJSONDecoder\u001b[0m\u001b[0;34m\u001b[0m\u001b[0m\n",
      "\u001b[0;32m/opt/conda/lib/python3.6/json/decoder.py\u001b[0m in \u001b[0;36mdecode\u001b[0;34m(self, s, _w)\u001b[0m\n\u001b[1;32m    337\u001b[0m \u001b[0;34m\u001b[0m\u001b[0m\n\u001b[1;32m    338\u001b[0m         \"\"\"\n\u001b[0;32m--> 339\u001b[0;31m         \u001b[0mobj\u001b[0m\u001b[0;34m,\u001b[0m \u001b[0mend\u001b[0m \u001b[0;34m=\u001b[0m \u001b[0mself\u001b[0m\u001b[0;34m.\u001b[0m\u001b[0mraw_decode\u001b[0m\u001b[0;34m(\u001b[0m\u001b[0ms\u001b[0m\u001b[0;34m,\u001b[0m \u001b[0midx\u001b[0m\u001b[0;34m=\u001b[0m\u001b[0m_w\u001b[0m\u001b[0;34m(\u001b[0m\u001b[0ms\u001b[0m\u001b[0;34m,\u001b[0m \u001b[0;36m0\u001b[0m\u001b[0;34m)\u001b[0m\u001b[0;34m.\u001b[0m\u001b[0mend\u001b[0m\u001b[0;34m(\u001b[0m\u001b[0;34m)\u001b[0m\u001b[0;34m)\u001b[0m\u001b[0;34m\u001b[0m\u001b[0m\n\u001b[0m\u001b[1;32m    340\u001b[0m         \u001b[0mend\u001b[0m \u001b[0;34m=\u001b[0m \u001b[0m_w\u001b[0m\u001b[0;34m(\u001b[0m\u001b[0ms\u001b[0m\u001b[0;34m,\u001b[0m \u001b[0mend\u001b[0m\u001b[0;34m)\u001b[0m\u001b[0;34m.\u001b[0m\u001b[0mend\u001b[0m\u001b[0;34m(\u001b[0m\u001b[0;34m)\u001b[0m\u001b[0;34m\u001b[0m\u001b[0m\n\u001b[1;32m    341\u001b[0m         \u001b[0;32mif\u001b[0m \u001b[0mend\u001b[0m \u001b[0;34m!=\u001b[0m \u001b[0mlen\u001b[0m\u001b[0;34m(\u001b[0m\u001b[0ms\u001b[0m\u001b[0;34m)\u001b[0m\u001b[0;34m:\u001b[0m\u001b[0;34m\u001b[0m\u001b[0m\n",
      "\u001b[0;32m/opt/conda/lib/python3.6/json/decoder.py\u001b[0m in \u001b[0;36mraw_decode\u001b[0;34m(self, s, idx)\u001b[0m\n\u001b[1;32m    355\u001b[0m             \u001b[0mobj\u001b[0m\u001b[0;34m,\u001b[0m \u001b[0mend\u001b[0m \u001b[0;34m=\u001b[0m \u001b[0mself\u001b[0m\u001b[0;34m.\u001b[0m\u001b[0mscan_once\u001b[0m\u001b[0;34m(\u001b[0m\u001b[0ms\u001b[0m\u001b[0;34m,\u001b[0m \u001b[0midx\u001b[0m\u001b[0;34m)\u001b[0m\u001b[0;34m\u001b[0m\u001b[0m\n\u001b[1;32m    356\u001b[0m         \u001b[0;32mexcept\u001b[0m \u001b[0mStopIteration\u001b[0m \u001b[0;32mas\u001b[0m \u001b[0merr\u001b[0m\u001b[0;34m:\u001b[0m\u001b[0;34m\u001b[0m\u001b[0m\n\u001b[0;32m--> 357\u001b[0;31m             \u001b[0;32mraise\u001b[0m \u001b[0mJSONDecodeError\u001b[0m\u001b[0;34m(\u001b[0m\u001b[0;34m\"Expecting value\"\u001b[0m\u001b[0;34m,\u001b[0m \u001b[0ms\u001b[0m\u001b[0;34m,\u001b[0m \u001b[0merr\u001b[0m\u001b[0;34m.\u001b[0m\u001b[0mvalue\u001b[0m\u001b[0;34m)\u001b[0m \u001b[0;32mfrom\u001b[0m \u001b[0;32mNone\u001b[0m\u001b[0;34m\u001b[0m\u001b[0m\n\u001b[0m\u001b[1;32m    358\u001b[0m         \u001b[0;32mreturn\u001b[0m \u001b[0mobj\u001b[0m\u001b[0;34m,\u001b[0m \u001b[0mend\u001b[0m\u001b[0;34m\u001b[0m\u001b[0m\n",
      "\u001b[0;31mJSONDecodeError\u001b[0m: Expecting value: line 1 column 1 (char 0)"
     ]
    }
   ],
   "source": [
    "redcount_query = jasper.create(qid, body, tbox, frmt)\n"
   ]
  },
  {
   "cell_type": "code",
   "execution_count": 12,
   "metadata": {},
   "outputs": [
    {
     "data": {
      "text/html": [
       "<div id=\"51fb2c9b-1196-4752-9736-2efd11ee21a7\" style=\"height: 150px; width:100%;\"></div>"
      ]
     },
     "metadata": {},
     "output_type": "display_data"
    },
    {
     "data": {
      "application/javascript": [
       "\n",
       "        require([\"http://localhost:8080/files/renderjson.js\"], function() {\n",
       "          document.getElementById('51fb2c9b-1196-4752-9736-2efd11ee21a7').appendChild(renderjson([\n",
       "  {\n",
       "    \"@id\": \"http://jasper:8181/jasper/queries/redcount\",\n",
       "    \"@type\": [\n",
       "      \"http://w3id.org/rsp/vocals-prov#Task\"\n",
       "    ],\n",
       "    \"http://www.w3.org/ns/prov#generated\": [\n",
       "      {\n",
       "        \"@id\": \"http://jasper:8181/jasper/streams/redcount\"\n",
       "      }\n",
       "    ],\n",
       "    \"http://www.w3.org/ns/prov#uses\": [\n",
       "      {\n",
       "        \"@id\": \"http://redstream:1255/red\"\n",
       "      }\n",
       "    ]\n",
       "  }\n",
       "]))\n",
       "        });\n",
       "        "
      ]
     },
     "metadata": {},
     "output_type": "display_data"
    }
   ],
   "source": [
    "redcount_query"
   ]
  },
  {
   "cell_type": "code",
   "execution_count": 13,
   "metadata": {},
   "outputs": [
    {
     "data": {
      "text/html": [
       "<div id=\"11e45053-2cba-4c5e-bc9e-063c7af21cc9\" style=\"height: 150px; width:100%;\"></div>"
      ]
     },
     "metadata": {},
     "output_type": "display_data"
    },
    {
     "data": {
      "application/javascript": [
       "\n",
       "        require([\"http://localhost:8080/files/renderjson.js\"], function() {\n",
       "          document.getElementById('11e45053-2cba-4c5e-bc9e-063c7af21cc9').appendChild(renderjson([\n",
       "  {\n",
       "    \"@id\": \"http://jasper:8181/jasper/queries/redcount\",\n",
       "    \"@type\": [\n",
       "      \"http://w3id.org/rsp/vocals-prov#Task\"\n",
       "    ],\n",
       "    \"http://www.w3.org/ns/prov#generated\": [\n",
       "      {\n",
       "        \"@id\": \"http://jasper:8181/jasper/streams/redcount\"\n",
       "      }\n",
       "    ],\n",
       "    \"http://www.w3.org/ns/prov#uses\": [\n",
       "      {\n",
       "        \"@id\": \"http://redstream:1255/red\"\n",
       "      }\n",
       "    ]\n",
       "  }\n",
       "]))\n",
       "        });\n",
       "        "
      ]
     },
     "metadata": {},
     "output_type": "display_data"
    }
   ],
   "source": [
    "task = jasper.getq(qid)\n",
    "task"
   ]
  },
  {
   "cell_type": "code",
   "execution_count": 14,
   "metadata": {},
   "outputs": [
    {
     "data": {
      "text/html": [
       "<div id=\"c20e4375-2e70-4393-b176-f06442391925\" style=\"height: 150px; width:100%;\"></div>"
      ]
     },
     "metadata": {},
     "output_type": "display_data"
    },
    {
     "data": {
      "application/javascript": [
       "\n",
       "        require([\"http://localhost:8080/files/renderjson.js\"], function() {\n",
       "          document.getElementById('c20e4375-2e70-4393-b176-f06442391925').appendChild(renderjson([\n",
       "  {\n",
       "    \"@id\": \"_:N8cdd9bb857bf49fdaf9d34f06d8982f9\",\n",
       "    \"@type\": [\n",
       "      \"http://w3id.org/rsp/vocals#StreamDescriptor\"\n",
       "    ],\n",
       "    \"http://www.w3.org/ns/dcat#dataset\": [\n",
       "      {\n",
       "        \"@id\": \"http://jasper:8181/jasper/streams/redcount\"\n",
       "      }\n",
       "    ]\n",
       "  },\n",
       "  {\n",
       "    \"@id\": \"http://jasper:8181/jasper/streams/redcount\",\n",
       "    \"@type\": [\n",
       "      \"http://w3id.org/rsp/vocals#RDFStream\"\n",
       "    ]\n",
       "  }\n",
       "]))\n",
       "        });\n",
       "        "
      ]
     },
     "metadata": {},
     "output_type": "display_data"
    }
   ],
   "source": [
    "task.stream()"
   ]
  },
  {
   "cell_type": "code",
   "execution_count": 15,
   "metadata": {},
   "outputs": [
    {
     "data": {
      "text/plain": [
       "[GET http://redstream:1255/red]"
      ]
     },
     "execution_count": 15,
     "metadata": {},
     "output_type": "execute_result"
    }
   ],
   "source": [
    "task.sources()"
   ]
  },
  {
   "cell_type": "code",
   "execution_count": 16,
   "metadata": {},
   "outputs": [
    {
     "data": {
      "text/html": [
       "<div id=\"700270ad-3596-4599-8abb-0b18fadd3e84\" style=\"height: 150px; width:100%;\"></div>"
      ]
     },
     "metadata": {},
     "output_type": "display_data"
    },
    {
     "data": {
      "application/javascript": [
       "\n",
       "        require([\"http://localhost:8080/files/renderjson.js\"], function() {\n",
       "          document.getElementById('700270ad-3596-4599-8abb-0b18fadd3e84').appendChild(renderjson([\n",
       "  {\n",
       "    \"@id\": \"_:N3abf53787b0c474c8c6b5e37982b966a\",\n",
       "    \"@type\": [\n",
       "      \"http://w3id.org/rsp/vocals#StreamDescriptor\"\n",
       "    ],\n",
       "    \"http://www.w3.org/ns/dcat#dataset\": [\n",
       "      {\n",
       "        \"@id\": \"http://jasper:8181/jasper/streams/redcount\"\n",
       "      }\n",
       "    ]\n",
       "  },\n",
       "  {\n",
       "    \"@id\": \"http://jasper:8181/jasper/streams/redcount\",\n",
       "    \"@type\": [\n",
       "      \"http://w3id.org/rsp/vocals#RDFStream\"\n",
       "    ]\n",
       "  }\n",
       "]))\n",
       "        });\n",
       "        "
      ]
     },
     "metadata": {},
     "output_type": "display_data"
    }
   ],
   "source": [
    "redcount_stream = jasper.streams()[1]\n",
    "redcount_stream"
   ]
  },
  {
   "cell_type": "markdown",
   "metadata": {},
   "source": [
    "# The stream has no endpoint. "
   ]
  },
  {
   "cell_type": "code",
   "execution_count": 17,
   "metadata": {},
   "outputs": [
    {
     "data": {
      "text/plain": [
       "[]"
      ]
     },
     "execution_count": 17,
     "metadata": {},
     "output_type": "execute_result"
    }
   ],
   "source": [
    "redcount_stream.endpoints()"
   ]
  },
  {
   "cell_type": "code",
   "execution_count": 18,
   "metadata": {},
   "outputs": [],
   "source": [
    "# We need to expose it!"
   ]
  },
  {
   "cell_type": "code",
   "execution_count": 19,
   "metadata": {},
   "outputs": [
    {
     "data": {
      "text/html": [
       "<div id=\"bf400e25-ad78-48fc-a0c7-3e065bfc1265\" style=\"height: 150px; width:100%;\"></div>"
      ]
     },
     "metadata": {},
     "output_type": "display_data"
    },
    {
     "data": {
      "application/javascript": [
       "\n",
       "        require([\"http://localhost:8080/files/renderjson.js\"], function() {\n",
       "          document.getElementById('bf400e25-ad78-48fc-a0c7-3e065bfc1265').appendChild(renderjson([\n",
       "  {\n",
       "    \"@id\": \"_:N5c2151663a48422b97a209016a8ea57a\",\n",
       "    \"@type\": [\n",
       "      \"http://w3id.org/rsp/vocals#StreamDescriptor\"\n",
       "    ],\n",
       "    \"http://www.w3.org/ns/dcat#dataset\": [\n",
       "      {\n",
       "        \"@id\": \"http://jasper:8181/jasper/streams/redcount\"\n",
       "      }\n",
       "    ]\n",
       "  },\n",
       "  {\n",
       "    \"@id\": \"http://jasper:8181/jasper/streams/redcount\",\n",
       "    \"@type\": [\n",
       "      \"http://w3id.org/rsp/vocals#RDFStream\"\n",
       "    ],\n",
       "    \"http://w3id.org/rsp/vocals#hasEndpoint\": [\n",
       "      {\n",
       "        \"@id\": \"_:Nfea75da95339498d9e0c16e5a28b880c\"\n",
       "      }\n",
       "    ]\n",
       "  },\n",
       "  {\n",
       "    \"@id\": \"_:Nfea75da95339498d9e0c16e5a28b880c\",\n",
       "    \"@type\": [\n",
       "      \"http://w3id.org/rsp/vocals#StreamEndpoint\"\n",
       "    ],\n",
       "    \"http://www.w3.org/ns/dcat#accessURL\": [\n",
       "      {\n",
       "        \"@value\": \"http://jasper:8182/jasper/streams/redcount/observers/1978539811\"\n",
       "      }\n",
       "    ]\n",
       "  }\n",
       "]))\n",
       "        });\n",
       "        "
      ]
     },
     "metadata": {},
     "output_type": "display_data"
    }
   ],
   "source": [
    "r = jasper.expose(qid, 'HTTP', retention=5)\n",
    "r"
   ]
  },
  {
   "cell_type": "code",
   "execution_count": 20,
   "metadata": {},
   "outputs": [
    {
     "data": {
      "text/plain": [
       "[http://redstream:1255/red, http://jasper:8181/jasper/streams/redcount]"
      ]
     },
     "execution_count": 20,
     "metadata": {},
     "output_type": "execute_result"
    }
   ],
   "source": [
    "jasper.streams()"
   ]
  },
  {
   "cell_type": "code",
   "execution_count": 21,
   "metadata": {},
   "outputs": [],
   "source": [
    "redcount_stream = jasper.streams()[1]"
   ]
  },
  {
   "cell_type": "code",
   "execution_count": null,
   "metadata": {},
   "outputs": [],
   "source": []
  },
  {
   "cell_type": "code",
   "execution_count": 22,
   "metadata": {},
   "outputs": [
    {
     "data": {
      "text/plain": [
       "[GET http://jasper:8182/jasper/streams/redcount/observers/1978539811]"
      ]
     },
     "execution_count": 22,
     "metadata": {},
     "output_type": "execute_result"
    }
   ],
   "source": [
    "endpoints = redcount_stream.endpoints()\n",
    "endpoints"
   ]
  },
  {
   "cell_type": "code",
   "execution_count": 23,
   "metadata": {},
   "outputs": [],
   "source": [
    "endpoint = endpoints[0]"
   ]
  },
  {
   "cell_type": "code",
   "execution_count": null,
   "metadata": {},
   "outputs": [],
   "source": []
  },
  {
   "cell_type": "code",
   "execution_count": 24,
   "metadata": {},
   "outputs": [
    {
     "data": {
      "text/html": [
       "<div id=\"44b5e19b-e3cf-437d-9a0b-886f23e576d7\" style=\"height: 150px; width:100%;\"></div>"
      ]
     },
     "metadata": {},
     "output_type": "display_data"
    },
    {
     "data": {
      "application/javascript": [
       "\n",
       "        require([\"http://localhost:8080/files/renderjson.js\"], function() {\n",
       "          document.getElementById('44b5e19b-e3cf-437d-9a0b-886f23e576d7').appendChild(renderjson([{\"head\": {\"vars\": [\"numRed\"]}, \"results\": {\"bindings\": [{\"numRed\": {\"type\": \"literal\", \"datatype\": \"http://www.w3.org/2001/XMLSchema#integer\", \"value\": \"2\"}}]}}]))\n",
       "        });\n",
       "        "
      ]
     },
     "metadata": {},
     "output_type": "display_data"
    }
   ],
   "source": [
    "resp = endpoint.call()\n",
    "resp"
   ]
  },
  {
   "cell_type": "code",
   "execution_count": 25,
   "metadata": {},
   "outputs": [],
   "source": [
    "df = resp.flatten().dataframe(['results_bindings_0_numRed_value'])"
   ]
  },
  {
   "cell_type": "code",
   "execution_count": 26,
   "metadata": {},
   "outputs": [
    {
     "data": {
      "text/html": [
       "<div>\n",
       "<table border=\"1\" class=\"dataframe\">\n",
       "  <thead>\n",
       "    <tr style=\"text-align: right;\">\n",
       "      <th></th>\n",
       "      <th>head_vars_0</th>\n",
       "      <th>results_bindings_0_numRed_datatype</th>\n",
       "      <th>results_bindings_0_numRed_type</th>\n",
       "      <th>results_bindings_0_numRed_value</th>\n",
       "    </tr>\n",
       "  </thead>\n",
       "  <tbody>\n",
       "    <tr>\n",
       "      <th>0</th>\n",
       "      <td>numRed</td>\n",
       "      <td>http://www.w3.org/2001/XMLSchema#integer</td>\n",
       "      <td>literal</td>\n",
       "      <td>2</td>\n",
       "    </tr>\n",
       "  </tbody>\n",
       "</table>\n",
       "</div>"
      ],
      "text/plain": [
       "  head_vars_0        results_bindings_0_numRed_datatype  \\\n",
       "0      numRed  http://www.w3.org/2001/XMLSchema#integer   \n",
       "\n",
       "  results_bindings_0_numRed_type  results_bindings_0_numRed_value  \n",
       "0                        literal                                2  "
      ]
     },
     "execution_count": 26,
     "metadata": {},
     "output_type": "execute_result"
    }
   ],
   "source": [
    "df"
   ]
  },
  {
   "cell_type": "code",
   "execution_count": 27,
   "metadata": {},
   "outputs": [
    {
     "data": {
      "text/plain": [
       "<matplotlib.axes._subplots.AxesSubplot at 0x7f3337b5c278>"
      ]
     },
     "execution_count": 27,
     "metadata": {},
     "output_type": "execute_result"
    },
    {
     "data": {
      "image/png": "[encoded data removed]",
      "text/plain": [
       "<matplotlib.figure.Figure at 0x7f333a5d5400>"
      ]
     },
     "metadata": {},
     "output_type": "display_data"
    }
   ],
   "source": [
    "% matplotlib inline\n",
    "df.plot(kind='bar')"
   ]
  },
  {
   "cell_type": "code",
   "execution_count": 28,
   "metadata": {},
   "outputs": [
    {
     "data": {
      "text/html": [
       "<div id=\"268d0e9a-3c64-4fd2-b975-eee2a7301d09\" style=\"height: 150px; width:100%;\"></div>"
      ]
     },
     "metadata": {},
     "output_type": "display_data"
    },
    {
     "data": {
      "application/javascript": [
       "\n",
       "        require([\"https://rawgit.com/caldwell/renderjson/master/renderjson.js\"], function() {\n",
       "          document.getElementById('268d0e9a-3c64-4fd2-b975-eee2a7301d09').appendChild(renderjson({\"@id\": \"queries/redcount\", \"@type\": \"vprov:Task\", \"prov:generated\": {\"@id\": \"streams/redcount\"}, \"prov:uses\": {\"@id\": \"http://redstream:1255/red\"}, \"@context\": {\"@base\": \"http://jasper:8181/jasper/\", \"rdf\": \"http://www.w3.org/1999/02/22-rdf-syntax-ns#\", \"vsd\": \"http://w3id.org/rsp/vocals-sd#\", \"vocals\": \"http://w3id.org/rsp/vocals#\", \"xsd\": \"http://www.w3.org/2001/XMLSchema#\", \"format\": \"http://www.w3.org/ns/formats/\", \"rdfs\": \"http://www.w3.org/2000/01/rdf-schema#\", \"vprov\": \"http://w3id.org/rsp/vocals-prov#\", \"dcat\": \"http://www.w3.org/ns/dcat#\", \"prov\": \"http://www.w3.org/ns/prov#\"}}))\n",
       "        });\n",
       "        "
      ]
     },
     "metadata": {},
     "output_type": "display_data"
    }
   ],
   "source": [
    "jasper.delete(qid)"
   ]
  },
  {
   "cell_type": "code",
   "execution_count": null,
   "metadata": {},
   "outputs": [],
   "source": []
  }
 ],
 "metadata": {
  "kernelspec": {
   "display_name": "Python 3",
   "language": "python",
   "name": "python3"
  },
  "language_info": {
   "codemirror_mode": {
    "name": "ipython",
    "version": 3
   },
   "file_extension": ".py",
   "mimetype": "text/x-python",
   "name": "python",
   "nbconvert_exporter": "python",
   "pygments_lexer": "ipython3",
   "version": "3.6.2"
  }
 },
 "nbformat": 4,
 "nbformat_minor": 2
}
