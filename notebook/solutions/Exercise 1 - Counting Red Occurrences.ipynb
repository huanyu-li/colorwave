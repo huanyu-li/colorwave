{
 "cells": [
  {
   "cell_type": "code",
   "execution_count": 1,
   "metadata": {},
   "outputs": [],
   "source": [
    "default_headers = {\n",
    "          'Content-Type': 'application/json',\n",
    "          'Access-Control-Allow-Origin': '*'\n",
    "        }"
   ]
  },
  {
   "cell_type": "code",
   "execution_count": 2,
   "metadata": {},
   "outputs": [],
   "source": [
    "from IPython.display import display_javascript, display_html, display\n",
    "import uuid\n",
    "\n",
    "class RenderJSON(object):\n",
    "    def __init__(self, json_data):\n",
    "        if isinstance(json_data, dict):\n",
    "            self.json_str = json.dumps(json_data)\n",
    "        elif isinstance(json_data, list):\n",
    "            self.json_str = json.dumps(json_data)\n",
    "        else:\n",
    "            self.json_str = json\n",
    "        self.uuid = str(uuid.uuid4())\n",
    "        \n",
    "    def _ipython_display_(self):\n",
    "        display_html('<div id=\"{}\" style=\"height: 150px; width:100%;\"></div>'.format(self.uuid),\n",
    "            raw=True\n",
    "        )\n",
    "        display_javascript(\"\"\"\n",
    "        require([\"https://rawgit.com/caldwell/renderjson/master/renderjson.js\"], function() {\n",
    "          document.getElementById('%s').appendChild(renderjson(%s))\n",
    "        });\n",
    "        \"\"\" % (self.uuid, self.json_str), raw=True)"
   ]
  },
  {
   "cell_type": "code",
   "execution_count": 3,
   "metadata": {},
   "outputs": [],
   "source": [
    "import requests, json"
   ]
  },
  {
   "cell_type": "code",
   "execution_count": 4,
   "metadata": {},
   "outputs": [],
   "source": [
    "engine = \"http://jasper:8181\""
   ]
  },
  {
   "cell_type": "code",
   "execution_count": 5,
   "metadata": {},
   "outputs": [],
   "source": [
    "e = requests.get(engine + \"/jasper\").json()"
   ]
  },
  {
   "cell_type": "code",
   "execution_count": 6,
   "metadata": {},
   "outputs": [
    {
     "data": {
      "text/html": [
       "<div id=\"c214bc24-b972-418c-a8dd-2d7256f3c00b\" style=\"height: 150px; width:100%;\"></div>"
      ]
     },
     "metadata": {},
     "output_type": "display_data"
    },
    {
     "data": {
      "application/javascript": [
       "\n",
       "        require([\"https://rawgit.com/caldwell/renderjson/master/renderjson.js\"], function() {\n",
       "          document.getElementById('c214bc24-b972-418c-a8dd-2d7256f3c00b').appendChild(renderjson({\"@graph\": [{\"@id\": \"_:b0\", \"@type\": \"xsd:string\", \"index\": \"0\", \"name\": \"id\"}, {\"@id\": \"_:b1\", \"feature\": \"http://localhost:8181//StreamRegistrationFeature\", \"body\": \"{\\\"source\\\":\\\"http://www.w3.org/2001/XMLSchema#string\\\"}\", \"body_param\": \"_:b2\", \"endpoint\": \"/streams/:stream\", \"method\": \"POST\", \"name\": \"StreamRegistrationFeature\", \"uri_param\": \"_:b3\"}, {\"@id\": \"_:b10\", \"feature\": \"http://localhost:8181//StreamDeletionFeature\", \"endpoint\": \"/streams/:stream\", \"method\": \"DELETE\", \"name\": \"StreamDeletionFeature\", \"uri_param\": \"_:b15\"}, {\"@id\": \"_:b11\", \"index\": \"0\", \"name\": \"stream\", \"type\": \"xsd:string\"}, {\"@id\": \"_:b12\", \"index\": \"0\", \"name\": \"query\", \"type\": \"xsd:string\"}, {\"@id\": \"_:b13\", \"name\": \"body\"}, {\"@id\": \"_:b14\", \"@type\": \"xsd:string\", \"index\": \"0\", \"name\": \"body\"}, {\"@id\": \"_:b15\", \"index\": \"0\", \"name\": \"stream\", \"type\": \"xsd:string\"}, {\"@id\": \"_:b16\", \"index\": \"0\", \"name\": \"query\", \"type\": \"xsd:string\"}, {\"@id\": \"_:b17\", \"name\": \"source\"}, {\"@id\": \"_:b18\", \"@type\": \"xsd:string\", \"index\": \"0\", \"name\": \"tbox\"}, {\"@id\": \"_:b19\", \"@type\": \"xsd:string\", \"index\": \"0\", \"name\": \"format\"}, {\"@id\": \"_:b2\", \"@type\": \"xsd:string\", \"index\": \"1\", \"name\": \"source\"}, {\"@id\": \"_:b3\", \"index\": \"0\", \"name\": \"stream\", \"type\": \"xsd:string\"}, {\"@id\": \"_:b4\", \"feature\": \"http://localhost:8181//StreamsGetterFeature\", \"endpoint\": \"/streams\", \"method\": \"GET\", \"name\": \"StreamsGetterFeature\"}, {\"@id\": \"_:b5\", \"feature\": \"http://localhost:8181//QueriesGetterFeature\", \"endpoint\": \"/queries\", \"method\": \"GET\", \"name\": \"QueriesGetterFeature\"}, {\"@id\": \"_:b6\", \"feature\": \"http://localhost:8181//QueryDeletionFeature\", \"endpoint\": \"/queries/:query\", \"method\": \"DELETE\", \"name\": \"QueryDeletionFeature\", \"uri_param\": \"_:b16\"}, {\"@id\": \"_:b7\", \"feature\": \"http://localhost:8181//QueryGetterFeature\", \"endpoint\": \"/queries/:query\", \"method\": \"GET\", \"name\": \"QueryGetterFeature\", \"uri_param\": \"_:b12\"}, {\"@id\": \"_:b8\", \"feature\": \"http://localhost:8181//QueryRegistrationFeature\", \"body\": \"{\\\"id\\\":\\\"http://www.w3.org/2001/XMLSchema#string\\\",\\\"body\\\":\\\"http://www.w3.org/2001/XMLSchema#string\\\",\\\"tbox\\\":\\\"http://www.w3.org/2001/XMLSchema#string\\\",\\\"format\\\":\\\"http://www.w3.org/2001/XMLSchema#string\\\"}\", \"body_param\": [\"_:b19\", \"_:b18\", \"_:b14\", \"_:b0\"], \"endpoint\": \"/queries\", \"method\": \"POST\", \"name\": \"QueryRegistrationFeature\"}, {\"@id\": \"_:b9\", \"feature\": \"http://localhost:8181//StreamGetterFeature\", \"endpoint\": \"/streams/:stream\", \"method\": \"GET\", \"name\": \"StreamGetterFeature\", \"uri_param\": \"_:b11\"}, {\"@id\": \"http://localhost:8181/jasper\", \"@type\": \"vsd:ProcessingService\", \"base\": \"http://localhost:8181/jasper\", \"hasService\": [\"_:b1\", \"_:b4\", \"_:b5\", \"_:b6\", \"_:b7\", \"_:b8\", \"_:b9\", \"_:b10\"]}], \"@context\": {\"index\": {\"@id\": \"http://w3id.org/rsp/vocals-sd#index\"}, \"name\": {\"@id\": \"http://w3id.org/rsp/vocals-sd#name\"}, \"method\": {\"@id\": \"http://w3id.org/rsp/vocals-sd#method\"}, \"endpoint\": {\"@id\": \"http://w3id.org/rsp/vocals-sd#endpoint\"}, \"feature\": {\"@id\": \"http://w3id.org/rsp/vocals#feature\", \"@type\": \"@id\"}, \"body\": {\"@id\": \"http://w3id.org/rsp/vocals-sd#body\"}, \"body_param\": {\"@id\": \"http://w3id.org/rsp/vocals-sd#body_param\", \"@type\": \"@id\"}, \"uri_param\": {\"@id\": \"http://w3id.org/rsp/vocals-sd#uri_param\", \"@type\": \"@id\"}, \"hasService\": {\"@id\": \"http://w3id.org/rsp/vocals-sd#hasService\", \"@type\": \"@id\"}, \"base\": {\"@id\": \"http://w3id.org/rsp/vocals-sd#base\"}, \"type\": {\"@id\": \"http://w3id.org/rsp/vocals-sd#type\", \"@type\": \"@id\"}, \"frmt\": \"http://www.w3.org/ns/formats/\", \"vsd\": \"http://w3id.org/rsp/vocals-sd#\", \"vocals\": \"http://w3id.org/rsp/vocals#\", \"xsd\": \"http://www.w3.org/2001/XMLSchema#\"}}))\n",
       "        });\n",
       "        "
      ]
     },
     "metadata": {},
     "output_type": "display_data"
    }
   ],
   "source": [
    "RenderJSON(e)"
   ]
  },
  {
   "cell_type": "code",
   "execution_count": 7,
   "metadata": {},
   "outputs": [],
   "source": [
    "l = requests.get(engine + \"/jasper/streams\").json()"
   ]
  },
  {
   "cell_type": "code",
   "execution_count": 8,
   "metadata": {},
   "outputs": [
    {
     "data": {
      "text/html": [
       "<div id=\"f54440f9-e7fd-4271-b4de-3fc86f728c7a\" style=\"height: 150px; width:100%;\"></div>"
      ]
     },
     "metadata": {},
     "output_type": "display_data"
    },
    {
     "data": {
      "application/javascript": [
       "\n",
       "        require([\"https://rawgit.com/caldwell/renderjson/master/renderjson.js\"], function() {\n",
       "          document.getElementById('f54440f9-e7fd-4271-b4de-3fc86f728c7a').appendChild(renderjson([]))\n",
       "        });\n",
       "        "
      ]
     },
     "metadata": {},
     "output_type": "display_data"
    }
   ],
   "source": [
    "RenderJSON(l)"
   ]
  },
  {
   "cell_type": "code",
   "execution_count": 9,
   "metadata": {},
   "outputs": [],
   "source": [
    "qs = requests.get(engine + \"/jasper/queries\").json()"
   ]
  },
  {
   "cell_type": "code",
   "execution_count": 10,
   "metadata": {},
   "outputs": [
    {
     "data": {
      "text/html": [
       "<div id=\"dea785ec-dfa1-4521-88a3-f2d9986a89a9\" style=\"height: 150px; width:100%;\"></div>"
      ]
     },
     "metadata": {},
     "output_type": "display_data"
    },
    {
     "data": {
      "application/javascript": [
       "\n",
       "        require([\"https://rawgit.com/caldwell/renderjson/master/renderjson.js\"], function() {\n",
       "          document.getElementById('dea785ec-dfa1-4521-88a3-f2d9986a89a9').appendChild(renderjson([]))\n",
       "        });\n",
       "        "
      ]
     },
     "metadata": {},
     "output_type": "display_data"
    }
   ],
   "source": [
    "RenderJSON(qs)"
   ]
  },
  {
   "cell_type": "code",
   "execution_count": 13,
   "metadata": {},
   "outputs": [],
   "source": [
    "redstream = requests.get(\"http://redstream:1255/red\")"
   ]
  },
  {
   "cell_type": "code",
   "execution_count": 14,
   "metadata": {},
   "outputs": [
    {
     "data": {
      "text/html": [
       "<div id=\"d19bb7ff-74af-41cd-87a4-a7e731c28bb1\" style=\"height: 150px; width:100%;\"></div>"
      ]
     },
     "metadata": {},
     "output_type": "display_data"
    },
    {
     "data": {
      "application/javascript": [
       "\n",
       "        require([\"https://rawgit.com/caldwell/renderjson/master/renderjson.js\"], function() {\n",
       "          document.getElementById('d19bb7ff-74af-41cd-87a4-a7e731c28bb1').appendChild(renderjson({\"@graph\": [{\"@id\": \"http://localhost:1255/RedColorStreamEndpoint\", \"@type\": \"http://w3id.org/rsp/vocals#StreamEndpoint\", \"http://w3id.org/rsp/vocals-sd#publishedBy\": {\"@id\": \"http://localhost:8181/colorwave\"}, \"http://www.w3.org/ns/dcat#accessURL\": \"ws://localhost:2551/red\", \"http://www.w3.org/ns/dcat#description\": \"Streaming endpoint to consume Red color instances via websocket\", \"http://www.w3.org/ns/dcat#format\": {\"@id\": \"http://www.w3.org/ns/formats/JSON-LD\"}, \"http://www.w3.org/ns/dcat#license\": {\"@id\": \"https://creativecommons.org/licenses/by-nc/4.0/\"}, \"http://www.w3.org/ns/dcat#title\": \"Red Color Stream Endpoint\"}, {\"@id\": \"http://localhost:1255/red\", \"@type\": [\"http://w3id.org/rsp/vocals#StreamDescriptor\", \"http://w3id.org/rsp/vocals#RDFStream\"], \"http://w3id.org/rsp/vocals#hasEndpoint\": {\"@id\": \"http://localhost:1255/RedColorStreamEndpoint\"}, \"http://www.w3.org/ns/dcat#description\": \"Periodically produces instances of the Red Color Class\", \"http://www.w3.org/ns/dcat#landingPage\": {\"@id\": \"https://example.org/color/red/\"}, \"http://www.w3.org/ns/dcat#publisher\": {\"@id\": \"http://localhost:8181/colorwave\"}, \"http://www.w3.org/ns/dcat#title\": \"Red Color Stream\"}, {\"@id\": \"http://localhost:8181/colorwave\", \"@type\": \"http://w3id.org/rsp/vocals-sd#PublishingService\", \"http://w3id.org/rsp/vocals-sd#hasFeature\": {\"@id\": \"http://w3id.org/rsp/vocals-sd#replaying\"}, \"http://w3id.org/rsp/vocals-sd#resultFormat\": {\"@id\": \"http://www.w3.org/ns/formats/JSON-LD\"}}]}))\n",
       "        });\n",
       "        "
      ]
     },
     "metadata": {},
     "output_type": "display_data"
    }
   ],
   "source": [
    "RenderJSON(redstream.json())"
   ]
  },
  {
   "cell_type": "code",
   "execution_count": 75,
   "metadata": {},
   "outputs": [
    {
     "data": {
      "text/html": [
       "<div id=\"a9234de5-32d3-48b0-b43e-36d17e1fa1ee\" style=\"height: 150px; width:100%;\"></div>"
      ]
     },
     "metadata": {},
     "output_type": "display_data"
    },
    {
     "data": {
      "application/javascript": [
       "\n",
       "        require([\"https://rawgit.com/caldwell/renderjson/master/renderjson.js\"], function() {\n",
       "          document.getElementById('a9234de5-32d3-48b0-b43e-36d17e1fa1ee').appendChild(renderjson({\"id\": \"redcount\", \"tbox\": \"file:///usr/src/wasp/colors.owl\", \"body\": \"\\n        SELECT (COUNT(?r) as ?numRed)\\n        FROM NAMED WINDOW <rw> ON <http://streamhub:9292/streamhub/streams/red> [RANGE PT15S STEP PT5S]\\n        WHERE {\\n                WINDOW ?rw { ?r a <http://www.streamreasoning.org/ontologies/2018/9/colors#Red> .}\\n            }\\n\\n    \"}))\n",
       "        });\n",
       "        "
      ]
     },
     "metadata": {},
     "output_type": "display_data"
    }
   ],
   "source": [
    "body = {\n",
    "    'id':'redcount',\n",
    "    'tbox': 'https://raw.githubusercontent.com/riccardotommasini/wasp-jasper/master/colors.owl',\n",
    "    'body': '''\n",
    "        SELECT (COUNT(?r) as ?numRed)\n",
    "        FROM NAMED WINDOW <rw> ON <http://streamhub:9292/streamhub/streams/red> [RANGE PT15S STEP PT5S]\n",
    "        WHERE {\n",
    "                WINDOW ?rw { ?r a <http://www.streamreasoning.org/ontologies/2018/9/colors#Red> .}\n",
    "            }\n",
    "\n",
    "    '''\n",
    "}\n",
    "    \n",
    "data = json.dumps(body)\n",
    "\n",
    "RenderJSON(body)"
   ]
  },
  {
   "cell_type": "code",
   "execution_count": 76,
   "metadata": {},
   "outputs": [],
   "source": [
    "q = requests.post(engine + \"/jasper/queries\", data = data, headers=default_headers)"
   ]
  },
  {
   "cell_type": "code",
   "execution_count": 77,
   "metadata": {},
   "outputs": [
    {
     "data": {
      "text/plain": [
       "'{\\n  \"@id\" : \"queries/redcount\",\\n  \"@type\" : \"vprov:Task\",\\n  \"prov:generated\" : {\\n    \"@id\" : \"streams/redcount\"\\n  },\\n  \"prov:uses\" : {\\n    \"@id\" : \"http://streamhub:9292/streamhub/streams/red\"\\n  },\\n  \"@context\" : {\\n    \"@base\" : \"http://jasper:8181/jasper/\",\\n    \"rdf\" : \"http://www.w3.org/1999/02/22-rdf-syntax-ns#\",\\n    \"vsd\" : \"http://w3id.org/rsp/vocals-sd#\",\\n    \"vocals\" : \"http://w3id.org/rsp/vocals#\",\\n    \"xsd\" : \"http://www.w3.org/2001/XMLSchema#\",\\n    \"format\" : \"http://www.w3.org/ns/formats/\",\\n    \"rdfs\" : \"http://www.w3.org/2000/01/rdf-schema#\",\\n    \"vprov\" : \"http://w3id.org/rsp/vocals-prov#\",\\n    \"dcat\" : \"http://www.w3.org/ns/dcat#\",\\n    \"prov\" : \"http://www.w3.org/ns/prov#\"\\n  }\\n}'"
      ]
     },
     "execution_count": 77,
     "metadata": {},
     "output_type": "execute_result"
    }
   ],
   "source": [
    "q.text"
   ]
  },
  {
   "cell_type": "code",
   "execution_count": 78,
   "metadata": {},
   "outputs": [
    {
     "data": {
      "text/html": [
       "<div id=\"6c0d2f25-1c9b-4b6e-b38f-62d5d60c57cd\" style=\"height: 150px; width:100%;\"></div>"
      ]
     },
     "metadata": {},
     "output_type": "display_data"
    },
    {
     "data": {
      "application/javascript": [
       "\n",
       "        require([\"https://rawgit.com/caldwell/renderjson/master/renderjson.js\"], function() {\n",
       "          document.getElementById('6c0d2f25-1c9b-4b6e-b38f-62d5d60c57cd').appendChild(renderjson({\"@id\": \"queries/redcount\", \"@type\": \"vprov:Task\", \"prov:generated\": {\"@id\": \"streams/redcount\"}, \"prov:uses\": {\"@id\": \"http://streamhub:9292/streamhub/streams/red\"}, \"@context\": {\"@base\": \"http://jasper:8181/jasper/\", \"rdf\": \"http://www.w3.org/1999/02/22-rdf-syntax-ns#\", \"vsd\": \"http://w3id.org/rsp/vocals-sd#\", \"vocals\": \"http://w3id.org/rsp/vocals#\", \"xsd\": \"http://www.w3.org/2001/XMLSchema#\", \"format\": \"http://www.w3.org/ns/formats/\", \"rdfs\": \"http://www.w3.org/2000/01/rdf-schema#\", \"vprov\": \"http://w3id.org/rsp/vocals-prov#\", \"dcat\": \"http://www.w3.org/ns/dcat#\", \"prov\": \"http://www.w3.org/ns/prov#\"}}))\n",
       "        });\n",
       "        "
      ]
     },
     "metadata": {},
     "output_type": "display_data"
    }
   ],
   "source": [
    "RenderJSON(q.json())"
   ]
  },
  {
   "cell_type": "code",
   "execution_count": 79,
   "metadata": {
    "scrolled": true
   },
   "outputs": [],
   "source": [
    "o = requests.post(engine + \"/jasper/observers/redcount\", data = json.dumps({'protocol':\"HTTP\", \"retention\":5}) , headers=default_headers).json()"
   ]
  },
  {
   "cell_type": "code",
   "execution_count": null,
   "metadata": {},
   "outputs": [],
   "source": []
  },
  {
   "cell_type": "code",
   "execution_count": 80,
   "metadata": {},
   "outputs": [],
   "source": [
    "os = requests.get(engine + \"/jasper/observers/redcount\").json()"
   ]
  },
  {
   "cell_type": "code",
   "execution_count": 81,
   "metadata": {},
   "outputs": [
    {
     "data": {
      "text/html": [
       "<div id=\"86a75fa8-86e3-4645-af2a-0fc86e49b721\" style=\"height: 150px; width:100%;\"></div>"
      ]
     },
     "metadata": {},
     "output_type": "display_data"
    },
    {
     "data": {
      "application/javascript": [
       "\n",
       "        require([\"https://rawgit.com/caldwell/renderjson/master/renderjson.js\"], function() {\n",
       "          document.getElementById('86a75fa8-86e3-4645-af2a-0fc86e49b721').appendChild(renderjson({\"@graph\": [{\"@type\": \"vocals:StreamDescriptor\", \"dcat:dataset\": {\"@id\": \"http://jasper:8181/jasper/streams/redcount\", \"@type\": \"vocals:RDFStream\", \"vocals:hasEndpoint\": [{\"@type\": \"vocals:StreamEndpoint\", \"dcat:accessURL\": \"http://jasper:8182/jasper/streams/redcount/observers/1876254237\"}]}}, {\"@id\": \"http://jasper:8181/jasper/streams/redcount\", \"@type\": \"vocals:RDFStream\", \"vocals:hasEndpoint\": [{\"@type\": \"vocals:StreamEndpoint\", \"dcat:accessURL\": \"http://jasper:8182/jasper/streams/redcount/observers/1876254237\"}]}]}))\n",
       "        });\n",
       "        "
      ]
     },
     "metadata": {},
     "output_type": "display_data"
    }
   ],
   "source": [
    "RenderJSON(o)"
   ]
  },
  {
   "cell_type": "code",
   "execution_count": 82,
   "metadata": {},
   "outputs": [
    {
     "data": {
      "text/html": [
       "<div id=\"a9329f5c-5e58-4e9c-82fe-7ab1cce892f5\" style=\"height: 150px; width:100%;\"></div>"
      ]
     },
     "metadata": {},
     "output_type": "display_data"
    },
    {
     "data": {
      "application/javascript": [
       "\n",
       "        require([\"https://rawgit.com/caldwell/renderjson/master/renderjson.js\"], function() {\n",
       "          document.getElementById('a9329f5c-5e58-4e9c-82fe-7ab1cce892f5').appendChild(renderjson([{\"@type\": \"vocals:StreamEndpoint\", \"dcat:accessURL\": \"http://jasper:8182/jasper/streams/redcount/observers/1876254237\", \"@context\": {\"vocals\": \"http://w3id.org/rsp/vocals#\"}}]))\n",
       "        });\n",
       "        "
      ]
     },
     "metadata": {},
     "output_type": "display_data"
    }
   ],
   "source": [
    "RenderJSON(os)"
   ]
  },
  {
   "cell_type": "code",
   "execution_count": 43,
   "metadata": {},
   "outputs": [],
   "source": [
    "a = requests.get(\"http://jasper:8182/jasper/streams/redcount/observers/349655421\")"
   ]
  },
  {
   "cell_type": "code",
   "execution_count": 44,
   "metadata": {},
   "outputs": [
    {
     "data": {
      "text/plain": [
       "<Response [200]>"
      ]
     },
     "execution_count": 44,
     "metadata": {},
     "output_type": "execute_result"
    }
   ],
   "source": [
    "a"
   ]
  },
  {
   "cell_type": "code",
   "execution_count": 83,
   "metadata": {},
   "outputs": [],
   "source": [
    "o = requests.post(engine + \"/jasper/observers/redcount\", data = json.dumps({'protocol':\"WEBSOCKET\"}) , headers=default_headers).json()"
   ]
  },
  {
   "cell_type": "code",
   "execution_count": 84,
   "metadata": {},
   "outputs": [
    {
     "data": {
      "text/html": [
       "<div id=\"bdc244e0-a395-4620-a41a-5f9946e7a2d8\" style=\"height: 150px; width:100%;\"></div>"
      ]
     },
     "metadata": {},
     "output_type": "display_data"
    },
    {
     "data": {
      "application/javascript": [
       "\n",
       "        require([\"https://rawgit.com/caldwell/renderjson/master/renderjson.js\"], function() {\n",
       "          document.getElementById('bdc244e0-a395-4620-a41a-5f9946e7a2d8').appendChild(renderjson({\"@graph\": [{\"@type\": \"vocals:StreamDescriptor\", \"dcat:dataset\": {\"@id\": \"http://jasper:8181/jasper/streams/redcount\", \"@type\": \"vocals:RDFStream\", \"vocals:hasEndpoint\": [{\"@type\": \"vocals:StreamEndpoint\", \"dcat:accessURL\": \"http://jasper:8182/jasper/streams/redcount/observers/1876254237\"}, {\"@type\": \"vocals:StreamEndpoint\", \"dcat:accessURL\": \"ws://jasper:8183/jasper/streams/redcount/observers/1939657450\", \"dcat:format\": \"frmt:JSON-LD\", \"vsd:publishedBy\": \"http://jasper:8181/jasper\"}]}}, {\"@id\": \"http://jasper:8181/jasper/streams/redcount\", \"@type\": \"vocals:RDFStream\", \"vocals:hasEndpoint\": [{\"@type\": \"vocals:StreamEndpoint\", \"dcat:accessURL\": \"http://jasper:8182/jasper/streams/redcount/observers/1876254237\"}, {\"@type\": \"vocals:StreamEndpoint\", \"dcat:accessURL\": \"ws://jasper:8183/jasper/streams/redcount/observers/1939657450\", \"dcat:format\": \"frmt:JSON-LD\", \"vsd:publishedBy\": \"http://jasper:8181/jasper\"}]}]}))\n",
       "        });\n",
       "        "
      ]
     },
     "metadata": {},
     "output_type": "display_data"
    }
   ],
   "source": [
    "RenderJSON(o)"
   ]
  },
  {
   "cell_type": "code",
   "execution_count": null,
   "metadata": {},
   "outputs": [],
   "source": []
  }
 ],
 "metadata": {
  "kernelspec": {
   "display_name": "Python 3",
   "language": "python",
   "name": "python3"
  },
  "language_info": {
   "codemirror_mode": {
    "name": "ipython",
    "version": 3
   },
   "file_extension": ".py",
   "mimetype": "text/x-python",
   "name": "python",
   "nbconvert_exporter": "python",
   "pygments_lexer": "ipython3",
   "version": "3.6.2"
  }
 },
 "nbformat": 4,
 "nbformat_minor": 2
}
