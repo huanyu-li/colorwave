{
 "cells": [
  {
   "cell_type": "code",
   "execution_count": 1,
   "metadata": {},
   "outputs": [],
   "source": [
    "from rsplib import RSPEngine, RSPPublisher, Stream, rdf_table, load_graph, accessURL"
   ]
  },
  {
   "cell_type": "code",
   "execution_count": 2,
   "metadata": {},
   "outputs": [],
   "source": [
    "jasper = RSPEngine(\"http://jasper:8181/jasper\")"
   ]
  },
  {
   "cell_type": "code",
   "execution_count": 3,
   "metadata": {},
   "outputs": [],
   "source": [
    "qid  = 'reasoning1'\n",
    "tbox = 'https://raw.githubusercontent.com/riccardotommasini/colorwave/master/colors.owl'\n",
    "frmt = 'JSON'\n",
    "body =  ''' \n",
    "        SELECT (COUNT(?w) AS ?cntWarm) (COUNT(?c) AS ?cntCold) ((?cntWarm>?cntCold) as ?moreWarmThanCold)  \n",
    "        FROM NAMED WINDOW <rw> ON <http://redstream:1255/red> [RANGE PT15S STEP PT5S]\n",
    "        FROM NAMED WINDOW <gw> ON <http://greenstream:2255/green> [RANGE PT15S STEP PT5S]\n",
    "        WHERE {\n",
    "            { WINDOW ?w1 { ?w a <http://www.streamreasoning.org/ontologies/2018/9/colors#Warm>.} }\n",
    "            UNION\n",
    "            { WINDOW ?w2 { ?c a <http://www.streamreasoning.org/ontologies/2018/9/colors#Cold> .} }\n",
    "        }\n",
    "    '''"
   ]
  },
  {
   "cell_type": "code",
   "execution_count": 4,
   "metadata": {},
   "outputs": [
    {
     "data": {
      "text/html": [
       "<div id=\"89117a42-7ca5-4c74-b4e0-794001ea569c\" style=\"height: 150px; width:100%;\"></div>"
      ]
     },
     "metadata": {},
     "output_type": "display_data"
    },
    {
     "data": {
      "application/javascript": [
       "\n",
       "        require([\"https://rawgit.com/caldwell/renderjson/master/renderjson.js\"], function() {\n",
       "          document.getElementById('89117a42-7ca5-4c74-b4e0-794001ea569c').appendChild(renderjson({\"@id\": \"queries/reasoning1\", \"@type\": \"vprov:Task\", \"prov:generated\": {\"@id\": \"streams/reasoning1\"}, \"prov:uses\": {\"@id\": \"http://greenstream:2255/green\"}, \"@context\": {\"@base\": \"http://jasper:8181/jasper/\", \"rdf\": \"http://www.w3.org/1999/02/22-rdf-syntax-ns#\", \"vsd\": \"http://w3id.org/rsp/vocals-sd#\", \"vocals\": \"http://w3id.org/rsp/vocals#\", \"xsd\": \"http://www.w3.org/2001/XMLSchema#\", \"format\": \"http://www.w3.org/ns/formats/\", \"rdfs\": \"http://www.w3.org/2000/01/rdf-schema#\", \"vprov\": \"http://w3id.org/rsp/vocals-prov#\", \"dcat\": \"http://www.w3.org/ns/dcat#\", \"prov\": \"http://www.w3.org/ns/prov#\"}}))\n",
       "        });\n",
       "        "
      ]
     },
     "metadata": {},
     "output_type": "display_data"
    }
   ],
   "source": [
    "jasper.create(qid, body, tbox, frmt)"
   ]
  },
  {
   "cell_type": "code",
   "execution_count": 5,
   "metadata": {},
   "outputs": [],
   "source": [
    "r = jasper.expose(qid, 'HTTP', retention=5)"
   ]
  },
  {
   "cell_type": "code",
   "execution_count": 22,
   "metadata": {},
   "outputs": [
    {
     "name": "stdout",
     "output_type": "stream",
     "text": [
      "reasoning1\n"
     ]
    }
   ],
   "source": [
    "es = jasper.observers(qid).endpoints()"
   ]
  },
  {
   "cell_type": "code",
   "execution_count": 25,
   "metadata": {},
   "outputs": [
    {
     "data": {
      "text/html": [
       "<div id=\"3c2c2a52-3dfa-4eb6-95bd-53987cae2569\" style=\"height: 150px; width:100%;\"></div>"
      ]
     },
     "metadata": {},
     "output_type": "display_data"
    },
    {
     "data": {
      "application/javascript": [
       "\n",
       "        require([\"https://rawgit.com/caldwell/renderjson/master/renderjson.js\"], function() {\n",
       "          document.getElementById('3c2c2a52-3dfa-4eb6-95bd-53987cae2569').appendChild(renderjson([{\"head\": {\"vars\": [\"cntWarm\", \"cntCold\", \"moreWarmThanCold\"]}, \"results\": {\"bindings\": [{\"cntWarm\": {\"type\": \"literal\", \"datatype\": \"http://www.w3.org/2001/XMLSchema#integer\", \"value\": \"0\"}, \"cntCold\": {\"type\": \"literal\", \"datatype\": \"http://www.w3.org/2001/XMLSchema#integer\", \"value\": \"0\"}, \"moreWarmThanCold\": {\"type\": \"literal\", \"datatype\": \"http://www.w3.org/2001/XMLSchema#boolean\", \"value\": \"false\"}}]}}, {\"head\": {\"vars\": [\"cntWarm\", \"cntCold\", \"moreWarmThanCold\"]}, \"results\": {\"bindings\": [{\"cntWarm\": {\"type\": \"literal\", \"datatype\": \"http://www.w3.org/2001/XMLSchema#integer\", \"value\": \"0\"}, \"cntCold\": {\"type\": \"literal\", \"datatype\": \"http://www.w3.org/2001/XMLSchema#integer\", \"value\": \"0\"}, \"moreWarmThanCold\": {\"type\": \"literal\", \"datatype\": \"http://www.w3.org/2001/XMLSchema#boolean\", \"value\": \"false\"}}]}}, {\"head\": {\"vars\": [\"cntWarm\", \"cntCold\", \"moreWarmThanCold\"]}, \"results\": {\"bindings\": [{\"cntWarm\": {\"type\": \"literal\", \"datatype\": \"http://www.w3.org/2001/XMLSchema#integer\", \"value\": \"0\"}, \"cntCold\": {\"type\": \"literal\", \"datatype\": \"http://www.w3.org/2001/XMLSchema#integer\", \"value\": \"0\"}, \"moreWarmThanCold\": {\"type\": \"literal\", \"datatype\": \"http://www.w3.org/2001/XMLSchema#boolean\", \"value\": \"false\"}}]}}, {\"head\": {\"vars\": [\"cntWarm\", \"cntCold\", \"moreWarmThanCold\"]}, \"results\": {\"bindings\": [{\"cntWarm\": {\"type\": \"literal\", \"datatype\": \"http://www.w3.org/2001/XMLSchema#integer\", \"value\": \"0\"}, \"cntCold\": {\"type\": \"literal\", \"datatype\": \"http://www.w3.org/2001/XMLSchema#integer\", \"value\": \"0\"}, \"moreWarmThanCold\": {\"type\": \"literal\", \"datatype\": \"http://www.w3.org/2001/XMLSchema#boolean\", \"value\": \"false\"}}]}}, {\"head\": {\"vars\": [\"cntWarm\", \"cntCold\", \"moreWarmThanCold\"]}, \"results\": {\"bindings\": [{\"cntWarm\": {\"type\": \"literal\", \"datatype\": \"http://www.w3.org/2001/XMLSchema#integer\", \"value\": \"0\"}, \"cntCold\": {\"type\": \"literal\", \"datatype\": \"http://www.w3.org/2001/XMLSchema#integer\", \"value\": \"0\"}, \"moreWarmThanCold\": {\"type\": \"literal\", \"datatype\": \"http://www.w3.org/2001/XMLSchema#boolean\", \"value\": \"false\"}}]}}]))\n",
       "        });\n",
       "        "
      ]
     },
     "metadata": {},
     "output_type": "display_data"
    }
   ],
   "source": [
    "es[0].call()"
   ]
  },
  {
   "cell_type": "code",
   "execution_count": 26,
   "metadata": {},
   "outputs": [
    {
     "data": {
      "text/html": [
       "<div>\n",
       "<table border=\"1\" class=\"dataframe\">\n",
       "  <thead>\n",
       "    <tr style=\"text-align: right;\">\n",
       "      <th></th>\n",
       "      <th>head_vars_0</th>\n",
       "      <th>head_vars_1</th>\n",
       "      <th>head_vars_2</th>\n",
       "      <th>results_bindings_0_cntCold_datatype</th>\n",
       "      <th>results_bindings_0_cntCold_type</th>\n",
       "      <th>results_bindings_0_cntCold_value</th>\n",
       "      <th>results_bindings_0_cntWarm_datatype</th>\n",
       "      <th>results_bindings_0_cntWarm_type</th>\n",
       "      <th>results_bindings_0_cntWarm_value</th>\n",
       "      <th>results_bindings_0_moreWarmThanCold_datatype</th>\n",
       "      <th>results_bindings_0_moreWarmThanCold_type</th>\n",
       "      <th>results_bindings_0_moreWarmThanCold_value</th>\n",
       "    </tr>\n",
       "  </thead>\n",
       "  <tbody>\n",
       "    <tr>\n",
       "      <th>0</th>\n",
       "      <td>cntWarm</td>\n",
       "      <td>cntCold</td>\n",
       "      <td>moreWarmThanCold</td>\n",
       "      <td>http://www.w3.org/2001/XMLSchema#integer</td>\n",
       "      <td>literal</td>\n",
       "      <td>0</td>\n",
       "      <td>http://www.w3.org/2001/XMLSchema#integer</td>\n",
       "      <td>literal</td>\n",
       "      <td>0</td>\n",
       "      <td>http://www.w3.org/2001/XMLSchema#boolean</td>\n",
       "      <td>literal</td>\n",
       "      <td>false</td>\n",
       "    </tr>\n",
       "    <tr>\n",
       "      <th>1</th>\n",
       "      <td>cntWarm</td>\n",
       "      <td>cntCold</td>\n",
       "      <td>moreWarmThanCold</td>\n",
       "      <td>http://www.w3.org/2001/XMLSchema#integer</td>\n",
       "      <td>literal</td>\n",
       "      <td>0</td>\n",
       "      <td>http://www.w3.org/2001/XMLSchema#integer</td>\n",
       "      <td>literal</td>\n",
       "      <td>0</td>\n",
       "      <td>http://www.w3.org/2001/XMLSchema#boolean</td>\n",
       "      <td>literal</td>\n",
       "      <td>false</td>\n",
       "    </tr>\n",
       "    <tr>\n",
       "      <th>2</th>\n",
       "      <td>cntWarm</td>\n",
       "      <td>cntCold</td>\n",
       "      <td>moreWarmThanCold</td>\n",
       "      <td>http://www.w3.org/2001/XMLSchema#integer</td>\n",
       "      <td>literal</td>\n",
       "      <td>0</td>\n",
       "      <td>http://www.w3.org/2001/XMLSchema#integer</td>\n",
       "      <td>literal</td>\n",
       "      <td>0</td>\n",
       "      <td>http://www.w3.org/2001/XMLSchema#boolean</td>\n",
       "      <td>literal</td>\n",
       "      <td>false</td>\n",
       "    </tr>\n",
       "    <tr>\n",
       "      <th>3</th>\n",
       "      <td>cntWarm</td>\n",
       "      <td>cntCold</td>\n",
       "      <td>moreWarmThanCold</td>\n",
       "      <td>http://www.w3.org/2001/XMLSchema#integer</td>\n",
       "      <td>literal</td>\n",
       "      <td>0</td>\n",
       "      <td>http://www.w3.org/2001/XMLSchema#integer</td>\n",
       "      <td>literal</td>\n",
       "      <td>0</td>\n",
       "      <td>http://www.w3.org/2001/XMLSchema#boolean</td>\n",
       "      <td>literal</td>\n",
       "      <td>false</td>\n",
       "    </tr>\n",
       "    <tr>\n",
       "      <th>4</th>\n",
       "      <td>cntWarm</td>\n",
       "      <td>cntCold</td>\n",
       "      <td>moreWarmThanCold</td>\n",
       "      <td>http://www.w3.org/2001/XMLSchema#integer</td>\n",
       "      <td>literal</td>\n",
       "      <td>0</td>\n",
       "      <td>http://www.w3.org/2001/XMLSchema#integer</td>\n",
       "      <td>literal</td>\n",
       "      <td>0</td>\n",
       "      <td>http://www.w3.org/2001/XMLSchema#boolean</td>\n",
       "      <td>literal</td>\n",
       "      <td>false</td>\n",
       "    </tr>\n",
       "  </tbody>\n",
       "</table>\n",
       "</div>"
      ],
      "text/plain": [
       "  head_vars_0 head_vars_1       head_vars_2  \\\n",
       "0     cntWarm     cntCold  moreWarmThanCold   \n",
       "1     cntWarm     cntCold  moreWarmThanCold   \n",
       "2     cntWarm     cntCold  moreWarmThanCold   \n",
       "3     cntWarm     cntCold  moreWarmThanCold   \n",
       "4     cntWarm     cntCold  moreWarmThanCold   \n",
       "\n",
       "        results_bindings_0_cntCold_datatype results_bindings_0_cntCold_type  \\\n",
       "0  http://www.w3.org/2001/XMLSchema#integer                         literal   \n",
       "1  http://www.w3.org/2001/XMLSchema#integer                         literal   \n",
       "2  http://www.w3.org/2001/XMLSchema#integer                         literal   \n",
       "3  http://www.w3.org/2001/XMLSchema#integer                         literal   \n",
       "4  http://www.w3.org/2001/XMLSchema#integer                         literal   \n",
       "\n",
       "  results_bindings_0_cntCold_value       results_bindings_0_cntWarm_datatype  \\\n",
       "0                                0  http://www.w3.org/2001/XMLSchema#integer   \n",
       "1                                0  http://www.w3.org/2001/XMLSchema#integer   \n",
       "2                                0  http://www.w3.org/2001/XMLSchema#integer   \n",
       "3                                0  http://www.w3.org/2001/XMLSchema#integer   \n",
       "4                                0  http://www.w3.org/2001/XMLSchema#integer   \n",
       "\n",
       "  results_bindings_0_cntWarm_type results_bindings_0_cntWarm_value  \\\n",
       "0                         literal                                0   \n",
       "1                         literal                                0   \n",
       "2                         literal                                0   \n",
       "3                         literal                                0   \n",
       "4                         literal                                0   \n",
       "\n",
       "  results_bindings_0_moreWarmThanCold_datatype  \\\n",
       "0     http://www.w3.org/2001/XMLSchema#boolean   \n",
       "1     http://www.w3.org/2001/XMLSchema#boolean   \n",
       "2     http://www.w3.org/2001/XMLSchema#boolean   \n",
       "3     http://www.w3.org/2001/XMLSchema#boolean   \n",
       "4     http://www.w3.org/2001/XMLSchema#boolean   \n",
       "\n",
       "  results_bindings_0_moreWarmThanCold_type  \\\n",
       "0                                  literal   \n",
       "1                                  literal   \n",
       "2                                  literal   \n",
       "3                                  literal   \n",
       "4                                  literal   \n",
       "\n",
       "  results_bindings_0_moreWarmThanCold_value  \n",
       "0                                     false  \n",
       "1                                     false  \n",
       "2                                     false  \n",
       "3                                     false  \n",
       "4                                     false  "
      ]
     },
     "execution_count": 26,
     "metadata": {},
     "output_type": "execute_result"
    }
   ],
   "source": [
    "es[0].call().flatten().dataframe()"
   ]
  },
  {
   "cell_type": "code",
   "execution_count": 27,
   "metadata": {},
   "outputs": [
    {
     "data": {
      "text/html": [
       "<div>\n",
       "<table border=\"1\" class=\"dataframe\">\n",
       "  <thead>\n",
       "    <tr style=\"text-align: right;\">\n",
       "      <th></th>\n",
       "      <th>head_vars_0</th>\n",
       "      <th>head_vars_1</th>\n",
       "      <th>head_vars_2</th>\n",
       "      <th>results_bindings_0_cntCold_datatype</th>\n",
       "      <th>results_bindings_0_cntCold_type</th>\n",
       "      <th>results_bindings_0_cntCold_value</th>\n",
       "      <th>results_bindings_0_cntWarm_datatype</th>\n",
       "      <th>results_bindings_0_cntWarm_type</th>\n",
       "      <th>results_bindings_0_cntWarm_value</th>\n",
       "      <th>results_bindings_0_moreWarmThanCold_datatype</th>\n",
       "      <th>results_bindings_0_moreWarmThanCold_type</th>\n",
       "      <th>results_bindings_0_moreWarmThanCold_value</th>\n",
       "    </tr>\n",
       "  </thead>\n",
       "  <tbody>\n",
       "    <tr>\n",
       "      <th>0</th>\n",
       "      <td>cntWarm</td>\n",
       "      <td>cntCold</td>\n",
       "      <td>moreWarmThanCold</td>\n",
       "      <td>http://www.w3.org/2001/XMLSchema#integer</td>\n",
       "      <td>literal</td>\n",
       "      <td>0</td>\n",
       "      <td>http://www.w3.org/2001/XMLSchema#integer</td>\n",
       "      <td>literal</td>\n",
       "      <td>0</td>\n",
       "      <td>http://www.w3.org/2001/XMLSchema#boolean</td>\n",
       "      <td>literal</td>\n",
       "      <td>false</td>\n",
       "    </tr>\n",
       "    <tr>\n",
       "      <th>1</th>\n",
       "      <td>cntWarm</td>\n",
       "      <td>cntCold</td>\n",
       "      <td>moreWarmThanCold</td>\n",
       "      <td>http://www.w3.org/2001/XMLSchema#integer</td>\n",
       "      <td>literal</td>\n",
       "      <td>0</td>\n",
       "      <td>http://www.w3.org/2001/XMLSchema#integer</td>\n",
       "      <td>literal</td>\n",
       "      <td>0</td>\n",
       "      <td>http://www.w3.org/2001/XMLSchema#boolean</td>\n",
       "      <td>literal</td>\n",
       "      <td>false</td>\n",
       "    </tr>\n",
       "    <tr>\n",
       "      <th>2</th>\n",
       "      <td>cntWarm</td>\n",
       "      <td>cntCold</td>\n",
       "      <td>moreWarmThanCold</td>\n",
       "      <td>http://www.w3.org/2001/XMLSchema#integer</td>\n",
       "      <td>literal</td>\n",
       "      <td>0</td>\n",
       "      <td>http://www.w3.org/2001/XMLSchema#integer</td>\n",
       "      <td>literal</td>\n",
       "      <td>0</td>\n",
       "      <td>http://www.w3.org/2001/XMLSchema#boolean</td>\n",
       "      <td>literal</td>\n",
       "      <td>false</td>\n",
       "    </tr>\n",
       "    <tr>\n",
       "      <th>3</th>\n",
       "      <td>cntWarm</td>\n",
       "      <td>cntCold</td>\n",
       "      <td>moreWarmThanCold</td>\n",
       "      <td>http://www.w3.org/2001/XMLSchema#integer</td>\n",
       "      <td>literal</td>\n",
       "      <td>0</td>\n",
       "      <td>http://www.w3.org/2001/XMLSchema#integer</td>\n",
       "      <td>literal</td>\n",
       "      <td>0</td>\n",
       "      <td>http://www.w3.org/2001/XMLSchema#boolean</td>\n",
       "      <td>literal</td>\n",
       "      <td>false</td>\n",
       "    </tr>\n",
       "    <tr>\n",
       "      <th>4</th>\n",
       "      <td>cntWarm</td>\n",
       "      <td>cntCold</td>\n",
       "      <td>moreWarmThanCold</td>\n",
       "      <td>http://www.w3.org/2001/XMLSchema#integer</td>\n",
       "      <td>literal</td>\n",
       "      <td>0</td>\n",
       "      <td>http://www.w3.org/2001/XMLSchema#integer</td>\n",
       "      <td>literal</td>\n",
       "      <td>0</td>\n",
       "      <td>http://www.w3.org/2001/XMLSchema#boolean</td>\n",
       "      <td>literal</td>\n",
       "      <td>false</td>\n",
       "    </tr>\n",
       "  </tbody>\n",
       "</table>\n",
       "</div>"
      ],
      "text/plain": [
       "  head_vars_0 head_vars_1       head_vars_2  \\\n",
       "0     cntWarm     cntCold  moreWarmThanCold   \n",
       "1     cntWarm     cntCold  moreWarmThanCold   \n",
       "2     cntWarm     cntCold  moreWarmThanCold   \n",
       "3     cntWarm     cntCold  moreWarmThanCold   \n",
       "4     cntWarm     cntCold  moreWarmThanCold   \n",
       "\n",
       "        results_bindings_0_cntCold_datatype results_bindings_0_cntCold_type  \\\n",
       "0  http://www.w3.org/2001/XMLSchema#integer                         literal   \n",
       "1  http://www.w3.org/2001/XMLSchema#integer                         literal   \n",
       "2  http://www.w3.org/2001/XMLSchema#integer                         literal   \n",
       "3  http://www.w3.org/2001/XMLSchema#integer                         literal   \n",
       "4  http://www.w3.org/2001/XMLSchema#integer                         literal   \n",
       "\n",
       "   results_bindings_0_cntCold_value       results_bindings_0_cntWarm_datatype  \\\n",
       "0                                 0  http://www.w3.org/2001/XMLSchema#integer   \n",
       "1                                 0  http://www.w3.org/2001/XMLSchema#integer   \n",
       "2                                 0  http://www.w3.org/2001/XMLSchema#integer   \n",
       "3                                 0  http://www.w3.org/2001/XMLSchema#integer   \n",
       "4                                 0  http://www.w3.org/2001/XMLSchema#integer   \n",
       "\n",
       "  results_bindings_0_cntWarm_type  results_bindings_0_cntWarm_value  \\\n",
       "0                         literal                                 0   \n",
       "1                         literal                                 0   \n",
       "2                         literal                                 0   \n",
       "3                         literal                                 0   \n",
       "4                         literal                                 0   \n",
       "\n",
       "  results_bindings_0_moreWarmThanCold_datatype  \\\n",
       "0     http://www.w3.org/2001/XMLSchema#boolean   \n",
       "1     http://www.w3.org/2001/XMLSchema#boolean   \n",
       "2     http://www.w3.org/2001/XMLSchema#boolean   \n",
       "3     http://www.w3.org/2001/XMLSchema#boolean   \n",
       "4     http://www.w3.org/2001/XMLSchema#boolean   \n",
       "\n",
       "  results_bindings_0_moreWarmThanCold_type  \\\n",
       "0                                  literal   \n",
       "1                                  literal   \n",
       "2                                  literal   \n",
       "3                                  literal   \n",
       "4                                  literal   \n",
       "\n",
       "  results_bindings_0_moreWarmThanCold_value  \n",
       "0                                     false  \n",
       "1                                     false  \n",
       "2                                     false  \n",
       "3                                     false  \n",
       "4                                     false  "
      ]
     },
     "execution_count": 27,
     "metadata": {},
     "output_type": "execute_result"
    }
   ],
   "source": [
    "df = es[0].call().flatten().dataframe(['results_bindings_0_cntCold_value', 'results_bindings_0_cntWarm_value'])\n",
    "df"
   ]
  },
  {
   "cell_type": "code",
   "execution_count": null,
   "metadata": {},
   "outputs": [],
   "source": []
  }
 ],
 "metadata": {
  "kernelspec": {
   "display_name": "Python 3",
   "language": "python",
   "name": "python3"
  },
  "language_info": {
   "codemirror_mode": {
    "name": "ipython",
    "version": 3
   },
   "file_extension": ".py",
   "mimetype": "text/x-python",
   "name": "python",
   "nbconvert_exporter": "python",
   "pygments_lexer": "ipython3",
   "version": "3.6.2"
  }
 },
 "nbformat": 4,
 "nbformat_minor": 2
}
