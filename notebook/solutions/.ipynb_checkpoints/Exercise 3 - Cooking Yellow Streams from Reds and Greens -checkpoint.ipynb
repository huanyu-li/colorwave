{
 "cells": [
  {
   "cell_type": "code",
   "execution_count": 1,
   "metadata": {},
   "outputs": [],
   "source": [
    "from rsplib import RSPEngine, RSPPublisher, Stream, rdf_table,load_graph, accessURL"
   ]
  },
  {
   "cell_type": "code",
   "execution_count": 2,
   "metadata": {},
   "outputs": [],
   "source": [
    "jasper = RSPEngine(\"http://jasper:8181/jasper\")"
   ]
  },
  {
   "cell_type": "code",
   "execution_count": 3,
   "metadata": {},
   "outputs": [],
   "source": [
    "qid  = 'yellow'\n",
    "tbox = 'https://raw.githubusercontent.com/riccardotommasini/colorwave/master/colors.owl'\n",
    "body = '''\n",
    "    CONSTRUCT { \n",
    "           ?y a <http://www.streamreasoning.org/ontologies/2018/9/colors#Yellow>; \n",
    "               <http://www.streamreasoning.org/ontologies/2018/9/colors#from> ?r ; \n",
    "               <http://www.streamreasoning.org/ontologies/2018/9/colors#from> ?g .\n",
    "    }\n",
    "    FROM NAMED WINDOW <rw> ON <http://redstream:1255/red> [RANGE PT15S STEP PT5S]\n",
    "    FROM NAMED WINDOW <gw> ON <http://greenstream:2255/green> [RANGE PT15S STEP PT5S]\n",
    "    WHERE {\n",
    "        WINDOW <rw> { ?r a <http://www.streamreasoning.org/ontologies/2018/9/colors#Red> .}\n",
    "\n",
    "        WINDOW <gw> { ?g a <http://www.streamreasoning.org/ontologies/2018/9/colors#Green> .}\n",
    "\n",
    "    BIND( UUID() as ?y )\n",
    "    '''"
   ]
  },
  {
   "cell_type": "code",
   "execution_count": 4,
   "metadata": {},
   "outputs": [
    {
     "data": {
      "text/html": [
       "<div id=\"b4cfe2b0-bf4c-47b1-8498-1b4074fd39ba\" style=\"height: 150px; width:100%;\"></div>"
      ]
     },
     "metadata": {},
     "output_type": "display_data"
    },
    {
     "data": {
      "application/javascript": [
       "\n",
       "        require([\"https://rawgit.com/caldwell/renderjson/master/renderjson.js\"], function() {\n",
       "          document.getElementById('b4cfe2b0-bf4c-47b1-8498-1b4074fd39ba').appendChild(renderjson([\n",
       "  {\n",
       "    \"@id\": \"http://jasper:8181/jasper/queries/yellow\",\n",
       "    \"@type\": [\n",
       "      \"http://w3id.org/rsp/vocals-prov#Task\"\n",
       "    ],\n",
       "    \"http://www.w3.org/ns/prov#generated\": [\n",
       "      {\n",
       "        \"@id\": \"http://jasper:8181/jasper/streams/yellow\"\n",
       "      }\n",
       "    ],\n",
       "    \"http://www.w3.org/ns/prov#uses\": [\n",
       "      {\n",
       "        \"@id\": \"http://greenstream:2255/green\"\n",
       "      }\n",
       "    ]\n",
       "  }\n",
       "]))\n",
       "        });\n",
       "        "
      ]
     },
     "metadata": {},
     "output_type": "display_data"
    }
   ],
   "source": [
    "jasper.create(qid, body, tbox)"
   ]
  },
  {
   "cell_type": "code",
   "execution_count": 5,
   "metadata": {},
   "outputs": [
    {
     "data": {
      "text/plain": [
       "[http://redstream:1255/red,\n",
       " http://greenstream:2255/green,\n",
       " http://jasper:8181/jasper/streams/yellow]"
      ]
     },
     "execution_count": 5,
     "metadata": {},
     "output_type": "execute_result"
    }
   ],
   "source": [
    "jasper.streams()"
   ]
  },
  {
   "cell_type": "code",
   "execution_count": 14,
   "metadata": {},
   "outputs": [],
   "source": [
    "yellow = jasper.streams()[2]"
   ]
  },
  {
   "cell_type": "code",
   "execution_count": 9,
   "metadata": {},
   "outputs": [
    {
     "data": {
      "text/html": [
       "<div id=\"c51270aa-f0b4-4881-a9a9-aec0975eed5b\" style=\"height: 150px; width:100%;\"></div>"
      ]
     },
     "metadata": {},
     "output_type": "display_data"
    },
    {
     "data": {
      "application/javascript": [
       "\n",
       "        require([\"https://rawgit.com/caldwell/renderjson/master/renderjson.js\"], function() {\n",
       "          document.getElementById('c51270aa-f0b4-4881-a9a9-aec0975eed5b').appendChild(renderjson([\n",
       "  {\n",
       "    \"@id\": \"http://jasper:8181/jasper/streams/yellow\",\n",
       "    \"@type\": [\n",
       "      \"vocals:RDFStream\"\n",
       "    ]\n",
       "  },\n",
       "  {\n",
       "    \"@id\": \"_:N5b313c515e02441ca347eaddcaa7a28e\",\n",
       "    \"@type\": [\n",
       "      \"vocals:StreamDescriptor\"\n",
       "    ],\n",
       "    \"dcat:dataset\": [\n",
       "      {\n",
       "        \"@id\": \"http://jasper:8181/jasper/streams/yellow\"\n",
       "      }\n",
       "    ]\n",
       "  }\n",
       "]))\n",
       "        });\n",
       "        "
      ]
     },
     "metadata": {},
     "output_type": "display_data"
    }
   ],
   "source": [
    "yellow"
   ]
  },
  {
   "cell_type": "code",
   "execution_count": 10,
   "metadata": {},
   "outputs": [],
   "source": [
    "r = jasper.expose(qid, 'WEBSOCKET')"
   ]
  },
  {
   "cell_type": "code",
   "execution_count": 15,
   "metadata": {},
   "outputs": [
    {
     "data": {
      "text/plain": [
       "[GET ws://jasper:8182/jasper/streams/yellow/observers/1036463111]"
      ]
     },
     "execution_count": 15,
     "metadata": {},
     "output_type": "execute_result"
    }
   ],
   "source": [
    "yellow.endpoints()"
   ]
  },
  {
   "cell_type": "code",
   "execution_count": 16,
   "metadata": {},
   "outputs": [],
   "source": [
    "endpoint = yellow.endpoints()[0]"
   ]
  },
  {
   "cell_type": "code",
   "execution_count": 17,
   "metadata": {},
   "outputs": [
    {
     "name": "stdout",
     "output_type": "stream",
     "text": [
      "WARNING: WebSocket will be open for a single connection!\n"
     ]
    }
   ],
   "source": [
    "resp = endpoint.call()"
   ]
  },
  {
   "cell_type": "code",
   "execution_count": 18,
   "metadata": {},
   "outputs": [
    {
     "data": {
      "text/html": [
       "<div id=\"0eedaac9-a3c1-4b6a-9210-3b5ffedb8f61\" style=\"height: 150px; width:100%;\"></div>"
      ]
     },
     "metadata": {},
     "output_type": "display_data"
    },
    {
     "data": {
      "application/javascript": [
       "\n",
       "        require([\"https://rawgit.com/caldwell/renderjson/master/renderjson.js\"], function() {\n",
       "          document.getElementById('0eedaac9-a3c1-4b6a-9210-3b5ffedb8f61').appendChild(renderjson({\"@graph\": [{\"@id\": \"urn:uuid:01346f0c-4c12-4114-bd6d-a64a8f559f61\", \"@type\": \"http://www.streamreasoning.org/ontologies/2018/9/colors#Yellow\", \"from\": [\"http://jasper:8181/8418886c-c0e0-4fd6-a049-4e16bfc43f36\", \"http://jasper:8181/cdfbd39e-98a6-46ce-b534-a9b4346f1e93\"]}, {\"@id\": \"urn:uuid:0e25a7c2-3a29-4ce3-9c9a-a885526a456e\", \"@type\": \"http://www.streamreasoning.org/ontologies/2018/9/colors#Yellow\", \"from\": [\"http://jasper:8181/f22db552-f06d-496e-9e22-2aa9e1dbac00\", \"http://jasper:8181/2e90a3c8-3359-4c0c-bff2-c7ce91d32772\"]}, {\"@id\": \"urn:uuid:0e276c5d-7502-49f4-8c8f-9c305cc3d99d\", \"@type\": \"http://www.streamreasoning.org/ontologies/2018/9/colors#Yellow\", \"from\": [\"http://jasper:8181/ddc083ed-20cc-4fe0-8373-d9506cf20076\", \"http://jasper:8181/cdfbd39e-98a6-46ce-b534-a9b4346f1e93\"]}, {\"@id\": \"urn:uuid:14c7eee7-a6eb-48d1-a85a-05f14223ce87\", \"@type\": \"http://www.streamreasoning.org/ontologies/2018/9/colors#Yellow\", \"from\": [\"http://jasper:8181/d2e6de49-13e0-4907-ac39-a5e019e3c9d0\", \"http://jasper:8181/cdfbd39e-98a6-46ce-b534-a9b4346f1e93\"]}, {\"@id\": \"urn:uuid:1f8e6775-c505-43d6-ad37-10aadcc17b71\", \"@type\": \"http://www.streamreasoning.org/ontologies/2018/9/colors#Yellow\", \"from\": [\"http://jasper:8181/8848c830-775a-40a9-a112-4e0895c1d1a2\", \"http://jasper:8181/cdfbd39e-98a6-46ce-b534-a9b4346f1e93\"]}, {\"@id\": \"urn:uuid:238172ab-d1f9-40a9-b161-c5c22b8f6d2a\", \"@type\": \"http://www.streamreasoning.org/ontologies/2018/9/colors#Yellow\", \"from\": [\"http://jasper:8181/c87b9ebb-e6ed-4691-8931-312698ef46bb\", \"http://jasper:8181/2b438caf-7f2e-41f8-92f5-be7ccd033a7f\"]}, {\"@id\": \"urn:uuid:39a05d7a-efe0-444a-b03a-a26d10ef6952\", \"@type\": \"http://www.streamreasoning.org/ontologies/2018/9/colors#Yellow\", \"from\": [\"http://jasper:8181/ddc083ed-20cc-4fe0-8373-d9506cf20076\", \"http://jasper:8181/c84d5a59-24a6-4886-a251-25691ab27139\"]}, {\"@id\": \"urn:uuid:41933de0-3650-434e-bac6-a69bc4f1dfd8\", \"@type\": \"http://www.streamreasoning.org/ontologies/2018/9/colors#Yellow\", \"from\": [\"http://jasper:8181/ddc083ed-20cc-4fe0-8373-d9506cf20076\", \"http://jasper:8181/2b438caf-7f2e-41f8-92f5-be7ccd033a7f\"]}, {\"@id\": \"urn:uuid:5251eb00-7341-4c82-af91-2e441b3ec184\", \"@type\": \"http://www.streamreasoning.org/ontologies/2018/9/colors#Yellow\", \"from\": [\"http://jasper:8181/8418886c-c0e0-4fd6-a049-4e16bfc43f36\", \"http://jasper:8181/c84d5a59-24a6-4886-a251-25691ab27139\"]}, {\"@id\": \"urn:uuid:5691874b-3e52-451e-a28e-c7a97620bf2e\", \"@type\": \"http://www.streamreasoning.org/ontologies/2018/9/colors#Yellow\", \"from\": [\"http://jasper:8181/3fd24239-2ea7-406a-8f93-6184b9b9c39b\", \"http://jasper:8181/2b438caf-7f2e-41f8-92f5-be7ccd033a7f\"]}, {\"@id\": \"urn:uuid:71591787-aa9c-4b84-9035-0bb18e464067\", \"@type\": \"http://www.streamreasoning.org/ontologies/2018/9/colors#Yellow\", \"from\": [\"http://jasper:8181/a40eeede-a099-4d79-bd04-8f5a450f7ac2\", \"http://jasper:8181/cdfbd39e-98a6-46ce-b534-a9b4346f1e93\"]}, {\"@id\": \"urn:uuid:71655433-55fe-4465-be52-a06d9cce53fe\", \"@type\": \"http://www.streamreasoning.org/ontologies/2018/9/colors#Yellow\", \"from\": [\"http://jasper:8181/3fd24239-2ea7-406a-8f93-6184b9b9c39b\", \"http://jasper:8181/cdfbd39e-98a6-46ce-b534-a9b4346f1e93\"]}, {\"@id\": \"urn:uuid:7922c32c-9fd8-4c1a-9da8-521da4c08938\", \"@type\": \"http://www.streamreasoning.org/ontologies/2018/9/colors#Yellow\", \"from\": [\"http://jasper:8181/3fd24239-2ea7-406a-8f93-6184b9b9c39b\", \"http://jasper:8181/2e90a3c8-3359-4c0c-bff2-c7ce91d32772\"]}, {\"@id\": \"urn:uuid:7c695c9c-ddb1-4dc4-85ef-5efdb52a1c7d\", \"@type\": \"http://www.streamreasoning.org/ontologies/2018/9/colors#Yellow\", \"from\": [\"http://jasper:8181/d2e6de49-13e0-4907-ac39-a5e019e3c9d0\", \"http://jasper:8181/c84d5a59-24a6-4886-a251-25691ab27139\"]}, {\"@id\": \"urn:uuid:7d7b4046-b911-4c3f-b3e0-243c1771d48f\", \"@type\": \"http://www.streamreasoning.org/ontologies/2018/9/colors#Yellow\", \"from\": [\"http://jasper:8181/d2e6de49-13e0-4907-ac39-a5e019e3c9d0\", \"http://jasper:8181/2e90a3c8-3359-4c0c-bff2-c7ce91d32772\"]}, {\"@id\": \"urn:uuid:84d713d0-0e6f-40e7-890f-5457d1abb265\", \"@type\": \"http://www.streamreasoning.org/ontologies/2018/9/colors#Yellow\", \"from\": [\"http://jasper:8181/a40eeede-a099-4d79-bd04-8f5a450f7ac2\", \"http://jasper:8181/2b438caf-7f2e-41f8-92f5-be7ccd033a7f\"]}, {\"@id\": \"urn:uuid:88c5107c-4bc7-4a75-b3e9-c7bc127acb4b\", \"@type\": \"http://www.streamreasoning.org/ontologies/2018/9/colors#Yellow\", \"from\": [\"http://jasper:8181/f22db552-f06d-496e-9e22-2aa9e1dbac00\", \"http://jasper:8181/c84d5a59-24a6-4886-a251-25691ab27139\"]}, {\"@id\": \"urn:uuid:a292983b-912a-4d55-a5df-c59b7c41e274\", \"@type\": \"http://www.streamreasoning.org/ontologies/2018/9/colors#Yellow\", \"from\": [\"http://jasper:8181/a40eeede-a099-4d79-bd04-8f5a450f7ac2\", \"http://jasper:8181/c84d5a59-24a6-4886-a251-25691ab27139\"]}, {\"@id\": \"urn:uuid:ac74e3d5-ecdf-44fe-a909-f2d773a94b89\", \"@type\": \"http://www.streamreasoning.org/ontologies/2018/9/colors#Yellow\", \"from\": [\"http://jasper:8181/8418886c-c0e0-4fd6-a049-4e16bfc43f36\", \"http://jasper:8181/2e90a3c8-3359-4c0c-bff2-c7ce91d32772\"]}, {\"@id\": \"urn:uuid:ade8b16d-84d9-492f-8a40-ddbc1666ad85\", \"@type\": \"http://www.streamreasoning.org/ontologies/2018/9/colors#Yellow\", \"from\": [\"http://jasper:8181/a40eeede-a099-4d79-bd04-8f5a450f7ac2\", \"http://jasper:8181/2e90a3c8-3359-4c0c-bff2-c7ce91d32772\"]}, {\"@id\": \"urn:uuid:badadcd1-5285-4edc-907e-35cc7eefcb19\", \"@type\": \"http://www.streamreasoning.org/ontologies/2018/9/colors#Yellow\", \"from\": [\"http://jasper:8181/c87b9ebb-e6ed-4691-8931-312698ef46bb\", \"http://jasper:8181/2e90a3c8-3359-4c0c-bff2-c7ce91d32772\"]}, {\"@id\": \"urn:uuid:c53ea30e-a693-49ed-92b4-96a9aa192f2d\", \"@type\": \"http://www.streamreasoning.org/ontologies/2018/9/colors#Yellow\", \"from\": [\"http://jasper:8181/8418886c-c0e0-4fd6-a049-4e16bfc43f36\", \"http://jasper:8181/2b438caf-7f2e-41f8-92f5-be7ccd033a7f\"]}, {\"@id\": \"urn:uuid:c54df492-46da-43a2-a308-1d19c351e85b\", \"@type\": \"http://www.streamreasoning.org/ontologies/2018/9/colors#Yellow\", \"from\": [\"http://jasper:8181/8848c830-775a-40a9-a112-4e0895c1d1a2\", \"http://jasper:8181/2e90a3c8-3359-4c0c-bff2-c7ce91d32772\"]}, {\"@id\": \"urn:uuid:d33df0ae-29f7-436e-b914-5aec77f58231\", \"@type\": \"http://www.streamreasoning.org/ontologies/2018/9/colors#Yellow\", \"from\": [\"http://jasper:8181/ddc083ed-20cc-4fe0-8373-d9506cf20076\", \"http://jasper:8181/2e90a3c8-3359-4c0c-bff2-c7ce91d32772\"]}, {\"@id\": \"urn:uuid:d3ebd445-80cc-4343-8c49-1db9dbb82b84\", \"@type\": \"http://www.streamreasoning.org/ontologies/2018/9/colors#Yellow\", \"from\": [\"http://jasper:8181/d2e6de49-13e0-4907-ac39-a5e019e3c9d0\", \"http://jasper:8181/2b438caf-7f2e-41f8-92f5-be7ccd033a7f\"]}, {\"@id\": \"urn:uuid:d4bf821b-e9f3-4e51-bd57-be4bc41430d7\", \"@type\": \"http://www.streamreasoning.org/ontologies/2018/9/colors#Yellow\", \"from\": [\"http://jasper:8181/c87b9ebb-e6ed-4691-8931-312698ef46bb\", \"http://jasper:8181/cdfbd39e-98a6-46ce-b534-a9b4346f1e93\"]}, {\"@id\": \"urn:uuid:dc81d6cd-cd0c-4af6-9caf-17aacec7f632\", \"@type\": \"http://www.streamreasoning.org/ontologies/2018/9/colors#Yellow\", \"from\": [\"http://jasper:8181/c87b9ebb-e6ed-4691-8931-312698ef46bb\", \"http://jasper:8181/c84d5a59-24a6-4886-a251-25691ab27139\"]}, {\"@id\": \"urn:uuid:e93db47c-8105-4ede-9641-94b0bae7e32b\", \"@type\": \"http://www.streamreasoning.org/ontologies/2018/9/colors#Yellow\", \"from\": [\"http://jasper:8181/8848c830-775a-40a9-a112-4e0895c1d1a2\", \"http://jasper:8181/c84d5a59-24a6-4886-a251-25691ab27139\"]}, {\"@id\": \"urn:uuid:ee74eaf4-e830-47d2-b6c0-fe920bbd361d\", \"@type\": \"http://www.streamreasoning.org/ontologies/2018/9/colors#Yellow\", \"from\": [\"http://jasper:8181/3fd24239-2ea7-406a-8f93-6184b9b9c39b\", \"http://jasper:8181/c84d5a59-24a6-4886-a251-25691ab27139\"]}, {\"@id\": \"urn:uuid:ef5d8972-071d-4b7d-8192-2ec3eaf1a1c2\", \"@type\": \"http://www.streamreasoning.org/ontologies/2018/9/colors#Yellow\", \"from\": [\"http://jasper:8181/f22db552-f06d-496e-9e22-2aa9e1dbac00\", \"http://jasper:8181/2b438caf-7f2e-41f8-92f5-be7ccd033a7f\"]}, {\"@id\": \"urn:uuid:f9e4dba4-555e-40ce-a185-ec673c1c6a08\", \"@type\": \"http://www.streamreasoning.org/ontologies/2018/9/colors#Yellow\", \"from\": [\"http://jasper:8181/f22db552-f06d-496e-9e22-2aa9e1dbac00\", \"http://jasper:8181/cdfbd39e-98a6-46ce-b534-a9b4346f1e93\"]}, {\"@id\": \"urn:uuid:fac37a37-d8fd-4e1d-b7bb-ab60796d5125\", \"@type\": \"http://www.streamreasoning.org/ontologies/2018/9/colors#Yellow\", \"from\": [\"http://jasper:8181/8848c830-775a-40a9-a112-4e0895c1d1a2\", \"http://jasper:8181/2b438caf-7f2e-41f8-92f5-be7ccd033a7f\"]}], \"@context\": {\"from\": {\"@id\": \"http://www.streamreasoning.org/ontologies/2018/9/colors#from\", \"@type\": \"@id\"}}}))\n",
       "        });\n",
       "        "
      ]
     },
     "metadata": {},
     "output_type": "display_data"
    }
   ],
   "source": [
    "resp"
   ]
  },
  {
   "cell_type": "code",
   "execution_count": null,
   "metadata": {},
   "outputs": [],
   "source": []
  }
 ],
 "metadata": {
  "kernelspec": {
   "display_name": "Python 3",
   "language": "python",
   "name": "python3"
  },
  "language_info": {
   "codemirror_mode": {
    "name": "ipython",
    "version": 3
   },
   "file_extension": ".py",
   "mimetype": "text/x-python",
   "name": "python",
   "nbconvert_exporter": "python",
   "pygments_lexer": "ipython3",
   "version": "3.6.2"
  }
 },
 "nbformat": 4,
 "nbformat_minor": 2
}
