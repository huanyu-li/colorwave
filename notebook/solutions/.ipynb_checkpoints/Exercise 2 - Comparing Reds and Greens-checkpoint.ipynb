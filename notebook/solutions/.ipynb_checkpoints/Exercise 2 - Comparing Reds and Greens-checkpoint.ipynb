{
 "cells": [
  {
   "cell_type": "code",
   "execution_count": 1,
   "metadata": {},
   "outputs": [],
   "source": [
    "from rsplib import RSPEngine, RSPPublisher, Stream, rdf_table,load_graph, accessURL"
   ]
  },
  {
   "cell_type": "code",
   "execution_count": 2,
   "metadata": {},
   "outputs": [],
   "source": [
    "jasper = RSPEngine(\"http://jasper:8181/jasper\")"
   ]
  },
  {
   "cell_type": "code",
   "execution_count": 3,
   "metadata": {},
   "outputs": [
    {
     "data": {
      "text/plain": [
       "[<rsplib.rsp.Stream at 0x7fc3984107f0>, <rsplib.rsp.Stream at 0x7fc3721de278>]"
      ]
     },
     "execution_count": 3,
     "metadata": {},
     "output_type": "execute_result"
    }
   ],
   "source": [
    "jasper.streams()"
   ]
  },
  {
   "cell_type": "code",
   "execution_count": 21,
   "metadata": {},
   "outputs": [
    {
     "data": {
      "text/html": [
       "<div id=\"55cf2f61-13a9-4789-974f-5d580bba5885\" style=\"height: 150px; width:100%;\"></div>"
      ]
     },
     "metadata": {},
     "output_type": "display_data"
    },
    {
     "data": {
      "application/javascript": [
       "\n",
       "        require([\"https://rawgit.com/caldwell/renderjson/master/renderjson.js\"], function() {\n",
       "          document.getElementById('55cf2f61-13a9-4789-974f-5d580bba5885').appendChild(renderjson([]))\n",
       "        });\n",
       "        "
      ]
     },
     "metadata": {},
     "output_type": "display_data"
    }
   ],
   "source": [
    "jasper.tasks()"
   ]
  },
  {
   "cell_type": "code",
   "execution_count": 23,
   "metadata": {},
   "outputs": [],
   "source": [
    "qid = 'redgreen'\n",
    "tbox = 'https://raw.githubusercontent.com/riccardotommasini/colorwave/master/colors.owl'\n",
    "frmt = 'JSON'\n",
    "body = '''\n",
    "    \n",
    "SELECT (COUNT(?r) AS ?cntr) (count(?g) AS ?cntg) ((?cntr>?cntg) as ?moreRedsThanGreens)\n",
    "FROM NAMED WINDOW <rw> ON <http://redstream:1255/red> [RANGE PT15S STEP PT5S]\n",
    "FROM NAMED WINDOW <gw> ON <http://greenstream:2255/green> [RANGE PT15S STEP PT5S]\n",
    "WHERE {\n",
    "    { WINDOW <rw> { ?r a <http://www.streamreasoning.org/ontologies/2018/9/colors#Red> .} }\n",
    "    UNION \n",
    "    { WINDOW <gw> { ?g a <http://www.streamreasoning.org/ontologies/2018/9/colors#Green> .} }\n",
    "}\n",
    "\n",
    "    '''"
   ]
  },
  {
   "cell_type": "code",
   "execution_count": 24,
   "metadata": {},
   "outputs": [
    {
     "data": {
      "text/html": [
       "<div id=\"669c1800-0aa7-41a5-8949-d3f7bc5e038d\" style=\"height: 150px; width:100%;\"></div>"
      ]
     },
     "metadata": {},
     "output_type": "display_data"
    },
    {
     "data": {
      "application/javascript": [
       "\n",
       "        require([\"https://rawgit.com/caldwell/renderjson/master/renderjson.js\"], function() {\n",
       "          document.getElementById('669c1800-0aa7-41a5-8949-d3f7bc5e038d').appendChild(renderjson({\"@id\": \"queries/redgreen\", \"@type\": \"vprov:Task\", \"prov:generated\": {\"@id\": \"streams/redgreen\"}, \"prov:uses\": {\"@id\": \"http://greenstream:2255/green\"}, \"@context\": {\"@base\": \"http://jasper:8181/jasper/\", \"rdf\": \"http://www.w3.org/1999/02/22-rdf-syntax-ns#\", \"vsd\": \"http://w3id.org/rsp/vocals-sd#\", \"vocals\": \"http://w3id.org/rsp/vocals#\", \"xsd\": \"http://www.w3.org/2001/XMLSchema#\", \"format\": \"http://www.w3.org/ns/formats/\", \"rdfs\": \"http://www.w3.org/2000/01/rdf-schema#\", \"vprov\": \"http://w3id.org/rsp/vocals-prov#\", \"dcat\": \"http://www.w3.org/ns/dcat#\", \"prov\": \"http://www.w3.org/ns/prov#\"}}))\n",
       "        });\n",
       "        "
      ]
     },
     "metadata": {},
     "output_type": "display_data"
    }
   ],
   "source": [
    "jasper.create(qid, body, tbox, frmt)"
   ]
  },
  {
   "cell_type": "code",
   "execution_count": 25,
   "metadata": {},
   "outputs": [],
   "source": [
    "r = jasper.expose(qid, 'HTTP', retention=5)"
   ]
  },
  {
   "cell_type": "code",
   "execution_count": 26,
   "metadata": {},
   "outputs": [
    {
     "data": {
      "text/html": [
       "<div id=\"a9e93363-db87-4926-8790-f568e2e073b7\" style=\"height: 150px; width:100%;\"></div>"
      ]
     },
     "metadata": {},
     "output_type": "display_data"
    },
    {
     "data": {
      "application/javascript": [
       "\n",
       "        require([\"https://rawgit.com/caldwell/renderjson/master/renderjson.js\"], function() {\n",
       "          document.getElementById('a9e93363-db87-4926-8790-f568e2e073b7').appendChild(renderjson([\n",
       "  {\n",
       "    \"@id\": \"_:N813849f23bb541c080d8c8983b2beab2\",\n",
       "    \"@type\": [\n",
       "      \"vocals:StreamDescriptor\"\n",
       "    ],\n",
       "    \"dcat:dataset\": [\n",
       "      {\n",
       "        \"@id\": \"http://jasper:8181/jasper/streams/redgreen\"\n",
       "      }\n",
       "    ]\n",
       "  },\n",
       "  {\n",
       "    \"@id\": \"http://jasper:8181/jasper/streams/redgreen\",\n",
       "    \"@type\": [\n",
       "      \"vocals:RDFStream\"\n",
       "    ],\n",
       "    \"vocals:hasEndpoint\": [\n",
       "      {\n",
       "        \"@id\": \"_:N741b85cbb00f49d5972d636295f9e67d\"\n",
       "      },\n",
       "      {\n",
       "        \"@id\": \"_:N898cce097e6d41cbbd9741393d1a70f0\"\n",
       "      }\n",
       "    ]\n",
       "  },\n",
       "  {\n",
       "    \"@id\": \"_:N741b85cbb00f49d5972d636295f9e67d\",\n",
       "    \"@type\": [\n",
       "      \"vocals:StreamEndpoint\"\n",
       "    ],\n",
       "    \"dcat:accessURL\": [\n",
       "      {\n",
       "        \"@value\": \"http://jasper:8186/jasper/streams/redgreen/observers/1520500489\"\n",
       "      }\n",
       "    ]\n",
       "  },\n",
       "  {\n",
       "    \"@id\": \"_:N898cce097e6d41cbbd9741393d1a70f0\",\n",
       "    \"@type\": [\n",
       "      \"vocals:StreamEndpoint\"\n",
       "    ],\n",
       "    \"dcat:accessURL\": [\n",
       "      {\n",
       "        \"@value\": \"http://jasper:8186/jasper/streams/redgreen/observers/1520500489\"\n",
       "      }\n",
       "    ]\n",
       "  }\n",
       "]))\n",
       "        });\n",
       "        "
      ]
     },
     "metadata": {},
     "output_type": "display_data"
    }
   ],
   "source": [
    "r"
   ]
  },
  {
   "cell_type": "code",
   "execution_count": 27,
   "metadata": {},
   "outputs": [],
   "source": [
    "r = jasper.observers(qid).endpoints()[0]"
   ]
  },
  {
   "cell_type": "code",
   "execution_count": 28,
   "metadata": {
    "scrolled": true
   },
   "outputs": [
    {
     "data": {
      "text/plain": [
       "GET http://jasper:8186/jasper/streams/redgreen/observers/1520500489"
      ]
     },
     "execution_count": 28,
     "metadata": {},
     "output_type": "execute_result"
    }
   ],
   "source": [
    "r"
   ]
  },
  {
   "cell_type": "code",
   "execution_count": 29,
   "metadata": {},
   "outputs": [],
   "source": [
    "resp = r.call()"
   ]
  },
  {
   "cell_type": "code",
   "execution_count": 31,
   "metadata": {},
   "outputs": [
    {
     "data": {
      "text/html": [
       "<div>\n",
       "<table border=\"1\" class=\"dataframe\">\n",
       "  <thead>\n",
       "    <tr style=\"text-align: right;\">\n",
       "      <th></th>\n",
       "      <th>head_vars_0</th>\n",
       "      <th>head_vars_1</th>\n",
       "      <th>head_vars_2</th>\n",
       "      <th>results_bindings_0_cntg_datatype</th>\n",
       "      <th>results_bindings_0_cntg_type</th>\n",
       "      <th>results_bindings_0_cntg_value</th>\n",
       "      <th>results_bindings_0_cntr_datatype</th>\n",
       "      <th>results_bindings_0_cntr_type</th>\n",
       "      <th>results_bindings_0_cntr_value</th>\n",
       "      <th>results_bindings_0_moreRedsThanGreens_datatype</th>\n",
       "      <th>results_bindings_0_moreRedsThanGreens_type</th>\n",
       "      <th>results_bindings_0_moreRedsThanGreens_value</th>\n",
       "    </tr>\n",
       "  </thead>\n",
       "  <tbody>\n",
       "    <tr>\n",
       "      <th>0</th>\n",
       "      <td>cntr</td>\n",
       "      <td>cntg</td>\n",
       "      <td>moreRedsThanGreens</td>\n",
       "      <td>http://www.w3.org/2001/XMLSchema#integer</td>\n",
       "      <td>literal</td>\n",
       "      <td>3</td>\n",
       "      <td>http://www.w3.org/2001/XMLSchema#integer</td>\n",
       "      <td>literal</td>\n",
       "      <td>2</td>\n",
       "      <td>http://www.w3.org/2001/XMLSchema#boolean</td>\n",
       "      <td>literal</td>\n",
       "      <td>false</td>\n",
       "    </tr>\n",
       "    <tr>\n",
       "      <th>1</th>\n",
       "      <td>cntr</td>\n",
       "      <td>cntg</td>\n",
       "      <td>moreRedsThanGreens</td>\n",
       "      <td>http://www.w3.org/2001/XMLSchema#integer</td>\n",
       "      <td>literal</td>\n",
       "      <td>2</td>\n",
       "      <td>http://www.w3.org/2001/XMLSchema#integer</td>\n",
       "      <td>literal</td>\n",
       "      <td>2</td>\n",
       "      <td>http://www.w3.org/2001/XMLSchema#boolean</td>\n",
       "      <td>literal</td>\n",
       "      <td>false</td>\n",
       "    </tr>\n",
       "    <tr>\n",
       "      <th>2</th>\n",
       "      <td>cntr</td>\n",
       "      <td>cntg</td>\n",
       "      <td>moreRedsThanGreens</td>\n",
       "      <td>http://www.w3.org/2001/XMLSchema#integer</td>\n",
       "      <td>literal</td>\n",
       "      <td>3</td>\n",
       "      <td>http://www.w3.org/2001/XMLSchema#integer</td>\n",
       "      <td>literal</td>\n",
       "      <td>2</td>\n",
       "      <td>http://www.w3.org/2001/XMLSchema#boolean</td>\n",
       "      <td>literal</td>\n",
       "      <td>false</td>\n",
       "    </tr>\n",
       "    <tr>\n",
       "      <th>3</th>\n",
       "      <td>cntr</td>\n",
       "      <td>cntg</td>\n",
       "      <td>moreRedsThanGreens</td>\n",
       "      <td>http://www.w3.org/2001/XMLSchema#integer</td>\n",
       "      <td>literal</td>\n",
       "      <td>3</td>\n",
       "      <td>http://www.w3.org/2001/XMLSchema#integer</td>\n",
       "      <td>literal</td>\n",
       "      <td>3</td>\n",
       "      <td>http://www.w3.org/2001/XMLSchema#boolean</td>\n",
       "      <td>literal</td>\n",
       "      <td>false</td>\n",
       "    </tr>\n",
       "    <tr>\n",
       "      <th>4</th>\n",
       "      <td>cntr</td>\n",
       "      <td>cntg</td>\n",
       "      <td>moreRedsThanGreens</td>\n",
       "      <td>http://www.w3.org/2001/XMLSchema#integer</td>\n",
       "      <td>literal</td>\n",
       "      <td>3</td>\n",
       "      <td>http://www.w3.org/2001/XMLSchema#integer</td>\n",
       "      <td>literal</td>\n",
       "      <td>4</td>\n",
       "      <td>http://www.w3.org/2001/XMLSchema#boolean</td>\n",
       "      <td>literal</td>\n",
       "      <td>true</td>\n",
       "    </tr>\n",
       "  </tbody>\n",
       "</table>\n",
       "</div>"
      ],
      "text/plain": [
       "  head_vars_0 head_vars_1         head_vars_2  \\\n",
       "0        cntr        cntg  moreRedsThanGreens   \n",
       "1        cntr        cntg  moreRedsThanGreens   \n",
       "2        cntr        cntg  moreRedsThanGreens   \n",
       "3        cntr        cntg  moreRedsThanGreens   \n",
       "4        cntr        cntg  moreRedsThanGreens   \n",
       "\n",
       "           results_bindings_0_cntg_datatype results_bindings_0_cntg_type  \\\n",
       "0  http://www.w3.org/2001/XMLSchema#integer                      literal   \n",
       "1  http://www.w3.org/2001/XMLSchema#integer                      literal   \n",
       "2  http://www.w3.org/2001/XMLSchema#integer                      literal   \n",
       "3  http://www.w3.org/2001/XMLSchema#integer                      literal   \n",
       "4  http://www.w3.org/2001/XMLSchema#integer                      literal   \n",
       "\n",
       "  results_bindings_0_cntg_value          results_bindings_0_cntr_datatype  \\\n",
       "0                             3  http://www.w3.org/2001/XMLSchema#integer   \n",
       "1                             2  http://www.w3.org/2001/XMLSchema#integer   \n",
       "2                             3  http://www.w3.org/2001/XMLSchema#integer   \n",
       "3                             3  http://www.w3.org/2001/XMLSchema#integer   \n",
       "4                             3  http://www.w3.org/2001/XMLSchema#integer   \n",
       "\n",
       "  results_bindings_0_cntr_type results_bindings_0_cntr_value  \\\n",
       "0                      literal                             2   \n",
       "1                      literal                             2   \n",
       "2                      literal                             2   \n",
       "3                      literal                             3   \n",
       "4                      literal                             4   \n",
       "\n",
       "  results_bindings_0_moreRedsThanGreens_datatype  \\\n",
       "0       http://www.w3.org/2001/XMLSchema#boolean   \n",
       "1       http://www.w3.org/2001/XMLSchema#boolean   \n",
       "2       http://www.w3.org/2001/XMLSchema#boolean   \n",
       "3       http://www.w3.org/2001/XMLSchema#boolean   \n",
       "4       http://www.w3.org/2001/XMLSchema#boolean   \n",
       "\n",
       "  results_bindings_0_moreRedsThanGreens_type  \\\n",
       "0                                    literal   \n",
       "1                                    literal   \n",
       "2                                    literal   \n",
       "3                                    literal   \n",
       "4                                    literal   \n",
       "\n",
       "  results_bindings_0_moreRedsThanGreens_value  \n",
       "0                                       false  \n",
       "1                                       false  \n",
       "2                                       false  \n",
       "3                                       false  \n",
       "4                                        true  "
      ]
     },
     "execution_count": 31,
     "metadata": {},
     "output_type": "execute_result"
    }
   ],
   "source": [
    "resp.flatten().dataframe()"
   ]
  },
  {
   "cell_type": "code",
   "execution_count": 37,
   "metadata": {},
   "outputs": [
    {
     "data": {
      "text/html": [
       "<div>\n",
       "<table border=\"1\" class=\"dataframe\">\n",
       "  <thead>\n",
       "    <tr style=\"text-align: right;\">\n",
       "      <th></th>\n",
       "      <th>head_vars_0</th>\n",
       "      <th>head_vars_1</th>\n",
       "      <th>head_vars_2</th>\n",
       "      <th>results_bindings_0_cntg_datatype</th>\n",
       "      <th>results_bindings_0_cntg_type</th>\n",
       "      <th>results_bindings_0_cntg_value</th>\n",
       "      <th>results_bindings_0_cntr_datatype</th>\n",
       "      <th>results_bindings_0_cntr_type</th>\n",
       "      <th>results_bindings_0_cntr_value</th>\n",
       "      <th>results_bindings_0_moreRedsThanGreens_datatype</th>\n",
       "      <th>results_bindings_0_moreRedsThanGreens_type</th>\n",
       "      <th>results_bindings_0_moreRedsThanGreens_value</th>\n",
       "    </tr>\n",
       "  </thead>\n",
       "  <tbody>\n",
       "    <tr>\n",
       "      <th>0</th>\n",
       "      <td>cntr</td>\n",
       "      <td>cntg</td>\n",
       "      <td>moreRedsThanGreens</td>\n",
       "      <td>http://www.w3.org/2001/XMLSchema#integer</td>\n",
       "      <td>literal</td>\n",
       "      <td>3</td>\n",
       "      <td>http://www.w3.org/2001/XMLSchema#integer</td>\n",
       "      <td>literal</td>\n",
       "      <td>2</td>\n",
       "      <td>http://www.w3.org/2001/XMLSchema#boolean</td>\n",
       "      <td>literal</td>\n",
       "      <td>false</td>\n",
       "    </tr>\n",
       "    <tr>\n",
       "      <th>1</th>\n",
       "      <td>cntr</td>\n",
       "      <td>cntg</td>\n",
       "      <td>moreRedsThanGreens</td>\n",
       "      <td>http://www.w3.org/2001/XMLSchema#integer</td>\n",
       "      <td>literal</td>\n",
       "      <td>2</td>\n",
       "      <td>http://www.w3.org/2001/XMLSchema#integer</td>\n",
       "      <td>literal</td>\n",
       "      <td>2</td>\n",
       "      <td>http://www.w3.org/2001/XMLSchema#boolean</td>\n",
       "      <td>literal</td>\n",
       "      <td>false</td>\n",
       "    </tr>\n",
       "    <tr>\n",
       "      <th>2</th>\n",
       "      <td>cntr</td>\n",
       "      <td>cntg</td>\n",
       "      <td>moreRedsThanGreens</td>\n",
       "      <td>http://www.w3.org/2001/XMLSchema#integer</td>\n",
       "      <td>literal</td>\n",
       "      <td>3</td>\n",
       "      <td>http://www.w3.org/2001/XMLSchema#integer</td>\n",
       "      <td>literal</td>\n",
       "      <td>2</td>\n",
       "      <td>http://www.w3.org/2001/XMLSchema#boolean</td>\n",
       "      <td>literal</td>\n",
       "      <td>false</td>\n",
       "    </tr>\n",
       "    <tr>\n",
       "      <th>3</th>\n",
       "      <td>cntr</td>\n",
       "      <td>cntg</td>\n",
       "      <td>moreRedsThanGreens</td>\n",
       "      <td>http://www.w3.org/2001/XMLSchema#integer</td>\n",
       "      <td>literal</td>\n",
       "      <td>3</td>\n",
       "      <td>http://www.w3.org/2001/XMLSchema#integer</td>\n",
       "      <td>literal</td>\n",
       "      <td>3</td>\n",
       "      <td>http://www.w3.org/2001/XMLSchema#boolean</td>\n",
       "      <td>literal</td>\n",
       "      <td>false</td>\n",
       "    </tr>\n",
       "    <tr>\n",
       "      <th>4</th>\n",
       "      <td>cntr</td>\n",
       "      <td>cntg</td>\n",
       "      <td>moreRedsThanGreens</td>\n",
       "      <td>http://www.w3.org/2001/XMLSchema#integer</td>\n",
       "      <td>literal</td>\n",
       "      <td>3</td>\n",
       "      <td>http://www.w3.org/2001/XMLSchema#integer</td>\n",
       "      <td>literal</td>\n",
       "      <td>4</td>\n",
       "      <td>http://www.w3.org/2001/XMLSchema#boolean</td>\n",
       "      <td>literal</td>\n",
       "      <td>true</td>\n",
       "    </tr>\n",
       "  </tbody>\n",
       "</table>\n",
       "</div>"
      ],
      "text/plain": [
       "  head_vars_0 head_vars_1         head_vars_2  \\\n",
       "0        cntr        cntg  moreRedsThanGreens   \n",
       "1        cntr        cntg  moreRedsThanGreens   \n",
       "2        cntr        cntg  moreRedsThanGreens   \n",
       "3        cntr        cntg  moreRedsThanGreens   \n",
       "4        cntr        cntg  moreRedsThanGreens   \n",
       "\n",
       "           results_bindings_0_cntg_datatype results_bindings_0_cntg_type  \\\n",
       "0  http://www.w3.org/2001/XMLSchema#integer                      literal   \n",
       "1  http://www.w3.org/2001/XMLSchema#integer                      literal   \n",
       "2  http://www.w3.org/2001/XMLSchema#integer                      literal   \n",
       "3  http://www.w3.org/2001/XMLSchema#integer                      literal   \n",
       "4  http://www.w3.org/2001/XMLSchema#integer                      literal   \n",
       "\n",
       "   results_bindings_0_cntg_value          results_bindings_0_cntr_datatype  \\\n",
       "0                              3  http://www.w3.org/2001/XMLSchema#integer   \n",
       "1                              2  http://www.w3.org/2001/XMLSchema#integer   \n",
       "2                              3  http://www.w3.org/2001/XMLSchema#integer   \n",
       "3                              3  http://www.w3.org/2001/XMLSchema#integer   \n",
       "4                              3  http://www.w3.org/2001/XMLSchema#integer   \n",
       "\n",
       "  results_bindings_0_cntr_type  results_bindings_0_cntr_value  \\\n",
       "0                      literal                              2   \n",
       "1                      literal                              2   \n",
       "2                      literal                              2   \n",
       "3                      literal                              3   \n",
       "4                      literal                              4   \n",
       "\n",
       "  results_bindings_0_moreRedsThanGreens_datatype  \\\n",
       "0       http://www.w3.org/2001/XMLSchema#boolean   \n",
       "1       http://www.w3.org/2001/XMLSchema#boolean   \n",
       "2       http://www.w3.org/2001/XMLSchema#boolean   \n",
       "3       http://www.w3.org/2001/XMLSchema#boolean   \n",
       "4       http://www.w3.org/2001/XMLSchema#boolean   \n",
       "\n",
       "  results_bindings_0_moreRedsThanGreens_type  \\\n",
       "0                                    literal   \n",
       "1                                    literal   \n",
       "2                                    literal   \n",
       "3                                    literal   \n",
       "4                                    literal   \n",
       "\n",
       "  results_bindings_0_moreRedsThanGreens_value  \n",
       "0                                       false  \n",
       "1                                       false  \n",
       "2                                       false  \n",
       "3                                       false  \n",
       "4                                        true  "
      ]
     },
     "execution_count": 37,
     "metadata": {},
     "output_type": "execute_result"
    }
   ],
   "source": [
    "df = resp.flatten().dataframe(['results_bindings_0_cntg_value', 'results_bindings_0_cntr_value'])\n",
    "df"
   ]
  },
  {
   "cell_type": "code",
   "execution_count": 38,
   "metadata": {},
   "outputs": [
    {
     "data": {
      "image/png": "[encoded data removed]",
      "text/plain": [
       "<matplotlib.figure.Figure at 0x7fc36fc95198>"
      ]
     },
     "metadata": {},
     "output_type": "display_data"
    }
   ],
   "source": [
    "%matplotlib inline\n",
    "import pandas as pd\n",
    "\n",
    "df1 = df[['results_bindings_0_cntg_value','results_bindings_0_cntr_value']]\n",
    "cntg_mean = df1['results_bindings_0_cntg_value'].mean()\n",
    "cntr_mean = df1['results_bindings_0_cntr_value'].mean()\n",
    "\n",
    "df = pd.DataFrame({'means': [cntg_mean, cntr_mean]}, index=['red', 'green'])\n",
    "plot = df.plot.pie(y='means', colors=[\"#e10000\", \"#00e100\"], figsize=(5, 5))"
   ]
  },
  {
   "cell_type": "code",
   "execution_count": null,
   "metadata": {},
   "outputs": [],
   "source": []
  },
  {
   "cell_type": "code",
   "execution_count": null,
   "metadata": {},
   "outputs": [],
   "source": []
  }
 ],
 "metadata": {
  "kernelspec": {
   "display_name": "Python 3",
   "language": "python",
   "name": "python3"
  },
  "language_info": {
   "codemirror_mode": {
    "name": "ipython",
    "version": 3
   },
   "file_extension": ".py",
   "mimetype": "text/x-python",
   "name": "python",
   "nbconvert_exporter": "python",
   "pygments_lexer": "ipython3",
   "version": "3.6.2"
  }
 },
 "nbformat": 4,
 "nbformat_minor": 2
}
