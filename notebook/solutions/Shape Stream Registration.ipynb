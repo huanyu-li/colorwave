{
 "cells": [
  {
   "cell_type": "code",
   "execution_count": 1,
   "metadata": {},
   "outputs": [],
   "source": [
    "from rsplib import RSPPublisher"
   ]
  },
  {
   "cell_type": "code",
   "execution_count": 2,
   "metadata": {},
   "outputs": [],
   "source": [
    "streamhub = RSPPublisher(\"http://streamhub:9292/streamhub\")"
   ]
  },
  {
   "cell_type": "code",
   "execution_count": 3,
   "metadata": {},
   "outputs": [],
   "source": [
    "vocals = '''\n",
    "BASE  <http://streamhub:9292/streamhub>\n",
    "PREFIX xsd: <http://www.w3.org/2001/XMLSchema#>\n",
    "PREFIX rdfs: <http://www.w3.org/2000/01/rdf-schema#>\n",
    "PREFIX dcat: <http://www.w3.org/ns/dcat#>\n",
    "PREFIX frmt: <http://www.w3.org/ns/formats/>\n",
    "PREFIX vocals: <http://w3id.org/rsp/vocals#>\n",
    "PREFIX vsd: <http://w3id.org/rsp/vocals-sd#>\n",
    "REGISTER STREAM :Shape\n",
    "FROM SOURCE <ws://shapestream:4040/shapes>\n",
    "WHERE {\n",
    "\n",
    "           {this} a vocals:StreamDescriptor .\n",
    "\n",
    "           {publisher} a vsd:PublishingService ;\n",
    "                         vsd:hasFeature vsd:replaying ;\n",
    "                         vsd:resultFormat frmt:JSON-LD .\n",
    "\n",
    "           :ShapeEndpoint a vocals:StreamEndpoint ;\n",
    "                            dcat:title \"A Shape Stream Endpoint\"^^xsd:string ;\n",
    "                            dcat:description \"Streaming endpoint to consume Colors via WebSocket\"^^xsd:string ;\n",
    "                            dcat:license <https://creativecommons.org/licenses/by-nc/4.0/> ;\n",
    "                            dcat:format frmt:JSON-LD ;\n",
    "                            dcat:accessURL {source} ;\n",
    "                            vsd:publishedBy {publisher} .\n",
    "\n",
    "           {stream} a vocals:RDFStream ;\n",
    "                    dcat:title \"Shape Shape Stream\"^^xsd:string ;\n",
    "                    dcat:description \"Stream of Shape color instances\"^^xsd:string ;\n",
    "                    dcat:publisher {publisher} ;\n",
    "                    dcat:landingPage <https://example.org/rw/colors/> ;\n",
    "                    vocals:hasEndpoint :ShapeEndpoint  .\n",
    "\n",
    "}'''"
   ]
  },
  {
   "cell_type": "code",
   "execution_count": 4,
   "metadata": {},
   "outputs": [
    {
     "data": {
      "text/html": [
       "<div id=\"038569f2-a35f-4e4d-99c4-9031660d18d6\" style=\"height: 150px; width:100%;\"></div>"
      ]
     },
     "metadata": {},
     "output_type": "display_data"
    },
    {
     "data": {
      "application/javascript": [
       "\n",
       "        require([\"http://localhost:8080/files/renderjson.js\"], function() {\n",
       "          document.getElementById('038569f2-a35f-4e4d-99c4-9031660d18d6').appendChild(renderjson({\"@id\": \"streams/Shape\", \"@type\": \"vocals:StreamDescriptor\", \"dcat:dataset\": {\"@id\": \"streams/Shape\", \"@type\": \"vocals:RDFStream\", \"dcat:description\": \"Stream of Shape color instances\", \"dcat:landingPage\": \"https://example.org/rw/colors/\", \"dcat:publisher\": \"http://streamhub:9292/streamhub\", \"dcat:title\": \"Shape Shape Stream\", \"vocals:hasEndpoint\": [[{\"@id\": \"http://streamhub:9292/streamhub/ShapeEndpoint\", \"@type\": \"http://w3id.org/rsp/vocals#StreamEndpoint\", \"dcat:title\": \"A Shape Stream Endpoint\", \"dcat:description\": \"Streaming endpoint to consume Colors via WebSocket\", \"dcat:license\": \"https://creativecommons.org/licenses/by-nc/4.0/\", \"dcat:format\": \"http://www.w3.org/ns/formats/JSON-LD\", \"dcat:accessURL\": \"ws://shapestream:4040/shapes\", \"vsd:publishedBy\": \"http://streamhub:9292/streamhub\"}], \"http://streamhub:9292/streamhub/ShapeEndpoint\"]}, \"vsd:publishedBy\": {\"@id\": \"./\", \"@type\": \"vsd:PublishingService\", \"vsd:hasFeature\": \"http://w3id.org/rsp/vocals-sd#replaying\", \"vsd:resultFormat\": \"http://www.w3.org/ns/formats/JSON-LD\"}, \"@context\": {\"frmt\": \"http://www.w3.org/ns/formats/\", \"owl\": \"http://www.w3.org/2002/07/owl#\", \"rdf\": \"http://www.w3.org/1999/02/22-rdf-syntax-ns#\", \"vsd\": \"http://w3id.org/rsp/vocals-sd#\", \"xsd\": \"http://www.w3.org/2001/XMLSchema#\", \"format\": \"http://www.w3.org/ns/formats/\", \"vocals\": \"http://w3id.org/rsp/vocals#\", \"rdfs\": \"http://www.w3.org/2000/01/rdf-schema#\", \"vprov\": \"http://w3id.org/rsp/vocals-prov#\", \"dcat\": \"http://www.w3.org/ns/dcat#\", \"@base\": \"http://streamhub:9292/streamhub/\", \"dcat:accessURL\": {\"@type\": \"xsd:string\"}, \"dcat:description\": {\"@type\": \"http://www.w3.org/2001/XMLSchema#string\"}, \"dcat:title\": {\"@type\": \"http://www.w3.org/2001/XMLSchema#string\"}}}))\n",
       "        });\n",
       "        "
      ]
     },
     "metadata": {},
     "output_type": "display_data"
    }
   ],
   "source": [
    "streamhub.publish(vocals)"
   ]
  },
  {
   "cell_type": "code",
   "execution_count": 5,
   "metadata": {},
   "outputs": [
    {
     "data": {
      "text/plain": [
       "[http://streamhub:9292/streamhub/streams/Shape]"
      ]
     },
     "execution_count": 5,
     "metadata": {},
     "output_type": "execute_result"
    }
   ],
   "source": [
    "streamhub.lists()"
   ]
  },
  {
   "cell_type": "code",
   "execution_count": null,
   "metadata": {},
   "outputs": [],
   "source": []
  }
 ],
 "metadata": {
  "kernelspec": {
   "display_name": "Python 3",
   "language": "python",
   "name": "python3"
  },
  "language_info": {
   "codemirror_mode": {
    "name": "ipython",
    "version": 3
   },
   "file_extension": ".py",
   "mimetype": "text/x-python",
   "name": "python",
   "nbconvert_exporter": "python",
   "pygments_lexer": "ipython3",
   "version": "3.6.3"
  }
 },
 "nbformat": 4,
 "nbformat_minor": 2
}
