{
 "cells": [
  {
   "cell_type": "code",
   "execution_count": 1,
   "metadata": {},
   "outputs": [],
   "source": [
    "from rsplib import RSPEngine, RSPPublisher, Stream, rdf_table,load_graph, accessURL"
   ]
  },
  {
   "cell_type": "code",
   "execution_count": 2,
   "metadata": {},
   "outputs": [],
   "source": [
    "jasper = RSPEngine(\"http://jasper:8181/jasper\")"
   ]
  },
  {
   "cell_type": "code",
   "execution_count": 3,
   "metadata": {},
   "outputs": [],
   "source": [
    "qid  = 'yellow'\n",
    "tbox = 'https://raw.githubusercontent.com/riccardotommasini/colorwave/master/colors.owl'\n",
    "body = '''\n",
    "    CONSTRUCT { \n",
    "           ?y a <http://www.streamreasoning.org/ontologies/2018/9/colors#Yellow>; \n",
    "               <http://www.streamreasoning.org/ontologies/2018/9/colors#from> ?r ; \n",
    "               <http://www.streamreasoning.org/ontologies/2018/9/colors#from> ?g .\n",
    "    }\n",
    "    FROM NAMED WINDOW <rw> ON <http://redstream:1255/red> [RANGE PT15S STEP PT5S]\n",
    "    FROM NAMED WINDOW <gw> ON <http://greenstream:2255/green> [RANGE PT15S STEP PT5S]\n",
    "    WHERE {\n",
    "        WINDOW <rw> { ?r a <http://www.streamreasoning.org/ontologies/2018/9/colors#Red> .}\n",
    "\n",
    "        WINDOW <gw> { ?g a <http://www.streamreasoning.org/ontologies/2018/9/colors#Green> .}\n",
    "\n",
    "    BIND( UUID() as ?y )\n",
    "    '''"
   ]
  },
  {
   "cell_type": "code",
   "execution_count": 4,
   "metadata": {},
   "outputs": [
    {
     "data": {
      "text/html": [
       "<div id=\"eb9eb9ff-8190-4544-9f08-e2ba2aa4c88e\" style=\"height: 150px; width:100%;\"></div>"
      ]
     },
     "metadata": {},
     "output_type": "display_data"
    },
    {
     "data": {
      "application/javascript": [
       "\n",
       "        require([\"https://rawgit.com/caldwell/renderjson/master/renderjson.js\"], function() {\n",
       "          document.getElementById('eb9eb9ff-8190-4544-9f08-e2ba2aa4c88e').appendChild(renderjson({\"@id\": \"queries/yellow\", \"@type\": \"vprov:Task\", \"prov:generated\": {\"@id\": \"streams/yellow\"}, \"prov:uses\": {\"@id\": \"http://greenstream:2255/green\"}, \"@context\": {\"@base\": \"http://jasper:8181/jasper/\", \"rdf\": \"http://www.w3.org/1999/02/22-rdf-syntax-ns#\", \"vsd\": \"http://w3id.org/rsp/vocals-sd#\", \"vocals\": \"http://w3id.org/rsp/vocals#\", \"xsd\": \"http://www.w3.org/2001/XMLSchema#\", \"format\": \"http://www.w3.org/ns/formats/\", \"rdfs\": \"http://www.w3.org/2000/01/rdf-schema#\", \"vprov\": \"http://w3id.org/rsp/vocals-prov#\", \"dcat\": \"http://www.w3.org/ns/dcat#\", \"prov\": \"http://www.w3.org/ns/prov#\"}}))\n",
       "        });\n",
       "        "
      ]
     },
     "metadata": {},
     "output_type": "display_data"
    }
   ],
   "source": [
    "jasper.create(qid, body, tbox)"
   ]
  },
  {
   "cell_type": "code",
   "execution_count": 5,
   "metadata": {},
   "outputs": [],
   "source": [
    "r = jasper.expose(qid, 'WEBSOCKET')"
   ]
  },
  {
   "cell_type": "code",
   "execution_count": 6,
   "metadata": {},
   "outputs": [
    {
     "data": {
      "text/html": [
       "<div id=\"042f47b2-18a0-46c6-afc3-846a6f8b6661\" style=\"height: 150px; width:100%;\"></div>"
      ]
     },
     "metadata": {},
     "output_type": "display_data"
    },
    {
     "data": {
      "application/javascript": [
       "\n",
       "        require([\"https://rawgit.com/caldwell/renderjson/master/renderjson.js\"], function() {\n",
       "          document.getElementById('042f47b2-18a0-46c6-afc3-846a6f8b6661').appendChild(renderjson([\n",
       "  {\n",
       "    \"@id\": \"_:N255a82027c64447a82125f0be52acb86\",\n",
       "    \"@type\": [\n",
       "      \"vocals:StreamDescriptor\"\n",
       "    ],\n",
       "    \"dcat:dataset\": [\n",
       "      {\n",
       "        \"@id\": \"http://jasper:8181/jasper/streams/yellow\"\n",
       "      }\n",
       "    ]\n",
       "  },\n",
       "  {\n",
       "    \"@id\": \"http://jasper:8181/jasper/streams/yellow\",\n",
       "    \"@type\": [\n",
       "      \"vocals:RDFStream\"\n",
       "    ],\n",
       "    \"vocals:hasEndpoint\": [\n",
       "      {\n",
       "        \"@id\": \"_:N0e37b16229054dbb8d105f3d5c1eee38\"\n",
       "      },\n",
       "      {\n",
       "        \"@id\": \"_:Nb149d7614b2a4d7facc629d663a8a082\"\n",
       "      }\n",
       "    ]\n",
       "  },\n",
       "  {\n",
       "    \"@id\": \"_:N0e37b16229054dbb8d105f3d5c1eee38\",\n",
       "    \"@type\": [\n",
       "      \"vocals:StreamEndpoint\"\n",
       "    ],\n",
       "    \"dcat:accessURL\": [\n",
       "      {\n",
       "        \"@value\": \"ws://jasper:8184/jasper/streams/yellow/observers/960225735\"\n",
       "      }\n",
       "    ],\n",
       "    \"dcat:format\": [\n",
       "      {\n",
       "        \"@value\": \"frmt:JSON-LD\"\n",
       "      }\n",
       "    ],\n",
       "    \"vsd:publishedBy\": [\n",
       "      {\n",
       "        \"@value\": \"http://jasper:8181/jasper\"\n",
       "      }\n",
       "    ]\n",
       "  },\n",
       "  {\n",
       "    \"@id\": \"_:Nb149d7614b2a4d7facc629d663a8a082\",\n",
       "    \"@type\": [\n",
       "      \"vocals:StreamEndpoint\"\n",
       "    ],\n",
       "    \"dcat:accessURL\": [\n",
       "      {\n",
       "        \"@value\": \"ws://jasper:8184/jasper/streams/yellow/observers/960225735\"\n",
       "      }\n",
       "    ],\n",
       "    \"dcat:format\": [\n",
       "      {\n",
       "        \"@value\": \"frmt:JSON-LD\"\n",
       "      }\n",
       "    ],\n",
       "    \"vsd:publishedBy\": [\n",
       "      {\n",
       "        \"@value\": \"http://jasper:8181/jasper\"\n",
       "      }\n",
       "    ]\n",
       "  }\n",
       "]))\n",
       "        });\n",
       "        "
      ]
     },
     "metadata": {},
     "output_type": "display_data"
    }
   ],
   "source": [
    "r"
   ]
  },
  {
   "cell_type": "code",
   "execution_count": 7,
   "metadata": {},
   "outputs": [
    {
     "name": "stdout",
     "output_type": "stream",
     "text": [
      "yellow\n"
     ]
    }
   ],
   "source": [
    "r = jasper.observers(qid).endpoints()"
   ]
  },
  {
   "cell_type": "code",
   "execution_count": 8,
   "metadata": {},
   "outputs": [
    {
     "data": {
      "text/plain": [
       "[GET http://jasper:8182/jasper/streams/redgreen/observers/27935913,\n",
       " GET ws://jasper:8184/jasper/streams/yellow/observers/960225735]"
      ]
     },
     "execution_count": 8,
     "metadata": {},
     "output_type": "execute_result"
    }
   ],
   "source": [
    "r"
   ]
  },
  {
   "cell_type": "code",
   "execution_count": 14,
   "metadata": {},
   "outputs": [
    {
     "name": "stdout",
     "output_type": "stream",
     "text": [
      "yellow\n",
      "Single Connection to WebSocket.\n"
     ]
    }
   ],
   "source": [
    "r = jasper.observers(qid).endpoints()[1].call()"
   ]
  },
  {
   "cell_type": "code",
   "execution_count": 16,
   "metadata": {},
   "outputs": [
    {
     "data": {
      "text/html": [
       "<div id=\"8995bd3c-49f5-45ee-943f-816de8a5ddb1\" style=\"height: 150px; width:100%;\"></div>"
      ]
     },
     "metadata": {},
     "output_type": "display_data"
    },
    {
     "data": {
      "application/javascript": [
       "\n",
       "        require([\"https://rawgit.com/caldwell/renderjson/master/renderjson.js\"], function() {\n",
       "          document.getElementById('8995bd3c-49f5-45ee-943f-816de8a5ddb1').appendChild(renderjson({\"@graph\": [{\"@id\": \"urn:uuid:0270951e-77c1-4a95-9f25-e6597ff9f556\", \"@type\": \"http://www.streamreasoning.org/ontologies/2018/9/colors#Yellow\", \"from\": [\"http://jasper:8181/dcc5a74f-e221-4133-8d95-e624f131864a\", \"http://jasper:8181/d5262554-b446-46d5-b737-b0a3d37f2068\"]}, {\"@id\": \"urn:uuid:02ce5ca6-f08f-4f86-9df5-57243979cc6a\", \"@type\": \"http://www.streamreasoning.org/ontologies/2018/9/colors#Yellow\", \"from\": [\"http://jasper:8181/f21e7ef2-e56b-4bc1-a819-ac94b523267b\", \"http://jasper:8181/207214ea-04cc-4acc-b468-eb62a6b189c7\"]}, {\"@id\": \"urn:uuid:07a407d8-72c8-4e53-a6cc-06ea8c2d0799\", \"@type\": \"http://www.streamreasoning.org/ontologies/2018/9/colors#Yellow\", \"from\": [\"http://jasper:8181/dcc5a74f-e221-4133-8d95-e624f131864a\", \"http://jasper:8181/50906ef6-fa2a-471a-975b-a20b5f9bf88f\"]}, {\"@id\": \"urn:uuid:08c0c7af-cd11-4490-a67e-730a4dc907e9\", \"@type\": \"http://www.streamreasoning.org/ontologies/2018/9/colors#Yellow\", \"from\": [\"http://jasper:8181/ff367cea-47cd-40b8-a565-8adb99bab9b3\", \"http://jasper:8181/50906ef6-fa2a-471a-975b-a20b5f9bf88f\"]}, {\"@id\": \"urn:uuid:0e3ddfbe-224c-4905-b840-b95defde8bf1\", \"@type\": \"http://www.streamreasoning.org/ontologies/2018/9/colors#Yellow\", \"from\": [\"http://jasper:8181/a8971f87-0731-442e-9a70-ed36838bc703\", \"http://jasper:8181/39c575ae-973c-45dd-8dbc-c3b3a41ae0ae\"]}, {\"@id\": \"urn:uuid:1aca9788-aaae-4d08-9e60-506f522c36cf\", \"@type\": \"http://www.streamreasoning.org/ontologies/2018/9/colors#Yellow\", \"from\": [\"http://jasper:8181/f225809a-e6d5-45dd-b0f4-53cd4f479431\", \"http://jasper:8181/50906ef6-fa2a-471a-975b-a20b5f9bf88f\"]}, {\"@id\": \"urn:uuid:1f22f3e9-f4cf-4f78-a39d-ffb69d23f052\", \"@type\": \"http://www.streamreasoning.org/ontologies/2018/9/colors#Yellow\", \"from\": [\"http://jasper:8181/f225809a-e6d5-45dd-b0f4-53cd4f479431\", \"http://jasper:8181/c35e9cc8-0d34-413f-8d9e-63429a6f9083\"]}, {\"@id\": \"urn:uuid:24988dc3-37ce-4e19-8ced-a5b2f02d041b\", \"@type\": \"http://www.streamreasoning.org/ontologies/2018/9/colors#Yellow\", \"from\": [\"http://jasper:8181/f225809a-e6d5-45dd-b0f4-53cd4f479431\", \"http://jasper:8181/a12a554e-0baf-4576-95d1-e6bf283b0548\"]}, {\"@id\": \"urn:uuid:2a9fdff9-39d1-41f6-9626-286e1058cfe2\", \"@type\": \"http://www.streamreasoning.org/ontologies/2018/9/colors#Yellow\", \"from\": [\"http://jasper:8181/f225809a-e6d5-45dd-b0f4-53cd4f479431\", \"http://jasper:8181/d5262554-b446-46d5-b737-b0a3d37f2068\"]}, {\"@id\": \"urn:uuid:2b2e7560-ab49-467a-929b-f09cfbd1f6be\", \"@type\": \"http://www.streamreasoning.org/ontologies/2018/9/colors#Yellow\", \"from\": [\"http://jasper:8181/f225809a-e6d5-45dd-b0f4-53cd4f479431\", \"http://jasper:8181/c4854b14-8e69-46d7-8eaf-bf4601bf7087\"]}, {\"@id\": \"urn:uuid:30e444c0-0567-4672-83be-df06a0a48257\", \"@type\": \"http://www.streamreasoning.org/ontologies/2018/9/colors#Yellow\", \"from\": [\"http://jasper:8181/dcc5a74f-e221-4133-8d95-e624f131864a\", \"http://jasper:8181/c65eb4bf-406d-4746-ba6d-7d0f77b9600f\"]}, {\"@id\": \"urn:uuid:452fe396-38e5-43a7-a398-b7b489d3ceab\", \"@type\": \"http://www.streamreasoning.org/ontologies/2018/9/colors#Yellow\", \"from\": [\"http://jasper:8181/f225809a-e6d5-45dd-b0f4-53cd4f479431\", \"http://jasper:8181/c65eb4bf-406d-4746-ba6d-7d0f77b9600f\"]}, {\"@id\": \"urn:uuid:49d87bcc-fcde-4008-b4ec-56a7af0b34ea\", \"@type\": \"http://www.streamreasoning.org/ontologies/2018/9/colors#Yellow\", \"from\": [\"http://jasper:8181/f225809a-e6d5-45dd-b0f4-53cd4f479431\", \"http://jasper:8181/39c575ae-973c-45dd-8dbc-c3b3a41ae0ae\"]}, {\"@id\": \"urn:uuid:49f820df-931d-4c69-9545-d94748138544\", \"@type\": \"http://www.streamreasoning.org/ontologies/2018/9/colors#Yellow\", \"from\": [\"http://jasper:8181/ff367cea-47cd-40b8-a565-8adb99bab9b3\", \"http://jasper:8181/8efd73cc-03d6-4787-bac3-e4186fb1e6ff\"]}, {\"@id\": \"urn:uuid:4c0ceafd-3312-411d-858c-bedf1092a3de\", \"@type\": \"http://www.streamreasoning.org/ontologies/2018/9/colors#Yellow\", \"from\": [\"http://jasper:8181/dcc5a74f-e221-4133-8d95-e624f131864a\", \"http://jasper:8181/fe875636-4e28-4206-b3ef-9d92ed70018d\"]}, {\"@id\": \"urn:uuid:4d575a59-9ffa-4e88-a230-23d7bad840bd\", \"@type\": \"http://www.streamreasoning.org/ontologies/2018/9/colors#Yellow\", \"from\": [\"http://jasper:8181/a8971f87-0731-442e-9a70-ed36838bc703\", \"http://jasper:8181/c4854b14-8e69-46d7-8eaf-bf4601bf7087\"]}, {\"@id\": \"urn:uuid:4dca2bcb-a918-43d1-97cf-69b24087a48c\", \"@type\": \"http://www.streamreasoning.org/ontologies/2018/9/colors#Yellow\", \"from\": [\"http://jasper:8181/a8971f87-0731-442e-9a70-ed36838bc703\", \"http://jasper:8181/c35e9cc8-0d34-413f-8d9e-63429a6f9083\"]}, {\"@id\": \"urn:uuid:4e91d320-87c8-4f08-be7f-d7076b24609a\", \"@type\": \"http://www.streamreasoning.org/ontologies/2018/9/colors#Yellow\", \"from\": [\"http://jasper:8181/f225809a-e6d5-45dd-b0f4-53cd4f479431\", \"http://jasper:8181/8efd73cc-03d6-4787-bac3-e4186fb1e6ff\"]}, {\"@id\": \"urn:uuid:5049da32-cdd2-4499-9cb8-ce99c51c612d\", \"@type\": \"http://www.streamreasoning.org/ontologies/2018/9/colors#Yellow\", \"from\": [\"http://jasper:8181/a8971f87-0731-442e-9a70-ed36838bc703\", \"http://jasper:8181/c65eb4bf-406d-4746-ba6d-7d0f77b9600f\"]}, {\"@id\": \"urn:uuid:52fab206-e2e8-422b-8800-a993d0909138\", \"@type\": \"http://www.streamreasoning.org/ontologies/2018/9/colors#Yellow\", \"from\": [\"http://jasper:8181/246f08c0-4bbf-4eb6-9af7-6a7cf9b68818\", \"http://jasper:8181/c65eb4bf-406d-4746-ba6d-7d0f77b9600f\"]}, {\"@id\": \"urn:uuid:539f916b-46cf-470b-b762-6d3ec79b093c\", \"@type\": \"http://www.streamreasoning.org/ontologies/2018/9/colors#Yellow\", \"from\": [\"http://jasper:8181/ff367cea-47cd-40b8-a565-8adb99bab9b3\", \"http://jasper:8181/c65eb4bf-406d-4746-ba6d-7d0f77b9600f\"]}, {\"@id\": \"urn:uuid:5870ae8d-2308-426e-a8f5-9ca2ea5c323c\", \"@type\": \"http://www.streamreasoning.org/ontologies/2018/9/colors#Yellow\", \"from\": [\"http://jasper:8181/246f08c0-4bbf-4eb6-9af7-6a7cf9b68818\", \"http://jasper:8181/c4854b14-8e69-46d7-8eaf-bf4601bf7087\"]}, {\"@id\": \"urn:uuid:58dbcbea-2ebc-4314-890c-524063cb2566\", \"@type\": \"http://www.streamreasoning.org/ontologies/2018/9/colors#Yellow\", \"from\": [\"http://jasper:8181/dcc5a74f-e221-4133-8d95-e624f131864a\", \"http://jasper:8181/c4854b14-8e69-46d7-8eaf-bf4601bf7087\"]}, {\"@id\": \"urn:uuid:591ae1a8-bb26-4c81-ba28-11858a7dff99\", \"@type\": \"http://www.streamreasoning.org/ontologies/2018/9/colors#Yellow\", \"from\": [\"http://jasper:8181/a8971f87-0731-442e-9a70-ed36838bc703\", \"http://jasper:8181/d5262554-b446-46d5-b737-b0a3d37f2068\"]}, {\"@id\": \"urn:uuid:668106fd-a37f-4de6-93f6-4cdba607e1da\", \"@type\": \"http://www.streamreasoning.org/ontologies/2018/9/colors#Yellow\", \"from\": [\"http://jasper:8181/dcc5a74f-e221-4133-8d95-e624f131864a\", \"http://jasper:8181/39c575ae-973c-45dd-8dbc-c3b3a41ae0ae\"]}, {\"@id\": \"urn:uuid:67b3cacd-0053-433a-8c70-96ede1ceee9b\", \"@type\": \"http://www.streamreasoning.org/ontologies/2018/9/colors#Yellow\", \"from\": [\"http://jasper:8181/ff367cea-47cd-40b8-a565-8adb99bab9b3\", \"http://jasper:8181/fe875636-4e28-4206-b3ef-9d92ed70018d\"]}, {\"@id\": \"urn:uuid:69a0f3df-cd3c-46d7-a050-829d901487fe\", \"@type\": \"http://www.streamreasoning.org/ontologies/2018/9/colors#Yellow\", \"from\": [\"http://jasper:8181/246f08c0-4bbf-4eb6-9af7-6a7cf9b68818\", \"http://jasper:8181/8efd73cc-03d6-4787-bac3-e4186fb1e6ff\"]}, {\"@id\": \"urn:uuid:69a700e2-6b06-48b5-a939-621a8a58fe83\", \"@type\": \"http://www.streamreasoning.org/ontologies/2018/9/colors#Yellow\", \"from\": [\"http://jasper:8181/dcc5a74f-e221-4133-8d95-e624f131864a\", \"http://jasper:8181/a12a554e-0baf-4576-95d1-e6bf283b0548\"]}, {\"@id\": \"urn:uuid:7540b0bf-1b3a-4a13-a51a-725196aac8a9\", \"@type\": \"http://www.streamreasoning.org/ontologies/2018/9/colors#Yellow\", \"from\": [\"http://jasper:8181/f21e7ef2-e56b-4bc1-a819-ac94b523267b\", \"http://jasper:8181/c4854b14-8e69-46d7-8eaf-bf4601bf7087\"]}, {\"@id\": \"urn:uuid:75f7ccc2-3d82-4537-9b2e-9ee821049278\", \"@type\": \"http://www.streamreasoning.org/ontologies/2018/9/colors#Yellow\", \"from\": [\"http://jasper:8181/f21e7ef2-e56b-4bc1-a819-ac94b523267b\", \"http://jasper:8181/50906ef6-fa2a-471a-975b-a20b5f9bf88f\"]}, {\"@id\": \"urn:uuid:78da1324-38f8-47b6-a5a0-0fd16713c2a0\", \"@type\": \"http://www.streamreasoning.org/ontologies/2018/9/colors#Yellow\", \"from\": [\"http://jasper:8181/ff367cea-47cd-40b8-a565-8adb99bab9b3\", \"http://jasper:8181/39c575ae-973c-45dd-8dbc-c3b3a41ae0ae\"]}, {\"@id\": \"urn:uuid:7924b198-2661-4fa2-bcf2-92aa2b5f57da\", \"@type\": \"http://www.streamreasoning.org/ontologies/2018/9/colors#Yellow\", \"from\": [\"http://jasper:8181/f21e7ef2-e56b-4bc1-a819-ac94b523267b\", \"http://jasper:8181/d5262554-b446-46d5-b737-b0a3d37f2068\"]}, {\"@id\": \"urn:uuid:7cc6b76c-ccad-4a7d-b625-075ae62ddbc5\", \"@type\": \"http://www.streamreasoning.org/ontologies/2018/9/colors#Yellow\", \"from\": [\"http://jasper:8181/f21e7ef2-e56b-4bc1-a819-ac94b523267b\", \"http://jasper:8181/39c575ae-973c-45dd-8dbc-c3b3a41ae0ae\"]}, {\"@id\": \"urn:uuid:7f07201f-f257-4759-b0f8-6386b8eda954\", \"@type\": \"http://www.streamreasoning.org/ontologies/2018/9/colors#Yellow\", \"from\": [\"http://jasper:8181/a8971f87-0731-442e-9a70-ed36838bc703\", \"http://jasper:8181/50906ef6-fa2a-471a-975b-a20b5f9bf88f\"]}, {\"@id\": \"urn:uuid:86e676c7-9311-42c2-a42a-24338c94a4f8\", \"@type\": \"http://www.streamreasoning.org/ontologies/2018/9/colors#Yellow\", \"from\": [\"http://jasper:8181/f21e7ef2-e56b-4bc1-a819-ac94b523267b\", \"http://jasper:8181/8efd73cc-03d6-4787-bac3-e4186fb1e6ff\"]}, {\"@id\": \"urn:uuid:893e84a6-fbb8-42e9-9a27-02d4aea15771\", \"@type\": \"http://www.streamreasoning.org/ontologies/2018/9/colors#Yellow\", \"from\": [\"http://jasper:8181/246f08c0-4bbf-4eb6-9af7-6a7cf9b68818\", \"http://jasper:8181/c35e9cc8-0d34-413f-8d9e-63429a6f9083\"]}, {\"@id\": \"urn:uuid:9122d70b-d491-474e-9858-84c722222124\", \"@type\": \"http://www.streamreasoning.org/ontologies/2018/9/colors#Yellow\", \"from\": [\"http://jasper:8181/a8971f87-0731-442e-9a70-ed36838bc703\", \"http://jasper:8181/207214ea-04cc-4acc-b468-eb62a6b189c7\"]}, {\"@id\": \"urn:uuid:91fb7385-9bd9-43b4-a8c7-306fcdb79b0a\", \"@type\": \"http://www.streamreasoning.org/ontologies/2018/9/colors#Yellow\", \"from\": [\"http://jasper:8181/f21e7ef2-e56b-4bc1-a819-ac94b523267b\", \"http://jasper:8181/c65eb4bf-406d-4746-ba6d-7d0f77b9600f\"]}, {\"@id\": \"urn:uuid:94993e64-3433-4cee-9ee4-4e7d5f12ca5d\", \"@type\": \"http://www.streamreasoning.org/ontologies/2018/9/colors#Yellow\", \"from\": [\"http://jasper:8181/f21e7ef2-e56b-4bc1-a819-ac94b523267b\", \"http://jasper:8181/c35e9cc8-0d34-413f-8d9e-63429a6f9083\"]}, {\"@id\": \"urn:uuid:949cab80-5e38-46bb-8811-9642d9644636\", \"@type\": \"http://www.streamreasoning.org/ontologies/2018/9/colors#Yellow\", \"from\": [\"http://jasper:8181/a8971f87-0731-442e-9a70-ed36838bc703\", \"http://jasper:8181/8efd73cc-03d6-4787-bac3-e4186fb1e6ff\"]}, {\"@id\": \"urn:uuid:98670162-a0df-4d52-8522-873bb29a2337\", \"@type\": \"http://www.streamreasoning.org/ontologies/2018/9/colors#Yellow\", \"from\": [\"http://jasper:8181/246f08c0-4bbf-4eb6-9af7-6a7cf9b68818\", \"http://jasper:8181/d5262554-b446-46d5-b737-b0a3d37f2068\"]}, {\"@id\": \"urn:uuid:af09f171-db21-4538-ba37-6d6bf2e2d501\", \"@type\": \"http://www.streamreasoning.org/ontologies/2018/9/colors#Yellow\", \"from\": [\"http://jasper:8181/dcc5a74f-e221-4133-8d95-e624f131864a\", \"http://jasper:8181/c35e9cc8-0d34-413f-8d9e-63429a6f9083\"]}, {\"@id\": \"urn:uuid:b206dffe-72c0-490a-af82-02798a6d76cd\", \"@type\": \"http://www.streamreasoning.org/ontologies/2018/9/colors#Yellow\", \"from\": [\"http://jasper:8181/f225809a-e6d5-45dd-b0f4-53cd4f479431\", \"http://jasper:8181/207214ea-04cc-4acc-b468-eb62a6b189c7\"]}, {\"@id\": \"urn:uuid:b2375f07-c95c-49ab-8cbd-1a1b8228b6ac\", \"@type\": \"http://www.streamreasoning.org/ontologies/2018/9/colors#Yellow\", \"from\": [\"http://jasper:8181/ff367cea-47cd-40b8-a565-8adb99bab9b3\", \"http://jasper:8181/c4854b14-8e69-46d7-8eaf-bf4601bf7087\"]}, {\"@id\": \"urn:uuid:b526c281-ff09-4cf3-86e7-24240045b544\", \"@type\": \"http://www.streamreasoning.org/ontologies/2018/9/colors#Yellow\", \"from\": [\"http://jasper:8181/246f08c0-4bbf-4eb6-9af7-6a7cf9b68818\", \"http://jasper:8181/a12a554e-0baf-4576-95d1-e6bf283b0548\"]}, {\"@id\": \"urn:uuid:bc1e44d9-23f7-4e95-967e-b47c13774ee5\", \"@type\": \"http://www.streamreasoning.org/ontologies/2018/9/colors#Yellow\", \"from\": [\"http://jasper:8181/ff367cea-47cd-40b8-a565-8adb99bab9b3\", \"http://jasper:8181/207214ea-04cc-4acc-b468-eb62a6b189c7\"]}, {\"@id\": \"urn:uuid:bea6e6c8-43ca-4917-95ac-92ef35dd1c31\", \"@type\": \"http://www.streamreasoning.org/ontologies/2018/9/colors#Yellow\", \"from\": [\"http://jasper:8181/ff367cea-47cd-40b8-a565-8adb99bab9b3\", \"http://jasper:8181/a12a554e-0baf-4576-95d1-e6bf283b0548\"]}, {\"@id\": \"urn:uuid:c467523f-8356-42b0-a33b-078db98f5362\", \"@type\": \"http://www.streamreasoning.org/ontologies/2018/9/colors#Yellow\", \"from\": [\"http://jasper:8181/f225809a-e6d5-45dd-b0f4-53cd4f479431\", \"http://jasper:8181/fe875636-4e28-4206-b3ef-9d92ed70018d\"]}, {\"@id\": \"urn:uuid:c97e0f89-dec4-4b6c-8d65-a044260b34eb\", \"@type\": \"http://www.streamreasoning.org/ontologies/2018/9/colors#Yellow\", \"from\": [\"http://jasper:8181/f21e7ef2-e56b-4bc1-a819-ac94b523267b\", \"http://jasper:8181/fe875636-4e28-4206-b3ef-9d92ed70018d\"]}, {\"@id\": \"urn:uuid:d0113e42-7bca-4f6b-b708-a06b3614aaac\", \"@type\": \"http://www.streamreasoning.org/ontologies/2018/9/colors#Yellow\", \"from\": [\"http://jasper:8181/dcc5a74f-e221-4133-8d95-e624f131864a\", \"http://jasper:8181/8efd73cc-03d6-4787-bac3-e4186fb1e6ff\"]}, {\"@id\": \"urn:uuid:d28794fe-8654-46ed-991e-32a6c1890bf8\", \"@type\": \"http://www.streamreasoning.org/ontologies/2018/9/colors#Yellow\", \"from\": [\"http://jasper:8181/f21e7ef2-e56b-4bc1-a819-ac94b523267b\", \"http://jasper:8181/a12a554e-0baf-4576-95d1-e6bf283b0548\"]}, {\"@id\": \"urn:uuid:ddb41267-d23c-4df7-b110-2773a478eb9d\", \"@type\": \"http://www.streamreasoning.org/ontologies/2018/9/colors#Yellow\", \"from\": [\"http://jasper:8181/246f08c0-4bbf-4eb6-9af7-6a7cf9b68818\", \"http://jasper:8181/39c575ae-973c-45dd-8dbc-c3b3a41ae0ae\"]}, {\"@id\": \"urn:uuid:ea6a7f4b-109b-4797-bf71-091c7d0e13da\", \"@type\": \"http://www.streamreasoning.org/ontologies/2018/9/colors#Yellow\", \"from\": [\"http://jasper:8181/ff367cea-47cd-40b8-a565-8adb99bab9b3\", \"http://jasper:8181/d5262554-b446-46d5-b737-b0a3d37f2068\"]}, {\"@id\": \"urn:uuid:eca19ea8-2659-4df0-94e3-188ed95e3fe8\", \"@type\": \"http://www.streamreasoning.org/ontologies/2018/9/colors#Yellow\", \"from\": [\"http://jasper:8181/a8971f87-0731-442e-9a70-ed36838bc703\", \"http://jasper:8181/fe875636-4e28-4206-b3ef-9d92ed70018d\"]}, {\"@id\": \"urn:uuid:ef098342-7e17-4ec6-88c0-af447b287a5e\", \"@type\": \"http://www.streamreasoning.org/ontologies/2018/9/colors#Yellow\", \"from\": [\"http://jasper:8181/ff367cea-47cd-40b8-a565-8adb99bab9b3\", \"http://jasper:8181/c35e9cc8-0d34-413f-8d9e-63429a6f9083\"]}, {\"@id\": \"urn:uuid:f2d8b045-e2b9-4c37-8ead-359b162d8b01\", \"@type\": \"http://www.streamreasoning.org/ontologies/2018/9/colors#Yellow\", \"from\": [\"http://jasper:8181/a8971f87-0731-442e-9a70-ed36838bc703\", \"http://jasper:8181/a12a554e-0baf-4576-95d1-e6bf283b0548\"]}, {\"@id\": \"urn:uuid:f5c32f29-534f-4c8b-8b4d-f6f99ddf93bc\", \"@type\": \"http://www.streamreasoning.org/ontologies/2018/9/colors#Yellow\", \"from\": [\"http://jasper:8181/246f08c0-4bbf-4eb6-9af7-6a7cf9b68818\", \"http://jasper:8181/50906ef6-fa2a-471a-975b-a20b5f9bf88f\"]}, {\"@id\": \"urn:uuid:f8b4fb31-cfd8-4964-b32b-67c7e544984d\", \"@type\": \"http://www.streamreasoning.org/ontologies/2018/9/colors#Yellow\", \"from\": [\"http://jasper:8181/246f08c0-4bbf-4eb6-9af7-6a7cf9b68818\", \"http://jasper:8181/fe875636-4e28-4206-b3ef-9d92ed70018d\"]}, {\"@id\": \"urn:uuid:fd86250b-1e14-4584-bb7b-de888cf2f4ca\", \"@type\": \"http://www.streamreasoning.org/ontologies/2018/9/colors#Yellow\", \"from\": [\"http://jasper:8181/246f08c0-4bbf-4eb6-9af7-6a7cf9b68818\", \"http://jasper:8181/207214ea-04cc-4acc-b468-eb62a6b189c7\"]}, {\"@id\": \"urn:uuid:fe90778c-79d1-4a58-9de9-e6e94eabba8d\", \"@type\": \"http://www.streamreasoning.org/ontologies/2018/9/colors#Yellow\", \"from\": [\"http://jasper:8181/dcc5a74f-e221-4133-8d95-e624f131864a\", \"http://jasper:8181/207214ea-04cc-4acc-b468-eb62a6b189c7\"]}], \"@context\": {\"from\": {\"@id\": \"http://www.streamreasoning.org/ontologies/2018/9/colors#from\", \"@type\": \"@id\"}}}))\n",
       "        });\n",
       "        "
      ]
     },
     "metadata": {},
     "output_type": "display_data"
    }
   ],
   "source": [
    "r"
   ]
  },
  {
   "cell_type": "code",
   "execution_count": null,
   "metadata": {},
   "outputs": [],
   "source": []
  }
 ],
 "metadata": {
  "kernelspec": {
   "display_name": "Python 3",
   "language": "python",
   "name": "python3"
  },
  "language_info": {
   "codemirror_mode": {
    "name": "ipython",
    "version": 3
   },
   "file_extension": ".py",
   "mimetype": "text/x-python",
   "name": "python",
   "nbconvert_exporter": "python",
   "pygments_lexer": "ipython3",
   "version": "3.6.2"
  }
 },
 "nbformat": 4,
 "nbformat_minor": 2
}
