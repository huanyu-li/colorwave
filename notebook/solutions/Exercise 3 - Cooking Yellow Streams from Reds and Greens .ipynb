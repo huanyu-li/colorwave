{
 "cells": [
  {
   "cell_type": "code",
   "execution_count": 1,
   "metadata": {},
   "outputs": [],
   "source": [
    "from rsplib import RSPEngine, RSPPublisher, Stream, rdf_table,load_graph, accessURL"
   ]
  },
  {
   "cell_type": "code",
   "execution_count": 2,
   "metadata": {},
   "outputs": [],
   "source": [
    "jasper = RSPEngine(\"http://jasper:8181/jasper\")"
   ]
  },
  {
   "cell_type": "code",
   "execution_count": 3,
   "metadata": {},
   "outputs": [],
   "source": [
    "qid  = 'yellow'\n",
    "tbox = 'https://raw.githubusercontent.com/riccardotommasini/colorwave/master/colors.owl'\n",
    "body = '''\n",
    "    CONSTRUCT { \n",
    "           ?y a <http://www.streamreasoning.org/ontologies/2018/9/colors#Yellow>; \n",
    "               <http://www.streamreasoning.org/ontologies/2018/9/colors#from> ?r ; \n",
    "               <http://www.streamreasoning.org/ontologies/2018/9/colors#from> ?g .\n",
    "    }\n",
    "    FROM NAMED WINDOW <rw> ON <http://redstream:1255/red> [RANGE PT15S STEP PT5S]\n",
    "    FROM NAMED WINDOW <gw> ON <http://greenstream:2255/green> [RANGE PT15S STEP PT5S]\n",
    "    WHERE {\n",
    "        WINDOW <rw> { ?r a <http://www.streamreasoning.org/ontologies/2018/9/colors#Red> .}\n",
    "\n",
    "        WINDOW <gw> { ?g a <http://www.streamreasoning.org/ontologies/2018/9/colors#Green> .}\n",
    "\n",
    "    BIND( UUID() as ?y )\n",
    "    '''"
   ]
  },
  {
   "cell_type": "code",
   "execution_count": 4,
   "metadata": {},
   "outputs": [
    {
     "data": {
      "text/html": [
       "<div id=\"c174c91c-2df6-4a5b-b99f-aeb014a7132a\" style=\"height: 150px; width:100%;\"></div>"
      ]
     },
     "metadata": {},
     "output_type": "display_data"
    },
    {
     "data": {
      "application/javascript": [
       "\n",
       "        require([\"https://rawgit.com/caldwell/renderjson/master/renderjson.js\"], function() {\n",
       "          document.getElementById('c174c91c-2df6-4a5b-b99f-aeb014a7132a').appendChild(renderjson({\"@id\": \"queries/yellow\", \"@type\": \"vprov:Task\", \"prov:generated\": {\"@id\": \"streams/yellow\"}, \"prov:uses\": {\"@id\": \"http://greenstream:2255/green\"}, \"@context\": {\"@base\": \"http://jasper:8181/jasper/\", \"rdf\": \"http://www.w3.org/1999/02/22-rdf-syntax-ns#\", \"vsd\": \"http://w3id.org/rsp/vocals-sd#\", \"vocals\": \"http://w3id.org/rsp/vocals#\", \"xsd\": \"http://www.w3.org/2001/XMLSchema#\", \"format\": \"http://www.w3.org/ns/formats/\", \"rdfs\": \"http://www.w3.org/2000/01/rdf-schema#\", \"vprov\": \"http://w3id.org/rsp/vocals-prov#\", \"dcat\": \"http://www.w3.org/ns/dcat#\", \"prov\": \"http://www.w3.org/ns/prov#\"}}))\n",
       "        });\n",
       "        "
      ]
     },
     "metadata": {},
     "output_type": "display_data"
    }
   ],
   "source": [
    "jasper.create(qid, body, tbox)"
   ]
  },
  {
   "cell_type": "code",
   "execution_count": 5,
   "metadata": {},
   "outputs": [],
   "source": [
    "r = jasper.expose(qid, 'WEBSOCKET')"
   ]
  },
  {
   "cell_type": "code",
   "execution_count": 6,
   "metadata": {},
   "outputs": [
    {
     "data": {
      "text/html": [
       "<div id=\"90178f74-8157-47b0-a08d-c59ec9cca6e2\" style=\"height: 150px; width:100%;\"></div>"
      ]
     },
     "metadata": {},
     "output_type": "display_data"
    },
    {
     "data": {
      "application/javascript": [
       "\n",
       "        require([\"https://rawgit.com/caldwell/renderjson/master/renderjson.js\"], function() {\n",
       "          document.getElementById('90178f74-8157-47b0-a08d-c59ec9cca6e2').appendChild(renderjson([\n",
       "  {\n",
       "    \"@id\": \"http://jasper:8181/jasper/streams/yellow\",\n",
       "    \"@type\": [\n",
       "      \"vocals:RDFStream\"\n",
       "    ],\n",
       "    \"vocals:hasEndpoint\": [\n",
       "      {\n",
       "        \"@id\": \"_:Nb985672b917b40b79338969a66c2ebdf\"\n",
       "      },\n",
       "      {\n",
       "        \"@id\": \"_:N2fc160abfe334417b54e5315e1aa553f\"\n",
       "      }\n",
       "    ]\n",
       "  },\n",
       "  {\n",
       "    \"@id\": \"_:Nb985672b917b40b79338969a66c2ebdf\",\n",
       "    \"@type\": [\n",
       "      \"vocals:StreamEndpoint\"\n",
       "    ],\n",
       "    \"dcat:accessURL\": [\n",
       "      {\n",
       "        \"@value\": \"ws://jasper:8182/jasper/streams/yellow/observers/1760509977\"\n",
       "      }\n",
       "    ],\n",
       "    \"dcat:format\": [\n",
       "      {\n",
       "        \"@value\": \"frmt:JSON-LD\"\n",
       "      }\n",
       "    ],\n",
       "    \"vsd:publishedBy\": [\n",
       "      {\n",
       "        \"@value\": \"http://jasper:8181/jasper\"\n",
       "      }\n",
       "    ]\n",
       "  },\n",
       "  {\n",
       "    \"@id\": \"_:N2fc160abfe334417b54e5315e1aa553f\",\n",
       "    \"@type\": [\n",
       "      \"vocals:StreamEndpoint\"\n",
       "    ],\n",
       "    \"dcat:accessURL\": [\n",
       "      {\n",
       "        \"@value\": \"ws://jasper:8182/jasper/streams/yellow/observers/1760509977\"\n",
       "      }\n",
       "    ],\n",
       "    \"dcat:format\": [\n",
       "      {\n",
       "        \"@value\": \"frmt:JSON-LD\"\n",
       "      }\n",
       "    ],\n",
       "    \"vsd:publishedBy\": [\n",
       "      {\n",
       "        \"@value\": \"http://jasper:8181/jasper\"\n",
       "      }\n",
       "    ]\n",
       "  },\n",
       "  {\n",
       "    \"@id\": \"_:N8bacd41b62f846339f00adcbc95d0d57\",\n",
       "    \"@type\": [\n",
       "      \"vocals:StreamDescriptor\"\n",
       "    ],\n",
       "    \"dcat:dataset\": [\n",
       "      {\n",
       "        \"@id\": \"http://jasper:8181/jasper/streams/yellow\"\n",
       "      }\n",
       "    ]\n",
       "  }\n",
       "]))\n",
       "        });\n",
       "        "
      ]
     },
     "metadata": {},
     "output_type": "display_data"
    }
   ],
   "source": [
    "r"
   ]
  },
  {
   "cell_type": "code",
   "execution_count": 7,
   "metadata": {},
   "outputs": [],
   "source": [
    "r = jasper.observers(qid).endpoints()"
   ]
  },
  {
   "cell_type": "code",
   "execution_count": 8,
   "metadata": {},
   "outputs": [
    {
     "data": {
      "text/plain": [
       "[GET ws://jasper:8182/jasper/streams/yellow/observers/1760509977]"
      ]
     },
     "execution_count": 8,
     "metadata": {},
     "output_type": "execute_result"
    }
   ],
   "source": [
    "r"
   ]
  },
  {
   "cell_type": "code",
   "execution_count": 9,
   "metadata": {},
   "outputs": [
    {
     "name": "stdout",
     "output_type": "stream",
     "text": [
      "Single Connection to WebSocket.\n"
     ]
    }
   ],
   "source": [
    "r = jasper.observers(qid).endpoints()[0].call()"
   ]
  },
  {
   "cell_type": "code",
   "execution_count": 11,
   "metadata": {},
   "outputs": [
    {
     "data": {
      "text/html": [
       "<div>\n",
       "<table border=\"1\" class=\"dataframe\">\n",
       "  <thead>\n",
       "    <tr style=\"text-align: right;\">\n",
       "      <th></th>\n",
       "      <th>Subject</th>\n",
       "      <th>Predicate</th>\n",
       "      <th>Object</th>\n",
       "    </tr>\n",
       "  </thead>\n",
       "  <tbody>\n",
       "    <tr>\n",
       "      <th>0</th>\n",
       "      <td>urn:uuid:db39c296-090d-4a2b-8395-4e68e00e0d47</td>\n",
       "      <td>http://www.w3.org/1999/02/22-rdf-syntax-ns#type</td>\n",
       "      <td>http://www.streamreasoning.org/ontologies/2018...</td>\n",
       "    </tr>\n",
       "    <tr>\n",
       "      <th>1</th>\n",
       "      <td>urn:uuid:db39c296-090d-4a2b-8395-4e68e00e0d47</td>\n",
       "      <td>http://www.streamreasoning.org/ontologies/2018...</td>\n",
       "      <td>http://jasper:8181/cf99ea53-ca48-4faa-a862-e88...</td>\n",
       "    </tr>\n",
       "    <tr>\n",
       "      <th>2</th>\n",
       "      <td>urn:uuid:876e78da-acec-496e-88df-7a875353cd5b</td>\n",
       "      <td>http://www.streamreasoning.org/ontologies/2018...</td>\n",
       "      <td>http://jasper:8181/3ec50103-0459-4738-9f07-9fa...</td>\n",
       "    </tr>\n",
       "    <tr>\n",
       "      <th>3</th>\n",
       "      <td>urn:uuid:876e78da-acec-496e-88df-7a875353cd5b</td>\n",
       "      <td>http://www.w3.org/1999/02/22-rdf-syntax-ns#type</td>\n",
       "      <td>http://www.streamreasoning.org/ontologies/2018...</td>\n",
       "    </tr>\n",
       "    <tr>\n",
       "      <th>4</th>\n",
       "      <td>urn:uuid:3fbad9a9-6d9b-4823-831e-f06885b85c2b</td>\n",
       "      <td>http://www.streamreasoning.org/ontologies/2018...</td>\n",
       "      <td>http://jasper:8181/cf99ea53-ca48-4faa-a862-e88...</td>\n",
       "    </tr>\n",
       "    <tr>\n",
       "      <th>5</th>\n",
       "      <td>urn:uuid:4f92c81a-f94a-42e6-a157-139499ee795f</td>\n",
       "      <td>http://www.streamreasoning.org/ontologies/2018...</td>\n",
       "      <td>http://jasper:8181/3ec50103-0459-4738-9f07-9fa...</td>\n",
       "    </tr>\n",
       "    <tr>\n",
       "      <th>6</th>\n",
       "      <td>urn:uuid:a12d2a2e-380b-47e8-9500-124990dd7be3</td>\n",
       "      <td>http://www.w3.org/1999/02/22-rdf-syntax-ns#type</td>\n",
       "      <td>http://www.streamreasoning.org/ontologies/2018...</td>\n",
       "    </tr>\n",
       "    <tr>\n",
       "      <th>7</th>\n",
       "      <td>urn:uuid:3fbad9a9-6d9b-4823-831e-f06885b85c2b</td>\n",
       "      <td>http://www.streamreasoning.org/ontologies/2018...</td>\n",
       "      <td>http://jasper:8181/01821c6c-822c-461a-9c18-8b6...</td>\n",
       "    </tr>\n",
       "    <tr>\n",
       "      <th>8</th>\n",
       "      <td>urn:uuid:4f92c81a-f94a-42e6-a157-139499ee795f</td>\n",
       "      <td>http://www.w3.org/1999/02/22-rdf-syntax-ns#type</td>\n",
       "      <td>http://www.streamreasoning.org/ontologies/2018...</td>\n",
       "    </tr>\n",
       "    <tr>\n",
       "      <th>9</th>\n",
       "      <td>urn:uuid:3d1df34f-b207-48a9-9dd1-f38dda39261a</td>\n",
       "      <td>http://www.streamreasoning.org/ontologies/2018...</td>\n",
       "      <td>http://jasper:8181/dbd9a573-d463-4cd8-907c-758...</td>\n",
       "    </tr>\n",
       "    <tr>\n",
       "      <th>10</th>\n",
       "      <td>urn:uuid:876e78da-acec-496e-88df-7a875353cd5b</td>\n",
       "      <td>http://www.streamreasoning.org/ontologies/2018...</td>\n",
       "      <td>http://jasper:8181/779fad05-925d-4b7b-bb5e-067...</td>\n",
       "    </tr>\n",
       "    <tr>\n",
       "      <th>11</th>\n",
       "      <td>urn:uuid:3fbad9a9-6d9b-4823-831e-f06885b85c2b</td>\n",
       "      <td>http://www.w3.org/1999/02/22-rdf-syntax-ns#type</td>\n",
       "      <td>http://www.streamreasoning.org/ontologies/2018...</td>\n",
       "    </tr>\n",
       "    <tr>\n",
       "      <th>12</th>\n",
       "      <td>urn:uuid:4f92c81a-f94a-42e6-a157-139499ee795f</td>\n",
       "      <td>http://www.streamreasoning.org/ontologies/2018...</td>\n",
       "      <td>http://jasper:8181/01821c6c-822c-461a-9c18-8b6...</td>\n",
       "    </tr>\n",
       "    <tr>\n",
       "      <th>13</th>\n",
       "      <td>urn:uuid:3d1df34f-b207-48a9-9dd1-f38dda39261a</td>\n",
       "      <td>http://www.streamreasoning.org/ontologies/2018...</td>\n",
       "      <td>http://jasper:8181/cf99ea53-ca48-4faa-a862-e88...</td>\n",
       "    </tr>\n",
       "    <tr>\n",
       "      <th>14</th>\n",
       "      <td>urn:uuid:a12d2a2e-380b-47e8-9500-124990dd7be3</td>\n",
       "      <td>http://www.streamreasoning.org/ontologies/2018...</td>\n",
       "      <td>http://jasper:8181/dbd9a573-d463-4cd8-907c-758...</td>\n",
       "    </tr>\n",
       "    <tr>\n",
       "      <th>15</th>\n",
       "      <td>urn:uuid:a12d2a2e-380b-47e8-9500-124990dd7be3</td>\n",
       "      <td>http://www.streamreasoning.org/ontologies/2018...</td>\n",
       "      <td>http://jasper:8181/3ec50103-0459-4738-9f07-9fa...</td>\n",
       "    </tr>\n",
       "    <tr>\n",
       "      <th>16</th>\n",
       "      <td>urn:uuid:db39c296-090d-4a2b-8395-4e68e00e0d47</td>\n",
       "      <td>http://www.streamreasoning.org/ontologies/2018...</td>\n",
       "      <td>http://jasper:8181/779fad05-925d-4b7b-bb5e-067...</td>\n",
       "    </tr>\n",
       "    <tr>\n",
       "      <th>17</th>\n",
       "      <td>urn:uuid:3d1df34f-b207-48a9-9dd1-f38dda39261a</td>\n",
       "      <td>http://www.w3.org/1999/02/22-rdf-syntax-ns#type</td>\n",
       "      <td>http://www.streamreasoning.org/ontologies/2018...</td>\n",
       "    </tr>\n",
       "  </tbody>\n",
       "</table>\n",
       "</div>"
      ],
      "text/plain": [
       "                                          Subject  \\\n",
       "0   urn:uuid:db39c296-090d-4a2b-8395-4e68e00e0d47   \n",
       "1   urn:uuid:db39c296-090d-4a2b-8395-4e68e00e0d47   \n",
       "2   urn:uuid:876e78da-acec-496e-88df-7a875353cd5b   \n",
       "3   urn:uuid:876e78da-acec-496e-88df-7a875353cd5b   \n",
       "4   urn:uuid:3fbad9a9-6d9b-4823-831e-f06885b85c2b   \n",
       "5   urn:uuid:4f92c81a-f94a-42e6-a157-139499ee795f   \n",
       "6   urn:uuid:a12d2a2e-380b-47e8-9500-124990dd7be3   \n",
       "7   urn:uuid:3fbad9a9-6d9b-4823-831e-f06885b85c2b   \n",
       "8   urn:uuid:4f92c81a-f94a-42e6-a157-139499ee795f   \n",
       "9   urn:uuid:3d1df34f-b207-48a9-9dd1-f38dda39261a   \n",
       "10  urn:uuid:876e78da-acec-496e-88df-7a875353cd5b   \n",
       "11  urn:uuid:3fbad9a9-6d9b-4823-831e-f06885b85c2b   \n",
       "12  urn:uuid:4f92c81a-f94a-42e6-a157-139499ee795f   \n",
       "13  urn:uuid:3d1df34f-b207-48a9-9dd1-f38dda39261a   \n",
       "14  urn:uuid:a12d2a2e-380b-47e8-9500-124990dd7be3   \n",
       "15  urn:uuid:a12d2a2e-380b-47e8-9500-124990dd7be3   \n",
       "16  urn:uuid:db39c296-090d-4a2b-8395-4e68e00e0d47   \n",
       "17  urn:uuid:3d1df34f-b207-48a9-9dd1-f38dda39261a   \n",
       "\n",
       "                                            Predicate  \\\n",
       "0     http://www.w3.org/1999/02/22-rdf-syntax-ns#type   \n",
       "1   http://www.streamreasoning.org/ontologies/2018...   \n",
       "2   http://www.streamreasoning.org/ontologies/2018...   \n",
       "3     http://www.w3.org/1999/02/22-rdf-syntax-ns#type   \n",
       "4   http://www.streamreasoning.org/ontologies/2018...   \n",
       "5   http://www.streamreasoning.org/ontologies/2018...   \n",
       "6     http://www.w3.org/1999/02/22-rdf-syntax-ns#type   \n",
       "7   http://www.streamreasoning.org/ontologies/2018...   \n",
       "8     http://www.w3.org/1999/02/22-rdf-syntax-ns#type   \n",
       "9   http://www.streamreasoning.org/ontologies/2018...   \n",
       "10  http://www.streamreasoning.org/ontologies/2018...   \n",
       "11    http://www.w3.org/1999/02/22-rdf-syntax-ns#type   \n",
       "12  http://www.streamreasoning.org/ontologies/2018...   \n",
       "13  http://www.streamreasoning.org/ontologies/2018...   \n",
       "14  http://www.streamreasoning.org/ontologies/2018...   \n",
       "15  http://www.streamreasoning.org/ontologies/2018...   \n",
       "16  http://www.streamreasoning.org/ontologies/2018...   \n",
       "17    http://www.w3.org/1999/02/22-rdf-syntax-ns#type   \n",
       "\n",
       "                                               Object  \n",
       "0   http://www.streamreasoning.org/ontologies/2018...  \n",
       "1   http://jasper:8181/cf99ea53-ca48-4faa-a862-e88...  \n",
       "2   http://jasper:8181/3ec50103-0459-4738-9f07-9fa...  \n",
       "3   http://www.streamreasoning.org/ontologies/2018...  \n",
       "4   http://jasper:8181/cf99ea53-ca48-4faa-a862-e88...  \n",
       "5   http://jasper:8181/3ec50103-0459-4738-9f07-9fa...  \n",
       "6   http://www.streamreasoning.org/ontologies/2018...  \n",
       "7   http://jasper:8181/01821c6c-822c-461a-9c18-8b6...  \n",
       "8   http://www.streamreasoning.org/ontologies/2018...  \n",
       "9   http://jasper:8181/dbd9a573-d463-4cd8-907c-758...  \n",
       "10  http://jasper:8181/779fad05-925d-4b7b-bb5e-067...  \n",
       "11  http://www.streamreasoning.org/ontologies/2018...  \n",
       "12  http://jasper:8181/01821c6c-822c-461a-9c18-8b6...  \n",
       "13  http://jasper:8181/cf99ea53-ca48-4faa-a862-e88...  \n",
       "14  http://jasper:8181/dbd9a573-d463-4cd8-907c-758...  \n",
       "15  http://jasper:8181/3ec50103-0459-4738-9f07-9fa...  \n",
       "16  http://jasper:8181/779fad05-925d-4b7b-bb5e-067...  \n",
       "17  http://www.streamreasoning.org/ontologies/2018...  "
      ]
     },
     "execution_count": 11,
     "metadata": {},
     "output_type": "execute_result"
    }
   ],
   "source": [
    "r.rdf_table()"
   ]
  },
  {
   "cell_type": "code",
   "execution_count": null,
   "metadata": {},
   "outputs": [],
   "source": []
  }
 ],
 "metadata": {
  "kernelspec": {
   "display_name": "Python 3",
   "language": "python",
   "name": "python3"
  },
  "language_info": {
   "codemirror_mode": {
    "name": "ipython",
    "version": 3
   },
   "file_extension": ".py",
   "mimetype": "text/x-python",
   "name": "python",
   "nbconvert_exporter": "python",
   "pygments_lexer": "ipython3",
   "version": "3.6.2"
  }
 },
 "nbformat": 4,
 "nbformat_minor": 2
}
