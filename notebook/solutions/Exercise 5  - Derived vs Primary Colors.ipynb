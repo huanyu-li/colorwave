{
 "cells": [
  {
   "cell_type": "code",
   "execution_count": 1,
   "metadata": {},
   "outputs": [],
   "source": [
    "from rsplib import RSPEngine, RSPPublisher, Stream, rdf_table,load_graph, accessURL"
   ]
  },
  {
   "cell_type": "code",
   "execution_count": 2,
   "metadata": {},
   "outputs": [],
   "source": [
    "jasper = RSPEngine(\"http://jasper:8181/jasper\")"
   ]
  },
  {
   "cell_type": "markdown",
   "metadata": {},
   "source": [
    "# If you did not create the yellow color stream before go back to Ex4"
   ]
  },
  {
   "cell_type": "code",
   "execution_count": 3,
   "metadata": {},
   "outputs": [],
   "source": [
    "qid  = 'reasoning2'\n",
    "tbox = 'https://raw.githubusercontent.com/riccardotommasini/colorwave/master/colors.owl'\n",
    "frmt = 'JSON'\n",
    "body = '''\n",
    "    \n",
    "    SELECT (COUNT(?p) AS ?cntPrimary) (COUNT(?d) AS ?cntDerived) (?cntPrimary > ?cntDerived AS ?morePrimaryThanDerived)\n",
    "    FROM NAMED WINDOW <rw> ON <http://redstream:1255/red> [RANGE PT15S STEP PT5S]\n",
    "    FROM NAMED WINDOW <gw> ON <http://greenstream:2255/green> [RANGE PT15S STEP PT5S]\n",
    "    FROM NAMED WINDOW <bw> ON <http://bluestream:3255/blue> [RANGE PT15S STEP PT5S]\n",
    "    FROM NAMED WINDOW <yw> ON <http://jasper:8181/jasper/streams/yellow> [RANGE PT15S STEP PT5S]\n",
    "    WHERE {\n",
    "        { WINDOW ?pw { ?p a <http://www.streamreasoning.org/ontologies/2018/9/colors#Primary> . }}\n",
    "        UNION\n",
    "        { WINDOW ?dw { ?d a <http://www.streamreasoning.org/ontologies/2018/9/colors#Derived>. }}\n",
    "    }\n",
    "\n",
    "    '''"
   ]
  },
  {
   "cell_type": "code",
   "execution_count": 4,
   "metadata": {},
   "outputs": [],
   "source": [
    "reasoning2q = jasper.create(qid, body, tbox, frmt)"
   ]
  },
  {
   "cell_type": "code",
   "execution_count": 5,
   "metadata": {},
   "outputs": [],
   "source": [
    "r = jasper.expose(qid, 'HTTP', retention=5)"
   ]
  },
  {
   "cell_type": "code",
   "execution_count": 6,
   "metadata": {},
   "outputs": [],
   "source": [
    "endpoint = reasoning2q.stream().endpoints()[0]"
   ]
  },
  {
   "cell_type": "code",
   "execution_count": 7,
   "metadata": {},
   "outputs": [],
   "source": [
    "resp = endpoint.call()"
   ]
  },
  {
   "cell_type": "code",
   "execution_count": 8,
   "metadata": {},
   "outputs": [
    {
     "data": {
      "text/html": [
       "<div id=\"f832da4a-5ffe-4551-8d05-212dce7858eb\" style=\"height: 150px; width:100%;\"></div>"
      ]
     },
     "metadata": {},
     "output_type": "display_data"
    },
    {
     "data": {
      "application/javascript": [
       "\n",
       "        require([\"http://localhost:8080/files/renderjson.js\"], function() {\n",
       "          document.getElementById('f832da4a-5ffe-4551-8d05-212dce7858eb').appendChild(renderjson([{\"head_vars_0\": \"cntPrimary\", \"head_vars_1\": \"cntDerived\", \"head_vars_2\": \"morePrimaryThanDerived\", \"results_bindings_0_cntPrimary_type\": \"literal\", \"results_bindings_0_cntPrimary_datatype\": \"http://www.w3.org/2001/XMLSchema#integer\", \"results_bindings_0_cntPrimary_value\": \"73\", \"results_bindings_0_cntDerived_type\": \"literal\", \"results_bindings_0_cntDerived_datatype\": \"http://www.w3.org/2001/XMLSchema#integer\", \"results_bindings_0_cntDerived_value\": \"26\", \"results_bindings_0_morePrimaryThanDerived_type\": \"literal\", \"results_bindings_0_morePrimaryThanDerived_datatype\": \"http://www.w3.org/2001/XMLSchema#boolean\", \"results_bindings_0_morePrimaryThanDerived_value\": \"true\"}, {\"head_vars_0\": \"cntPrimary\", \"head_vars_1\": \"cntDerived\", \"head_vars_2\": \"morePrimaryThanDerived\", \"results_bindings_0_cntPrimary_type\": \"literal\", \"results_bindings_0_cntPrimary_datatype\": \"http://www.w3.org/2001/XMLSchema#integer\", \"results_bindings_0_cntPrimary_value\": \"101\", \"results_bindings_0_cntDerived_type\": \"literal\", \"results_bindings_0_cntDerived_datatype\": \"http://www.w3.org/2001/XMLSchema#integer\", \"results_bindings_0_cntDerived_value\": \"40\", \"results_bindings_0_morePrimaryThanDerived_type\": \"literal\", \"results_bindings_0_morePrimaryThanDerived_datatype\": \"http://www.w3.org/2001/XMLSchema#boolean\", \"results_bindings_0_morePrimaryThanDerived_value\": \"true\"}, {\"head_vars_0\": \"cntPrimary\", \"head_vars_1\": \"cntDerived\", \"head_vars_2\": \"morePrimaryThanDerived\", \"results_bindings_0_cntPrimary_type\": \"literal\", \"results_bindings_0_cntPrimary_datatype\": \"http://www.w3.org/2001/XMLSchema#integer\", \"results_bindings_0_cntPrimary_value\": \"101\", \"results_bindings_0_cntDerived_type\": \"literal\", \"results_bindings_0_cntDerived_datatype\": \"http://www.w3.org/2001/XMLSchema#integer\", \"results_bindings_0_cntDerived_value\": \"40\", \"results_bindings_0_morePrimaryThanDerived_type\": \"literal\", \"results_bindings_0_morePrimaryThanDerived_datatype\": \"http://www.w3.org/2001/XMLSchema#boolean\", \"results_bindings_0_morePrimaryThanDerived_value\": \"true\"}, {\"head_vars_0\": \"cntPrimary\", \"head_vars_1\": \"cntDerived\", \"head_vars_2\": \"morePrimaryThanDerived\", \"results_bindings_0_cntPrimary_type\": \"literal\", \"results_bindings_0_cntPrimary_datatype\": \"http://www.w3.org/2001/XMLSchema#integer\", \"results_bindings_0_cntPrimary_value\": \"104\", \"results_bindings_0_cntDerived_type\": \"literal\", \"results_bindings_0_cntDerived_datatype\": \"http://www.w3.org/2001/XMLSchema#integer\", \"results_bindings_0_cntDerived_value\": \"40\", \"results_bindings_0_morePrimaryThanDerived_type\": \"literal\", \"results_bindings_0_morePrimaryThanDerived_datatype\": \"http://www.w3.org/2001/XMLSchema#boolean\", \"results_bindings_0_morePrimaryThanDerived_value\": \"true\"}, {\"head_vars_0\": \"cntPrimary\", \"head_vars_1\": \"cntDerived\", \"head_vars_2\": \"morePrimaryThanDerived\", \"results_bindings_0_cntPrimary_type\": \"literal\", \"results_bindings_0_cntPrimary_datatype\": \"http://www.w3.org/2001/XMLSchema#integer\", \"results_bindings_0_cntPrimary_value\": \"120\", \"results_bindings_0_cntDerived_type\": \"literal\", \"results_bindings_0_cntDerived_datatype\": \"http://www.w3.org/2001/XMLSchema#integer\", \"results_bindings_0_cntDerived_value\": \"48\", \"results_bindings_0_morePrimaryThanDerived_type\": \"literal\", \"results_bindings_0_morePrimaryThanDerived_datatype\": \"http://www.w3.org/2001/XMLSchema#boolean\", \"results_bindings_0_morePrimaryThanDerived_value\": \"true\"}]))\n",
       "        });\n",
       "        "
      ]
     },
     "metadata": {},
     "output_type": "display_data"
    }
   ],
   "source": [
    "resp.flatten()"
   ]
  },
  {
   "cell_type": "code",
   "execution_count": 9,
   "metadata": {},
   "outputs": [
    {
     "data": {
      "text/html": [
       "<div>\n",
       "<style scoped>\n",
       "    .dataframe tbody tr th:only-of-type {\n",
       "        vertical-align: middle;\n",
       "    }\n",
       "\n",
       "    .dataframe tbody tr th {\n",
       "        vertical-align: top;\n",
       "    }\n",
       "\n",
       "    .dataframe thead th {\n",
       "        text-align: right;\n",
       "    }\n",
       "</style>\n",
       "<table border=\"1\" class=\"dataframe\">\n",
       "  <thead>\n",
       "    <tr style=\"text-align: right;\">\n",
       "      <th></th>\n",
       "      <th>head_vars_0</th>\n",
       "      <th>head_vars_1</th>\n",
       "      <th>head_vars_2</th>\n",
       "      <th>results_bindings_0_cntDerived_datatype</th>\n",
       "      <th>results_bindings_0_cntDerived_type</th>\n",
       "      <th>results_bindings_0_cntDerived_value</th>\n",
       "      <th>results_bindings_0_cntPrimary_datatype</th>\n",
       "      <th>results_bindings_0_cntPrimary_type</th>\n",
       "      <th>results_bindings_0_cntPrimary_value</th>\n",
       "      <th>results_bindings_0_morePrimaryThanDerived_datatype</th>\n",
       "      <th>results_bindings_0_morePrimaryThanDerived_type</th>\n",
       "      <th>results_bindings_0_morePrimaryThanDerived_value</th>\n",
       "    </tr>\n",
       "  </thead>\n",
       "  <tbody>\n",
       "    <tr>\n",
       "      <th>0</th>\n",
       "      <td>cntPrimary</td>\n",
       "      <td>cntDerived</td>\n",
       "      <td>morePrimaryThanDerived</td>\n",
       "      <td>http://www.w3.org/2001/XMLSchema#integer</td>\n",
       "      <td>literal</td>\n",
       "      <td>26</td>\n",
       "      <td>http://www.w3.org/2001/XMLSchema#integer</td>\n",
       "      <td>literal</td>\n",
       "      <td>73</td>\n",
       "      <td>http://www.w3.org/2001/XMLSchema#boolean</td>\n",
       "      <td>literal</td>\n",
       "      <td>true</td>\n",
       "    </tr>\n",
       "    <tr>\n",
       "      <th>1</th>\n",
       "      <td>cntPrimary</td>\n",
       "      <td>cntDerived</td>\n",
       "      <td>morePrimaryThanDerived</td>\n",
       "      <td>http://www.w3.org/2001/XMLSchema#integer</td>\n",
       "      <td>literal</td>\n",
       "      <td>40</td>\n",
       "      <td>http://www.w3.org/2001/XMLSchema#integer</td>\n",
       "      <td>literal</td>\n",
       "      <td>101</td>\n",
       "      <td>http://www.w3.org/2001/XMLSchema#boolean</td>\n",
       "      <td>literal</td>\n",
       "      <td>true</td>\n",
       "    </tr>\n",
       "    <tr>\n",
       "      <th>2</th>\n",
       "      <td>cntPrimary</td>\n",
       "      <td>cntDerived</td>\n",
       "      <td>morePrimaryThanDerived</td>\n",
       "      <td>http://www.w3.org/2001/XMLSchema#integer</td>\n",
       "      <td>literal</td>\n",
       "      <td>40</td>\n",
       "      <td>http://www.w3.org/2001/XMLSchema#integer</td>\n",
       "      <td>literal</td>\n",
       "      <td>101</td>\n",
       "      <td>http://www.w3.org/2001/XMLSchema#boolean</td>\n",
       "      <td>literal</td>\n",
       "      <td>true</td>\n",
       "    </tr>\n",
       "    <tr>\n",
       "      <th>3</th>\n",
       "      <td>cntPrimary</td>\n",
       "      <td>cntDerived</td>\n",
       "      <td>morePrimaryThanDerived</td>\n",
       "      <td>http://www.w3.org/2001/XMLSchema#integer</td>\n",
       "      <td>literal</td>\n",
       "      <td>40</td>\n",
       "      <td>http://www.w3.org/2001/XMLSchema#integer</td>\n",
       "      <td>literal</td>\n",
       "      <td>104</td>\n",
       "      <td>http://www.w3.org/2001/XMLSchema#boolean</td>\n",
       "      <td>literal</td>\n",
       "      <td>true</td>\n",
       "    </tr>\n",
       "    <tr>\n",
       "      <th>4</th>\n",
       "      <td>cntPrimary</td>\n",
       "      <td>cntDerived</td>\n",
       "      <td>morePrimaryThanDerived</td>\n",
       "      <td>http://www.w3.org/2001/XMLSchema#integer</td>\n",
       "      <td>literal</td>\n",
       "      <td>48</td>\n",
       "      <td>http://www.w3.org/2001/XMLSchema#integer</td>\n",
       "      <td>literal</td>\n",
       "      <td>120</td>\n",
       "      <td>http://www.w3.org/2001/XMLSchema#boolean</td>\n",
       "      <td>literal</td>\n",
       "      <td>true</td>\n",
       "    </tr>\n",
       "  </tbody>\n",
       "</table>\n",
       "</div>"
      ],
      "text/plain": [
       "  head_vars_0 head_vars_1             head_vars_2  \\\n",
       "0  cntPrimary  cntDerived  morePrimaryThanDerived   \n",
       "1  cntPrimary  cntDerived  morePrimaryThanDerived   \n",
       "2  cntPrimary  cntDerived  morePrimaryThanDerived   \n",
       "3  cntPrimary  cntDerived  morePrimaryThanDerived   \n",
       "4  cntPrimary  cntDerived  morePrimaryThanDerived   \n",
       "\n",
       "     results_bindings_0_cntDerived_datatype  \\\n",
       "0  http://www.w3.org/2001/XMLSchema#integer   \n",
       "1  http://www.w3.org/2001/XMLSchema#integer   \n",
       "2  http://www.w3.org/2001/XMLSchema#integer   \n",
       "3  http://www.w3.org/2001/XMLSchema#integer   \n",
       "4  http://www.w3.org/2001/XMLSchema#integer   \n",
       "\n",
       "  results_bindings_0_cntDerived_type  results_bindings_0_cntDerived_value  \\\n",
       "0                            literal                                   26   \n",
       "1                            literal                                   40   \n",
       "2                            literal                                   40   \n",
       "3                            literal                                   40   \n",
       "4                            literal                                   48   \n",
       "\n",
       "     results_bindings_0_cntPrimary_datatype  \\\n",
       "0  http://www.w3.org/2001/XMLSchema#integer   \n",
       "1  http://www.w3.org/2001/XMLSchema#integer   \n",
       "2  http://www.w3.org/2001/XMLSchema#integer   \n",
       "3  http://www.w3.org/2001/XMLSchema#integer   \n",
       "4  http://www.w3.org/2001/XMLSchema#integer   \n",
       "\n",
       "  results_bindings_0_cntPrimary_type  results_bindings_0_cntPrimary_value  \\\n",
       "0                            literal                                   73   \n",
       "1                            literal                                  101   \n",
       "2                            literal                                  101   \n",
       "3                            literal                                  104   \n",
       "4                            literal                                  120   \n",
       "\n",
       "  results_bindings_0_morePrimaryThanDerived_datatype  \\\n",
       "0           http://www.w3.org/2001/XMLSchema#boolean   \n",
       "1           http://www.w3.org/2001/XMLSchema#boolean   \n",
       "2           http://www.w3.org/2001/XMLSchema#boolean   \n",
       "3           http://www.w3.org/2001/XMLSchema#boolean   \n",
       "4           http://www.w3.org/2001/XMLSchema#boolean   \n",
       "\n",
       "  results_bindings_0_morePrimaryThanDerived_type  \\\n",
       "0                                        literal   \n",
       "1                                        literal   \n",
       "2                                        literal   \n",
       "3                                        literal   \n",
       "4                                        literal   \n",
       "\n",
       "  results_bindings_0_morePrimaryThanDerived_value  \n",
       "0                                            true  \n",
       "1                                            true  \n",
       "2                                            true  \n",
       "3                                            true  \n",
       "4                                            true  "
      ]
     },
     "execution_count": 9,
     "metadata": {},
     "output_type": "execute_result"
    }
   ],
   "source": [
    "df = resp.flatten().dataframe(['results_bindings_0_cntPrimary_value', 'results_bindings_0_cntDerived_value'])\n",
    "df"
   ]
  },
  {
   "cell_type": "code",
   "execution_count": 10,
   "metadata": {},
   "outputs": [
    {
     "data": {
      "image/png": "[encoded data removed]",
      "text/plain": [
       "<Figure size 360x360 with 1 Axes>"
      ]
     },
     "metadata": {},
     "output_type": "display_data"
    }
   ],
   "source": [
    "%matplotlib inline\n",
    "import pandas as pd\n",
    "\n",
    "df1 = df[['results_bindings_0_cntPrimary_value','results_bindings_0_cntDerived_value']]\n",
    "cntg_mean = df1['results_bindings_0_cntPrimary_value'].mean()\n",
    "cntr_mean = df1['results_bindings_0_cntDerived_value'].mean()\n",
    "\n",
    "df = pd.DataFrame({'means': [cntg_mean, cntr_mean]}, index=['primary', 'derived'])\n",
    "plot = df.plot.pie(y='means', colors=[\"#e10000\", \"#00e100\"], figsize=(5, 5))"
   ]
  },
  {
   "cell_type": "code",
   "execution_count": null,
   "metadata": {},
   "outputs": [],
   "source": []
  }
 ],
 "metadata": {
  "kernelspec": {
   "display_name": "Python 3",
   "language": "python",
   "name": "python3"
  },
  "language_info": {
   "codemirror_mode": {
    "name": "ipython",
    "version": 3
   },
   "file_extension": ".py",
   "mimetype": "text/x-python",
   "name": "python",
   "nbconvert_exporter": "python",
   "pygments_lexer": "ipython3",
   "version": "3.6.3"
  }
 },
 "nbformat": 4,
 "nbformat_minor": 2
}
