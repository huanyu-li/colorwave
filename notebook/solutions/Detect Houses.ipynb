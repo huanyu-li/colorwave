{
 "cells": [
  {
   "cell_type": "code",
   "execution_count": 1,
   "metadata": {},
   "outputs": [],
   "source": [
    "from rsplib import RSPEngine, RSPPublisher, Stream, rdf_table,load_graph, accessURL"
   ]
  },
  {
   "cell_type": "code",
   "execution_count": 2,
   "metadata": {},
   "outputs": [],
   "source": [
    "jasper = RSPEngine(\"http://jasper:8181/jasper\")"
   ]
  },
  {
   "cell_type": "code",
   "execution_count": 3,
   "metadata": {},
   "outputs": [],
   "source": [
    "qid  = 'CntHouses'\n",
    "tbox = \"http://mynotebook:8888/files/blocks.owl\"\n",
    "frmt = \"JSON\"\n",
    "body = '''\n",
    "        SELECT (COUNT(?h) AS ?cntHouses)\n",
    "        FROM NAMED WINDOW <rw> ON <http://jasper:8181/jasper/streams/assemble> [RANGE PT15S STEP PT5S]\n",
    "        WHERE {\n",
    "            { WINDOW ?w1 { ?h a <http://www.streamreasoning.org/ontologies/2018/9/shapes#House> .} }\n",
    "        }\n",
    "    '''"
   ]
  },
  {
   "cell_type": "code",
   "execution_count": 4,
   "metadata": {},
   "outputs": [],
   "source": [
    "detectHousesq = jasper.create(qid, body, tbox, frmt)"
   ]
  },
  {
   "cell_type": "code",
   "execution_count": 5,
   "metadata": {},
   "outputs": [],
   "source": [
    "r = jasper.expose(qid, 'HTTP', retention=5)"
   ]
  },
  {
   "cell_type": "code",
   "execution_count": 6,
   "metadata": {},
   "outputs": [],
   "source": [
    "endpoints = detectHousesq.stream().endpoints()"
   ]
  },
  {
   "cell_type": "code",
   "execution_count": 7,
   "metadata": {},
   "outputs": [
    {
     "data": {
      "text/plain": [
       "[GET http://jasper:8184/jasper/streams/CntHouses/observers/508359425]"
      ]
     },
     "execution_count": 7,
     "metadata": {},
     "output_type": "execute_result"
    }
   ],
   "source": [
    "endpoints"
   ]
  },
  {
   "cell_type": "code",
   "execution_count": 8,
   "metadata": {},
   "outputs": [],
   "source": [
    "endpoint = endpoints[0]"
   ]
  },
  {
   "cell_type": "code",
   "execution_count": 11,
   "metadata": {},
   "outputs": [],
   "source": [
    "df = endpoint.call().flatten().dataframe()"
   ]
  },
  {
   "cell_type": "code",
   "execution_count": 12,
   "metadata": {},
   "outputs": [
    {
     "data": {
      "text/html": [
       "<div>\n",
       "<style scoped>\n",
       "    .dataframe tbody tr th:only-of-type {\n",
       "        vertical-align: middle;\n",
       "    }\n",
       "\n",
       "    .dataframe tbody tr th {\n",
       "        vertical-align: top;\n",
       "    }\n",
       "\n",
       "    .dataframe thead th {\n",
       "        text-align: right;\n",
       "    }\n",
       "</style>\n",
       "<table border=\"1\" class=\"dataframe\">\n",
       "  <thead>\n",
       "    <tr style=\"text-align: right;\">\n",
       "      <th></th>\n",
       "      <th>head_vars_0</th>\n",
       "      <th>results_bindings_0_cntHouses_datatype</th>\n",
       "      <th>results_bindings_0_cntHouses_type</th>\n",
       "      <th>results_bindings_0_cntHouses_value</th>\n",
       "    </tr>\n",
       "  </thead>\n",
       "  <tbody>\n",
       "    <tr>\n",
       "      <th>0</th>\n",
       "      <td>cntHouses</td>\n",
       "      <td>http://www.w3.org/2001/XMLSchema#integer</td>\n",
       "      <td>literal</td>\n",
       "      <td>15</td>\n",
       "    </tr>\n",
       "    <tr>\n",
       "      <th>1</th>\n",
       "      <td>cntHouses</td>\n",
       "      <td>http://www.w3.org/2001/XMLSchema#integer</td>\n",
       "      <td>literal</td>\n",
       "      <td>8</td>\n",
       "    </tr>\n",
       "    <tr>\n",
       "      <th>2</th>\n",
       "      <td>cntHouses</td>\n",
       "      <td>http://www.w3.org/2001/XMLSchema#integer</td>\n",
       "      <td>literal</td>\n",
       "      <td>15</td>\n",
       "    </tr>\n",
       "  </tbody>\n",
       "</table>\n",
       "</div>"
      ],
      "text/plain": [
       "  head_vars_0     results_bindings_0_cntHouses_datatype  \\\n",
       "0   cntHouses  http://www.w3.org/2001/XMLSchema#integer   \n",
       "1   cntHouses  http://www.w3.org/2001/XMLSchema#integer   \n",
       "2   cntHouses  http://www.w3.org/2001/XMLSchema#integer   \n",
       "\n",
       "  results_bindings_0_cntHouses_type results_bindings_0_cntHouses_value  \n",
       "0                           literal                                 15  \n",
       "1                           literal                                  8  \n",
       "2                           literal                                 15  "
      ]
     },
     "execution_count": 12,
     "metadata": {},
     "output_type": "execute_result"
    }
   ],
   "source": [
    "df"
   ]
  },
  {
   "cell_type": "code",
   "execution_count": 11,
   "metadata": {},
   "outputs": [
    {
     "data": {
      "text/html": [
       "<div id=\"80a88b98-9729-4e4e-97dc-3aa1c9953de7\" style=\"height: 150px; width:100%;\"></div>"
      ]
     },
     "metadata": {},
     "output_type": "display_data"
    },
    {
     "data": {
      "application/javascript": [
       "\n",
       "        require([\"http://localhost:8080/files/renderjson.js\"], function() {\n",
       "          document.getElementById('80a88b98-9729-4e4e-97dc-3aa1c9953de7').appendChild(renderjson({\"@id\": \"queries/CntHouses\", \"@type\": \"vprov:Task\", \"prov:generated\": {\"@id\": \"streams/CntHouses\"}, \"prov:uses\": {\"@id\": \"streams/assemble\"}, \"@context\": {\"@base\": \"http://jasper:8181/jasper/\", \"rdf\": \"http://www.w3.org/1999/02/22-rdf-syntax-ns#\", \"vsd\": \"http://w3id.org/rsp/vocals-sd#\", \"vocals\": \"http://w3id.org/rsp/vocals#\", \"xsd\": \"http://www.w3.org/2001/XMLSchema#\", \"format\": \"http://www.w3.org/ns/formats/\", \"rdfs\": \"http://www.w3.org/2000/01/rdf-schema#\", \"vprov\": \"http://w3id.org/rsp/vocals-prov#\", \"dcat\": \"http://www.w3.org/ns/dcat#\", \"prov\": \"http://www.w3.org/ns/prov#\"}}))\n",
       "        });\n",
       "        "
      ]
     },
     "metadata": {},
     "output_type": "display_data"
    }
   ],
   "source": [
    "jasper.delete(qid)"
   ]
  },
  {
   "cell_type": "code",
   "execution_count": 58,
   "metadata": {},
   "outputs": [],
   "source": [
    "r = jasper.expose(qid, 'WEBSOCKET')"
   ]
  },
  {
   "cell_type": "code",
   "execution_count": null,
   "metadata": {},
   "outputs": [],
   "source": []
  }
 ],
 "metadata": {
  "kernelspec": {
   "display_name": "Python 3",
   "language": "python",
   "name": "python3"
  },
  "language_info": {
   "codemirror_mode": {
    "name": "ipython",
    "version": 3
   },
   "file_extension": ".py",
   "mimetype": "text/x-python",
   "name": "python",
   "nbconvert_exporter": "python",
   "pygments_lexer": "ipython3",
   "version": "3.6.3"
  }
 },
 "nbformat": 4,
 "nbformat_minor": 2
}
