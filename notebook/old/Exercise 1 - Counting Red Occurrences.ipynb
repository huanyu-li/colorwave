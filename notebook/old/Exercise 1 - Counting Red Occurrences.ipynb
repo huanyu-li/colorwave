{
 "cells": [
  {
   "cell_type": "code",
   "execution_count": 2,
   "metadata": {},
   "outputs": [],
   "source": [
    "default_headers = {\n",
    "          'Content-Type': 'application/json',\n",
    "          'Access-Control-Allow-Origin': '*'\n",
    "        }"
   ]
  },
  {
   "cell_type": "code",
   "execution_count": 3,
   "metadata": {},
   "outputs": [],
   "source": [
    "from IPython.display import display_javascript, display_html, display\n",
    "import uuid\n",
    "\n",
    "class RenderJSON(object):\n",
    "    def __init__(self, json_data):\n",
    "        if isinstance(json_data, dict):\n",
    "            self.json_str = json.dumps(json_data)\n",
    "        elif isinstance(json_data, list):\n",
    "            self.json_str = json.dumps(json_data)\n",
    "        else:\n",
    "            self.json_str = json\n",
    "        self.uuid = str(uuid.uuid4())\n",
    "        \n",
    "    def _ipython_display_(self):\n",
    "        display_html('<div id=\"{}\" style=\"height: 150px; width:100%;\"></div>'.format(self.uuid),\n",
    "            raw=True\n",
    "        )\n",
    "        display_javascript(\"\"\"\n",
    "        require([\"https://rawgit.com/caldwell/renderjson/master/renderjson.js\"], function() {\n",
    "          document.getElementById('%s').appendChild(renderjson(%s))\n",
    "        });\n",
    "        \"\"\" % (self.uuid, self.json_str), raw=True)"
   ]
  },
  {
   "cell_type": "code",
   "execution_count": 4,
   "metadata": {},
   "outputs": [],
   "source": [
    "import requests, json"
   ]
  },
  {
   "cell_type": "code",
   "execution_count": 5,
   "metadata": {},
   "outputs": [],
   "source": [
    "engine = \"http://jasper:8181\""
   ]
  },
  {
   "cell_type": "code",
   "execution_count": 6,
   "metadata": {},
   "outputs": [],
   "source": [
    "e = requests.get(engine + \"/jasper\").json()"
   ]
  },
  {
   "cell_type": "code",
   "execution_count": 7,
   "metadata": {},
   "outputs": [
    {
     "data": {
      "text/html": [
       "<div id=\"28e0b6c9-ad47-471f-8aef-c6122533d390\" style=\"height: 150px; width:100%;\"></div>"
      ]
     },
     "metadata": {},
     "output_type": "display_data"
    },
    {
     "data": {
      "application/javascript": [
       "\n",
       "        require([\"https://rawgit.com/caldwell/renderjson/master/renderjson.js\"], function() {\n",
       "          document.getElementById('28e0b6c9-ad47-471f-8aef-c6122533d390').appendChild(renderjson({\"@graph\": [{\"@id\": \"_:b0\", \"name\": \"source\"}, {\"@id\": \"_:b1\", \"@type\": \"xsd:string\", \"index\": \"0\", \"name\": \"format\"}, {\"@id\": \"_:b10\", \"@type\": \"xsd:string\", \"index\": \"0\", \"name\": \"body\"}, {\"@id\": \"_:b11\", \"index\": \"0\", \"name\": \"stream\", \"type\": \"xsd:string\"}, {\"@id\": \"_:b12\", \"index\": \"0\", \"name\": \"query\", \"type\": \"xsd:string\"}, {\"@id\": \"_:b13\", \"@type\": \"xsd:string\", \"index\": \"1\", \"name\": \"source\"}, {\"@id\": \"_:b14\", \"index\": \"0\", \"name\": \"stream\", \"type\": \"xsd:string\"}, {\"@id\": \"_:b15\", \"@type\": \"xsd:string\", \"index\": \"0\", \"name\": \"tbox\"}, {\"@id\": \"_:b16\", \"@type\": \"xsd:string\", \"index\": \"0\", \"name\": \"id\"}, {\"@id\": \"_:b17\", \"index\": \"0\", \"name\": \"query\", \"type\": \"xsd:string\"}, {\"@id\": \"_:b18\", \"name\": \"body\"}, {\"@id\": \"_:b19\", \"index\": \"0\", \"name\": \"stream\", \"type\": \"xsd:string\"}, {\"@id\": \"_:b2\", \"feature\": \"http://localhost:8181//QueriesGetterFeature\", \"endpoint\": \"/queries\", \"method\": \"GET\", \"name\": \"QueriesGetterFeature\"}, {\"@id\": \"_:b3\", \"feature\": \"http://localhost:8181//QueryGetterFeature\", \"endpoint\": \"/queries/:query\", \"method\": \"GET\", \"name\": \"QueryGetterFeature\", \"uri_param\": \"_:b12\"}, {\"@id\": \"_:b4\", \"feature\": \"http://localhost:8181//QueryRegistrationFeature\", \"body\": \"{\\\"id\\\":\\\"http://www.w3.org/2001/XMLSchema#string\\\",\\\"body\\\":\\\"http://www.w3.org/2001/XMLSchema#string\\\",\\\"tbox\\\":\\\"http://www.w3.org/2001/XMLSchema#string\\\",\\\"format\\\":\\\"http://www.w3.org/2001/XMLSchema#string\\\"}\", \"body_param\": [\"_:b1\", \"_:b15\", \"_:b10\", \"_:b16\"], \"endpoint\": \"/queries\", \"method\": \"POST\", \"name\": \"QueryRegistrationFeature\"}, {\"@id\": \"_:b5\", \"feature\": \"http://localhost:8181//StreamsGetterFeature\", \"endpoint\": \"/streams\", \"method\": \"GET\", \"name\": \"StreamsGetterFeature\"}, {\"@id\": \"_:b6\", \"feature\": \"http://localhost:8181//StreamRegistrationFeature\", \"body\": \"{\\\"source\\\":\\\"http://www.w3.org/2001/XMLSchema#string\\\"}\", \"body_param\": \"_:b13\", \"endpoint\": \"/streams/:stream\", \"method\": \"POST\", \"name\": \"StreamRegistrationFeature\", \"uri_param\": \"_:b14\"}, {\"@id\": \"_:b7\", \"feature\": \"http://localhost:8181//StreamGetterFeature\", \"endpoint\": \"/streams/:stream\", \"method\": \"GET\", \"name\": \"StreamGetterFeature\", \"uri_param\": \"_:b19\"}, {\"@id\": \"_:b8\", \"feature\": \"http://localhost:8181//QueryDeletionFeature\", \"endpoint\": \"/queries/:query\", \"method\": \"DELETE\", \"name\": \"QueryDeletionFeature\", \"uri_param\": \"_:b17\"}, {\"@id\": \"_:b9\", \"feature\": \"http://localhost:8181//StreamDeletionFeature\", \"endpoint\": \"/streams/:stream\", \"method\": \"DELETE\", \"name\": \"StreamDeletionFeature\", \"uri_param\": \"_:b11\"}, {\"@id\": \"http://localhost:8181/jasper\", \"@type\": \"vsd:ProcessingService\", \"base\": \"http://localhost:8181/jasper\", \"hasService\": [\"_:b2\", \"_:b3\", \"_:b4\", \"_:b5\", \"_:b6\", \"_:b7\", \"_:b8\", \"_:b9\"]}], \"@context\": {\"name\": {\"@id\": \"http://w3id.org/rsp/vocals-sd#name\"}, \"index\": {\"@id\": \"http://w3id.org/rsp/vocals-sd#index\"}, \"hasService\": {\"@id\": \"http://w3id.org/rsp/vocals-sd#hasService\", \"@type\": \"@id\"}, \"base\": {\"@id\": \"http://w3id.org/rsp/vocals-sd#base\"}, \"method\": {\"@id\": \"http://w3id.org/rsp/vocals-sd#method\"}, \"endpoint\": {\"@id\": \"http://w3id.org/rsp/vocals-sd#endpoint\"}, \"feature\": {\"@id\": \"http://w3id.org/rsp/vocals#feature\", \"@type\": \"@id\"}, \"uri_param\": {\"@id\": \"http://w3id.org/rsp/vocals-sd#uri_param\", \"@type\": \"@id\"}, \"body\": {\"@id\": \"http://w3id.org/rsp/vocals-sd#body\"}, \"body_param\": {\"@id\": \"http://w3id.org/rsp/vocals-sd#body_param\", \"@type\": \"@id\"}, \"type\": {\"@id\": \"http://w3id.org/rsp/vocals-sd#type\", \"@type\": \"@id\"}, \"frmt\": \"http://www.w3.org/ns/formats/\", \"vsd\": \"http://w3id.org/rsp/vocals-sd#\", \"vocals\": \"http://w3id.org/rsp/vocals#\", \"xsd\": \"http://www.w3.org/2001/XMLSchema#\"}}))\n",
       "        });\n",
       "        "
      ]
     },
     "metadata": {},
     "output_type": "display_data"
    }
   ],
   "source": [
    "RenderJSON(e)"
   ]
  },
  {
   "cell_type": "code",
   "execution_count": 8,
   "metadata": {},
   "outputs": [],
   "source": [
    "l = requests.get(engine + \"/jasper/streams\").json()"
   ]
  },
  {
   "cell_type": "code",
   "execution_count": 9,
   "metadata": {},
   "outputs": [
    {
     "data": {
      "text/html": [
       "<div id=\"cea2618f-89d2-44f5-8ea2-6a5738d6fcdf\" style=\"height: 150px; width:100%;\"></div>"
      ]
     },
     "metadata": {},
     "output_type": "display_data"
    },
    {
     "data": {
      "application/javascript": [
       "\n",
       "        require([\"https://rawgit.com/caldwell/renderjson/master/renderjson.js\"], function() {\n",
       "          document.getElementById('cea2618f-89d2-44f5-8ea2-6a5738d6fcdf').appendChild(renderjson([{\"iri\": \"http://redstream:1255/red\"}, {\"iri\": \"http://greenstream:2255/green\"}, {\"iri\": \"http://jasper:8181/jasper/streams/redgreen\"}, {\"iri\": \"http://jasper:8181/jasper/streams/redcount\"}]))\n",
       "        });\n",
       "        "
      ]
     },
     "metadata": {},
     "output_type": "display_data"
    }
   ],
   "source": [
    "RenderJSON(l)"
   ]
  },
  {
   "cell_type": "code",
   "execution_count": 10,
   "metadata": {},
   "outputs": [],
   "source": [
    "qs = requests.get(engine + \"/jasper/queries\").json()"
   ]
  },
  {
   "cell_type": "code",
   "execution_count": 11,
   "metadata": {},
   "outputs": [
    {
     "data": {
      "text/html": [
       "<div id=\"f37eb0fc-7b96-46cf-b224-e153853de77d\" style=\"height: 150px; width:100%;\"></div>"
      ]
     },
     "metadata": {},
     "output_type": "display_data"
    },
    {
     "data": {
      "application/javascript": [
       "\n",
       "        require([\"https://rawgit.com/caldwell/renderjson/master/renderjson.js\"], function() {\n",
       "          document.getElementById('f37eb0fc-7b96-46cf-b224-e153853de77d').appendChild(renderjson([{\"iri\": \"http://jasper:8181/jasper/queries/redcount\"}, {\"iri\": \"http://jasper:8181/jasper/queries/redgreen\"}]))\n",
       "        });\n",
       "        "
      ]
     },
     "metadata": {},
     "output_type": "display_data"
    }
   ],
   "source": [
    "RenderJSON(qs)"
   ]
  },
  {
   "cell_type": "code",
   "execution_count": 12,
   "metadata": {},
   "outputs": [],
   "source": [
    "redstream = requests.get(\"http://redstream:1255/red\")"
   ]
  },
  {
   "cell_type": "code",
   "execution_count": 13,
   "metadata": {},
   "outputs": [
    {
     "data": {
      "text/html": [
       "<div id=\"6ec020f0-2f32-4bb7-a44d-283e4af5d858\" style=\"height: 150px; width:100%;\"></div>"
      ]
     },
     "metadata": {},
     "output_type": "display_data"
    },
    {
     "data": {
      "application/javascript": [
       "\n",
       "        require([\"https://rawgit.com/caldwell/renderjson/master/renderjson.js\"], function() {\n",
       "          document.getElementById('6ec020f0-2f32-4bb7-a44d-283e4af5d858').appendChild(renderjson({\"@graph\": [{\"@id\": \"http://redstream:1255/RedColorStreamEndpoint\", \"@type\": \"http://w3id.org/rsp/vocals#StreamEndpoint\", \"http://w3id.org/rsp/vocals-sd#publishedBy\": {\"@id\": \"http://streamhub:9292/streamhub\"}, \"http://www.w3.org/ns/dcat#accessURL\": \"ws://redstream:2551/red\", \"http://www.w3.org/ns/dcat#description\": \"Streaming endpoint to consume Red color instances via websocket\", \"http://www.w3.org/ns/dcat#format\": {\"@id\": \"http://www.w3.org/ns/formats/JSON-LD\"}, \"http://www.w3.org/ns/dcat#license\": {\"@id\": \"https://creativecommons.org/licenses/by-nc/4.0/\"}, \"http://www.w3.org/ns/dcat#title\": \"Red Color Stream Endpoint\"}, {\"@id\": \"http://redstream:1255/red\", \"@type\": [\"http://w3id.org/rsp/vocals#StreamDescriptor\", \"http://w3id.org/rsp/vocals#RDFStream\"], \"http://w3id.org/rsp/vocals#hasEndpoint\": {\"@id\": \"http://redstream:1255/RedColorStreamEndpoint\"}, \"http://www.w3.org/ns/dcat#description\": \"Periodically produces instances of the Red Color Class\", \"http://www.w3.org/ns/dcat#landingPage\": {\"@id\": \"https://example.org/color/red/\"}, \"http://www.w3.org/ns/dcat#publisher\": {\"@id\": \"http://streamhub:9292/streamhub\"}, \"http://www.w3.org/ns/dcat#title\": \"Red Color Stream\"}, {\"@id\": \"http://streamhub:9292/streamhub\", \"@type\": \"http://w3id.org/rsp/vocals-sd#PublishingService\", \"http://w3id.org/rsp/vocals-sd#hasFeature\": {\"@id\": \"http://w3id.org/rsp/vocals-sd#replaying\"}, \"http://w3id.org/rsp/vocals-sd#resultFormat\": {\"@id\": \"http://www.w3.org/ns/formats/JSON-LD\"}}]}))\n",
       "        });\n",
       "        "
      ]
     },
     "metadata": {},
     "output_type": "display_data"
    }
   ],
   "source": [
    "RenderJSON(redstream.json())"
   ]
  },
  {
   "cell_type": "code",
   "execution_count": 17,
   "metadata": {},
   "outputs": [
    {
     "data": {
      "text/html": [
       "<div id=\"a0183c8f-d86f-4941-99de-d1f57728208c\" style=\"height: 150px; width:100%;\"></div>"
      ]
     },
     "metadata": {},
     "output_type": "display_data"
    },
    {
     "data": {
      "application/javascript": [
       "\n",
       "        require([\"https://rawgit.com/caldwell/renderjson/master/renderjson.js\"], function() {\n",
       "          document.getElementById('a0183c8f-d86f-4941-99de-d1f57728208c').appendChild(renderjson({\"id\": \"greencount\", \"tbox\": \"https://raw.githubusercontent.com/riccardotommasini/wasp-jasper/master/colors.owl\", \"format\": \"JSON\", \"body\": \"\\n        SELECT (COUNT(?r) as ?numGreen)\\n        FROM NAMED WINDOW <rw> ON <http://greenstream:2255/green> [RANGE PT15S STEP PT5S]\\n        WHERE {\\n                WINDOW ?rw { ?r a <http://www.streamreasoning.org/ontologies/2018/9/colors#Green> .}\\n            }\\n\\n    \"}))\n",
       "        });\n",
       "        "
      ]
     },
     "metadata": {},
     "output_type": "display_data"
    }
   ],
   "source": [
    "body = {\n",
    "    'id':'greencount',\n",
    "    'tbox': 'https://raw.githubusercontent.com/riccardotommasini/colorwave/master/colors.owl',\n",
    "    'format': 'JSON',\n",
    "    'body': '''\n",
    "        SELECT (COUNT(?r) as ?numGreen)\n",
    "        FROM NAMED WINDOW <rw> ON <http://greenstream:2255/green> [RANGE PT15S STEP PT5S]\n",
    "        WHERE {\n",
    "                WINDOW ?rw { ?r a <http://www.streamreasoning.org/ontologies/2018/9/colors#Green> .}\n",
    "            }\n",
    "\n",
    "    '''\n",
    "}\n",
    "    \n",
    "data = json.dumps(body)\n",
    "\n",
    "RenderJSON(body)"
   ]
  },
  {
   "cell_type": "code",
   "execution_count": 18,
   "metadata": {},
   "outputs": [],
   "source": [
    "q = requests.post(engine + \"/jasper/queries\", data = data, headers=default_headers)"
   ]
  },
  {
   "cell_type": "code",
   "execution_count": 19,
   "metadata": {},
   "outputs": [
    {
     "data": {
      "text/plain": [
       "'{\\n  \"@id\" : \"queries/greencount\",\\n  \"@type\" : \"vprov:Task\",\\n  \"prov:generated\" : {\\n    \"@id\" : \"streams/greencount\"\\n  },\\n  \"prov:uses\" : {\\n    \"@id\" : \"http://greenstream:2255/green\"\\n  },\\n  \"@context\" : {\\n    \"@base\" : \"http://jasper:8181/jasper/\",\\n    \"rdf\" : \"http://www.w3.org/1999/02/22-rdf-syntax-ns#\",\\n    \"vsd\" : \"http://w3id.org/rsp/vocals-sd#\",\\n    \"vocals\" : \"http://w3id.org/rsp/vocals#\",\\n    \"xsd\" : \"http://www.w3.org/2001/XMLSchema#\",\\n    \"format\" : \"http://www.w3.org/ns/formats/\",\\n    \"rdfs\" : \"http://www.w3.org/2000/01/rdf-schema#\",\\n    \"vprov\" : \"http://w3id.org/rsp/vocals-prov#\",\\n    \"dcat\" : \"http://www.w3.org/ns/dcat#\",\\n    \"prov\" : \"http://www.w3.org/ns/prov#\"\\n  }\\n}'"
      ]
     },
     "execution_count": 19,
     "metadata": {},
     "output_type": "execute_result"
    }
   ],
   "source": [
    "q.text"
   ]
  },
  {
   "cell_type": "code",
   "execution_count": 16,
   "metadata": {},
   "outputs": [
    {
     "data": {
      "text/html": [
       "<div id=\"1a78bd89-b32b-499d-91a1-7b48b627545c\" style=\"height: 150px; width:100%;\"></div>"
      ]
     },
     "metadata": {},
     "output_type": "display_data"
    },
    {
     "data": {
      "application/javascript": [
       "\n",
       "        require([\"https://rawgit.com/caldwell/renderjson/master/renderjson.js\"], function() {\n",
       "          document.getElementById('1a78bd89-b32b-499d-91a1-7b48b627545c').appendChild(renderjson({\"@id\": \"queries/redcount\", \"@type\": \"vprov:Task\", \"prov:generated\": {\"@id\": \"streams/redcount\"}, \"prov:uses\": {\"@id\": \"http://redstream:1255/red\"}, \"@context\": {\"@base\": \"http://jasper:8181/jasper/\", \"rdf\": \"http://www.w3.org/1999/02/22-rdf-syntax-ns#\", \"vsd\": \"http://w3id.org/rsp/vocals-sd#\", \"vocals\": \"http://w3id.org/rsp/vocals#\", \"xsd\": \"http://www.w3.org/2001/XMLSchema#\", \"format\": \"http://www.w3.org/ns/formats/\", \"rdfs\": \"http://www.w3.org/2000/01/rdf-schema#\", \"vprov\": \"http://w3id.org/rsp/vocals-prov#\", \"dcat\": \"http://www.w3.org/ns/dcat#\", \"prov\": \"http://www.w3.org/ns/prov#\"}}))\n",
       "        });\n",
       "        "
      ]
     },
     "metadata": {},
     "output_type": "display_data"
    }
   ],
   "source": [
    "RenderJSON(q.json())"
   ]
  },
  {
   "cell_type": "code",
   "execution_count": 20,
   "metadata": {
    "scrolled": true
   },
   "outputs": [],
   "source": [
    "o = requests.post(engine + \"/jasper/observers/greencount\", data = json.dumps({'protocol':\"HTTP\", \"retention\":5}) , headers=default_headers).json()"
   ]
  },
  {
   "cell_type": "code",
   "execution_count": null,
   "metadata": {},
   "outputs": [],
   "source": []
  },
  {
   "cell_type": "code",
   "execution_count": 21,
   "metadata": {},
   "outputs": [],
   "source": [
    "os = requests.get(engine + \"/jasper/observers/greencount\").json()"
   ]
  },
  {
   "cell_type": "code",
   "execution_count": 22,
   "metadata": {},
   "outputs": [
    {
     "data": {
      "text/html": [
       "<div id=\"0e3841d1-5bda-4f48-abdc-8a1c289fcc0c\" style=\"height: 150px; width:100%;\"></div>"
      ]
     },
     "metadata": {},
     "output_type": "display_data"
    },
    {
     "data": {
      "application/javascript": [
       "\n",
       "        require([\"https://rawgit.com/caldwell/renderjson/master/renderjson.js\"], function() {\n",
       "          document.getElementById('0e3841d1-5bda-4f48-abdc-8a1c289fcc0c').appendChild(renderjson({\"@graph\": [{\"@type\": \"vocals:StreamDescriptor\", \"dcat:dataset\": {\"@id\": \"http://jasper:8181/jasper/streams/greencount\", \"@type\": \"vocals:RDFStream\", \"vocals:hasEndpoint\": [{\"@type\": \"vocals:StreamEndpoint\", \"dcat:accessURL\": \"http://jasper:8188/jasper/streams/greencount/observers/1322951247\"}]}}, {\"@id\": \"http://jasper:8181/jasper/streams/greencount\", \"@type\": \"vocals:RDFStream\", \"vocals:hasEndpoint\": [{\"@type\": \"vocals:StreamEndpoint\", \"dcat:accessURL\": \"http://jasper:8188/jasper/streams/greencount/observers/1322951247\"}]}]}))\n",
       "        });\n",
       "        "
      ]
     },
     "metadata": {},
     "output_type": "display_data"
    }
   ],
   "source": [
    "RenderJSON(o)"
   ]
  },
  {
   "cell_type": "code",
   "execution_count": 23,
   "metadata": {},
   "outputs": [
    {
     "data": {
      "text/html": [
       "<div id=\"d3fdc661-b28e-4718-84a9-638f0f43de41\" style=\"height: 150px; width:100%;\"></div>"
      ]
     },
     "metadata": {},
     "output_type": "display_data"
    },
    {
     "data": {
      "application/javascript": [
       "\n",
       "        require([\"https://rawgit.com/caldwell/renderjson/master/renderjson.js\"], function() {\n",
       "          document.getElementById('d3fdc661-b28e-4718-84a9-638f0f43de41').appendChild(renderjson([{\"@type\": \"vocals:StreamEndpoint\", \"dcat:accessURL\": \"http://jasper:8182/jasper/streams/redcount/observers/1125205603\", \"@context\": {\"vocals\": \"http://w3id.org/rsp/vocals#\"}}, {\"@type\": \"vocals:StreamEndpoint\", \"dcat:accessURL\": \"http://jasper:8188/jasper/streams/greencount/observers/1322951247\", \"@context\": {\"vocals\": \"http://w3id.org/rsp/vocals#\"}}, {\"@type\": \"vocals:StreamEndpoint\", \"dcat:accessURL\": \"ws://jasper:8183/jasper/streams/redcount/observers/52556686\", \"dcat:format\": \"frmt:JSON-LD\", \"vsd:publishedBy\": \"http://jasper:8181/jasper\", \"@context\": {\"dcat\": \"http://www.w3.org/ns/dcat#\", \"vocals\": \"http://w3id.org/rsp/vocals#\", \"vsd\": \"http://w3id.org/rsp/vocals-sd#\"}}, {\"@type\": \"vocals:StreamEndpoint\", \"dcat:accessURL\": \"http://jasper:8187/jasper/streams/redgreen/observers/547944663\", \"@context\": {\"vocals\": \"http://w3id.org/rsp/vocals#\"}}]))\n",
       "        });\n",
       "        "
      ]
     },
     "metadata": {},
     "output_type": "display_data"
    }
   ],
   "source": [
    "RenderJSON(os)"
   ]
  },
  {
   "cell_type": "code",
   "execution_count": 24,
   "metadata": {},
   "outputs": [],
   "source": [
    "a = requests.get(\"http://jasper:8188/jasper/streams/greencount/observers/1322951247\")"
   ]
  },
  {
   "cell_type": "code",
   "execution_count": 27,
   "metadata": {},
   "outputs": [
    {
     "data": {
      "text/plain": [
       "[]"
      ]
     },
     "execution_count": 27,
     "metadata": {},
     "output_type": "execute_result"
    }
   ],
   "source": [
    "a.json()"
   ]
  },
  {
   "cell_type": "code",
   "execution_count": 25,
   "metadata": {},
   "outputs": [
    {
     "ename": "IndexError",
     "evalue": "list index out of range",
     "output_type": "error",
     "traceback": [
      "\u001b[0;31m---------------------------------------------------------------------------\u001b[0m",
      "\u001b[0;31mIndexError\u001b[0m                                Traceback (most recent call last)",
      "\u001b[0;32m<ipython-input-25-c3271006058b>\u001b[0m in \u001b[0;36m<module>\u001b[0;34m()\u001b[0m\n\u001b[1;32m      1\u001b[0m \u001b[0;32mimport\u001b[0m \u001b[0mpandas\u001b[0m \u001b[0;32mas\u001b[0m \u001b[0mpd\u001b[0m\u001b[0;34m\u001b[0m\u001b[0m\n\u001b[0;32m----> 2\u001b[0;31m \u001b[0mb\u001b[0m \u001b[0;34m=\u001b[0m \u001b[0ma\u001b[0m\u001b[0;34m.\u001b[0m\u001b[0mjson\u001b[0m\u001b[0;34m(\u001b[0m\u001b[0;34m)\u001b[0m\u001b[0;34m[\u001b[0m\u001b[0;36m0\u001b[0m\u001b[0;34m]\u001b[0m\u001b[0;34m\u001b[0m\u001b[0m\n\u001b[0m\u001b[1;32m      3\u001b[0m \u001b[0mb\u001b[0m\u001b[0;34m\u001b[0m\u001b[0m\n",
      "\u001b[0;31mIndexError\u001b[0m: list index out of range"
     ]
    }
   ],
   "source": [
    "import pandas as pd\n",
    "b = a.json()[0]\n",
    "b"
   ]
  },
  {
   "cell_type": "code",
   "execution_count": 95,
   "metadata": {},
   "outputs": [],
   "source": [
    "from pandas.io.json import json_normalize\n",
    "def flatten_json(y):\n",
    "    out = {}\n",
    "\n",
    "    def flatten(x, name=''):\n",
    "        if type(x) is dict:\n",
    "            for a in x:\n",
    "                flatten(x[a], name + a + '_')\n",
    "        elif type(x) is list:\n",
    "            i = 0\n",
    "            for a in x:\n",
    "                flatten(a, name + str(i) + '_')\n",
    "                i += 1\n",
    "        else:\n",
    "            out[name[:-1]] = x\n",
    "\n",
    "    flatten(y)\n",
    "    return out"
   ]
  },
  {
   "cell_type": "code",
   "execution_count": 96,
   "metadata": {},
   "outputs": [],
   "source": [
    "def coerce_df_columns_to_numeric(df, column_list):\n",
    "    df[column_list] = df[column_list].apply(pd.to_numeric, errors='coerce')"
   ]
  },
  {
   "cell_type": "code",
   "execution_count": 100,
   "metadata": {},
   "outputs": [],
   "source": []
  },
  {
   "cell_type": "code",
   "execution_count": 102,
   "metadata": {},
   "outputs": [],
   "source": [
    "data = [flatten_json(b) for b in a.json()]\n",
    "df = pd.DataFrame.from_dict(data, orient='columns')\n",
    "coerce_df_columns_to_numeric(df, ['results_bindings_0_numRed_value'])"
   ]
  },
  {
   "cell_type": "code",
   "execution_count": 104,
   "metadata": {},
   "outputs": [
    {
     "data": {
      "text/plain": [
       "<matplotlib.axes._subplots.AxesSubplot at 0x7f9645335e10>"
      ]
     },
     "execution_count": 104,
     "metadata": {},
     "output_type": "execute_result"
    },
    {
     "data": {
      "image/png": "[encoded data removed]",
      "text/plain": [
       "<matplotlib.figure.Figure at 0x7f964537f4a8>"
      ]
     },
     "metadata": {},
     "output_type": "display_data"
    }
   ],
   "source": [
    "% matplotlib inline\n",
    "df.plot(kind='bar')"
   ]
  },
  {
   "cell_type": "code",
   "execution_count": 60,
   "metadata": {},
   "outputs": [],
   "source": [
    "o = requests.post(engine + \"/jasper/observers/redcount\", data = json.dumps({'protocol':\"WEBSOCKET\"}) , headers=default_headers).json()"
   ]
  },
  {
   "cell_type": "code",
   "execution_count": 84,
   "metadata": {},
   "outputs": [
    {
     "data": {
      "text/html": [
       "<div id=\"bdc244e0-a395-4620-a41a-5f9946e7a2d8\" style=\"height: 150px; width:100%;\"></div>"
      ]
     },
     "metadata": {},
     "output_type": "display_data"
    },
    {
     "data": {
      "application/javascript": [
       "\n",
       "        require([\"https://rawgit.com/caldwell/renderjson/master/renderjson.js\"], function() {\n",
       "          document.getElementById('bdc244e0-a395-4620-a41a-5f9946e7a2d8').appendChild(renderjson({\"@graph\": [{\"@type\": \"vocals:StreamDescriptor\", \"dcat:dataset\": {\"@id\": \"http://jasper:8181/jasper/streams/redcount\", \"@type\": \"vocals:RDFStream\", \"vocals:hasEndpoint\": [{\"@type\": \"vocals:StreamEndpoint\", \"dcat:accessURL\": \"http://jasper:8182/jasper/streams/redcount/observers/1876254237\"}, {\"@type\": \"vocals:StreamEndpoint\", \"dcat:accessURL\": \"ws://jasper:8183/jasper/streams/redcount/observers/1939657450\", \"dcat:format\": \"frmt:JSON-LD\", \"vsd:publishedBy\": \"http://jasper:8181/jasper\"}]}}, {\"@id\": \"http://jasper:8181/jasper/streams/redcount\", \"@type\": \"vocals:RDFStream\", \"vocals:hasEndpoint\": [{\"@type\": \"vocals:StreamEndpoint\", \"dcat:accessURL\": \"http://jasper:8182/jasper/streams/redcount/observers/1876254237\"}, {\"@type\": \"vocals:StreamEndpoint\", \"dcat:accessURL\": \"ws://jasper:8183/jasper/streams/redcount/observers/1939657450\", \"dcat:format\": \"frmt:JSON-LD\", \"vsd:publishedBy\": \"http://jasper:8181/jasper\"}]}]}))\n",
       "        });\n",
       "        "
      ]
     },
     "metadata": {},
     "output_type": "display_data"
    }
   ],
   "source": [
    "RenderJSON(o)"
   ]
  },
  {
   "cell_type": "code",
   "execution_count": null,
   "metadata": {},
   "outputs": [],
   "source": []
  }
 ],
 "metadata": {
  "kernelspec": {
   "display_name": "Python 3",
   "language": "python",
   "name": "python3"
  },
  "language_info": {
   "codemirror_mode": {
    "name": "ipython",
    "version": 3
   },
   "file_extension": ".py",
   "mimetype": "text/x-python",
   "name": "python",
   "nbconvert_exporter": "python",
   "pygments_lexer": "ipython3",
   "version": "3.6.2"
  }
 },
 "nbformat": 4,
 "nbformat_minor": 2
}
