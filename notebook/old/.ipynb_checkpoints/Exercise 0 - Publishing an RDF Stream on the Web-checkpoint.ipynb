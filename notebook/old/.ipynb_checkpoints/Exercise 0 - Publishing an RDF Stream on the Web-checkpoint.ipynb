{
 "cells": [
  {
   "cell_type": "code",
   "execution_count": 25,
   "metadata": {},
   "outputs": [],
   "source": [
    "import requests, json"
   ]
  },
  {
   "cell_type": "code",
   "execution_count": 14,
   "metadata": {},
   "outputs": [],
   "source": [
    "host = \"http://streamhub:9292/streamhub\""
   ]
  },
  {
   "cell_type": "code",
   "execution_count": 113,
   "metadata": {},
   "outputs": [],
   "source": [
    "from IPython.display import display_javascript, display_html, display\n",
    "import uuid\n",
    "\n",
    "class RenderJSON(object):\n",
    "    def __init__(self, json_data):\n",
    "        if isinstance(json_data, dict):\n",
    "            self.json_str = json.dumps(json_data)\n",
    "        elif isinstance(json_data, list):\n",
    "            self.json_str = json.dumps(json_data)\n",
    "        else:\n",
    "            self.json_str = json\n",
    "        self.uuid = str(uuid.uuid4())\n",
    "        \n",
    "    def _ipython_display_(self):\n",
    "        display_html('<div id=\"{}\" style=\"height: 150px; width:100%;\"></div>'.format(self.uuid),\n",
    "            raw=True\n",
    "        )\n",
    "        display_javascript(\"\"\"\n",
    "        require([\"https://rawgit.com/caldwell/renderjson/master/renderjson.js\"], function() {\n",
    "          document.getElementById('%s').appendChild(renderjson(%s))\n",
    "        });\n",
    "        \"\"\" % (self.uuid, self.json_str), raw=True)"
   ]
  },
  {
   "cell_type": "code",
   "execution_count": 130,
   "metadata": {},
   "outputs": [],
   "source": [
    "class RenderGRAPH(object):\n",
    "    def __init__(self, json_data):\n",
    "        if isinstance(json_data, dict):\n",
    "            self.json_str = json.dumps(json_data)\n",
    "        elif isinstance(json_data, list):\n",
    "            self.json_str = json.dumps(json_data)\n",
    "        else:\n",
    "            self.json_str = json\n",
    "        self.uuid = uuid.uuid4()\n",
    "        \n",
    "    def _ipython_display_(self):\n",
    "        print(self.uuid)\n",
    "        print(self.json_str)\n",
    "        html = '<div id=\"{}\" style=\"height: 600px; width:100%;\"></div>'.format(self.uuid)\n",
    "       \n",
    "        \n",
    "        \n",
    "        "
   ]
  },
  {
   "cell_type": "code",
   "execution_count": 133,
   "metadata": {},
   "outputs": [],
   "source": [
    "r = requests.get(host).json()"
   ]
  },
  {
   "cell_type": "code",
   "execution_count": 134,
   "metadata": {},
   "outputs": [
    {
     "name": "stdout",
     "output_type": "stream",
     "text": [
      "924a1130-0862-43e3-addb-c8adc215413a\n",
      "{\"@graph\": [{\"@id\": \"_:node1co57ahimx1\", \"vocals:feature\": {\"@id\": \"http://localhost:8181/streamhub/StreamFullRegistrationFeature\"}, \"vsd:body\": \"{\\\"query\\\":\\\"http://www.w3.org/2001/XMLSchema#string\\\"}\", \"vsd:body_param\": {\"@id\": \"_:node1co57ahimx3\"}, \"vsd:endpoint\": \"/streams\", \"vsd:method\": \"POST\", \"vsd:name\": \"StreamFullRegistrationFeature\"}, {\"@id\": \"_:node1co57ahimx2\", \"vsd:name\": \"query\"}, {\"@id\": \"_:node1co57ahimx3\", \"@type\": \"xsd:string\", \"vsd:index\": \"0\", \"vsd:name\": \"query\"}, {\"@id\": \"_:node1co57ahimx4\", \"vocals:feature\": {\"@id\": \"http://localhost:8181/streamhub/StreamGetterFeature\"}, \"vsd:endpoint\": \"/streams/:stream\", \"vsd:method\": \"GET\", \"vsd:name\": \"StreamGetterFeature\", \"vsd:uri_param\": {\"@id\": \"_:node1co57ahimx5\"}}, {\"@id\": \"_:node1co57ahimx5\", \"vsd:index\": \"0\", \"vsd:name\": \"stream\", \"vsd:type\": {\"@id\": \"xsd:string\"}}, {\"@id\": \"_:node1co57ahimx6\", \"vocals:feature\": {\"@id\": \"http://localhost:8181/streamhub/StreamsGetterFeature\"}, \"vsd:endpoint\": \"/streams\", \"vsd:method\": \"GET\", \"vsd:name\": \"StreamsGetterFeature\"}, {\"@id\": \"_:node1co57ahimx7\", \"vocals:feature\": {\"@id\": \"http://localhost:8181/streamhub/StreamDeletionFeature\"}, \"vsd:endpoint\": \"/streams/:stream\", \"vsd:method\": \"DELETE\", \"vsd:name\": \"StreamDeletionFeature\", \"vsd:uri_param\": {\"@id\": \"_:node1co57ahimx8\"}}, {\"@id\": \"_:node1co57ahimx8\", \"vsd:index\": \"0\", \"vsd:name\": \"stream\", \"vsd:type\": {\"@id\": \"xsd:string\"}}, {\"@id\": \"http://localhost:8181/streamhub\", \"@type\": \"vsd:PublishingService\", \"vsd:base\": \"http://localhost:8181\", \"vsd:hasService\": [{\"@id\": \"_:node1co57ahimx1\"}, {\"@id\": \"_:node1co57ahimx4\"}, {\"@id\": \"_:node1co57ahimx6\"}, {\"@id\": \"_:node1co57ahimx7\"}]}], \"@context\": {\"frmt\": \"http://www.w3.org/ns/formats/\", \"vsd\": \"http://w3id.org/rsp/vocals-sd#\", \"vocals\": \"http://w3id.org/rsp/vocals#\", \"xsd\": \"http://www.w3.org/2001/XMLSchema#\", \"vprov\": \"http://w3id.org/rsp/vocals-prov#\"}}\n"
     ]
    }
   ],
   "source": [
    "RenderGRAPH(r)"
   ]
  },
  {
   "cell_type": "code",
   "execution_count": 132,
   "metadata": {},
   "outputs": [
    {
     "data": {
      "application/javascript": [
       "require.config({\n",
       "    paths: {\n",
       "        d3: 'https://d3js.org/d3.v5.min',\n",
       "        jsonldcss: 'https://rawgit.com/riccardotommasini/colorwave/master/static/css/jsonldvis.css',\n",
       "        jsonldjs: 'https://cdn.rawgit.com/riccardotommasini/colorwave/master/static/js/jsonldvis.js'\n",
       "    }\n",
       "});"
      ],
      "text/plain": [
       "<IPython.core.display.Javascript object>"
      ]
     },
     "metadata": {},
     "output_type": "display_data"
    }
   ],
   "source": [
    "%%javascript\n",
    "require.config({\n",
    "    paths: {\n",
    "        d3: 'https://d3js.org/d3.v5.min',\n",
    "        jsonldcss: 'https://rawgit.com/riccardotommasini/colorwave/master/static/css/jsonldvis.css',\n",
    "        jsonldjs: 'https://cdn.rawgit.com/riccardotommasini/colorwave/master/static/js/jsonldvis.js'\n",
    "    }\n",
    "});"
   ]
  },
  {
   "cell_type": "code",
   "execution_count": 136,
   "metadata": {},
   "outputs": [
    {
     "data": {
      "application/javascript": [
       "\n",
       "require(['d3'], function(d3) {\n",
       "    require([\"https://cdn.rawgit.com/riccardotommasini/colorwave/master/static/js/d3-tip.js\"], function(){\n",
       "        \n",
       "              require([\"https://cdn.rawgit.com/riccardotommasini/colorwave/master/static/js/jsonldvis.js\"], function() {\n",
       "                        d3.jsonldVis({\"@graph\": [{\"@id\": \"_:node1co57ahimx1\", \"vocals:feature\": {\"@id\": \"http://localhost:8181/streamhub/StreamFullRegistrationFeature\"}, \"vsd:body\": \"{\\\"query\\\":\\\"http://www.w3.org/2001/XMLSchema#string\\\"}\", \"vsd:body_param\": {\"@id\": \"_:node1co57ahimx3\"}, \"vsd:endpoint\": \"/streams\", \"vsd:method\": \"POST\", \"vsd:name\": \"StreamFullRegistrationFeature\"}, {\"@id\": \"_:node1co57ahimx2\", \"vsd:name\": \"query\"}, {\"@id\": \"_:node1co57ahimx3\", \"@type\": \"xsd:string\", \"vsd:index\": \"0\", \"vsd:name\": \"query\"}, {\"@id\": \"_:node1co57ahimx4\", \"vocals:feature\": {\"@id\": \"http://localhost:8181/streamhub/StreamGetterFeature\"}, \"vsd:endpoint\": \"/streams/:stream\", \"vsd:method\": \"GET\", \"vsd:name\": \"StreamGetterFeature\", \"vsd:uri_param\": {\"@id\": \"_:node1co57ahimx5\"}}, {\"@id\": \"_:node1co57ahimx5\", \"vsd:index\": \"0\", \"vsd:name\": \"stream\", \"vsd:type\": {\"@id\": \"xsd:string\"}}, {\"@id\": \"_:node1co57ahimx6\", \"vocals:feature\": {\"@id\": \"http://localhost:8181/streamhub/StreamsGetterFeature\"}, \"vsd:endpoint\": \"/streams\", \"vsd:method\": \"GET\", \"vsd:name\": \"StreamsGetterFeature\"}, {\"@id\": \"_:node1co57ahimx7\", \"vocals:feature\": {\"@id\": \"http://localhost:8181/streamhub/StreamDeletionFeature\"}, \"vsd:endpoint\": \"/streams/:stream\", \"vsd:method\": \"DELETE\", \"vsd:name\": \"StreamDeletionFeature\", \"vsd:uri_param\": {\"@id\": \"_:node1co57ahimx8\"}}, {\"@id\": \"_:node1co57ahimx8\", \"vsd:index\": \"0\", \"vsd:name\": \"stream\", \"vsd:type\": {\"@id\": \"xsd:string\"}}, {\"@id\": \"http://localhost:8181/streamhub\", \"@type\": \"vsd:PublishingService\", \"vsd:base\": \"http://localhost:8181\", \"vsd:hasService\": [{\"@id\": \"_:node1co57ahimx1\"}, {\"@id\": \"_:node1co57ahimx4\"}, {\"@id\": \"_:node1co57ahimx6\"}, {\"@id\": \"_:node1co57ahimx7\"}]}], \"@context\": {\"frmt\": \"http://www.w3.org/ns/formats/\", \"vsd\": \"http://w3id.org/rsp/vocals-sd#\", \"vocals\": \"http://w3id.org/rsp/vocals#\", \"xsd\": \"http://www.w3.org/2001/XMLSchema#\", \"vprov\": \"http://w3id.org/rsp/vocals-prov#\"}}, '#924a1130-0862-43e3-addb-c8adc215413a', {\n",
       "                            w: 800,\n",
       "                            h: 600,\n",
       "                            maxLabelWidth: 250,\n",
       "                            tipClassName: 'tip-class'\n",
       "                        });\n",
       "                });  \n",
       "});\n"
      ],
      "text/plain": [
       "<IPython.core.display.Javascript object>"
      ]
     },
     "execution_count": 136,
     "metadata": {},
     "output_type": "execute_result"
    }
   ],
   "source": [
    "from IPython.display import display, Javascript, HTML\n",
    "\n",
    "Javascript(\"\"\"\n",
    "require(['d3'], function(d3) {\n",
    "    require([\"https://cdn.rawgit.com/riccardotommasini/colorwave/master/static/js/d3-tip.js\"], function(){\n",
    "        \n",
    "              require([\"https://cdn.rawgit.com/riccardotommasini/colorwave/master/static/js/jsonldvis.js\"], function() {\n",
    "                        d3.jsonldVis(%s, '#924a1130-0862-43e3-addb-c8adc215413a', {\n",
    "                            w: 800,\n",
    "                            h: 600,\n",
    "                            maxLabelWidth: 250,\n",
    "                            tipClassName: 'tip-class'\n",
    "                        });\n",
    "                });  \n",
    "});\n",
    "}):\n",
    "\"\"\" % json.dumps(r))\n",
    "\n",
    "\n",
    "        \n"
   ]
  },
  {
   "cell_type": "markdown",
   "metadata": {},
   "source": [
    "# Check the Publisher Endpoint"
   ]
  },
  {
   "cell_type": "markdown",
   "metadata": {},
   "source": [
    "# Publishing a Stream"
   ]
  },
  {
   "cell_type": "code",
   "execution_count": 6,
   "metadata": {},
   "outputs": [],
   "source": [
    "default_headers = {\n",
    "          'Content-Type': 'application/json',\n",
    "          'Access-Control-Allow-Origin': '*'\n",
    "        }"
   ]
  },
  {
   "cell_type": "markdown",
   "metadata": {},
   "source": [
    "## Publication Query - SPARQL-like Syntax"
   ]
  },
  {
   "cell_type": "code",
   "execution_count": 7,
   "metadata": {},
   "outputs": [],
   "source": [
    "body = { 'query': '''BASE  <http://localhost:9292/streamhub>\n",
    "PREFIX xsd: <http://www.w3.org/2001/XMLSchema#>\n",
    "PREFIX rdfs: <http://www.w3.org/2000/01/rdf-schema#>\n",
    "PREFIX dcat: <http://www.w3.org/ns/dcat#>\n",
    "PREFIX frmt: <http://www.w3.org/ns/formats/>\n",
    "PREFIX vocals: <http://w3id.org/rsp/vocals#>\n",
    "PREFIX vsd: <http://w3id.org/rsp/vocals-sd#>\n",
    "REGISTER STREAM :red\n",
    "FROM SOURCE <ws://redstream:2551/red>\n",
    "WHERE {\n",
    "\n",
    "           {this} a vocals:StreamDescriptor .\n",
    "\n",
    "           {publisher} a vsd:PublishingService ;\n",
    "                         vsd:hasFeature vsd:replaying ;\n",
    "                         vsd:resultFormat frmt:JSON-LD .\n",
    "\n",
    "           :RedColorEndpoint a vocals:StreamEndpoint ;\n",
    "                            dcat:title \"A Color Stream Endpoint\"^^xsd:string ;\n",
    "                            dcat:description \"Streaming endpoint to consume Colors via WebSocket\"^^xsd:string ;\n",
    "                            dcat:license <https://creativecommons.org/licenses/by-nc/4.0/> ;\n",
    "                            dcat:format frmt:JSON-LD ;\n",
    "                            dcat:accessURL {source} ;\n",
    "                            vsd:publishedBy {publisher} .\n",
    "\n",
    "           {stream} a vocals:RDFStream ;\n",
    "                    dcat:title \"Red Color Stream\"^^xsd:string ;\n",
    "                    dcat:description \"Stream of red color instances\"^^xsd:string ;\n",
    "                    dcat:publisher {publisher} ;\n",
    "                    dcat:landingPage <https://example.org/rw/colors/> ;\n",
    "                    vocals:hasEndpoint :RedColorEndpoint  .\n",
    "\n",
    "}\n",
    "\n",
    "''' }\n",
    "body = json.dumps(body)\n",
    "r = requests.post(host+\"/streams\",  data = body, headers=default_headers )"
   ]
  },
  {
   "cell_type": "code",
   "execution_count": 9,
   "metadata": {},
   "outputs": [
    {
     "data": {
      "text/html": [
       "<div id=\"210af665-9c8b-4715-907c-f0fd28f98343\" style=\"height: 150px; width:100%;\"></div>"
      ]
     },
     "metadata": {},
     "output_type": "display_data"
    },
    {
     "data": {
      "application/javascript": [
       "\n",
       "        require([\"https://rawgit.com/caldwell/renderjson/master/renderjson.js\"], function() {\n",
       "          document.getElementById('210af665-9c8b-4715-907c-f0fd28f98343').appendChild(renderjson({\"@id\": \"streams/red\", \"@type\": \"vocals:StreamDescriptor\", \"dcat:dataset\": {\"@id\": \"streams/red\", \"@type\": \"vocals:RDFStream\", \"dcat:description\": \"Stream of red color instances\", \"dcat:landingPage\": \"https://example.org/rw/colors/\", \"dcat:publisher\": \"http://localhost:9292/streamhub\", \"dcat:title\": \"Red Color Stream\", \"vocals:hasEndpoint\": [[{\"@id\": \"http://localhost:9292/streamhub/RedColorEndpoint\", \"@type\": \"http://w3id.org/rsp/vocals#StreamEndpoint\", \"dcat:title\": \"A Color Stream Endpoint\", \"dcat:description\": \"Streaming endpoint to consume Colors via WebSocket\", \"dcat:license\": \"https://creativecommons.org/licenses/by-nc/4.0/\", \"dcat:format\": \"http://www.w3.org/ns/formats/JSON-LD\", \"dcat:accessURL\": \"ws://redstream:2551/red\", \"vsd:publishedBy\": \"http://localhost:9292/streamhub\"}], \"http://localhost:9292/streamhub/RedColorEndpoint\"]}, \"vsd:publishedBy\": {\"@id\": \"./\", \"@type\": \"vsd:PublishingService\", \"vsd:hasFeature\": \"http://w3id.org/rsp/vocals-sd#replaying\", \"vsd:resultFormat\": \"http://www.w3.org/ns/formats/JSON-LD\"}, \"@context\": {\"frmt\": \"http://www.w3.org/ns/formats/\", \"owl\": \"http://www.w3.org/2002/07/owl#\", \"rdf\": \"http://www.w3.org/1999/02/22-rdf-syntax-ns#\", \"vsd\": \"http://w3id.org/rsp/vocals-sd#\", \"xsd\": \"http://www.w3.org/2001/XMLSchema#\", \"format\": \"http://www.w3.org/ns/formats/\", \"vocals\": \"http://w3id.org/rsp/vocals#\", \"rdfs\": \"http://www.w3.org/2000/01/rdf-schema#\", \"vprov\": \"http://w3id.org/rsp/vocals-prov#\", \"dcat\": \"http://www.w3.org/ns/dcat#\", \"@base\": \"http://localhost:9292/streamhub/\", \"dcat:accessURL\": {\"@type\": \"xsd:string\"}, \"dcat:description\": {\"@type\": \"http://www.w3.org/2001/XMLSchema#string\"}, \"dcat:title\": {\"@type\": \"http://www.w3.org/2001/XMLSchema#string\"}}}))\n",
       "        });\n",
       "        "
      ]
     },
     "metadata": {},
     "output_type": "display_data"
    }
   ],
   "source": [
    "RenderJSON(r.json())"
   ]
  },
  {
   "cell_type": "markdown",
   "metadata": {},
   "source": [
    "## Checking if there is any stream"
   ]
  },
  {
   "cell_type": "code",
   "execution_count": 11,
   "metadata": {},
   "outputs": [],
   "source": [
    "s = requests.get(host+\"/streams\").json()"
   ]
  },
  {
   "cell_type": "code",
   "execution_count": 12,
   "metadata": {},
   "outputs": [
    {
     "data": {
      "text/html": [
       "<div id=\"d257c944-57c2-4c95-bc4a-1016e1ae7b8c\" style=\"height: 150px; width:100%;\"></div>"
      ]
     },
     "metadata": {},
     "output_type": "display_data"
    },
    {
     "data": {
      "application/javascript": [
       "\n",
       "        require([\"https://rawgit.com/caldwell/renderjson/master/renderjson.js\"], function() {\n",
       "          document.getElementById('d257c944-57c2-4c95-bc4a-1016e1ae7b8c').appendChild(renderjson([{\"iri\": \"http://localhost:9292/streamhub/streams/red\"}]))\n",
       "        });\n",
       "        "
      ]
     },
     "metadata": {},
     "output_type": "display_data"
    }
   ],
   "source": [
    "RenderJSON(s)"
   ]
  },
  {
   "cell_type": "markdown",
   "metadata": {},
   "source": [
    "## Getting the stream just registered"
   ]
  },
  {
   "cell_type": "code",
   "execution_count": 16,
   "metadata": {},
   "outputs": [],
   "source": [
    "redstream = requests.get(host+\"/streams/red\").json()"
   ]
  },
  {
   "cell_type": "code",
   "execution_count": 17,
   "metadata": {},
   "outputs": [
    {
     "data": {
      "text/html": [
       "<div id=\"907b5d43-5a9d-4d45-b6fb-8a357b7d93de\" style=\"height: 150px; width:100%;\"></div>"
      ]
     },
     "metadata": {},
     "output_type": "display_data"
    },
    {
     "data": {
      "application/javascript": [
       "\n",
       "        require([\"https://rawgit.com/caldwell/renderjson/master/renderjson.js\"], function() {\n",
       "          document.getElementById('907b5d43-5a9d-4d45-b6fb-8a357b7d93de').appendChild(renderjson({\"@id\": \"streams/red\", \"@type\": \"vocals:StreamDescriptor\", \"dcat:dataset\": {\"@id\": \"streams/red\", \"@type\": \"vocals:RDFStream\", \"dcat:description\": \"Stream of red color instances\", \"dcat:landingPage\": \"https://example.org/rw/colors/\", \"dcat:publisher\": \"http://localhost:9292/streamhub\", \"dcat:title\": \"Red Color Stream\", \"vocals:hasEndpoint\": [[{\"@id\": \"http://localhost:9292/streamhub/RedColorEndpoint\", \"@type\": \"http://w3id.org/rsp/vocals#StreamEndpoint\", \"dcat:title\": \"A Color Stream Endpoint\", \"dcat:description\": \"Streaming endpoint to consume Colors via WebSocket\", \"dcat:license\": \"https://creativecommons.org/licenses/by-nc/4.0/\", \"dcat:format\": \"http://www.w3.org/ns/formats/JSON-LD\", \"dcat:accessURL\": \"ws://redstream:2551/red\", \"vsd:publishedBy\": \"http://localhost:9292/streamhub\"}], \"http://localhost:9292/streamhub/RedColorEndpoint\"]}, \"vsd:publishedBy\": {\"@id\": \"./\", \"@type\": \"vsd:PublishingService\", \"vsd:hasFeature\": \"http://w3id.org/rsp/vocals-sd#replaying\", \"vsd:resultFormat\": \"http://www.w3.org/ns/formats/JSON-LD\"}, \"@context\": {\"frmt\": \"http://www.w3.org/ns/formats/\", \"owl\": \"http://www.w3.org/2002/07/owl#\", \"rdf\": \"http://www.w3.org/1999/02/22-rdf-syntax-ns#\", \"vsd\": \"http://w3id.org/rsp/vocals-sd#\", \"xsd\": \"http://www.w3.org/2001/XMLSchema#\", \"format\": \"http://www.w3.org/ns/formats/\", \"vocals\": \"http://w3id.org/rsp/vocals#\", \"rdfs\": \"http://www.w3.org/2000/01/rdf-schema#\", \"vprov\": \"http://w3id.org/rsp/vocals-prov#\", \"dcat\": \"http://www.w3.org/ns/dcat#\", \"@base\": \"http://localhost:9292/streamhub/\", \"dcat:accessURL\": {\"@type\": \"xsd:string\"}, \"dcat:description\": {\"@type\": \"http://www.w3.org/2001/XMLSchema#string\"}, \"dcat:title\": {\"@type\": \"http://www.w3.org/2001/XMLSchema#string\"}}}))\n",
       "        });\n",
       "        "
      ]
     },
     "metadata": {},
     "output_type": "display_data"
    }
   ],
   "source": [
    "RenderJSON(redstream)"
   ]
  },
  {
   "cell_type": "markdown",
   "metadata": {},
   "source": [
    "## Deleting the stream registered"
   ]
  },
  {
   "cell_type": "code",
   "execution_count": 18,
   "metadata": {},
   "outputs": [],
   "source": [
    "r = requests.delete(host+\"/streams/red\").json()"
   ]
  },
  {
   "cell_type": "code",
   "execution_count": 21,
   "metadata": {},
   "outputs": [
    {
     "data": {
      "text/html": [
       "<div id=\"8b825f61-6a23-4471-a8d0-c29ffb90b0ad\" style=\"height: 150px; width:100%;\"></div>"
      ]
     },
     "metadata": {},
     "output_type": "display_data"
    },
    {
     "data": {
      "application/javascript": [
       "\n",
       "        require([\"https://rawgit.com/caldwell/renderjson/master/renderjson.js\"], function() {\n",
       "          document.getElementById('8b825f61-6a23-4471-a8d0-c29ffb90b0ad').appendChild(renderjson({\"@id\": \"streams/red\", \"@type\": \"vocals:StreamDescriptor\", \"dcat:dataset\": {\"@id\": \"streams/red\", \"@type\": \"vocals:RDFStream\", \"dcat:description\": \"Stream of red color instances\", \"dcat:landingPage\": \"https://example.org/rw/colors/\", \"dcat:publisher\": \"http://localhost:9292/streamhub\", \"dcat:title\": \"Red Color Stream\", \"vocals:hasEndpoint\": [[{\"@id\": \"http://localhost:9292/streamhub/RedColorEndpoint\", \"@type\": \"http://w3id.org/rsp/vocals#StreamEndpoint\", \"dcat:title\": \"A Color Stream Endpoint\", \"dcat:description\": \"Streaming endpoint to consume Colors via WebSocket\", \"dcat:license\": \"https://creativecommons.org/licenses/by-nc/4.0/\", \"dcat:format\": \"http://www.w3.org/ns/formats/JSON-LD\", \"dcat:accessURL\": \"ws://redstream:2551/red\", \"vsd:publishedBy\": \"http://localhost:9292/streamhub\"}], \"http://localhost:9292/streamhub/RedColorEndpoint\"]}, \"vsd:publishedBy\": {\"@id\": \"./\", \"@type\": \"vsd:PublishingService\", \"vsd:hasFeature\": \"http://w3id.org/rsp/vocals-sd#replaying\", \"vsd:resultFormat\": \"http://www.w3.org/ns/formats/JSON-LD\"}, \"@context\": {\"frmt\": \"http://www.w3.org/ns/formats/\", \"owl\": \"http://www.w3.org/2002/07/owl#\", \"rdf\": \"http://www.w3.org/1999/02/22-rdf-syntax-ns#\", \"vsd\": \"http://w3id.org/rsp/vocals-sd#\", \"xsd\": \"http://www.w3.org/2001/XMLSchema#\", \"format\": \"http://www.w3.org/ns/formats/\", \"vocals\": \"http://w3id.org/rsp/vocals#\", \"rdfs\": \"http://www.w3.org/2000/01/rdf-schema#\", \"vprov\": \"http://w3id.org/rsp/vocals-prov#\", \"dcat\": \"http://www.w3.org/ns/dcat#\", \"@base\": \"http://localhost:9292/streamhub/\", \"dcat:accessURL\": {\"@type\": \"xsd:string\"}, \"dcat:description\": {\"@type\": \"http://www.w3.org/2001/XMLSchema#string\"}, \"dcat:title\": {\"@type\": \"http://www.w3.org/2001/XMLSchema#string\"}}}))\n",
       "        });\n",
       "        "
      ]
     },
     "metadata": {},
     "output_type": "display_data"
    }
   ],
   "source": [
    "RenderJSON(r)"
   ]
  },
  {
   "cell_type": "code",
   "execution_count": null,
   "metadata": {},
   "outputs": [],
   "source": []
  }
 ],
 "metadata": {
  "kernelspec": {
   "display_name": "Python 3",
   "language": "python",
   "name": "python3"
  },
  "language_info": {
   "codemirror_mode": {
    "name": "ipython",
    "version": 3
   },
   "file_extension": ".py",
   "mimetype": "text/x-python",
   "name": "python",
   "nbconvert_exporter": "python",
   "pygments_lexer": "ipython3",
   "version": "3.6.2"
  }
 },
 "nbformat": 4,
 "nbformat_minor": 2
}
