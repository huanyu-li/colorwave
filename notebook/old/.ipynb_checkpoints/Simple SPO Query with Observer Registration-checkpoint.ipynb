{
 "cells": [
  {
   "cell_type": "code",
   "execution_count": 55,
   "metadata": {},
   "outputs": [],
   "source": [
    "default_headers = {\n",
    "          'Content-Type': 'application/json',\n",
    "          'Access-Control-Allow-Origin': '*'\n",
    "        }"
   ]
  },
  {
   "cell_type": "code",
   "execution_count": 105,
   "metadata": {},
   "outputs": [],
   "source": [
    "from IPython.display import display_javascript, display_html, display\n",
    "import uuid\n",
    "\n",
    "class RenderJSON(object):\n",
    "    def __init__(self, json_data):\n",
    "        if isinstance(json_data, dict):\n",
    "            self.json_str = json.dumps(json_data)\n",
    "        elif isinstance(json_data, list):\n",
    "            self.json_str = json.dumps(json_data)\n",
    "        else:\n",
    "            self.json_str = json\n",
    "        self.uuid = str(uuid.uuid4())\n",
    "        \n",
    "    def _ipython_display_(self):\n",
    "        display_html('<div id=\"{}\" style=\"height: 150px; width:100%;\"></div>'.format(self.uuid),\n",
    "            raw=True\n",
    "        )\n",
    "        display_javascript(\"\"\"\n",
    "        require([\"https://rawgit.com/caldwell/renderjson/master/renderjson.js\"], function() {\n",
    "          document.getElementById('%s').appendChild(renderjson(%s))\n",
    "        });\n",
    "        \"\"\" % (self.uuid, self.json_str), raw=True)"
   ]
  },
  {
   "cell_type": "code",
   "execution_count": 106,
   "metadata": {},
   "outputs": [],
   "source": [
    "import requests, json"
   ]
  },
  {
   "cell_type": "code",
   "execution_count": 107,
   "metadata": {},
   "outputs": [],
   "source": [
    "engine = \"http://docker.for.mac.localhost:8181\""
   ]
  },
  {
   "cell_type": "code",
   "execution_count": 108,
   "metadata": {},
   "outputs": [],
   "source": [
    "e = requests.get(engine + \"/jasper\").json()"
   ]
  },
  {
   "cell_type": "code",
   "execution_count": 109,
   "metadata": {},
   "outputs": [
    {
     "data": {
      "text/html": [
       "<div id=\"c211a63b-362c-4a6f-bf54-206146e455d9\" style=\"height: 150px; width:100%;\"></div>"
      ]
     },
     "metadata": {},
     "output_type": "display_data"
    },
    {
     "data": {
      "application/javascript": [
       "\n",
       "        require([\"https://rawgit.com/caldwell/renderjson/master/renderjson.js\"], function() {\n",
       "          document.getElementById('c211a63b-362c-4a6f-bf54-206146e455d9').appendChild(renderjson({\"@graph\": [{\"@id\": \"_:b0\", \"feature\": \"http://localhost:8181//QueryDeletionFeature\", \"endpoint\": \"/queries/:query\", \"method\": \"DELETE\", \"name\": \"QueryDeletionFeature\", \"uri_param\": \"_:b17\"}, {\"@id\": \"_:b1\", \"feature\": \"http://localhost:8181//StreamsGetterFeature\", \"endpoint\": \"/streams\", \"method\": \"GET\", \"name\": \"StreamsGetterFeature\"}, {\"@id\": \"_:b10\", \"name\": \"source\"}, {\"@id\": \"_:b11\", \"name\": \"body\"}, {\"@id\": \"_:b12\", \"@type\": \"xsd:string\", \"index\": \"1\", \"name\": \"source\"}, {\"@id\": \"_:b13\", \"index\": \"0\", \"name\": \"stream\", \"type\": \"xsd:string\"}, {\"@id\": \"_:b14\", \"@type\": \"xsd:string\", \"index\": \"0\", \"name\": \"body\"}, {\"@id\": \"_:b15\", \"index\": \"0\", \"name\": \"stream\", \"type\": \"xsd:string\"}, {\"@id\": \"_:b16\", \"index\": \"0\", \"name\": \"query\", \"type\": \"xsd:string\"}, {\"@id\": \"_:b17\", \"index\": \"0\", \"name\": \"query\", \"type\": \"xsd:string\"}, {\"@id\": \"_:b18\", \"@type\": \"xsd:string\", \"index\": \"0\", \"name\": \"id\"}, {\"@id\": \"_:b2\", \"feature\": \"http://localhost:8181//QueryRegistrationFeature\", \"body\": \"{\\\"id\\\":\\\"http://www.w3.org/2001/XMLSchema#string\\\",\\\"body\\\":\\\"http://www.w3.org/2001/XMLSchema#string\\\",\\\"tbox\\\":\\\"http://www.w3.org/2001/XMLSchema#string\\\"}\", \"body_param\": [\"_:b8\", \"_:b14\", \"_:b18\"], \"endpoint\": \"/queries\", \"method\": \"POST\", \"name\": \"QueryRegistrationFeature\"}, {\"@id\": \"_:b3\", \"feature\": \"http://localhost:8181//StreamDeletionFeature\", \"endpoint\": \"/streams/:stream\", \"method\": \"DELETE\", \"name\": \"StreamDeletionFeature\", \"uri_param\": \"_:b9\"}, {\"@id\": \"_:b4\", \"feature\": \"http://localhost:8181//QueriesGetterFeature\", \"endpoint\": \"/queries\", \"method\": \"GET\", \"name\": \"QueriesGetterFeature\"}, {\"@id\": \"_:b5\", \"feature\": \"http://localhost:8181//StreamGetterFeature\", \"endpoint\": \"/streams/:stream\", \"method\": \"GET\", \"name\": \"StreamGetterFeature\", \"uri_param\": \"_:b15\"}, {\"@id\": \"_:b6\", \"feature\": \"http://localhost:8181//QueryGetterFeature\", \"endpoint\": \"/queries/:query\", \"method\": \"GET\", \"name\": \"QueryGetterFeature\", \"uri_param\": \"_:b16\"}, {\"@id\": \"_:b7\", \"feature\": \"http://localhost:8181//StreamRegistrationFeature\", \"body\": \"{\\\"source\\\":\\\"http://www.w3.org/2001/XMLSchema#string\\\"}\", \"body_param\": \"_:b12\", \"endpoint\": \"/streams/:stream\", \"method\": \"POST\", \"name\": \"StreamRegistrationFeature\", \"uri_param\": \"_:b13\"}, {\"@id\": \"_:b8\", \"@type\": \"xsd:string\", \"index\": \"0\", \"name\": \"tbox\"}, {\"@id\": \"_:b9\", \"index\": \"0\", \"name\": \"stream\", \"type\": \"xsd:string\"}, {\"@id\": \"http://localhost:8181/jasper\", \"@type\": \"vsd:ProcessingService\", \"base\": \"http://localhost:8181/jasper\", \"hasService\": [\"_:b0\", \"_:b1\", \"_:b2\", \"_:b3\", \"_:b4\", \"_:b5\", \"_:b6\", \"_:b7\"]}], \"@context\": {\"hasService\": {\"@id\": \"http://w3id.org/rsp/vocals-sd#hasService\", \"@type\": \"@id\"}, \"base\": {\"@id\": \"http://w3id.org/rsp/vocals-sd#base\"}, \"index\": {\"@id\": \"http://w3id.org/rsp/vocals-sd#index\"}, \"name\": {\"@id\": \"http://w3id.org/rsp/vocals-sd#name\"}, \"method\": {\"@id\": \"http://w3id.org/rsp/vocals-sd#method\"}, \"endpoint\": {\"@id\": \"http://w3id.org/rsp/vocals-sd#endpoint\"}, \"feature\": {\"@id\": \"http://w3id.org/rsp/vocals#feature\", \"@type\": \"@id\"}, \"uri_param\": {\"@id\": \"http://w3id.org/rsp/vocals-sd#uri_param\", \"@type\": \"@id\"}, \"body\": {\"@id\": \"http://w3id.org/rsp/vocals-sd#body\"}, \"body_param\": {\"@id\": \"http://w3id.org/rsp/vocals-sd#body_param\", \"@type\": \"@id\"}, \"type\": {\"@id\": \"http://w3id.org/rsp/vocals-sd#type\", \"@type\": \"@id\"}, \"frmt\": \"http://www.w3.org/ns/formats/\", \"vsd\": \"http://w3id.org/rsp/vocals-sd#\", \"vocals\": \"http://w3id.org/rsp/vocals#\", \"xsd\": \"http://www.w3.org/2001/XMLSchema#\"}}))\n",
       "        });\n",
       "        "
      ]
     },
     "metadata": {},
     "output_type": "display_data"
    }
   ],
   "source": [
    "RenderJSON(e)"
   ]
  },
  {
   "cell_type": "code",
   "execution_count": 174,
   "metadata": {},
   "outputs": [],
   "source": [
    "l = requests.get(engine + \"/jasper/streams\").json()"
   ]
  },
  {
   "cell_type": "code",
   "execution_count": 175,
   "metadata": {},
   "outputs": [
    {
     "data": {
      "text/html": [
       "<div id=\"b8275e89-4047-433c-83cb-15084f7e56f5\" style=\"height: 150px; width:100%;\"></div>"
      ]
     },
     "metadata": {},
     "output_type": "display_data"
    },
    {
     "data": {
      "application/javascript": [
       "\n",
       "        require([\"https://rawgit.com/caldwell/renderjson/master/renderjson.js\"], function() {\n",
       "          document.getElementById('b8275e89-4047-433c-83cb-15084f7e56f5').appendChild(renderjson([{\"iri\": \"http://localhost:1255/red\"}, {\"iri\": \"http://localhost:8181/jasper/streams/q2\"}]))\n",
       "        });\n",
       "        "
      ]
     },
     "metadata": {},
     "output_type": "display_data"
    }
   ],
   "source": [
    "RenderJSON(l)"
   ]
  },
  {
   "cell_type": "code",
   "execution_count": 176,
   "metadata": {},
   "outputs": [],
   "source": [
    "qs = requests.get(engine + \"/jasper/queries\").json()"
   ]
  },
  {
   "cell_type": "code",
   "execution_count": 177,
   "metadata": {},
   "outputs": [
    {
     "data": {
      "text/html": [
       "<div id=\"e55b4d64-68ed-4253-b092-a937f53ff0ce\" style=\"height: 150px; width:100%;\"></div>"
      ]
     },
     "metadata": {},
     "output_type": "display_data"
    },
    {
     "data": {
      "application/javascript": [
       "\n",
       "        require([\"https://rawgit.com/caldwell/renderjson/master/renderjson.js\"], function() {\n",
       "          document.getElementById('e55b4d64-68ed-4253-b092-a937f53ff0ce').appendChild(renderjson([{\"iri\": \"http://localhost:8181/jasper/queries/q2\"}]))\n",
       "        });\n",
       "        "
      ]
     },
     "metadata": {},
     "output_type": "display_data"
    }
   ],
   "source": [
    "RenderJSON(qs)"
   ]
  },
  {
   "cell_type": "code",
   "execution_count": 270,
   "metadata": {},
   "outputs": [
    {
     "data": {
      "text/html": [
       "<div id=\"0d1dec33-6130-42ec-8cbd-dafda1b54eac\" style=\"height: 150px; width:100%;\"></div>"
      ]
     },
     "metadata": {},
     "output_type": "display_data"
    },
    {
     "data": {
      "application/javascript": [
       "\n",
       "        require([\"https://rawgit.com/caldwell/renderjson/master/renderjson.js\"], function() {\n",
       "          document.getElementById('0d1dec33-6130-42ec-8cbd-dafda1b54eac').appendChild(renderjson({\"id\": \"q1\", \"tbox\": \"file:///Users/riccardo/Desktop/colors.owl\", \"body\": \"CONSTRUCT {?s ?p ?o} FROM NAMED WINDOW <w1> ON <http://localhost:1255/red> [RANGE PT10S STEP PT10S] WHERE { WINDOW ?w { ?s ?p ?o } }\"}))\n",
       "        });\n",
       "        "
      ]
     },
     "metadata": {},
     "output_type": "display_data"
    }
   ],
   "source": [
    "body = {\n",
    "    'id':'q1',\n",
    "    'tbox': 'file:///Users/riccardo/Desktop/colors.owl',\n",
    "    'body': 'CONSTRUCT {?s ?p ?o} FROM NAMED WINDOW <w1> ON <http://localhost:1255/red> [RANGE PT10S STEP PT10S] WHERE { WINDOW ?w { ?s ?p ?o } }'\n",
    "}\n",
    "    \n",
    "data = json.dumps(body)\n",
    "\n",
    "RenderJSON(body)"
   ]
  },
  {
   "cell_type": "code",
   "execution_count": 271,
   "metadata": {},
   "outputs": [],
   "source": [
    "q = requests.post(engine + \"/jasper/queries\", data = data, headers=default_headers).json()"
   ]
  },
  {
   "cell_type": "code",
   "execution_count": 173,
   "metadata": {},
   "outputs": [
    {
     "data": {
      "text/html": [
       "<div id=\"7cdc8635-f02a-4a35-b132-46a57e3b6e94\" style=\"height: 150px; width:100%;\"></div>"
      ]
     },
     "metadata": {},
     "output_type": "display_data"
    },
    {
     "data": {
      "application/javascript": [
       "\n",
       "        require([\"https://rawgit.com/caldwell/renderjson/master/renderjson.js\"], function() {\n",
       "          document.getElementById('7cdc8635-f02a-4a35-b132-46a57e3b6e94').appendChild(renderjson({\"@id\": \"queries/q2\", \"@type\": \"vprov:Task\", \"prov:generated\": {\"@id\": \"streams/q2\"}, \"prov:uses\": {\"@id\": \"http://localhost:1255/red\"}, \"@context\": {\"@base\": \"http://localhost:8181/jasper/\", \"rdf\": \"http://www.w3.org/1999/02/22-rdf-syntax-ns#\", \"vsd\": \"http://w3id.org/rsp/vocals-sd#\", \"vocals\": \"http://w3id.org/rsp/vocals#\", \"xsd\": \"http://www.w3.org/2001/XMLSchema#\", \"format\": \"http://www.w3.org/ns/formats/\", \"rdfs\": \"http://www.w3.org/2000/01/rdf-schema#\", \"vprov\": \"http://w3id.org/rsp/vocals-prov#\", \"dcat\": \"https://www.w3.org/TR/vocab-dcat/\", \"prov\": \"http://www.w3.org/ns/prov#\"}}))\n",
       "        });\n",
       "        "
      ]
     },
     "metadata": {},
     "output_type": "display_data"
    }
   ],
   "source": [
    "RenderJSON(q)"
   ]
  },
  {
   "cell_type": "code",
   "execution_count": 272,
   "metadata": {},
   "outputs": [],
   "source": [
    "os = requests.get(engine + \"/jasper/observers/q2\").json()"
   ]
  },
  {
   "cell_type": "code",
   "execution_count": 273,
   "metadata": {},
   "outputs": [
    {
     "data": {
      "text/html": [
       "<div id=\"9f0eb68f-74a2-4e8d-a889-9d15fa9738dd\" style=\"height: 150px; width:100%;\"></div>"
      ]
     },
     "metadata": {},
     "output_type": "display_data"
    },
    {
     "data": {
      "application/javascript": [
       "\n",
       "        require([\"https://rawgit.com/caldwell/renderjson/master/renderjson.js\"], function() {\n",
       "          document.getElementById('9f0eb68f-74a2-4e8d-a889-9d15fa9738dd').appendChild(renderjson([]))\n",
       "        });\n",
       "        "
      ]
     },
     "metadata": {},
     "output_type": "display_data"
    }
   ],
   "source": [
    "RenderJSON(os)"
   ]
  },
  {
   "cell_type": "code",
   "execution_count": 274,
   "metadata": {},
   "outputs": [],
   "source": [
    "data=json.dumps({ \n",
    "    'stream': engine + \"/jasper/queries/q1\",\n",
    "    'protocol': \"WEBSOCKET\" \n",
    "})"
   ]
  },
  {
   "cell_type": "code",
   "execution_count": 275,
   "metadata": {
    "scrolled": true
   },
   "outputs": [],
   "source": [
    "o = requests.post(engine + \"/jasper/observers/q1\", data = json.dumps({'protocol':\"HTTP\", \"retention\":5}) , headers=default_headers).json()"
   ]
  },
  {
   "cell_type": "code",
   "execution_count": 276,
   "metadata": {},
   "outputs": [],
   "source": [
    "os = requests.get(engine + \"/jasper/observers/q1\").json()"
   ]
  },
  {
   "cell_type": "code",
   "execution_count": 277,
   "metadata": {},
   "outputs": [
    {
     "data": {
      "text/html": [
       "<div id=\"c2410c84-95a6-413a-859c-ca1db25a3fc3\" style=\"height: 150px; width:100%;\"></div>"
      ]
     },
     "metadata": {},
     "output_type": "display_data"
    },
    {
     "data": {
      "application/javascript": [
       "\n",
       "        require([\"https://rawgit.com/caldwell/renderjson/master/renderjson.js\"], function() {\n",
       "          document.getElementById('c2410c84-95a6-413a-859c-ca1db25a3fc3').appendChild(renderjson({\"@type\": \"vocals:StreamDescriptor\", \"dcat:dataset\": {\"@id\": \"http://localhost:8181/jasper/streams/q1\", \"@type\": \"vocals:RDFStream\", \"vocals:hasEndpoint\": [{\"@type\": \"vocals:StreamEndpoint\", \"dcat:accessURL\": \"http://localhost:8182/jasper/streams/q1/observers/513111409\"}]}, \"@context\": {\"dcat\": \"https://www.w3.org/TR/vocab-dcat/\", \"vocals\": \"http://w3id.org/rsp/vocals#\"}}))\n",
       "        });\n",
       "        "
      ]
     },
     "metadata": {},
     "output_type": "display_data"
    }
   ],
   "source": [
    "RenderJSON(o)"
   ]
  },
  {
   "cell_type": "code",
   "execution_count": 278,
   "metadata": {},
   "outputs": [
    {
     "data": {
      "text/html": [
       "<div id=\"34e82645-901d-4af4-a5e5-d6d415069eb9\" style=\"height: 150px; width:100%;\"></div>"
      ]
     },
     "metadata": {},
     "output_type": "display_data"
    },
    {
     "data": {
      "application/javascript": [
       "\n",
       "        require([\"https://rawgit.com/caldwell/renderjson/master/renderjson.js\"], function() {\n",
       "          document.getElementById('34e82645-901d-4af4-a5e5-d6d415069eb9').appendChild(renderjson([{\"@type\": \"vocals:StreamEndpoint\", \"dcat:accessURL\": \"http://localhost:8182/jasper/streams/q1/observers/513111409\", \"@context\": {\"vocals\": \"http://w3id.org/rsp/vocals#\"}}]))\n",
       "        });\n",
       "        "
      ]
     },
     "metadata": {},
     "output_type": "display_data"
    }
   ],
   "source": [
    "RenderJSON(os)"
   ]
  },
  {
   "cell_type": "code",
   "execution_count": 280,
   "metadata": {},
   "outputs": [],
   "source": [
    "o = requests.post(engine + \"/jasper/observers/q1\", data = json.dumps({'protocol':\"WEBSOCKET\"}) , headers=default_headers).json()"
   ]
  },
  {
   "cell_type": "code",
   "execution_count": 281,
   "metadata": {},
   "outputs": [
    {
     "data": {
      "text/html": [
       "<div id=\"9d38efa9-1bad-4520-a5c7-85b6d51d6e81\" style=\"height: 150px; width:100%;\"></div>"
      ]
     },
     "metadata": {},
     "output_type": "display_data"
    },
    {
     "data": {
      "application/javascript": [
       "\n",
       "        require([\"https://rawgit.com/caldwell/renderjson/master/renderjson.js\"], function() {\n",
       "          document.getElementById('9d38efa9-1bad-4520-a5c7-85b6d51d6e81').appendChild(renderjson({\"@type\": \"vocals:StreamDescriptor\", \"dcat:dataset\": {\"@id\": \"http://localhost:8181/jasper/streams/q1\", \"@type\": \"vocals:RDFStream\", \"vocals:hasEndpoint\": [{\"@type\": \"vocals:StreamEndpoint\", \"dcat:accessURL\": \"http://localhost:8182/jasper/streams/q1/observers/513111409\"}, {\"@type\": \"vocals:StreamEndpoint\", \"dcat:accessURL\": \"ws://localhost:8183/jasper/streams/q1/observers/1434964989\", \"dcat:format\": \"frmt:JSON-LD\", \"vsd:publishedBy\": \"http://localhost:8181/jasper\"}]}, \"@context\": {\"dcat\": \"http://www.w3.org/ns/dcat#\", \"vocals\": \"http://w3id.org/rsp/vocals#\", \"vsd\": \"http://w3id.org/rsp/vocals-sd#\"}}))\n",
       "        });\n",
       "        "
      ]
     },
     "metadata": {},
     "output_type": "display_data"
    }
   ],
   "source": [
    "RenderJSON(o)"
   ]
  },
  {
   "cell_type": "code",
   "execution_count": 287,
   "metadata": {},
   "outputs": [
    {
     "data": {
      "text/html": [
       "<div id=\"5117607a-f213-42b2-a377-26c5e163b67b\" style=\"height: 150px; width:100%;\"></div>"
      ]
     },
     "metadata": {},
     "output_type": "display_data"
    },
    {
     "data": {
      "application/javascript": [
       "\n",
       "        require([\"https://rawgit.com/caldwell/renderjson/master/renderjson.js\"], function() {\n",
       "          document.getElementById('5117607a-f213-42b2-a377-26c5e163b67b').appendChild(renderjson({\"id\": \"q2\", \"tbox\": \"file:///Users/riccardo/Desktop/colors.owl\", \"body\": \"CONSTRUCT {?s ?p ?o} FROM NAMED WINDOW <w1> ON <http://localhost:8181/jasper/streams/q9> [RANGE PT10S STEP PT10S] WHERE { WINDOW ?w { ?s ?p ?o } }\"}))\n",
       "        });\n",
       "        "
      ]
     },
     "metadata": {},
     "output_type": "display_data"
    }
   ],
   "source": [
    "body = {\n",
    "    'id':'q2',\n",
    "    'tbox': 'file:///Users/riccardo/Desktop/colors.owl',\n",
    "    'body': 'CONSTRUCT {?s ?p ?o} FROM NAMED WINDOW <w1> ON <http://localhost:8181/jasper/streams/q1> [RANGE PT10S STEP PT10S] WHERE { WINDOW ?w { ?s ?p ?o } }'\n",
    "}\n",
    "    \n",
    "data = json.dumps(body)\n",
    "\n",
    "RenderJSON(body)\n"
   ]
  },
  {
   "cell_type": "code",
   "execution_count": 288,
   "metadata": {},
   "outputs": [],
   "source": [
    "q = requests.post(engine + \"/jasper/queries\", data = data, headers=default_headers)"
   ]
  },
  {
   "cell_type": "code",
   "execution_count": 289,
   "metadata": {},
   "outputs": [
    {
     "data": {
      "text/plain": [
       "'Not found: http://localhost:8181/jasper/streams/q9'"
      ]
     },
     "execution_count": 289,
     "metadata": {},
     "output_type": "execute_result"
    }
   ],
   "source": [
    "q.text"
   ]
  },
  {
   "cell_type": "code",
   "execution_count": 286,
   "metadata": {},
   "outputs": [
    {
     "data": {
      "text/html": [
       "<div id=\"5e594567-def6-4176-b4ab-a0057426ef1d\" style=\"height: 150px; width:100%;\"></div>"
      ]
     },
     "metadata": {},
     "output_type": "display_data"
    },
    {
     "data": {
      "application/javascript": [
       "\n",
       "        require([\"https://rawgit.com/caldwell/renderjson/master/renderjson.js\"], function() {\n",
       "          document.getElementById('5e594567-def6-4176-b4ab-a0057426ef1d').appendChild(renderjson({\"@id\": \"queries/q2\", \"@type\": \"vprov:Task\", \"prov:generated\": {\"@id\": \"streams/q2\"}, \"prov:uses\": {\"@id\": \"streams/q1\"}, \"@context\": {\"@base\": \"http://localhost:8181/jasper/\", \"rdf\": \"http://www.w3.org/1999/02/22-rdf-syntax-ns#\", \"vsd\": \"http://w3id.org/rsp/vocals-sd#\", \"vocals\": \"http://w3id.org/rsp/vocals#\", \"xsd\": \"http://www.w3.org/2001/XMLSchema#\", \"format\": \"http://www.w3.org/ns/formats/\", \"rdfs\": \"http://www.w3.org/2000/01/rdf-schema#\", \"vprov\": \"http://w3id.org/rsp/vocals-prov#\", \"dcat\": \"http://www.w3.org/ns/dcat#\", \"prov\": \"http://www.w3.org/ns/prov#\"}}))\n",
       "        });\n",
       "        "
      ]
     },
     "metadata": {},
     "output_type": "display_data"
    }
   ],
   "source": [
    "RenderJSON(q.json())"
   ]
  },
  {
   "cell_type": "code",
   "execution_count": 6,
   "metadata": {},
   "outputs": [],
   "source": [
    "from rdflib import Graph, ConjunctiveGraph, plugin,URIRef\n",
    "import requests, json\n",
    "import pprint\n",
    "from rdflib.plugin import register, Parser, Serializer\n",
    "register('jsonld', Parser, 'rdflib_jsonld.parser', 'JsonLDParser')\n",
    "register('jsonld', Serializer, 'rdflib_jsonld.serializer', 'JsonLDSerializer')"
   ]
  },
  {
   "cell_type": "code",
   "execution_count": 7,
   "metadata": {},
   "outputs": [],
   "source": [
    "a = requests.get(\"http://docker.for.mac.localhost:4255/red\").json()"
   ]
  },
  {
   "cell_type": "code",
   "execution_count": 8,
   "metadata": {},
   "outputs": [],
   "source": [
    "data = json.dumps(a)\n"
   ]
  },
  {
   "cell_type": "code",
   "execution_count": 9,
   "metadata": {},
   "outputs": [],
   "source": [
    "foo = ConjunctiveGraph()\n",
    "bar = foo.parse(data=data, format='jsonld')\n",
    "bar = foo.serialize()"
   ]
  },
  {
   "cell_type": "code",
   "execution_count": 17,
   "metadata": {},
   "outputs": [],
   "source": [
    "import pandas as pd"
   ]
  },
  {
   "cell_type": "code",
   "execution_count": 18,
   "metadata": {},
   "outputs": [
    {
     "ename": "ValueError",
     "evalue": "Index contains duplicate entries, cannot reshape",
     "output_type": "error",
     "traceback": [
      "\u001b[0;31m---------------------------------------------------------------------------\u001b[0m",
      "\u001b[0;31mValueError\u001b[0m                                Traceback (most recent call last)",
      "\u001b[0;32m<ipython-input-18-430ce1f4c8f8>\u001b[0m in \u001b[0;36m<module>\u001b[0;34m()\u001b[0m\n\u001b[1;32m      2\u001b[0m \u001b[0;34m\u001b[0m\u001b[0m\n\u001b[1;32m      3\u001b[0m \u001b[0mdf\u001b[0m \u001b[0;34m=\u001b[0m \u001b[0mpd\u001b[0m\u001b[0;34m.\u001b[0m\u001b[0mDataFrame\u001b[0m\u001b[0;34m(\u001b[0m\u001b[0mdata\u001b[0m\u001b[0;34m)\u001b[0m\u001b[0;34m\u001b[0m\u001b[0m\n\u001b[0;32m----> 4\u001b[0;31m \u001b[0mdf\u001b[0m\u001b[0;34m.\u001b[0m\u001b[0mpivot\u001b[0m\u001b[0;34m(\u001b[0m\u001b[0mindex\u001b[0m\u001b[0;34m=\u001b[0m\u001b[0;36m0\u001b[0m\u001b[0;34m,\u001b[0m \u001b[0mcolumns\u001b[0m\u001b[0;34m=\u001b[0m\u001b[0;36m1\u001b[0m\u001b[0;34m,\u001b[0m \u001b[0mvalues\u001b[0m\u001b[0;34m=\u001b[0m\u001b[0;36m2\u001b[0m\u001b[0;34m)\u001b[0m\u001b[0;34m\u001b[0m\u001b[0m\n\u001b[0m",
      "\u001b[0;32m/opt/conda/lib/python3.6/site-packages/pandas/core/frame.py\u001b[0m in \u001b[0;36mpivot\u001b[0;34m(self, index, columns, values)\u001b[0m\n\u001b[1;32m   3933\u001b[0m         \"\"\"\n\u001b[1;32m   3934\u001b[0m         \u001b[0;32mfrom\u001b[0m \u001b[0mpandas\u001b[0m\u001b[0;34m.\u001b[0m\u001b[0mcore\u001b[0m\u001b[0;34m.\u001b[0m\u001b[0mreshape\u001b[0m \u001b[0;32mimport\u001b[0m \u001b[0mpivot\u001b[0m\u001b[0;34m\u001b[0m\u001b[0m\n\u001b[0;32m-> 3935\u001b[0;31m         \u001b[0;32mreturn\u001b[0m \u001b[0mpivot\u001b[0m\u001b[0;34m(\u001b[0m\u001b[0mself\u001b[0m\u001b[0;34m,\u001b[0m \u001b[0mindex\u001b[0m\u001b[0;34m=\u001b[0m\u001b[0mindex\u001b[0m\u001b[0;34m,\u001b[0m \u001b[0mcolumns\u001b[0m\u001b[0;34m=\u001b[0m\u001b[0mcolumns\u001b[0m\u001b[0;34m,\u001b[0m \u001b[0mvalues\u001b[0m\u001b[0;34m=\u001b[0m\u001b[0mvalues\u001b[0m\u001b[0;34m)\u001b[0m\u001b[0;34m\u001b[0m\u001b[0m\n\u001b[0m\u001b[1;32m   3936\u001b[0m \u001b[0;34m\u001b[0m\u001b[0m\n\u001b[1;32m   3937\u001b[0m     \u001b[0;32mdef\u001b[0m \u001b[0mstack\u001b[0m\u001b[0;34m(\u001b[0m\u001b[0mself\u001b[0m\u001b[0;34m,\u001b[0m \u001b[0mlevel\u001b[0m\u001b[0;34m=\u001b[0m\u001b[0;34m-\u001b[0m\u001b[0;36m1\u001b[0m\u001b[0;34m,\u001b[0m \u001b[0mdropna\u001b[0m\u001b[0;34m=\u001b[0m\u001b[0;32mTrue\u001b[0m\u001b[0;34m)\u001b[0m\u001b[0;34m:\u001b[0m\u001b[0;34m\u001b[0m\u001b[0m\n",
      "\u001b[0;32m/opt/conda/lib/python3.6/site-packages/pandas/core/reshape.py\u001b[0m in \u001b[0;36mpivot\u001b[0;34m(self, index, columns, values)\u001b[0m\n\u001b[1;32m    336\u001b[0m         indexed = Series(self[values].values,\n\u001b[1;32m    337\u001b[0m                          index=MultiIndex.from_arrays([index, self[columns]]))\n\u001b[0;32m--> 338\u001b[0;31m         \u001b[0;32mreturn\u001b[0m \u001b[0mindexed\u001b[0m\u001b[0;34m.\u001b[0m\u001b[0munstack\u001b[0m\u001b[0;34m(\u001b[0m\u001b[0mcolumns\u001b[0m\u001b[0;34m)\u001b[0m\u001b[0;34m\u001b[0m\u001b[0m\n\u001b[0m\u001b[1;32m    339\u001b[0m \u001b[0;34m\u001b[0m\u001b[0m\n\u001b[1;32m    340\u001b[0m \u001b[0;34m\u001b[0m\u001b[0m\n",
      "\u001b[0;32m/opt/conda/lib/python3.6/site-packages/pandas/core/series.py\u001b[0m in \u001b[0;36munstack\u001b[0;34m(self, level, fill_value)\u001b[0m\n\u001b[1;32m   2088\u001b[0m         \"\"\"\n\u001b[1;32m   2089\u001b[0m         \u001b[0;32mfrom\u001b[0m \u001b[0mpandas\u001b[0m\u001b[0;34m.\u001b[0m\u001b[0mcore\u001b[0m\u001b[0;34m.\u001b[0m\u001b[0mreshape\u001b[0m \u001b[0;32mimport\u001b[0m \u001b[0munstack\u001b[0m\u001b[0;34m\u001b[0m\u001b[0m\n\u001b[0;32m-> 2090\u001b[0;31m         \u001b[0;32mreturn\u001b[0m \u001b[0munstack\u001b[0m\u001b[0;34m(\u001b[0m\u001b[0mself\u001b[0m\u001b[0;34m,\u001b[0m \u001b[0mlevel\u001b[0m\u001b[0;34m,\u001b[0m \u001b[0mfill_value\u001b[0m\u001b[0;34m)\u001b[0m\u001b[0;34m\u001b[0m\u001b[0m\n\u001b[0m\u001b[1;32m   2091\u001b[0m \u001b[0;34m\u001b[0m\u001b[0m\n\u001b[1;32m   2092\u001b[0m     \u001b[0;31m# ----------------------------------------------------------------------\u001b[0m\u001b[0;34m\u001b[0m\u001b[0;34m\u001b[0m\u001b[0m\n",
      "\u001b[0;32m/opt/conda/lib/python3.6/site-packages/pandas/core/reshape.py\u001b[0m in \u001b[0;36munstack\u001b[0;34m(obj, level, fill_value)\u001b[0m\n\u001b[1;32m    411\u001b[0m     \u001b[0;32melse\u001b[0m\u001b[0;34m:\u001b[0m\u001b[0;34m\u001b[0m\u001b[0m\n\u001b[1;32m    412\u001b[0m         unstacker = _Unstacker(obj.values, obj.index, level=level,\n\u001b[0;32m--> 413\u001b[0;31m                                fill_value=fill_value)\n\u001b[0m\u001b[1;32m    414\u001b[0m         \u001b[0;32mreturn\u001b[0m \u001b[0munstacker\u001b[0m\u001b[0;34m.\u001b[0m\u001b[0mget_result\u001b[0m\u001b[0;34m(\u001b[0m\u001b[0;34m)\u001b[0m\u001b[0;34m\u001b[0m\u001b[0m\n\u001b[1;32m    415\u001b[0m \u001b[0;34m\u001b[0m\u001b[0m\n",
      "\u001b[0;32m/opt/conda/lib/python3.6/site-packages/pandas/core/reshape.py\u001b[0m in \u001b[0;36m__init__\u001b[0;34m(self, values, index, level, value_columns, fill_value)\u001b[0m\n\u001b[1;32m    101\u001b[0m \u001b[0;34m\u001b[0m\u001b[0m\n\u001b[1;32m    102\u001b[0m         \u001b[0mself\u001b[0m\u001b[0;34m.\u001b[0m\u001b[0m_make_sorted_values_labels\u001b[0m\u001b[0;34m(\u001b[0m\u001b[0;34m)\u001b[0m\u001b[0;34m\u001b[0m\u001b[0m\n\u001b[0;32m--> 103\u001b[0;31m         \u001b[0mself\u001b[0m\u001b[0;34m.\u001b[0m\u001b[0m_make_selectors\u001b[0m\u001b[0;34m(\u001b[0m\u001b[0;34m)\u001b[0m\u001b[0;34m\u001b[0m\u001b[0m\n\u001b[0m\u001b[1;32m    104\u001b[0m \u001b[0;34m\u001b[0m\u001b[0m\n\u001b[1;32m    105\u001b[0m     \u001b[0;32mdef\u001b[0m \u001b[0m_make_sorted_values_labels\u001b[0m\u001b[0;34m(\u001b[0m\u001b[0mself\u001b[0m\u001b[0;34m)\u001b[0m\u001b[0;34m:\u001b[0m\u001b[0;34m\u001b[0m\u001b[0m\n",
      "\u001b[0;32m/opt/conda/lib/python3.6/site-packages/pandas/core/reshape.py\u001b[0m in \u001b[0;36m_make_selectors\u001b[0;34m(self)\u001b[0m\n\u001b[1;32m    139\u001b[0m \u001b[0;34m\u001b[0m\u001b[0m\n\u001b[1;32m    140\u001b[0m         \u001b[0;32mif\u001b[0m \u001b[0mmask\u001b[0m\u001b[0;34m.\u001b[0m\u001b[0msum\u001b[0m\u001b[0;34m(\u001b[0m\u001b[0;34m)\u001b[0m \u001b[0;34m<\u001b[0m \u001b[0mlen\u001b[0m\u001b[0;34m(\u001b[0m\u001b[0mself\u001b[0m\u001b[0;34m.\u001b[0m\u001b[0mindex\u001b[0m\u001b[0;34m)\u001b[0m\u001b[0;34m:\u001b[0m\u001b[0;34m\u001b[0m\u001b[0m\n\u001b[0;32m--> 141\u001b[0;31m             raise ValueError('Index contains duplicate entries, '\n\u001b[0m\u001b[1;32m    142\u001b[0m                              'cannot reshape')\n\u001b[1;32m    143\u001b[0m \u001b[0;34m\u001b[0m\u001b[0m\n",
      "\u001b[0;31mValueError\u001b[0m: Index contains duplicate entries, cannot reshape"
     ]
    }
   ],
   "source": [
    "data = [[t[0],t[1],t[2]] for t in list(foo)]\n",
    "\n",
    "df = pd.DataFrame(data)\n",
    "df.pivot(index=0, columns=['Subject', 'Predicate', 'Object'])"
   ]
  },
  {
   "cell_type": "code",
   "execution_count": 101,
   "metadata": {},
   "outputs": [
    {
     "data": {
      "text/plain": [
       "['ws://redstream:2551/red']"
      ]
     },
     "execution_count": 101,
     "metadata": {},
     "output_type": "execute_result"
    }
   ],
   "source": [
    "accessURL = URIRef(\"http://www.w3.org/ns/dcat#accessURL\")\n",
    "[o.value for s,p,o in foo.triples( (None,accessURL,None))]\n",
    "\n",
    "\n"
   ]
  },
  {
   "cell_type": "code",
   "execution_count": 94,
   "metadata": {},
   "outputs": [
    {
     "ename": "AttributeError",
     "evalue": "'bytes' object has no attribute 'query'",
     "output_type": "error",
     "traceback": [
      "\u001b[0;31m---------------------------------------------------------------------------\u001b[0m",
      "\u001b[0;31mAttributeError\u001b[0m                            Traceback (most recent call last)",
      "\u001b[0;32m<ipython-input-94-23126e9b7679>\u001b[0m in \u001b[0;36m<module>\u001b[0;34m()\u001b[0m\n\u001b[0;32m----> 1\u001b[0;31m qres = g.query('''PREFIX vsd: <http://w3id.org/rsp/vocals-sd#>\n\u001b[0m\u001b[1;32m      2\u001b[0m \u001b[0mPREFIX\u001b[0m \u001b[0mvocals\u001b[0m\u001b[0;34m:\u001b[0m \u001b[0;34m<\u001b[0m\u001b[0mhttp\u001b[0m\u001b[0;34m:\u001b[0m\u001b[0;34m//\u001b[0m\u001b[0mw3id\u001b[0m\u001b[0;34m.\u001b[0m\u001b[0morg\u001b[0m\u001b[0;34m/\u001b[0m\u001b[0mrsp\u001b[0m\u001b[0;34m/\u001b[0m\u001b[0mvocals\u001b[0m\u001b[0;31m#>\u001b[0m\u001b[0;34m\u001b[0m\u001b[0m\n\u001b[1;32m      3\u001b[0m \u001b[0mPREFIX\u001b[0m \u001b[0mdcat\u001b[0m\u001b[0;34m:\u001b[0m \u001b[0;34m<\u001b[0m\u001b[0mhttp\u001b[0m\u001b[0;34m:\u001b[0m\u001b[0;34m//\u001b[0m\u001b[0mwww\u001b[0m\u001b[0;34m.\u001b[0m\u001b[0mw3\u001b[0m\u001b[0;34m.\u001b[0m\u001b[0morg\u001b[0m\u001b[0;34m/\u001b[0m\u001b[0mns\u001b[0m\u001b[0;34m/\u001b[0m\u001b[0mdcat\u001b[0m\u001b[0;31m#>\u001b[0m\u001b[0;34m\u001b[0m\u001b[0m\n\u001b[1;32m      4\u001b[0m \u001b[0;34m\u001b[0m\u001b[0m\n\u001b[1;32m      5\u001b[0m \u001b[0mSELECT\u001b[0m \u001b[0;34m*\u001b[0m\u001b[0;34m\u001b[0m\u001b[0m\n",
      "\u001b[0;31mAttributeError\u001b[0m: 'bytes' object has no attribute 'query'"
     ]
    }
   ],
   "source": [
    "qres = g.query('''PREFIX vsd: <http://w3id.org/rsp/vocals-sd#>\n",
    "PREFIX vocals: <http://w3id.org/rsp/vocals#>\n",
    "PREFIX dcat: <http://www.w3.org/ns/dcat#>\n",
    "\n",
    "SELECT *\n",
    "WHERE {\n",
    "\n",
    "    ?endpoint dcat:accessURL ?url ;\n",
    "              dcat:format ?format ;\n",
    "              vsd:publishedBy ?service .\n",
    "\n",
    "\n",
    "\n",
    "}''')\n",
    "\n",
    "for t in g.triples():\n",
    "   print(t)"
   ]
  },
  {
   "cell_type": "code",
   "execution_count": 103,
   "metadata": {},
   "outputs": [
    {
     "ename": "ModuleNotFoundError",
     "evalue": "No module named 'rsplib'",
     "output_type": "error",
     "traceback": [
      "\u001b[0;31m---------------------------------------------------------------------------\u001b[0m",
      "\u001b[0;31mModuleNotFoundError\u001b[0m                       Traceback (most recent call last)",
      "\u001b[0;32m<ipython-input-103-d6f874bcc757>\u001b[0m in \u001b[0;36m<module>\u001b[0;34m()\u001b[0m\n\u001b[0;32m----> 1\u001b[0;31m \u001b[0;32mfrom\u001b[0m \u001b[0mrsplib\u001b[0m \u001b[0;32mimport\u001b[0m \u001b[0mStream\u001b[0m\u001b[0;34m\u001b[0m\u001b[0m\n\u001b[0m",
      "\u001b[0;31mModuleNotFoundError\u001b[0m: No module named 'rsplib'"
     ]
    }
   ],
   "source": [
    "from rsplib import Stream"
   ]
  },
  {
   "cell_type": "code",
   "execution_count": null,
   "metadata": {},
   "outputs": [],
   "source": []
  }
 ],
 "metadata": {
  "kernelspec": {
   "display_name": "Python 3",
   "language": "python",
   "name": "python3"
  },
  "language_info": {
   "codemirror_mode": {
    "name": "ipython",
    "version": 3
   },
   "file_extension": ".py",
   "mimetype": "text/x-python",
   "name": "python",
   "nbconvert_exporter": "python",
   "pygments_lexer": "ipython3",
   "version": "3.6.2"
  }
 },
 "nbformat": 4,
 "nbformat_minor": 2
}
