{
 "cells": [
  {
   "cell_type": "code",
   "execution_count": 1,
   "metadata": {},
   "outputs": [
    {
     "name": "stdout",
     "output_type": "stream",
     "text": [
      "Collecting json2html\n",
      "  Downloading https://files.pythonhosted.org/packages/23/33/e6367858c5da6795d3277e9ea4e58a70a7fd55f97f4bcc90b1ecec1c1410/json2html-1.2.1.tar.gz\n",
      "Building wheels for collected packages: json2html\n",
      "  Running setup.py bdist_wheel for json2html ... \u001b[?25ldone\n",
      "\u001b[?25h  Stored in directory: /home/jovyan/.cache/pip/wheels/c8/8a/ae/daa5ab4d808a6b7f77d8fd967efd85ccf2e18364ed87b0c694\n",
      "Successfully built json2html\n",
      "Installing collected packages: json2html\n",
      "Successfully installed json2html-1.2.1\n"
     ]
    }
   ],
   "source": [
    "!pip install json2html"
   ]
  },
  {
   "cell_type": "code",
   "execution_count": 24,
   "metadata": {},
   "outputs": [],
   "source": [
    "import rsplib, rdflib, requests\n",
    "from json2html import *\n",
    "from rdflib import Graph, plugin\n",
    "from rdflib.serializer import Serializer"
   ]
  },
  {
   "cell_type": "code",
   "execution_count": 3,
   "metadata": {},
   "outputs": [],
   "source": [
    "a = requests.get(\"http://redstream:1255/red\").text"
   ]
  },
  {
   "cell_type": "code",
   "execution_count": 4,
   "metadata": {},
   "outputs": [
    {
     "data": {
      "text/plain": [
       "'{\\n  \"@graph\" : [ {\\n    \"@id\" : \"http://localhost:1255/RedColorStreamEndpoint\",\\n    \"@type\" : \"http://w3id.org/rsp/vocals#StreamEndpoint\",\\n    \"http://w3id.org/rsp/vocals-sd#publishedBy\" : {\\n      \"@id\" : \"http://localhost:8181/colorwave\"\\n    },\\n    \"http://www.w3.org/ns/dcat#accessURL\" : \"ws://localhost:2551/red\",\\n    \"http://www.w3.org/ns/dcat#description\" : \"Streaming endpoint to consume Red color instances via websocket\",\\n    \"http://www.w3.org/ns/dcat#format\" : {\\n      \"@id\" : \"http://www.w3.org/ns/formats/JSON-LD\"\\n    },\\n    \"http://www.w3.org/ns/dcat#license\" : {\\n      \"@id\" : \"https://creativecommons.org/licenses/by-nc/4.0/\"\\n    },\\n    \"http://www.w3.org/ns/dcat#title\" : \"Red Color Stream Endpoint\"\\n  }, {\\n    \"@id\" : \"http://localhost:1255/red\",\\n    \"@type\" : [ \"http://w3id.org/rsp/vocals#StreamDescriptor\", \"http://w3id.org/rsp/vocals#RDFStream\" ],\\n    \"http://w3id.org/rsp/vocals#hasEndpoint\" : {\\n      \"@id\" : \"http://localhost:1255/RedColorStreamEndpoint\"\\n    },\\n    \"http://www.w3.org/ns/dcat#description\" : \"Periodically produces instances of the Red Color Class\",\\n    \"http://www.w3.org/ns/dcat#landingPage\" : {\\n      \"@id\" : \"https://example.org/color/red/\"\\n    },\\n    \"http://www.w3.org/ns/dcat#publisher\" : {\\n      \"@id\" : \"http://localhost:8181/colorwave\"\\n    },\\n    \"http://www.w3.org/ns/dcat#title\" : \"Red Color Stream\"\\n  }, {\\n    \"@id\" : \"http://localhost:8181/colorwave\",\\n    \"@type\" : \"http://w3id.org/rsp/vocals-sd#PublishingService\",\\n    \"http://w3id.org/rsp/vocals-sd#hasFeature\" : {\\n      \"@id\" : \"http://w3id.org/rsp/vocals-sd#replaying\"\\n    },\\n    \"http://w3id.org/rsp/vocals-sd#resultFormat\" : {\\n      \"@id\" : \"http://www.w3.org/ns/formats/JSON-LD\"\\n    }\\n  } ]\\n}'"
      ]
     },
     "execution_count": 4,
     "metadata": {},
     "output_type": "execute_result"
    }
   ],
   "source": [
    "a"
   ]
  },
  {
   "cell_type": "code",
   "execution_count": null,
   "metadata": {},
   "outputs": [],
   "source": []
  },
  {
   "cell_type": "code",
   "execution_count": 5,
   "metadata": {},
   "outputs": [],
   "source": [
    "g = Graph().parse(data=a, format='json-ld')"
   ]
  },
  {
   "cell_type": "code",
   "execution_count": 6,
   "metadata": {},
   "outputs": [
    {
     "data": {
      "text/plain": [
       "<Graph identifier=N48af249b627f4cbca1b9a98fbca1880e (<class 'rdflib.graph.Graph'>)>"
      ]
     },
     "execution_count": 6,
     "metadata": {},
     "output_type": "execute_result"
    }
   ],
   "source": [
    "g"
   ]
  },
  {
   "cell_type": "code",
   "execution_count": 17,
   "metadata": {},
   "outputs": [
    {
     "ename": "NameError",
     "evalue": "name 'cfg' is not defined",
     "output_type": "error",
     "traceback": [
      "\u001b[0;31m---------------------------------------------------------------------------\u001b[0m",
      "\u001b[0;31mNameError\u001b[0m                                 Traceback (most recent call last)",
      "\u001b[0;32m<ipython-input-17-45aa0d18f17c>\u001b[0m in \u001b[0;36m<module>\u001b[0;34m()\u001b[0m\n\u001b[0;32m----> 1\u001b[0;31m \u001b[0mopt\u001b[0m \u001b[0;34m=\u001b[0m \u001b[0;34m{\u001b[0m \u001b[0;34m'lang'\u001b[0m \u001b[0;34m:\u001b[0m \u001b[0mcfg\u001b[0m\u001b[0;34m.\u001b[0m\u001b[0mlan\u001b[0m\u001b[0;34m,\u001b[0m \u001b[0;34m'literal'\u001b[0m \u001b[0;34m:\u001b[0m \u001b[0mliteral\u001b[0m\u001b[0;34m,\u001b[0m \u001b[0;34m'graphviz'\u001b[0m \u001b[0;34m:\u001b[0m \u001b[0;34m[\u001b[0m\u001b[0;34m]\u001b[0m \u001b[0;34m}\u001b[0m\u001b[0;34m\u001b[0m\u001b[0m\n\u001b[0m",
      "\u001b[0;31mNameError\u001b[0m: name 'cfg' is not defined"
     ]
    }
   ],
   "source": []
  },
  {
   "cell_type": "code",
   "execution_count": 18,
   "metadata": {},
   "outputs": [],
   "source": [
    "data, metadata =rsplib.draw_graph(g, fmt='png')"
   ]
  },
  {
   "cell_type": "code",
   "execution_count": 19,
   "metadata": {},
   "outputs": [
    {
     "data": {
      "text/plain": [
       "{'data': {'image/png': 'iVBORw0KGgoAAAANSUhEUgAAAAsAAAALCAYAAACprHcmAAAABmJLR0QA/wD/AP+gvaeTAAAAJ0lEQVQYlWP8////fwbiwGomIhUyMDAwMIwqpo9iFgYGhtVEqj0BAAvPBjJ63HJVAAAAAElFTkSuQmCC'},\n",
       " 'metadata': {'image/png': {'height': 2200,\n",
       "   'unconfined': True,\n",
       "   'width': 5500}}}"
      ]
     },
     "execution_count": 19,
     "metadata": {},
     "output_type": "execute_result"
    }
   ],
   "source": [
    "{ 'data' : data,\n",
    "                     'metadata' : metadata  }"
   ]
  },
  {
   "cell_type": "code",
   "execution_count": 25,
   "metadata": {},
   "outputs": [
    {
     "ename": "AttributeError",
     "evalue": "module 'json2html' has no attribute 'convert'",
     "output_type": "error",
     "traceback": [
      "\u001b[0;31m---------------------------------------------------------------------------\u001b[0m",
      "\u001b[0;31mAttributeError\u001b[0m                            Traceback (most recent call last)",
      "\u001b[0;32m<ipython-input-25-a3abc65dca28>\u001b[0m in \u001b[0;36m<module>\u001b[0;34m()\u001b[0m\n\u001b[0;32m----> 1\u001b[0;31m \u001b[0mjson2html\u001b[0m\u001b[0;34m.\u001b[0m\u001b[0mconvert\u001b[0m\u001b[0;34m(\u001b[0m\u001b[0;34m{\u001b[0m \u001b[0;34m'data'\u001b[0m \u001b[0;34m:\u001b[0m \u001b[0mdata\u001b[0m\u001b[0;34m,\u001b[0m \u001b[0;34m'metadata'\u001b[0m \u001b[0;34m:\u001b[0m \u001b[0mmetadata\u001b[0m  \u001b[0;34m}\u001b[0m\u001b[0;34m)\u001b[0m\u001b[0;34m\u001b[0m\u001b[0m\n\u001b[0m",
      "\u001b[0;31mAttributeError\u001b[0m: module 'json2html' has no attribute 'convert'"
     ]
    }
   ],
   "source": [
    "json2html.convert({ 'data' : data, 'metadata' : metadata  })"
   ]
  },
  {
   "cell_type": "code",
   "execution_count": null,
   "metadata": {},
   "outputs": [],
   "source": []
  }
 ],
 "metadata": {
  "kernelspec": {
   "display_name": "Python 3",
   "language": "python",
   "name": "python3"
  },
  "language_info": {
   "codemirror_mode": {
    "name": "ipython",
    "version": 3
   },
   "file_extension": ".py",
   "mimetype": "text/x-python",
   "name": "python",
   "nbconvert_exporter": "python",
   "pygments_lexer": "ipython3",
   "version": "3.6.2"
  }
 },
 "nbformat": 4,
 "nbformat_minor": 2
}
