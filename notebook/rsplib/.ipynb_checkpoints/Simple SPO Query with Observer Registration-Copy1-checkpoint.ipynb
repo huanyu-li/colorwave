{
 "cells": [
  {
   "cell_type": "code",
   "execution_count": 1,
   "metadata": {},
   "outputs": [],
   "source": [
    "default_headers = {\n",
    "          'Content-Type': 'application/json',\n",
    "          'Access-Control-Allow-Origin': '*'\n",
    "        }"
   ]
  },
  {
   "cell_type": "code",
   "execution_count": 2,
   "metadata": {},
   "outputs": [],
   "source": [
    "from IPython.display import display_javascript, display_html, display\n",
    "import uuid\n",
    "\n",
    "class RenderJSON(object):\n",
    "    def __init__(self, json_data):\n",
    "        if isinstance(json_data, dict):\n",
    "            self.json_str = json.dumps(json_data)\n",
    "        elif isinstance(json_data, list):\n",
    "            self.json_str = json.dumps(json_data)\n",
    "        else:\n",
    "            self.json_str = json\n",
    "        self.uuid = str(uuid.uuid4())\n",
    "        \n",
    "    def _ipython_display_(self):\n",
    "        display_html('<div id=\"{}\" style=\"height: 150px; width:100%;\"></div>'.format(self.uuid),\n",
    "            raw=True\n",
    "        )\n",
    "        display_javascript(\"\"\"\n",
    "        require([\"https://rawgit.com/caldwell/renderjson/master/renderjson.js\"], function() {\n",
    "          document.getElementById('%s').appendChild(renderjson(%s))\n",
    "        });\n",
    "        \"\"\" % (self.uuid, self.json_str), raw=True)"
   ]
  },
  {
   "cell_type": "code",
   "execution_count": 3,
   "metadata": {},
   "outputs": [],
   "source": [
    "import requests, json"
   ]
  },
  {
   "cell_type": "code",
   "execution_count": 4,
   "metadata": {},
   "outputs": [],
   "source": [
    "engine = \"http://jasper:8181\""
   ]
  },
  {
   "cell_type": "code",
   "execution_count": 5,
   "metadata": {},
   "outputs": [],
   "source": [
    "e = requests.get(engine + \"/jasper\").json()"
   ]
  },
  {
   "cell_type": "code",
   "execution_count": 6,
   "metadata": {},
   "outputs": [
    {
     "data": {
      "text/html": [
       "<div id=\"c214bc24-b972-418c-a8dd-2d7256f3c00b\" style=\"height: 150px; width:100%;\"></div>"
      ]
     },
     "metadata": {},
     "output_type": "display_data"
    },
    {
     "data": {
      "application/javascript": [
       "\n",
       "        require([\"https://rawgit.com/caldwell/renderjson/master/renderjson.js\"], function() {\n",
       "          document.getElementById('c214bc24-b972-418c-a8dd-2d7256f3c00b').appendChild(renderjson({\"@graph\": [{\"@id\": \"_:b0\", \"@type\": \"xsd:string\", \"index\": \"0\", \"name\": \"id\"}, {\"@id\": \"_:b1\", \"feature\": \"http://localhost:8181//StreamRegistrationFeature\", \"body\": \"{\\\"source\\\":\\\"http://www.w3.org/2001/XMLSchema#string\\\"}\", \"body_param\": \"_:b2\", \"endpoint\": \"/streams/:stream\", \"method\": \"POST\", \"name\": \"StreamRegistrationFeature\", \"uri_param\": \"_:b3\"}, {\"@id\": \"_:b10\", \"feature\": \"http://localhost:8181//StreamDeletionFeature\", \"endpoint\": \"/streams/:stream\", \"method\": \"DELETE\", \"name\": \"StreamDeletionFeature\", \"uri_param\": \"_:b15\"}, {\"@id\": \"_:b11\", \"index\": \"0\", \"name\": \"stream\", \"type\": \"xsd:string\"}, {\"@id\": \"_:b12\", \"index\": \"0\", \"name\": \"query\", \"type\": \"xsd:string\"}, {\"@id\": \"_:b13\", \"name\": \"body\"}, {\"@id\": \"_:b14\", \"@type\": \"xsd:string\", \"index\": \"0\", \"name\": \"body\"}, {\"@id\": \"_:b15\", \"index\": \"0\", \"name\": \"stream\", \"type\": \"xsd:string\"}, {\"@id\": \"_:b16\", \"index\": \"0\", \"name\": \"query\", \"type\": \"xsd:string\"}, {\"@id\": \"_:b17\", \"name\": \"source\"}, {\"@id\": \"_:b18\", \"@type\": \"xsd:string\", \"index\": \"0\", \"name\": \"tbox\"}, {\"@id\": \"_:b19\", \"@type\": \"xsd:string\", \"index\": \"0\", \"name\": \"format\"}, {\"@id\": \"_:b2\", \"@type\": \"xsd:string\", \"index\": \"1\", \"name\": \"source\"}, {\"@id\": \"_:b3\", \"index\": \"0\", \"name\": \"stream\", \"type\": \"xsd:string\"}, {\"@id\": \"_:b4\", \"feature\": \"http://localhost:8181//StreamsGetterFeature\", \"endpoint\": \"/streams\", \"method\": \"GET\", \"name\": \"StreamsGetterFeature\"}, {\"@id\": \"_:b5\", \"feature\": \"http://localhost:8181//QueriesGetterFeature\", \"endpoint\": \"/queries\", \"method\": \"GET\", \"name\": \"QueriesGetterFeature\"}, {\"@id\": \"_:b6\", \"feature\": \"http://localhost:8181//QueryDeletionFeature\", \"endpoint\": \"/queries/:query\", \"method\": \"DELETE\", \"name\": \"QueryDeletionFeature\", \"uri_param\": \"_:b16\"}, {\"@id\": \"_:b7\", \"feature\": \"http://localhost:8181//QueryGetterFeature\", \"endpoint\": \"/queries/:query\", \"method\": \"GET\", \"name\": \"QueryGetterFeature\", \"uri_param\": \"_:b12\"}, {\"@id\": \"_:b8\", \"feature\": \"http://localhost:8181//QueryRegistrationFeature\", \"body\": \"{\\\"id\\\":\\\"http://www.w3.org/2001/XMLSchema#string\\\",\\\"body\\\":\\\"http://www.w3.org/2001/XMLSchema#string\\\",\\\"tbox\\\":\\\"http://www.w3.org/2001/XMLSchema#string\\\",\\\"format\\\":\\\"http://www.w3.org/2001/XMLSchema#string\\\"}\", \"body_param\": [\"_:b19\", \"_:b18\", \"_:b14\", \"_:b0\"], \"endpoint\": \"/queries\", \"method\": \"POST\", \"name\": \"QueryRegistrationFeature\"}, {\"@id\": \"_:b9\", \"feature\": \"http://localhost:8181//StreamGetterFeature\", \"endpoint\": \"/streams/:stream\", \"method\": \"GET\", \"name\": \"StreamGetterFeature\", \"uri_param\": \"_:b11\"}, {\"@id\": \"http://localhost:8181/jasper\", \"@type\": \"vsd:ProcessingService\", \"base\": \"http://localhost:8181/jasper\", \"hasService\": [\"_:b1\", \"_:b4\", \"_:b5\", \"_:b6\", \"_:b7\", \"_:b8\", \"_:b9\", \"_:b10\"]}], \"@context\": {\"index\": {\"@id\": \"http://w3id.org/rsp/vocals-sd#index\"}, \"name\": {\"@id\": \"http://w3id.org/rsp/vocals-sd#name\"}, \"method\": {\"@id\": \"http://w3id.org/rsp/vocals-sd#method\"}, \"endpoint\": {\"@id\": \"http://w3id.org/rsp/vocals-sd#endpoint\"}, \"feature\": {\"@id\": \"http://w3id.org/rsp/vocals#feature\", \"@type\": \"@id\"}, \"body\": {\"@id\": \"http://w3id.org/rsp/vocals-sd#body\"}, \"body_param\": {\"@id\": \"http://w3id.org/rsp/vocals-sd#body_param\", \"@type\": \"@id\"}, \"uri_param\": {\"@id\": \"http://w3id.org/rsp/vocals-sd#uri_param\", \"@type\": \"@id\"}, \"hasService\": {\"@id\": \"http://w3id.org/rsp/vocals-sd#hasService\", \"@type\": \"@id\"}, \"base\": {\"@id\": \"http://w3id.org/rsp/vocals-sd#base\"}, \"type\": {\"@id\": \"http://w3id.org/rsp/vocals-sd#type\", \"@type\": \"@id\"}, \"frmt\": \"http://www.w3.org/ns/formats/\", \"vsd\": \"http://w3id.org/rsp/vocals-sd#\", \"vocals\": \"http://w3id.org/rsp/vocals#\", \"xsd\": \"http://www.w3.org/2001/XMLSchema#\"}}))\n",
       "        });\n",
       "        "
      ]
     },
     "metadata": {},
     "output_type": "display_data"
    }
   ],
   "source": [
    "RenderJSON(e)"
   ]
  },
  {
   "cell_type": "code",
   "execution_count": 7,
   "metadata": {},
   "outputs": [],
   "source": [
    "l = requests.get(engine + \"/jasper/streams\").json()"
   ]
  },
  {
   "cell_type": "code",
   "execution_count": 8,
   "metadata": {},
   "outputs": [
    {
     "data": {
      "text/html": [
       "<div id=\"f54440f9-e7fd-4271-b4de-3fc86f728c7a\" style=\"height: 150px; width:100%;\"></div>"
      ]
     },
     "metadata": {},
     "output_type": "display_data"
    },
    {
     "data": {
      "application/javascript": [
       "\n",
       "        require([\"https://rawgit.com/caldwell/renderjson/master/renderjson.js\"], function() {\n",
       "          document.getElementById('f54440f9-e7fd-4271-b4de-3fc86f728c7a').appendChild(renderjson([]))\n",
       "        });\n",
       "        "
      ]
     },
     "metadata": {},
     "output_type": "display_data"
    }
   ],
   "source": [
    "RenderJSON(l)"
   ]
  },
  {
   "cell_type": "code",
   "execution_count": 9,
   "metadata": {},
   "outputs": [],
   "source": [
    "qs = requests.get(engine + \"/jasper/queries\").json()"
   ]
  },
  {
   "cell_type": "code",
   "execution_count": 10,
   "metadata": {},
   "outputs": [
    {
     "data": {
      "text/html": [
       "<div id=\"dea785ec-dfa1-4521-88a3-f2d9986a89a9\" style=\"height: 150px; width:100%;\"></div>"
      ]
     },
     "metadata": {},
     "output_type": "display_data"
    },
    {
     "data": {
      "application/javascript": [
       "\n",
       "        require([\"https://rawgit.com/caldwell/renderjson/master/renderjson.js\"], function() {\n",
       "          document.getElementById('dea785ec-dfa1-4521-88a3-f2d9986a89a9').appendChild(renderjson([]))\n",
       "        });\n",
       "        "
      ]
     },
     "metadata": {},
     "output_type": "display_data"
    }
   ],
   "source": [
    "RenderJSON(qs)"
   ]
  },
  {
   "cell_type": "code",
   "execution_count": 11,
   "metadata": {},
   "outputs": [],
   "source": [
    "redstream = requests.get(\"http://redstream:9292/streamhub/streams/red\")"
   ]
  },
  {
   "cell_type": "code",
   "execution_count": 12,
   "metadata": {},
   "outputs": [
    {
     "ename": "JSONDecodeError",
     "evalue": "Expecting value: line 1 column 1 (char 0)",
     "output_type": "error",
     "traceback": [
      "\u001b[0;31m---------------------------------------------------------------------------\u001b[0m",
      "\u001b[0;31mJSONDecodeError\u001b[0m                           Traceback (most recent call last)",
      "\u001b[0;32m<ipython-input-12-d23e3bc5245b>\u001b[0m in \u001b[0;36m<module>\u001b[0;34m()\u001b[0m\n\u001b[0;32m----> 1\u001b[0;31m \u001b[0mRenderJSON\u001b[0m\u001b[0;34m(\u001b[0m\u001b[0mredstream\u001b[0m\u001b[0;34m.\u001b[0m\u001b[0mjson\u001b[0m\u001b[0;34m(\u001b[0m\u001b[0;34m)\u001b[0m\u001b[0;34m)\u001b[0m\u001b[0;34m\u001b[0m\u001b[0m\n\u001b[0m",
      "\u001b[0;32m/opt/conda/lib/python3.6/site-packages/requests/models.py\u001b[0m in \u001b[0;36mjson\u001b[0;34m(self, **kwargs)\u001b[0m\n\u001b[1;32m    882\u001b[0m                 \u001b[0;32mtry\u001b[0m\u001b[0;34m:\u001b[0m\u001b[0;34m\u001b[0m\u001b[0m\n\u001b[1;32m    883\u001b[0m                     return complexjson.loads(\n\u001b[0;32m--> 884\u001b[0;31m                         \u001b[0mself\u001b[0m\u001b[0;34m.\u001b[0m\u001b[0mcontent\u001b[0m\u001b[0;34m.\u001b[0m\u001b[0mdecode\u001b[0m\u001b[0;34m(\u001b[0m\u001b[0mencoding\u001b[0m\u001b[0;34m)\u001b[0m\u001b[0;34m,\u001b[0m \u001b[0;34m**\u001b[0m\u001b[0mkwargs\u001b[0m\u001b[0;34m\u001b[0m\u001b[0m\n\u001b[0m\u001b[1;32m    885\u001b[0m                     )\n\u001b[1;32m    886\u001b[0m                 \u001b[0;32mexcept\u001b[0m \u001b[0mUnicodeDecodeError\u001b[0m\u001b[0;34m:\u001b[0m\u001b[0;34m\u001b[0m\u001b[0m\n",
      "\u001b[0;32m/opt/conda/lib/python3.6/json/__init__.py\u001b[0m in \u001b[0;36mloads\u001b[0;34m(s, encoding, cls, object_hook, parse_float, parse_int, parse_constant, object_pairs_hook, **kw)\u001b[0m\n\u001b[1;32m    352\u001b[0m             \u001b[0mparse_int\u001b[0m \u001b[0;32mis\u001b[0m \u001b[0;32mNone\u001b[0m \u001b[0;32mand\u001b[0m \u001b[0mparse_float\u001b[0m \u001b[0;32mis\u001b[0m \u001b[0;32mNone\u001b[0m \u001b[0;32mand\u001b[0m\u001b[0;34m\u001b[0m\u001b[0m\n\u001b[1;32m    353\u001b[0m             parse_constant is None and object_pairs_hook is None and not kw):\n\u001b[0;32m--> 354\u001b[0;31m         \u001b[0;32mreturn\u001b[0m \u001b[0m_default_decoder\u001b[0m\u001b[0;34m.\u001b[0m\u001b[0mdecode\u001b[0m\u001b[0;34m(\u001b[0m\u001b[0ms\u001b[0m\u001b[0;34m)\u001b[0m\u001b[0;34m\u001b[0m\u001b[0m\n\u001b[0m\u001b[1;32m    355\u001b[0m     \u001b[0;32mif\u001b[0m \u001b[0mcls\u001b[0m \u001b[0;32mis\u001b[0m \u001b[0;32mNone\u001b[0m\u001b[0;34m:\u001b[0m\u001b[0;34m\u001b[0m\u001b[0m\n\u001b[1;32m    356\u001b[0m         \u001b[0mcls\u001b[0m \u001b[0;34m=\u001b[0m \u001b[0mJSONDecoder\u001b[0m\u001b[0;34m\u001b[0m\u001b[0m\n",
      "\u001b[0;32m/opt/conda/lib/python3.6/json/decoder.py\u001b[0m in \u001b[0;36mdecode\u001b[0;34m(self, s, _w)\u001b[0m\n\u001b[1;32m    337\u001b[0m \u001b[0;34m\u001b[0m\u001b[0m\n\u001b[1;32m    338\u001b[0m         \"\"\"\n\u001b[0;32m--> 339\u001b[0;31m         \u001b[0mobj\u001b[0m\u001b[0;34m,\u001b[0m \u001b[0mend\u001b[0m \u001b[0;34m=\u001b[0m \u001b[0mself\u001b[0m\u001b[0;34m.\u001b[0m\u001b[0mraw_decode\u001b[0m\u001b[0;34m(\u001b[0m\u001b[0ms\u001b[0m\u001b[0;34m,\u001b[0m \u001b[0midx\u001b[0m\u001b[0;34m=\u001b[0m\u001b[0m_w\u001b[0m\u001b[0;34m(\u001b[0m\u001b[0ms\u001b[0m\u001b[0;34m,\u001b[0m \u001b[0;36m0\u001b[0m\u001b[0;34m)\u001b[0m\u001b[0;34m.\u001b[0m\u001b[0mend\u001b[0m\u001b[0;34m(\u001b[0m\u001b[0;34m)\u001b[0m\u001b[0;34m)\u001b[0m\u001b[0;34m\u001b[0m\u001b[0m\n\u001b[0m\u001b[1;32m    340\u001b[0m         \u001b[0mend\u001b[0m \u001b[0;34m=\u001b[0m \u001b[0m_w\u001b[0m\u001b[0;34m(\u001b[0m\u001b[0ms\u001b[0m\u001b[0;34m,\u001b[0m \u001b[0mend\u001b[0m\u001b[0;34m)\u001b[0m\u001b[0;34m.\u001b[0m\u001b[0mend\u001b[0m\u001b[0;34m(\u001b[0m\u001b[0;34m)\u001b[0m\u001b[0;34m\u001b[0m\u001b[0m\n\u001b[1;32m    341\u001b[0m         \u001b[0;32mif\u001b[0m \u001b[0mend\u001b[0m \u001b[0;34m!=\u001b[0m \u001b[0mlen\u001b[0m\u001b[0;34m(\u001b[0m\u001b[0ms\u001b[0m\u001b[0;34m)\u001b[0m\u001b[0;34m:\u001b[0m\u001b[0;34m\u001b[0m\u001b[0m\n",
      "\u001b[0;32m/opt/conda/lib/python3.6/json/decoder.py\u001b[0m in \u001b[0;36mraw_decode\u001b[0;34m(self, s, idx)\u001b[0m\n\u001b[1;32m    355\u001b[0m             \u001b[0mobj\u001b[0m\u001b[0;34m,\u001b[0m \u001b[0mend\u001b[0m \u001b[0;34m=\u001b[0m \u001b[0mself\u001b[0m\u001b[0;34m.\u001b[0m\u001b[0mscan_once\u001b[0m\u001b[0;34m(\u001b[0m\u001b[0ms\u001b[0m\u001b[0;34m,\u001b[0m \u001b[0midx\u001b[0m\u001b[0;34m)\u001b[0m\u001b[0;34m\u001b[0m\u001b[0m\n\u001b[1;32m    356\u001b[0m         \u001b[0;32mexcept\u001b[0m \u001b[0mStopIteration\u001b[0m \u001b[0;32mas\u001b[0m \u001b[0merr\u001b[0m\u001b[0;34m:\u001b[0m\u001b[0;34m\u001b[0m\u001b[0m\n\u001b[0;32m--> 357\u001b[0;31m             \u001b[0;32mraise\u001b[0m \u001b[0mJSONDecodeError\u001b[0m\u001b[0;34m(\u001b[0m\u001b[0;34m\"Expecting value\"\u001b[0m\u001b[0;34m,\u001b[0m \u001b[0ms\u001b[0m\u001b[0;34m,\u001b[0m \u001b[0merr\u001b[0m\u001b[0;34m.\u001b[0m\u001b[0mvalue\u001b[0m\u001b[0;34m)\u001b[0m \u001b[0;32mfrom\u001b[0m \u001b[0;32mNone\u001b[0m\u001b[0;34m\u001b[0m\u001b[0m\n\u001b[0m\u001b[1;32m    358\u001b[0m         \u001b[0;32mreturn\u001b[0m \u001b[0mobj\u001b[0m\u001b[0;34m,\u001b[0m \u001b[0mend\u001b[0m\u001b[0;34m\u001b[0m\u001b[0m\n",
      "\u001b[0;31mJSONDecodeError\u001b[0m: Expecting value: line 1 column 1 (char 0)"
     ]
    }
   ],
   "source": [
    "RenderJSON(redstream.json())"
   ]
  },
  {
   "cell_type": "code",
   "execution_count": 75,
   "metadata": {},
   "outputs": [
    {
     "data": {
      "text/html": [
       "<div id=\"a9234de5-32d3-48b0-b43e-36d17e1fa1ee\" style=\"height: 150px; width:100%;\"></div>"
      ]
     },
     "metadata": {},
     "output_type": "display_data"
    },
    {
     "data": {
      "application/javascript": [
       "\n",
       "        require([\"https://rawgit.com/caldwell/renderjson/master/renderjson.js\"], function() {\n",
       "          document.getElementById('a9234de5-32d3-48b0-b43e-36d17e1fa1ee').appendChild(renderjson({\"id\": \"redcount\", \"tbox\": \"file:///usr/src/wasp/colors.owl\", \"body\": \"\\n        SELECT (COUNT(?r) as ?numRed)\\n        FROM NAMED WINDOW <rw> ON <http://streamhub:9292/streamhub/streams/red> [RANGE PT15S STEP PT5S]\\n        WHERE {\\n                WINDOW ?rw { ?r a <http://www.streamreasoning.org/ontologies/2018/9/colors#Red> .}\\n            }\\n\\n    \"}))\n",
       "        });\n",
       "        "
      ]
     },
     "metadata": {},
     "output_type": "display_data"
    }
   ],
   "source": [
    "body = {\n",
    "    'id':'redcount',\n",
    "    'tbox': 'file:///usr/src/wasp/colors.owl',\n",
    "    'body': '''\n",
    "        SELECT (COUNT(?r) as ?numRed)\n",
    "        FROM NAMED WINDOW <rw> ON <http://streamhub:9292/streamhub/streams/red> [RANGE PT15S STEP PT5S]\n",
    "        WHERE {\n",
    "                WINDOW ?rw { ?r a <http://www.streamreasoning.org/ontologies/2018/9/colors#Red> .}\n",
    "            }\n",
    "\n",
    "    '''\n",
    "}\n",
    "    \n",
    "data = json.dumps(body)\n",
    "\n",
    "RenderJSON(body)"
   ]
  },
  {
   "cell_type": "code",
   "execution_count": 76,
   "metadata": {},
   "outputs": [],
   "source": [
    "q = requests.post(engine + \"/jasper/queries\", data = data, headers=default_headers)"
   ]
  },
  {
   "cell_type": "code",
   "execution_count": 77,
   "metadata": {},
   "outputs": [
    {
     "data": {
      "text/plain": [
       "'{\\n  \"@id\" : \"queries/redcount\",\\n  \"@type\" : \"vprov:Task\",\\n  \"prov:generated\" : {\\n    \"@id\" : \"streams/redcount\"\\n  },\\n  \"prov:uses\" : {\\n    \"@id\" : \"http://streamhub:9292/streamhub/streams/red\"\\n  },\\n  \"@context\" : {\\n    \"@base\" : \"http://jasper:8181/jasper/\",\\n    \"rdf\" : \"http://www.w3.org/1999/02/22-rdf-syntax-ns#\",\\n    \"vsd\" : \"http://w3id.org/rsp/vocals-sd#\",\\n    \"vocals\" : \"http://w3id.org/rsp/vocals#\",\\n    \"xsd\" : \"http://www.w3.org/2001/XMLSchema#\",\\n    \"format\" : \"http://www.w3.org/ns/formats/\",\\n    \"rdfs\" : \"http://www.w3.org/2000/01/rdf-schema#\",\\n    \"vprov\" : \"http://w3id.org/rsp/vocals-prov#\",\\n    \"dcat\" : \"http://www.w3.org/ns/dcat#\",\\n    \"prov\" : \"http://www.w3.org/ns/prov#\"\\n  }\\n}'"
      ]
     },
     "execution_count": 77,
     "metadata": {},
     "output_type": "execute_result"
    }
   ],
   "source": [
    "q.text"
   ]
  },
  {
   "cell_type": "code",
   "execution_count": 78,
   "metadata": {},
   "outputs": [
    {
     "data": {
      "text/html": [
       "<div id=\"6c0d2f25-1c9b-4b6e-b38f-62d5d60c57cd\" style=\"height: 150px; width:100%;\"></div>"
      ]
     },
     "metadata": {},
     "output_type": "display_data"
    },
    {
     "data": {
      "application/javascript": [
       "\n",
       "        require([\"https://rawgit.com/caldwell/renderjson/master/renderjson.js\"], function() {\n",
       "          document.getElementById('6c0d2f25-1c9b-4b6e-b38f-62d5d60c57cd').appendChild(renderjson({\"@id\": \"queries/redcount\", \"@type\": \"vprov:Task\", \"prov:generated\": {\"@id\": \"streams/redcount\"}, \"prov:uses\": {\"@id\": \"http://streamhub:9292/streamhub/streams/red\"}, \"@context\": {\"@base\": \"http://jasper:8181/jasper/\", \"rdf\": \"http://www.w3.org/1999/02/22-rdf-syntax-ns#\", \"vsd\": \"http://w3id.org/rsp/vocals-sd#\", \"vocals\": \"http://w3id.org/rsp/vocals#\", \"xsd\": \"http://www.w3.org/2001/XMLSchema#\", \"format\": \"http://www.w3.org/ns/formats/\", \"rdfs\": \"http://www.w3.org/2000/01/rdf-schema#\", \"vprov\": \"http://w3id.org/rsp/vocals-prov#\", \"dcat\": \"http://www.w3.org/ns/dcat#\", \"prov\": \"http://www.w3.org/ns/prov#\"}}))\n",
       "        });\n",
       "        "
      ]
     },
     "metadata": {},
     "output_type": "display_data"
    }
   ],
   "source": [
    "RenderJSON(q.json())"
   ]
  },
  {
   "cell_type": "code",
   "execution_count": 79,
   "metadata": {
    "scrolled": true
   },
   "outputs": [],
   "source": [
    "o = requests.post(engine + \"/jasper/observers/redcount\", data = json.dumps({'protocol':\"HTTP\", \"retention\":5}) , headers=default_headers).json()"
   ]
  },
  {
   "cell_type": "code",
   "execution_count": null,
   "metadata": {},
   "outputs": [],
   "source": []
  },
  {
   "cell_type": "code",
   "execution_count": 80,
   "metadata": {},
   "outputs": [],
   "source": [
    "os = requests.get(engine + \"/jasper/observers/redcount\").json()"
   ]
  },
  {
   "cell_type": "code",
   "execution_count": 81,
   "metadata": {},
   "outputs": [
    {
     "data": {
      "text/html": [
       "<div id=\"86a75fa8-86e3-4645-af2a-0fc86e49b721\" style=\"height: 150px; width:100%;\"></div>"
      ]
     },
     "metadata": {},
     "output_type": "display_data"
    },
    {
     "data": {
      "application/javascript": [
       "\n",
       "        require([\"https://rawgit.com/caldwell/renderjson/master/renderjson.js\"], function() {\n",
       "          document.getElementById('86a75fa8-86e3-4645-af2a-0fc86e49b721').appendChild(renderjson({\"@graph\": [{\"@type\": \"vocals:StreamDescriptor\", \"dcat:dataset\": {\"@id\": \"http://jasper:8181/jasper/streams/redcount\", \"@type\": \"vocals:RDFStream\", \"vocals:hasEndpoint\": [{\"@type\": \"vocals:StreamEndpoint\", \"dcat:accessURL\": \"http://jasper:8182/jasper/streams/redcount/observers/1876254237\"}]}}, {\"@id\": \"http://jasper:8181/jasper/streams/redcount\", \"@type\": \"vocals:RDFStream\", \"vocals:hasEndpoint\": [{\"@type\": \"vocals:StreamEndpoint\", \"dcat:accessURL\": \"http://jasper:8182/jasper/streams/redcount/observers/1876254237\"}]}]}))\n",
       "        });\n",
       "        "
      ]
     },
     "metadata": {},
     "output_type": "display_data"
    }
   ],
   "source": [
    "RenderJSON(o)"
   ]
  },
  {
   "cell_type": "code",
   "execution_count": 82,
   "metadata": {},
   "outputs": [
    {
     "data": {
      "text/html": [
       "<div id=\"a9329f5c-5e58-4e9c-82fe-7ab1cce892f5\" style=\"height: 150px; width:100%;\"></div>"
      ]
     },
     "metadata": {},
     "output_type": "display_data"
    },
    {
     "data": {
      "application/javascript": [
       "\n",
       "        require([\"https://rawgit.com/caldwell/renderjson/master/renderjson.js\"], function() {\n",
       "          document.getElementById('a9329f5c-5e58-4e9c-82fe-7ab1cce892f5').appendChild(renderjson([{\"@type\": \"vocals:StreamEndpoint\", \"dcat:accessURL\": \"http://jasper:8182/jasper/streams/redcount/observers/1876254237\", \"@context\": {\"vocals\": \"http://w3id.org/rsp/vocals#\"}}]))\n",
       "        });\n",
       "        "
      ]
     },
     "metadata": {},
     "output_type": "display_data"
    }
   ],
   "source": [
    "RenderJSON(os)"
   ]
  },
  {
   "cell_type": "code",
   "execution_count": 43,
   "metadata": {},
   "outputs": [],
   "source": [
    "a = requests.get(\"http://jasper:8182/jasper/streams/redcount/observers/349655421\")"
   ]
  },
  {
   "cell_type": "code",
   "execution_count": 44,
   "metadata": {},
   "outputs": [
    {
     "data": {
      "text/plain": [
       "<Response [200]>"
      ]
     },
     "execution_count": 44,
     "metadata": {},
     "output_type": "execute_result"
    }
   ],
   "source": [
    "a"
   ]
  },
  {
   "cell_type": "code",
   "execution_count": 83,
   "metadata": {},
   "outputs": [],
   "source": [
    "o = requests.post(engine + \"/jasper/observers/redcount\", data = json.dumps({'protocol':\"WEBSOCKET\"}) , headers=default_headers).json()"
   ]
  },
  {
   "cell_type": "code",
   "execution_count": 84,
   "metadata": {},
   "outputs": [
    {
     "data": {
      "text/html": [
       "<div id=\"bdc244e0-a395-4620-a41a-5f9946e7a2d8\" style=\"height: 150px; width:100%;\"></div>"
      ]
     },
     "metadata": {},
     "output_type": "display_data"
    },
    {
     "data": {
      "application/javascript": [
       "\n",
       "        require([\"https://rawgit.com/caldwell/renderjson/master/renderjson.js\"], function() {\n",
       "          document.getElementById('bdc244e0-a395-4620-a41a-5f9946e7a2d8').appendChild(renderjson({\"@graph\": [{\"@type\": \"vocals:StreamDescriptor\", \"dcat:dataset\": {\"@id\": \"http://jasper:8181/jasper/streams/redcount\", \"@type\": \"vocals:RDFStream\", \"vocals:hasEndpoint\": [{\"@type\": \"vocals:StreamEndpoint\", \"dcat:accessURL\": \"http://jasper:8182/jasper/streams/redcount/observers/1876254237\"}, {\"@type\": \"vocals:StreamEndpoint\", \"dcat:accessURL\": \"ws://jasper:8183/jasper/streams/redcount/observers/1939657450\", \"dcat:format\": \"frmt:JSON-LD\", \"vsd:publishedBy\": \"http://jasper:8181/jasper\"}]}}, {\"@id\": \"http://jasper:8181/jasper/streams/redcount\", \"@type\": \"vocals:RDFStream\", \"vocals:hasEndpoint\": [{\"@type\": \"vocals:StreamEndpoint\", \"dcat:accessURL\": \"http://jasper:8182/jasper/streams/redcount/observers/1876254237\"}, {\"@type\": \"vocals:StreamEndpoint\", \"dcat:accessURL\": \"ws://jasper:8183/jasper/streams/redcount/observers/1939657450\", \"dcat:format\": \"frmt:JSON-LD\", \"vsd:publishedBy\": \"http://jasper:8181/jasper\"}]}]}))\n",
       "        });\n",
       "        "
      ]
     },
     "metadata": {},
     "output_type": "display_data"
    }
   ],
   "source": [
    "RenderJSON(o)"
   ]
  },
  {
   "cell_type": "code",
   "execution_count": 62,
   "metadata": {},
   "outputs": [
    {
     "data": {
      "text/html": [
       "<div id=\"e915e2d4-217c-431f-971d-52835dd2acbd\" style=\"height: 150px; width:100%;\"></div>"
      ]
     },
     "metadata": {},
     "output_type": "display_data"
    },
    {
     "data": {
      "application/javascript": [
       "\n",
       "        require([\"https://rawgit.com/caldwell/renderjson/master/renderjson.js\"], function() {\n",
       "          document.getElementById('e915e2d4-217c-431f-971d-52835dd2acbd').appendChild(renderjson({\"id\": \"redgreen\", \"tbox\": \"file:///Users/riccardo/Desktop/colors.owl\", \"body\": \"\\n    \\nSELECT (COUNT(?r) AS ?cntr) (count(?g) AS ?cntg) ((?cntr>?cntg) as ?moreRedsThanGreens)\\nFROM NAMED WINDOW <rw> ON <http://localhost:1255/red> [RANGE PT15S STEP PT5S]\\nFROM NAMED WINDOW <gw> ON <http://localhost:2255/green> [RANGE PT15S STEP PT5S]\\nWHERE {\\n    { WINDOW ?rw { ?r a <http://www.streamreasoning.org/ontologies/2018/9/colors#Red> .} }\\n    UNION \\n    { WINDOW ?gw { ?g a <http://www.streamreasoning.org/ontologies/2018/9/colors#Green> .} }\\n}\\n\\n    \"}))\n",
       "        });\n",
       "        "
      ]
     },
     "metadata": {},
     "output_type": "display_data"
    }
   ],
   "source": [
    "body = {\n",
    "    'id':'redgreen',\n",
    "    'tbox': 'file:///Users/riccardo/Desktop/colors.owl',\n",
    "    'body': '''\n",
    "    \n",
    "SELECT (COUNT(?r) AS ?cntr) (count(?g) AS ?cntg) ((?cntr>?cntg) as ?moreRedsThanGreens)\n",
    "FROM NAMED WINDOW <rw> ON <http://localhost:1255/red> [RANGE PT15S STEP PT5S]\n",
    "FROM NAMED WINDOW <gw> ON <http://localhost:2255/green> [RANGE PT15S STEP PT5S]\n",
    "WHERE {\n",
    "    { WINDOW ?rw { ?r a <http://www.streamreasoning.org/ontologies/2018/9/colors#Red> .} }\n",
    "    UNION \n",
    "    { WINDOW ?gw { ?g a <http://www.streamreasoning.org/ontologies/2018/9/colors#Green> .} }\n",
    "}\n",
    "\n",
    "    '''\n",
    "}\n",
    "    \n",
    "data = json.dumps(body)\n",
    "\n",
    "RenderJSON(body)\n"
   ]
  },
  {
   "cell_type": "code",
   "execution_count": 63,
   "metadata": {},
   "outputs": [],
   "source": [
    "q = requests.post(engine + \"/jasper/queries\", data = data, headers=default_headers)"
   ]
  },
  {
   "cell_type": "code",
   "execution_count": 64,
   "metadata": {},
   "outputs": [
    {
     "data": {
      "text/plain": [
       "<Response [400]>"
      ]
     },
     "execution_count": 64,
     "metadata": {},
     "output_type": "execute_result"
    }
   ],
   "source": [
    "q"
   ]
  },
  {
   "cell_type": "code",
   "execution_count": 58,
   "metadata": {},
   "outputs": [
    {
     "data": {
      "text/html": [
       "<div id=\"18e64508-5db2-4d43-82ef-d07e3e663ed2\" style=\"height: 150px; width:100%;\"></div>"
      ]
     },
     "metadata": {},
     "output_type": "display_data"
    },
    {
     "data": {
      "application/javascript": [
       "\n",
       "        require([\"https://rawgit.com/caldwell/renderjson/master/renderjson.js\"], function() {\n",
       "          document.getElementById('18e64508-5db2-4d43-82ef-d07e3e663ed2').appendChild(renderjson([]))\n",
       "        });\n",
       "        "
      ]
     },
     "metadata": {},
     "output_type": "display_data"
    }
   ],
   "source": [
    "RenderJSON(requests.get(engine + \"/jasper/queries\").json())"
   ]
  },
  {
   "cell_type": "code",
   "execution_count": 59,
   "metadata": {},
   "outputs": [
    {
     "ename": "JSONDecodeError",
     "evalue": "Expecting value: line 1 column 1 (char 0)",
     "output_type": "error",
     "traceback": [
      "\u001b[0;31m---------------------------------------------------------------------------\u001b[0m",
      "\u001b[0;31mJSONDecodeError\u001b[0m                           Traceback (most recent call last)",
      "\u001b[0;32m<ipython-input-59-735efb86f1f6>\u001b[0m in \u001b[0;36m<module>\u001b[0;34m()\u001b[0m\n\u001b[0;32m----> 1\u001b[0;31m \u001b[0mRenderJSON\u001b[0m\u001b[0;34m(\u001b[0m\u001b[0mq\u001b[0m\u001b[0;34m.\u001b[0m\u001b[0mjson\u001b[0m\u001b[0;34m(\u001b[0m\u001b[0;34m)\u001b[0m\u001b[0;34m)\u001b[0m\u001b[0;34m\u001b[0m\u001b[0m\n\u001b[0m",
      "\u001b[0;32m/opt/conda/lib/python3.6/site-packages/requests/models.py\u001b[0m in \u001b[0;36mjson\u001b[0;34m(self, **kwargs)\u001b[0m\n\u001b[1;32m    882\u001b[0m                 \u001b[0;32mtry\u001b[0m\u001b[0;34m:\u001b[0m\u001b[0;34m\u001b[0m\u001b[0m\n\u001b[1;32m    883\u001b[0m                     return complexjson.loads(\n\u001b[0;32m--> 884\u001b[0;31m                         \u001b[0mself\u001b[0m\u001b[0;34m.\u001b[0m\u001b[0mcontent\u001b[0m\u001b[0;34m.\u001b[0m\u001b[0mdecode\u001b[0m\u001b[0;34m(\u001b[0m\u001b[0mencoding\u001b[0m\u001b[0;34m)\u001b[0m\u001b[0;34m,\u001b[0m \u001b[0;34m**\u001b[0m\u001b[0mkwargs\u001b[0m\u001b[0;34m\u001b[0m\u001b[0m\n\u001b[0m\u001b[1;32m    885\u001b[0m                     )\n\u001b[1;32m    886\u001b[0m                 \u001b[0;32mexcept\u001b[0m \u001b[0mUnicodeDecodeError\u001b[0m\u001b[0;34m:\u001b[0m\u001b[0;34m\u001b[0m\u001b[0m\n",
      "\u001b[0;32m/opt/conda/lib/python3.6/json/__init__.py\u001b[0m in \u001b[0;36mloads\u001b[0;34m(s, encoding, cls, object_hook, parse_float, parse_int, parse_constant, object_pairs_hook, **kw)\u001b[0m\n\u001b[1;32m    352\u001b[0m             \u001b[0mparse_int\u001b[0m \u001b[0;32mis\u001b[0m \u001b[0;32mNone\u001b[0m \u001b[0;32mand\u001b[0m \u001b[0mparse_float\u001b[0m \u001b[0;32mis\u001b[0m \u001b[0;32mNone\u001b[0m \u001b[0;32mand\u001b[0m\u001b[0;34m\u001b[0m\u001b[0m\n\u001b[1;32m    353\u001b[0m             parse_constant is None and object_pairs_hook is None and not kw):\n\u001b[0;32m--> 354\u001b[0;31m         \u001b[0;32mreturn\u001b[0m \u001b[0m_default_decoder\u001b[0m\u001b[0;34m.\u001b[0m\u001b[0mdecode\u001b[0m\u001b[0;34m(\u001b[0m\u001b[0ms\u001b[0m\u001b[0;34m)\u001b[0m\u001b[0;34m\u001b[0m\u001b[0m\n\u001b[0m\u001b[1;32m    355\u001b[0m     \u001b[0;32mif\u001b[0m \u001b[0mcls\u001b[0m \u001b[0;32mis\u001b[0m \u001b[0;32mNone\u001b[0m\u001b[0;34m:\u001b[0m\u001b[0;34m\u001b[0m\u001b[0m\n\u001b[1;32m    356\u001b[0m         \u001b[0mcls\u001b[0m \u001b[0;34m=\u001b[0m \u001b[0mJSONDecoder\u001b[0m\u001b[0;34m\u001b[0m\u001b[0m\n",
      "\u001b[0;32m/opt/conda/lib/python3.6/json/decoder.py\u001b[0m in \u001b[0;36mdecode\u001b[0;34m(self, s, _w)\u001b[0m\n\u001b[1;32m    337\u001b[0m \u001b[0;34m\u001b[0m\u001b[0m\n\u001b[1;32m    338\u001b[0m         \"\"\"\n\u001b[0;32m--> 339\u001b[0;31m         \u001b[0mobj\u001b[0m\u001b[0;34m,\u001b[0m \u001b[0mend\u001b[0m \u001b[0;34m=\u001b[0m \u001b[0mself\u001b[0m\u001b[0;34m.\u001b[0m\u001b[0mraw_decode\u001b[0m\u001b[0;34m(\u001b[0m\u001b[0ms\u001b[0m\u001b[0;34m,\u001b[0m \u001b[0midx\u001b[0m\u001b[0;34m=\u001b[0m\u001b[0m_w\u001b[0m\u001b[0;34m(\u001b[0m\u001b[0ms\u001b[0m\u001b[0;34m,\u001b[0m \u001b[0;36m0\u001b[0m\u001b[0;34m)\u001b[0m\u001b[0;34m.\u001b[0m\u001b[0mend\u001b[0m\u001b[0;34m(\u001b[0m\u001b[0;34m)\u001b[0m\u001b[0;34m)\u001b[0m\u001b[0;34m\u001b[0m\u001b[0m\n\u001b[0m\u001b[1;32m    340\u001b[0m         \u001b[0mend\u001b[0m \u001b[0;34m=\u001b[0m \u001b[0m_w\u001b[0m\u001b[0;34m(\u001b[0m\u001b[0ms\u001b[0m\u001b[0;34m,\u001b[0m \u001b[0mend\u001b[0m\u001b[0;34m)\u001b[0m\u001b[0;34m.\u001b[0m\u001b[0mend\u001b[0m\u001b[0;34m(\u001b[0m\u001b[0;34m)\u001b[0m\u001b[0;34m\u001b[0m\u001b[0m\n\u001b[1;32m    341\u001b[0m         \u001b[0;32mif\u001b[0m \u001b[0mend\u001b[0m \u001b[0;34m!=\u001b[0m \u001b[0mlen\u001b[0m\u001b[0;34m(\u001b[0m\u001b[0ms\u001b[0m\u001b[0;34m)\u001b[0m\u001b[0;34m:\u001b[0m\u001b[0;34m\u001b[0m\u001b[0m\n",
      "\u001b[0;32m/opt/conda/lib/python3.6/json/decoder.py\u001b[0m in \u001b[0;36mraw_decode\u001b[0;34m(self, s, idx)\u001b[0m\n\u001b[1;32m    355\u001b[0m             \u001b[0mobj\u001b[0m\u001b[0;34m,\u001b[0m \u001b[0mend\u001b[0m \u001b[0;34m=\u001b[0m \u001b[0mself\u001b[0m\u001b[0;34m.\u001b[0m\u001b[0mscan_once\u001b[0m\u001b[0;34m(\u001b[0m\u001b[0ms\u001b[0m\u001b[0;34m,\u001b[0m \u001b[0midx\u001b[0m\u001b[0;34m)\u001b[0m\u001b[0;34m\u001b[0m\u001b[0m\n\u001b[1;32m    356\u001b[0m         \u001b[0;32mexcept\u001b[0m \u001b[0mStopIteration\u001b[0m \u001b[0;32mas\u001b[0m \u001b[0merr\u001b[0m\u001b[0;34m:\u001b[0m\u001b[0;34m\u001b[0m\u001b[0m\n\u001b[0;32m--> 357\u001b[0;31m             \u001b[0;32mraise\u001b[0m \u001b[0mJSONDecodeError\u001b[0m\u001b[0;34m(\u001b[0m\u001b[0;34m\"Expecting value\"\u001b[0m\u001b[0;34m,\u001b[0m \u001b[0ms\u001b[0m\u001b[0;34m,\u001b[0m \u001b[0merr\u001b[0m\u001b[0;34m.\u001b[0m\u001b[0mvalue\u001b[0m\u001b[0;34m)\u001b[0m \u001b[0;32mfrom\u001b[0m \u001b[0;32mNone\u001b[0m\u001b[0;34m\u001b[0m\u001b[0m\n\u001b[0m\u001b[1;32m    358\u001b[0m         \u001b[0;32mreturn\u001b[0m \u001b[0mobj\u001b[0m\u001b[0;34m,\u001b[0m \u001b[0mend\u001b[0m\u001b[0;34m\u001b[0m\u001b[0m\n",
      "\u001b[0;31mJSONDecodeError\u001b[0m: Expecting value: line 1 column 1 (char 0)"
     ]
    }
   ],
   "source": [
    "RenderJSON(q.json())"
   ]
  },
  {
   "cell_type": "code",
   "execution_count": 61,
   "metadata": {},
   "outputs": [
    {
     "ename": "JSONDecodeError",
     "evalue": "Expecting value: line 1 column 1 (char 0)",
     "output_type": "error",
     "traceback": [
      "\u001b[0;31m---------------------------------------------------------------------------\u001b[0m",
      "\u001b[0;31mJSONDecodeError\u001b[0m                           Traceback (most recent call last)",
      "\u001b[0;32m<ipython-input-61-6f8f120f38bd>\u001b[0m in \u001b[0;36m<module>\u001b[0;34m()\u001b[0m\n\u001b[0;32m----> 1\u001b[0;31m \u001b[0mo\u001b[0m \u001b[0;34m=\u001b[0m \u001b[0mrequests\u001b[0m\u001b[0;34m.\u001b[0m\u001b[0mpost\u001b[0m\u001b[0;34m(\u001b[0m\u001b[0mengine\u001b[0m \u001b[0;34m+\u001b[0m \u001b[0;34m\"/jasper/observers/redgreen\"\u001b[0m\u001b[0;34m,\u001b[0m \u001b[0mdata\u001b[0m \u001b[0;34m=\u001b[0m \u001b[0mjson\u001b[0m\u001b[0;34m.\u001b[0m\u001b[0mdumps\u001b[0m\u001b[0;34m(\u001b[0m\u001b[0;34m{\u001b[0m\u001b[0;34m'protocol'\u001b[0m\u001b[0;34m:\u001b[0m\u001b[0;34m\"HTTP\"\u001b[0m\u001b[0;34m,\u001b[0m \u001b[0;34m\"retention\"\u001b[0m\u001b[0;34m:\u001b[0m\u001b[0;36m5\u001b[0m\u001b[0;34m}\u001b[0m\u001b[0;34m)\u001b[0m \u001b[0;34m,\u001b[0m \u001b[0mheaders\u001b[0m\u001b[0;34m=\u001b[0m\u001b[0mdefault_headers\u001b[0m\u001b[0;34m)\u001b[0m\u001b[0;34m.\u001b[0m\u001b[0mjson\u001b[0m\u001b[0;34m(\u001b[0m\u001b[0;34m)\u001b[0m\u001b[0;34m\u001b[0m\u001b[0m\n\u001b[0m",
      "\u001b[0;32m/opt/conda/lib/python3.6/site-packages/requests/models.py\u001b[0m in \u001b[0;36mjson\u001b[0;34m(self, **kwargs)\u001b[0m\n\u001b[1;32m    890\u001b[0m                     \u001b[0;31m# used.\u001b[0m\u001b[0;34m\u001b[0m\u001b[0;34m\u001b[0m\u001b[0m\n\u001b[1;32m    891\u001b[0m                     \u001b[0;32mpass\u001b[0m\u001b[0;34m\u001b[0m\u001b[0m\n\u001b[0;32m--> 892\u001b[0;31m         \u001b[0;32mreturn\u001b[0m \u001b[0mcomplexjson\u001b[0m\u001b[0;34m.\u001b[0m\u001b[0mloads\u001b[0m\u001b[0;34m(\u001b[0m\u001b[0mself\u001b[0m\u001b[0;34m.\u001b[0m\u001b[0mtext\u001b[0m\u001b[0;34m,\u001b[0m \u001b[0;34m**\u001b[0m\u001b[0mkwargs\u001b[0m\u001b[0;34m)\u001b[0m\u001b[0;34m\u001b[0m\u001b[0m\n\u001b[0m\u001b[1;32m    893\u001b[0m \u001b[0;34m\u001b[0m\u001b[0m\n\u001b[1;32m    894\u001b[0m     \u001b[0;34m@\u001b[0m\u001b[0mproperty\u001b[0m\u001b[0;34m\u001b[0m\u001b[0m\n",
      "\u001b[0;32m/opt/conda/lib/python3.6/json/__init__.py\u001b[0m in \u001b[0;36mloads\u001b[0;34m(s, encoding, cls, object_hook, parse_float, parse_int, parse_constant, object_pairs_hook, **kw)\u001b[0m\n\u001b[1;32m    352\u001b[0m             \u001b[0mparse_int\u001b[0m \u001b[0;32mis\u001b[0m \u001b[0;32mNone\u001b[0m \u001b[0;32mand\u001b[0m \u001b[0mparse_float\u001b[0m \u001b[0;32mis\u001b[0m \u001b[0;32mNone\u001b[0m \u001b[0;32mand\u001b[0m\u001b[0;34m\u001b[0m\u001b[0m\n\u001b[1;32m    353\u001b[0m             parse_constant is None and object_pairs_hook is None and not kw):\n\u001b[0;32m--> 354\u001b[0;31m         \u001b[0;32mreturn\u001b[0m \u001b[0m_default_decoder\u001b[0m\u001b[0;34m.\u001b[0m\u001b[0mdecode\u001b[0m\u001b[0;34m(\u001b[0m\u001b[0ms\u001b[0m\u001b[0;34m)\u001b[0m\u001b[0;34m\u001b[0m\u001b[0m\n\u001b[0m\u001b[1;32m    355\u001b[0m     \u001b[0;32mif\u001b[0m \u001b[0mcls\u001b[0m \u001b[0;32mis\u001b[0m \u001b[0;32mNone\u001b[0m\u001b[0;34m:\u001b[0m\u001b[0;34m\u001b[0m\u001b[0m\n\u001b[1;32m    356\u001b[0m         \u001b[0mcls\u001b[0m \u001b[0;34m=\u001b[0m \u001b[0mJSONDecoder\u001b[0m\u001b[0;34m\u001b[0m\u001b[0m\n",
      "\u001b[0;32m/opt/conda/lib/python3.6/json/decoder.py\u001b[0m in \u001b[0;36mdecode\u001b[0;34m(self, s, _w)\u001b[0m\n\u001b[1;32m    337\u001b[0m \u001b[0;34m\u001b[0m\u001b[0m\n\u001b[1;32m    338\u001b[0m         \"\"\"\n\u001b[0;32m--> 339\u001b[0;31m         \u001b[0mobj\u001b[0m\u001b[0;34m,\u001b[0m \u001b[0mend\u001b[0m \u001b[0;34m=\u001b[0m \u001b[0mself\u001b[0m\u001b[0;34m.\u001b[0m\u001b[0mraw_decode\u001b[0m\u001b[0;34m(\u001b[0m\u001b[0ms\u001b[0m\u001b[0;34m,\u001b[0m \u001b[0midx\u001b[0m\u001b[0;34m=\u001b[0m\u001b[0m_w\u001b[0m\u001b[0;34m(\u001b[0m\u001b[0ms\u001b[0m\u001b[0;34m,\u001b[0m \u001b[0;36m0\u001b[0m\u001b[0;34m)\u001b[0m\u001b[0;34m.\u001b[0m\u001b[0mend\u001b[0m\u001b[0;34m(\u001b[0m\u001b[0;34m)\u001b[0m\u001b[0;34m)\u001b[0m\u001b[0;34m\u001b[0m\u001b[0m\n\u001b[0m\u001b[1;32m    340\u001b[0m         \u001b[0mend\u001b[0m \u001b[0;34m=\u001b[0m \u001b[0m_w\u001b[0m\u001b[0;34m(\u001b[0m\u001b[0ms\u001b[0m\u001b[0;34m,\u001b[0m \u001b[0mend\u001b[0m\u001b[0;34m)\u001b[0m\u001b[0;34m.\u001b[0m\u001b[0mend\u001b[0m\u001b[0;34m(\u001b[0m\u001b[0;34m)\u001b[0m\u001b[0;34m\u001b[0m\u001b[0m\n\u001b[1;32m    341\u001b[0m         \u001b[0;32mif\u001b[0m \u001b[0mend\u001b[0m \u001b[0;34m!=\u001b[0m \u001b[0mlen\u001b[0m\u001b[0;34m(\u001b[0m\u001b[0ms\u001b[0m\u001b[0;34m)\u001b[0m\u001b[0;34m:\u001b[0m\u001b[0;34m\u001b[0m\u001b[0m\n",
      "\u001b[0;32m/opt/conda/lib/python3.6/json/decoder.py\u001b[0m in \u001b[0;36mraw_decode\u001b[0;34m(self, s, idx)\u001b[0m\n\u001b[1;32m    355\u001b[0m             \u001b[0mobj\u001b[0m\u001b[0;34m,\u001b[0m \u001b[0mend\u001b[0m \u001b[0;34m=\u001b[0m \u001b[0mself\u001b[0m\u001b[0;34m.\u001b[0m\u001b[0mscan_once\u001b[0m\u001b[0;34m(\u001b[0m\u001b[0ms\u001b[0m\u001b[0;34m,\u001b[0m \u001b[0midx\u001b[0m\u001b[0;34m)\u001b[0m\u001b[0;34m\u001b[0m\u001b[0m\n\u001b[1;32m    356\u001b[0m         \u001b[0;32mexcept\u001b[0m \u001b[0mStopIteration\u001b[0m \u001b[0;32mas\u001b[0m \u001b[0merr\u001b[0m\u001b[0;34m:\u001b[0m\u001b[0;34m\u001b[0m\u001b[0m\n\u001b[0;32m--> 357\u001b[0;31m             \u001b[0;32mraise\u001b[0m \u001b[0mJSONDecodeError\u001b[0m\u001b[0;34m(\u001b[0m\u001b[0;34m\"Expecting value\"\u001b[0m\u001b[0;34m,\u001b[0m \u001b[0ms\u001b[0m\u001b[0;34m,\u001b[0m \u001b[0merr\u001b[0m\u001b[0;34m.\u001b[0m\u001b[0mvalue\u001b[0m\u001b[0;34m)\u001b[0m \u001b[0;32mfrom\u001b[0m \u001b[0;32mNone\u001b[0m\u001b[0;34m\u001b[0m\u001b[0m\n\u001b[0m\u001b[1;32m    358\u001b[0m         \u001b[0;32mreturn\u001b[0m \u001b[0mobj\u001b[0m\u001b[0;34m,\u001b[0m \u001b[0mend\u001b[0m\u001b[0;34m\u001b[0m\u001b[0m\n",
      "\u001b[0;31mJSONDecodeError\u001b[0m: Expecting value: line 1 column 1 (char 0)"
     ]
    }
   ],
   "source": [
    "o = requests.post(engine + \"/jasper/observers/redgreen\", data = json.dumps({'protocol':\"HTTP\", \"retention\":5}) , headers=default_headers).json()"
   ]
  },
  {
   "cell_type": "code",
   "execution_count": 180,
   "metadata": {},
   "outputs": [
    {
     "data": {
      "text/html": [
       "<div id=\"2b6bd6eb-a542-4635-9432-ee2e45bd5dea\" style=\"height: 150px; width:100%;\"></div>"
      ]
     },
     "metadata": {},
     "output_type": "display_data"
    },
    {
     "data": {
      "application/javascript": [
       "\n",
       "        require([\"https://rawgit.com/caldwell/renderjson/master/renderjson.js\"], function() {\n",
       "          document.getElementById('2b6bd6eb-a542-4635-9432-ee2e45bd5dea').appendChild(renderjson({\"@type\": \"vocals:StreamDescriptor\", \"dcat:dataset\": {\"@id\": \"http://localhost:8181/jasper/streams/redgreen\", \"@type\": \"vocals:RDFStream\", \"vocals:hasEndpoint\": [{\"@type\": \"vocals:StreamEndpoint\", \"dcat:accessURL\": \"http://localhost:8184/jasper/streams/redgreen/observers/1096863549\"}]}, \"@context\": {\"dcat\": \"https://www.w3.org/TR/vocab-dcat/\", \"vocals\": \"http://w3id.org/rsp/vocals#\"}}))\n",
       "        });\n",
       "        "
      ]
     },
     "metadata": {},
     "output_type": "display_data"
    }
   ],
   "source": [
    "RenderJSON(o)"
   ]
  },
  {
   "cell_type": "code",
   "execution_count": 161,
   "metadata": {},
   "outputs": [
    {
     "data": {
      "text/html": [
       "<div id=\"6796cda6-cf68-4c71-a45d-6a923feafab5\" style=\"height: 150px; width:100%;\"></div>"
      ]
     },
     "metadata": {},
     "output_type": "display_data"
    },
    {
     "data": {
      "application/javascript": [
       "\n",
       "        require([\"https://rawgit.com/caldwell/renderjson/master/renderjson.js\"], function() {\n",
       "          document.getElementById('6796cda6-cf68-4c71-a45d-6a923feafab5').appendChild(renderjson([{\"@graph\": [{\"@id\": \"_:b0\", \"rs:value\": 4, \"variable\": \"cntg\"}, {\"@id\": \"_:b1\", \"rs:value\": 2, \"variable\": \"cntr\"}, {\"@id\": \"_:b2\", \"binding\": [\"_:b3\", \"_:b0\", \"_:b1\"]}, {\"@id\": \"_:b3\", \"rs:value\": false, \"variable\": \"moreRedsThanGreens\"}, {\"@id\": \"_:b4\", \"@type\": \"rs:ResultSet\", \"resultVariable\": [\"moreRedsThanGreens\", \"cntg\", \"cntr\"], \"size\": \"1\", \"solution\": \"_:b2\"}], \"@context\": {\"value\": {\"@id\": \"http://www.w3.org/2001/sw/DataAccess/tests/result-set#value\", \"@type\": \"http://www.w3.org/2001/XMLSchema#integer\"}, \"variable\": {\"@id\": \"http://www.w3.org/2001/sw/DataAccess/tests/result-set#variable\"}, \"binding\": {\"@id\": \"http://www.w3.org/2001/sw/DataAccess/tests/result-set#binding\", \"@type\": \"@id\"}, \"size\": {\"@id\": \"http://www.w3.org/2001/sw/DataAccess/tests/result-set#size\", \"@type\": \"http://www.w3.org/2001/XMLSchema#int\"}, \"solution\": {\"@id\": \"http://www.w3.org/2001/sw/DataAccess/tests/result-set#solution\", \"@type\": \"@id\"}, \"resultVariable\": {\"@id\": \"http://www.w3.org/2001/sw/DataAccess/tests/result-set#resultVariable\"}, \"rs\": \"http://www.w3.org/2001/sw/DataAccess/tests/result-set#\", \"rdf\": \"http://www.w3.org/1999/02/22-rdf-syntax-ns#\", \"xsd\": \"http://www.w3.org/2001/XMLSchema#\"}}, {\"@graph\": [{\"@id\": \"_:b0\", \"binding\": [\"_:b1\", \"_:b2\", \"_:b3\"]}, {\"@id\": \"_:b1\", \"rs:value\": false, \"variable\": \"moreRedsThanGreens\"}, {\"@id\": \"_:b2\", \"rs:value\": 3, \"variable\": \"cntg\"}, {\"@id\": \"_:b3\", \"rs:value\": 2, \"variable\": \"cntr\"}, {\"@id\": \"_:b4\", \"@type\": \"rs:ResultSet\", \"resultVariable\": [\"moreRedsThanGreens\", \"cntg\", \"cntr\"], \"size\": \"1\", \"solution\": \"_:b0\"}], \"@context\": {\"binding\": {\"@id\": \"http://www.w3.org/2001/sw/DataAccess/tests/result-set#binding\", \"@type\": \"@id\"}, \"size\": {\"@id\": \"http://www.w3.org/2001/sw/DataAccess/tests/result-set#size\", \"@type\": \"http://www.w3.org/2001/XMLSchema#int\"}, \"solution\": {\"@id\": \"http://www.w3.org/2001/sw/DataAccess/tests/result-set#solution\", \"@type\": \"@id\"}, \"resultVariable\": {\"@id\": \"http://www.w3.org/2001/sw/DataAccess/tests/result-set#resultVariable\"}, \"value\": {\"@id\": \"http://www.w3.org/2001/sw/DataAccess/tests/result-set#value\", \"@type\": \"http://www.w3.org/2001/XMLSchema#boolean\"}, \"variable\": {\"@id\": \"http://www.w3.org/2001/sw/DataAccess/tests/result-set#variable\"}, \"rs\": \"http://www.w3.org/2001/sw/DataAccess/tests/result-set#\", \"rdf\": \"http://www.w3.org/1999/02/22-rdf-syntax-ns#\", \"xsd\": \"http://www.w3.org/2001/XMLSchema#\"}}, {\"@graph\": [{\"@id\": \"_:b0\", \"@type\": \"rs:ResultSet\", \"resultVariable\": [\"moreRedsThanGreens\", \"cntg\", \"cntr\"], \"size\": \"1\", \"solution\": \"_:b1\"}, {\"@id\": \"_:b1\", \"binding\": [\"_:b3\", \"_:b2\", \"_:b4\"]}, {\"@id\": \"_:b2\", \"rs:value\": 3, \"variable\": \"cntg\"}, {\"@id\": \"_:b3\", \"rs:value\": true, \"variable\": \"moreRedsThanGreens\"}, {\"@id\": \"_:b4\", \"rs:value\": 5, \"variable\": \"cntr\"}], \"@context\": {\"size\": {\"@id\": \"http://www.w3.org/2001/sw/DataAccess/tests/result-set#size\", \"@type\": \"http://www.w3.org/2001/XMLSchema#int\"}, \"solution\": {\"@id\": \"http://www.w3.org/2001/sw/DataAccess/tests/result-set#solution\", \"@type\": \"@id\"}, \"resultVariable\": {\"@id\": \"http://www.w3.org/2001/sw/DataAccess/tests/result-set#resultVariable\"}, \"value\": {\"@id\": \"http://www.w3.org/2001/sw/DataAccess/tests/result-set#value\", \"@type\": \"http://www.w3.org/2001/XMLSchema#integer\"}, \"variable\": {\"@id\": \"http://www.w3.org/2001/sw/DataAccess/tests/result-set#variable\"}, \"binding\": {\"@id\": \"http://www.w3.org/2001/sw/DataAccess/tests/result-set#binding\", \"@type\": \"@id\"}, \"rs\": \"http://www.w3.org/2001/sw/DataAccess/tests/result-set#\", \"rdf\": \"http://www.w3.org/1999/02/22-rdf-syntax-ns#\", \"xsd\": \"http://www.w3.org/2001/XMLSchema#\"}}, {\"@graph\": [{\"@id\": \"_:b0\", \"rs:value\": true, \"variable\": \"moreRedsThanGreens\"}, {\"@id\": \"_:b1\", \"rs:value\": 5, \"variable\": \"cntr\"}, {\"@id\": \"_:b2\", \"@type\": \"rs:ResultSet\", \"resultVariable\": [\"moreRedsThanGreens\", \"cntg\", \"cntr\"], \"size\": \"1\", \"solution\": \"_:b3\"}, {\"@id\": \"_:b3\", \"binding\": [\"_:b0\", \"_:b4\", \"_:b1\"]}, {\"@id\": \"_:b4\", \"rs:value\": 2, \"variable\": \"cntg\"}], \"@context\": {\"value\": {\"@id\": \"http://www.w3.org/2001/sw/DataAccess/tests/result-set#value\", \"@type\": \"http://www.w3.org/2001/XMLSchema#boolean\"}, \"variable\": {\"@id\": \"http://www.w3.org/2001/sw/DataAccess/tests/result-set#variable\"}, \"size\": {\"@id\": \"http://www.w3.org/2001/sw/DataAccess/tests/result-set#size\", \"@type\": \"http://www.w3.org/2001/XMLSchema#int\"}, \"solution\": {\"@id\": \"http://www.w3.org/2001/sw/DataAccess/tests/result-set#solution\", \"@type\": \"@id\"}, \"resultVariable\": {\"@id\": \"http://www.w3.org/2001/sw/DataAccess/tests/result-set#resultVariable\"}, \"binding\": {\"@id\": \"http://www.w3.org/2001/sw/DataAccess/tests/result-set#binding\", \"@type\": \"@id\"}, \"rs\": \"http://www.w3.org/2001/sw/DataAccess/tests/result-set#\", \"rdf\": \"http://www.w3.org/1999/02/22-rdf-syntax-ns#\", \"xsd\": \"http://www.w3.org/2001/XMLSchema#\"}}, {\"@graph\": [{\"@id\": \"_:b0\", \"rs:value\": 2, \"variable\": \"cntg\"}, {\"@id\": \"_:b1\", \"binding\": [\"_:b2\", \"_:b0\", \"_:b3\"]}, {\"@id\": \"_:b2\", \"rs:value\": true, \"variable\": \"moreRedsThanGreens\"}, {\"@id\": \"_:b3\", \"rs:value\": 5, \"variable\": \"cntr\"}, {\"@id\": \"_:b4\", \"@type\": \"rs:ResultSet\", \"resultVariable\": [\"moreRedsThanGreens\", \"cntg\", \"cntr\"], \"size\": \"1\", \"solution\": \"_:b1\"}], \"@context\": {\"value\": {\"@id\": \"http://www.w3.org/2001/sw/DataAccess/tests/result-set#value\", \"@type\": \"http://www.w3.org/2001/XMLSchema#integer\"}, \"variable\": {\"@id\": \"http://www.w3.org/2001/sw/DataAccess/tests/result-set#variable\"}, \"binding\": {\"@id\": \"http://www.w3.org/2001/sw/DataAccess/tests/result-set#binding\", \"@type\": \"@id\"}, \"size\": {\"@id\": \"http://www.w3.org/2001/sw/DataAccess/tests/result-set#size\", \"@type\": \"http://www.w3.org/2001/XMLSchema#int\"}, \"solution\": {\"@id\": \"http://www.w3.org/2001/sw/DataAccess/tests/result-set#solution\", \"@type\": \"@id\"}, \"resultVariable\": {\"@id\": \"http://www.w3.org/2001/sw/DataAccess/tests/result-set#resultVariable\"}, \"rs\": \"http://www.w3.org/2001/sw/DataAccess/tests/result-set#\", \"rdf\": \"http://www.w3.org/1999/02/22-rdf-syntax-ns#\", \"xsd\": \"http://www.w3.org/2001/XMLSchema#\"}}]))\n",
       "        });\n",
       "        "
      ]
     },
     "metadata": {},
     "output_type": "display_data"
    }
   ],
   "source": [
    "a = requests.get(\"http://docker.for.mac.localhost:8184/jasper/streams/redgreen/observers/764455011\").json()\n",
    "RenderJSON(a)"
   ]
  },
  {
   "cell_type": "code",
   "execution_count": 268,
   "metadata": {},
   "outputs": [
    {
     "data": {
      "text/html": [
       "<div id=\"6d921ffe-d919-49e5-8d2f-b4e0255c161f\" style=\"height: 150px; width:100%;\"></div>"
      ]
     },
     "metadata": {},
     "output_type": "display_data"
    },
    {
     "data": {
      "application/javascript": [
       "\n",
       "        require([\"https://rawgit.com/caldwell/renderjson/master/renderjson.js\"], function() {\n",
       "          document.getElementById('6d921ffe-d919-49e5-8d2f-b4e0255c161f').appendChild(renderjson({\"id\": \"yellow\", \"tbox\": \"file:///Users/riccardo/Desktop/colors.owl\", \"body\": \"\\n    \\nCONSTRUCT { \\n           ?y a <http://www.streamreasoning.org/ontologies/2018/9/colors#Yellow>; \\n               <http://www.streamreasoning.org/ontologies/2018/9/colors#from> ?r ; \\n               <http://www.streamreasoning.org/ontologies/2018/9/colors#from> ?g .\\n}\\nFROM NAMED WINDOW <rw> ON <http://localhost:1255/red> [RANGE PT15S STEP PT5S]\\nFROM NAMED WINDOW <gw> ON <http://localhost:2255/green> [RANGE PT15S STEP PT5S]\\nWHERE {\\n    WINDOW <rw> { ?r a <http://www.streamreasoning.org/ontologies/2018/9/colors#Red> .}\\n\\n    WINDOW <gw> { ?g a <http://www.streamreasoning.org/ontologies/2018/9/colors#Green> .}\\n\\nBIND( UUID() as ?y )\\n\\n    \"}))\n",
       "        });\n",
       "        "
      ]
     },
     "metadata": {},
     "output_type": "display_data"
    }
   ],
   "source": [
    "body = {\n",
    "    'id':'yellow',\n",
    "    'tbox': 'file:///Users/riccardo/Desktop/colors.owl',\n",
    "    'body': '''\n",
    "    \n",
    "CONSTRUCT { \n",
    "           ?y a <http://www.streamreasoning.org/ontologies/2018/9/colors#Yellow>; \n",
    "               <http://www.streamreasoning.org/ontologies/2018/9/colors#from> ?r ; \n",
    "               <http://www.streamreasoning.org/ontologies/2018/9/colors#from> ?g .\n",
    "}\n",
    "FROM NAMED WINDOW <rw> ON <http://localhost:1255/red> [RANGE PT15S STEP PT5S]\n",
    "FROM NAMED WINDOW <gw> ON <http://localhost:2255/green> [RANGE PT15S STEP PT5S]\n",
    "WHERE {\n",
    "    WINDOW <rw> { ?r a <http://www.streamreasoning.org/ontologies/2018/9/colors#Red> .}\n",
    "\n",
    "    WINDOW <gw> { ?g a <http://www.streamreasoning.org/ontologies/2018/9/colors#Green> .}\n",
    "\n",
    "BIND( UUID() as ?y )\n",
    "\n",
    "    '''\n",
    "}\n",
    "    \n",
    "data = json.dumps(body)\n",
    "\n",
    "RenderJSON(body)"
   ]
  },
  {
   "cell_type": "code",
   "execution_count": 269,
   "metadata": {},
   "outputs": [],
   "source": [
    "q = requests.post(engine + \"/jasper/queries\", data = data, headers=default_headers)"
   ]
  },
  {
   "cell_type": "code",
   "execution_count": 235,
   "metadata": {},
   "outputs": [
    {
     "data": {
      "text/plain": [
       "'{\\n  \"@id\" : \"queries/yellow\",\\n  \"@type\" : \"vprov:Task\",\\n  \"prov:generated\" : {\\n    \"@id\" : \"streams/yellow\"\\n  },\\n  \"prov:uses\" : {\\n    \"@id\" : \"http://localhost:2255/green\"\\n  },\\n  \"@context\" : {\\n    \"@base\" : \"http://localhost:8181/jasper/\",\\n    \"rdf\" : \"http://www.w3.org/1999/02/22-rdf-syntax-ns#\",\\n    \"vsd\" : \"http://w3id.org/rsp/vocals-sd#\",\\n    \"vocals\" : \"http://w3id.org/rsp/vocals#\",\\n    \"xsd\" : \"http://www.w3.org/2001/XMLSchema#\",\\n    \"format\" : \"http://www.w3.org/ns/formats/\",\\n    \"rdfs\" : \"http://www.w3.org/2000/01/rdf-schema#\",\\n    \"vprov\" : \"http://w3id.org/rsp/vocals-prov#\",\\n    \"dcat\" : \"http://www.w3.org/ns/dcat#\",\\n    \"prov\" : \"http://www.w3.org/ns/prov#\"\\n  }\\n}'"
      ]
     },
     "execution_count": 235,
     "metadata": {},
     "output_type": "execute_result"
    }
   ],
   "source": [
    "q.text"
   ]
  },
  {
   "cell_type": "code",
   "execution_count": 254,
   "metadata": {},
   "outputs": [
    {
     "data": {
      "text/html": [
       "<div id=\"8e65ef7c-950c-4f9d-952b-2042b9338b74\" style=\"height: 150px; width:100%;\"></div>"
      ]
     },
     "metadata": {},
     "output_type": "display_data"
    },
    {
     "data": {
      "application/javascript": [
       "\n",
       "        require([\"https://rawgit.com/caldwell/renderjson/master/renderjson.js\"], function() {\n",
       "          document.getElementById('8e65ef7c-950c-4f9d-952b-2042b9338b74').appendChild(renderjson({\"@id\": \"queries/yellow\", \"@type\": \"vprov:Task\", \"prov:generated\": {\"@id\": \"streams/yellow\"}, \"prov:uses\": {\"@id\": \"http://localhost:2255/green\"}, \"@context\": {\"@base\": \"http://localhost:8181/jasper/\", \"rdf\": \"http://www.w3.org/1999/02/22-rdf-syntax-ns#\", \"vsd\": \"http://w3id.org/rsp/vocals-sd#\", \"vocals\": \"http://w3id.org/rsp/vocals#\", \"xsd\": \"http://www.w3.org/2001/XMLSchema#\", \"format\": \"http://www.w3.org/ns/formats/\", \"rdfs\": \"http://www.w3.org/2000/01/rdf-schema#\", \"vprov\": \"http://w3id.org/rsp/vocals-prov#\", \"dcat\": \"http://www.w3.org/ns/dcat#\", \"prov\": \"http://www.w3.org/ns/prov#\"}}))\n",
       "        });\n",
       "        "
      ]
     },
     "metadata": {},
     "output_type": "display_data"
    }
   ],
   "source": [
    "RenderJSON(q.json())"
   ]
  },
  {
   "cell_type": "code",
   "execution_count": 270,
   "metadata": {},
   "outputs": [],
   "source": [
    "o = requests.post(engine + \"/jasper/observers/yellow\", data = json.dumps({'protocol':\"WEBSOCKET\"}) , headers=default_headers).json()"
   ]
  },
  {
   "cell_type": "code",
   "execution_count": 271,
   "metadata": {},
   "outputs": [
    {
     "data": {
      "text/html": [
       "<div id=\"77695094-374d-4883-9a9f-2380756f4ac1\" style=\"height: 150px; width:100%;\"></div>"
      ]
     },
     "metadata": {},
     "output_type": "display_data"
    },
    {
     "data": {
      "application/javascript": [
       "\n",
       "        require([\"https://rawgit.com/caldwell/renderjson/master/renderjson.js\"], function() {\n",
       "          document.getElementById('77695094-374d-4883-9a9f-2380756f4ac1').appendChild(renderjson({\"@type\": \"vocals:StreamDescriptor\", \"dcat:dataset\": {\"@id\": \"http://localhost:8181/jasper/streams/yellow\", \"@type\": \"vocals:RDFStream\", \"vocals:hasEndpoint\": [{\"@type\": \"vocals:StreamEndpoint\", \"dcat:accessURL\": \"ws://localhost:8182/jasper/streams/yellow/observers/1414768667\", \"dcat:format\": \"frmt:JSON-LD\", \"vsd:publishedBy\": \"http://localhost:8181/jasper\"}]}, \"@context\": {\"dcat\": \"http://www.w3.org/ns/dcat#\", \"vocals\": \"http://w3id.org/rsp/vocals#\", \"vsd\": \"http://w3id.org/rsp/vocals-sd#\"}}))\n",
       "        });\n",
       "        "
      ]
     },
     "metadata": {},
     "output_type": "display_data"
    }
   ],
   "source": [
    "RenderJSON(o)"
   ]
  },
  {
   "cell_type": "code",
   "execution_count": 259,
   "metadata": {},
   "outputs": [
    {
     "data": {
      "text/html": [
       "<div id=\"324c6ed7-47b5-4d4b-abd9-847dde4e4434\" style=\"height: 150px; width:100%;\"></div>"
      ]
     },
     "metadata": {},
     "output_type": "display_data"
    },
    {
     "data": {
      "application/javascript": [
       "\n",
       "        require([\"https://rawgit.com/caldwell/renderjson/master/renderjson.js\"], function() {\n",
       "          document.getElementById('324c6ed7-47b5-4d4b-abd9-847dde4e4434').appendChild(renderjson({\"id\": \"reasoning1\", \"tbox\": \"file:///Users/riccardo/Desktop/colors.owl\", \"body\": \"\\n    \\nSELECT (COUNT(?w) AS ?cntWarm) (COUNT(?c) AS ?cntCold) ((?cntWarm>?cntCold) as ?moreWarmThanCold)  \\nFROM NAMED WINDOW <rw> ON <http://localhost:1255/red> [RANGE PT15S STEP PT5S]\\nFROM NAMED WINDOW <gw> ON <http://localhost:2255/green> [RANGE PT15S STEP PT5S]\\nWHERE {\\n    { WINDOW <rw> { ?w a <http://www.streamreasoning.org/ontologies/2018/9/colors#Warm>.} }\\n    UNION\\n    { WINDOW <gw> { ?c a <http://www.streamreasoning.org/ontologies/2018/9/colors#Cold> .} }\\n}\\n    \"}))\n",
       "        });\n",
       "        "
      ]
     },
     "metadata": {},
     "output_type": "display_data"
    }
   ],
   "source": [
    "body = {\n",
    "    'id':'reasoning1',\n",
    "    'tbox': 'file:///Users/riccardo/Desktop/colors.owl',\n",
    "    'body': '''\n",
    "    \n",
    "SELECT (COUNT(?w) AS ?cntWarm) (COUNT(?c) AS ?cntCold) ((?cntWarm>?cntCold) as ?moreWarmThanCold)  \n",
    "FROM NAMED WINDOW <rw> ON <http://localhost:1255/red> [RANGE PT15S STEP PT5S]\n",
    "FROM NAMED WINDOW <gw> ON <http://localhost:2255/green> [RANGE PT15S STEP PT5S]\n",
    "WHERE {\n",
    "    { WINDOW <rw> { ?w a <http://www.streamreasoning.org/ontologies/2018/9/colors#Warm>.} }\n",
    "    UNION\n",
    "    { WINDOW <gw> { ?c a <http://www.streamreasoning.org/ontologies/2018/9/colors#Cold> .} }\n",
    "}\n",
    "    '''\n",
    "}\n",
    "    \n",
    "data = json.dumps(body)\n",
    "\n",
    "RenderJSON(body)"
   ]
  },
  {
   "cell_type": "code",
   "execution_count": 260,
   "metadata": {},
   "outputs": [],
   "source": [
    "q = requests.post(engine + \"/jasper/queries\", data = data, headers=default_headers)"
   ]
  },
  {
   "cell_type": "code",
   "execution_count": 261,
   "metadata": {},
   "outputs": [
    {
     "data": {
      "text/html": [
       "<div id=\"7221a365-9df9-4598-9ecf-45e8ec8050e8\" style=\"height: 150px; width:100%;\"></div>"
      ]
     },
     "metadata": {},
     "output_type": "display_data"
    },
    {
     "data": {
      "application/javascript": [
       "\n",
       "        require([\"https://rawgit.com/caldwell/renderjson/master/renderjson.js\"], function() {\n",
       "          document.getElementById('7221a365-9df9-4598-9ecf-45e8ec8050e8').appendChild(renderjson({\"@id\": \"queries/reasoning1\", \"@type\": \"vprov:Task\", \"prov:generated\": {\"@id\": \"streams/reasoning1\"}, \"prov:uses\": {\"@id\": \"http://localhost:2255/green\"}, \"@context\": {\"@base\": \"http://localhost:8181/jasper/\", \"rdf\": \"http://www.w3.org/1999/02/22-rdf-syntax-ns#\", \"vsd\": \"http://w3id.org/rsp/vocals-sd#\", \"vocals\": \"http://w3id.org/rsp/vocals#\", \"xsd\": \"http://www.w3.org/2001/XMLSchema#\", \"format\": \"http://www.w3.org/ns/formats/\", \"rdfs\": \"http://www.w3.org/2000/01/rdf-schema#\", \"vprov\": \"http://w3id.org/rsp/vocals-prov#\", \"dcat\": \"http://www.w3.org/ns/dcat#\", \"prov\": \"http://www.w3.org/ns/prov#\"}}))\n",
       "        });\n",
       "        "
      ]
     },
     "metadata": {},
     "output_type": "display_data"
    }
   ],
   "source": [
    "RenderJSON(q.json())"
   ]
  },
  {
   "cell_type": "code",
   "execution_count": 262,
   "metadata": {},
   "outputs": [],
   "source": [
    "o = requests.post(engine + \"/jasper/observers/reasoning1\", data = json.dumps({'protocol':\"WEBSOCKET\"}) , headers=default_headers).json()"
   ]
  },
  {
   "cell_type": "code",
   "execution_count": 263,
   "metadata": {},
   "outputs": [
    {
     "data": {
      "text/html": [
       "<div id=\"0814378c-4aa5-4465-82e1-33427ba3063c\" style=\"height: 150px; width:100%;\"></div>"
      ]
     },
     "metadata": {},
     "output_type": "display_data"
    },
    {
     "data": {
      "application/javascript": [
       "\n",
       "        require([\"https://rawgit.com/caldwell/renderjson/master/renderjson.js\"], function() {\n",
       "          document.getElementById('0814378c-4aa5-4465-82e1-33427ba3063c').appendChild(renderjson({\"@type\": \"vocals:StreamDescriptor\", \"dcat:dataset\": {\"@id\": \"http://localhost:8181/jasper/streams/reasoning1\", \"@type\": \"vocals:RDFStream\", \"vocals:hasEndpoint\": [{\"@type\": \"vocals:StreamEndpoint\", \"dcat:accessURL\": \"ws://localhost:8183/jasper/streams/reasoning1/observers/1894864708\", \"dcat:format\": \"frmt:JSON-LD\", \"vsd:publishedBy\": \"http://localhost:8181/jasper\"}]}, \"@context\": {\"dcat\": \"http://www.w3.org/ns/dcat#\", \"vocals\": \"http://w3id.org/rsp/vocals#\", \"vsd\": \"http://w3id.org/rsp/vocals-sd#\"}}))\n",
       "        });\n",
       "        "
      ]
     },
     "metadata": {},
     "output_type": "display_data"
    }
   ],
   "source": [
    "RenderJSON(o)"
   ]
  },
  {
   "cell_type": "code",
   "execution_count": null,
   "metadata": {},
   "outputs": [],
   "source": []
  },
  {
   "cell_type": "code",
   "execution_count": 272,
   "metadata": {},
   "outputs": [],
   "source": [
    "ss = requests.get(engine + \"/jasper/streams\", headers=default_headers).json()"
   ]
  },
  {
   "cell_type": "code",
   "execution_count": 273,
   "metadata": {},
   "outputs": [
    {
     "data": {
      "text/html": [
       "<div id=\"a108bd3a-23af-4d32-ba3c-a8af36dd58bc\" style=\"height: 150px; width:100%;\"></div>"
      ]
     },
     "metadata": {},
     "output_type": "display_data"
    },
    {
     "data": {
      "application/javascript": [
       "\n",
       "        require([\"https://rawgit.com/caldwell/renderjson/master/renderjson.js\"], function() {\n",
       "          document.getElementById('a108bd3a-23af-4d32-ba3c-a8af36dd58bc').appendChild(renderjson([{\"iri\": \"http://localhost:2255/green\"}, {\"iri\": \"http://localhost:1255/red\"}, {\"iri\": \"http://localhost:8181/jasper/streams/yellow\"}]))\n",
       "        });\n",
       "        "
      ]
     },
     "metadata": {},
     "output_type": "display_data"
    }
   ],
   "source": [
    "RenderJSON(ss)"
   ]
  },
  {
   "cell_type": "code",
   "execution_count": 293,
   "metadata": {},
   "outputs": [
    {
     "data": {
      "text/html": [
       "<div id=\"036b02a6-43ac-4751-9352-25bf480c7736\" style=\"height: 150px; width:100%;\"></div>"
      ]
     },
     "metadata": {},
     "output_type": "display_data"
    },
    {
     "data": {
      "application/javascript": [
       "\n",
       "        require([\"https://rawgit.com/caldwell/renderjson/master/renderjson.js\"], function() {\n",
       "          document.getElementById('036b02a6-43ac-4751-9352-25bf480c7736').appendChild(renderjson({\"id\": \"reasoning2\", \"tbox\": \"file:///Users/riccardo/Desktop/colors.owl\", \"body\": \"\\n    \\nSELECT (COUNT(?p) AS ?cntPrimary) (COUNT(?d) AS ?cntDerived) (?cntPrimary > ?cntDerived AS ?morePrimaryThanDerived)\\nFROM NAMED WINDOW <rw> ON <http://localhost:1255/red> [RANGE PT15S STEP PT5S]\\nFROM NAMED WINDOW <gw> ON <http://localhost:2255/green> [RANGE PT15S STEP PT5S]\\nFROM NAMED WINDOW <bw> ON <http://localhost:3255/blue> [RANGE PT15S STEP PT5S]\\nFROM NAMED WINDOW <yw> ON <http://localhost:8181/jasper/streams/yellow> [RANGE PT15S STEP PT5S]\\nWHERE {\\n    { WINDOW ?pw { ?p a <http://www.streamreasoning.org/ontologies/2018/9/colors#Primary> . }}\\n    UNION\\n    { WINDOW ?dw { ?d a <http://www.streamreasoning.org/ontologies/2018/9/colors#Derived>. }}\\n}\\n\\n    \"}))\n",
       "        });\n",
       "        "
      ]
     },
     "metadata": {},
     "output_type": "display_data"
    }
   ],
   "source": [
    "body = {\n",
    "    'id':'reasoning2',\n",
    "    'tbox': 'file:///Users/riccardo/Desktop/colors.owl',\n",
    "    'body': '''\n",
    "    \n",
    "SELECT (COUNT(?p) AS ?cntPrimary) (COUNT(?d) AS ?cntDerived) (?cntPrimary > ?cntDerived AS ?morePrimaryThanDerived)\n",
    "FROM NAMED WINDOW <rw> ON <http://localhost:1255/red> [RANGE PT15S STEP PT5S]\n",
    "FROM NAMED WINDOW <gw> ON <http://localhost:2255/green> [RANGE PT15S STEP PT5S]\n",
    "FROM NAMED WINDOW <bw> ON <http://localhost:3255/blue> [RANGE PT15S STEP PT5S]\n",
    "FROM NAMED WINDOW <yw> ON <http://localhost:8181/jasper/streams/yellow> [RANGE PT15S STEP PT5S]\n",
    "WHERE {\n",
    "    { WINDOW ?pw { ?p a <http://www.streamreasoning.org/ontologies/2018/9/colors#Primary> . }}\n",
    "    UNION\n",
    "    { WINDOW ?dw { ?d a <http://www.streamreasoning.org/ontologies/2018/9/colors#Derived>. }}\n",
    "}\n",
    "\n",
    "    '''\n",
    "}\n",
    "    \n",
    "data = json.dumps(body)\n",
    "\n",
    "RenderJSON(body)"
   ]
  },
  {
   "cell_type": "code",
   "execution_count": 291,
   "metadata": {},
   "outputs": [],
   "source": [
    "q = requests.post(engine + \"/jasper/queries\", data = data, headers=default_headers)"
   ]
  },
  {
   "cell_type": "code",
   "execution_count": 290,
   "metadata": {},
   "outputs": [
    {
     "data": {
      "text/plain": [
       "'{\"error\":\"Duplicate Resource\", \"data\": { \"key\": \"{ \"key\": \"http://localhost:8181/jasper/queries/reasoning2\", \"class\": \"String\"}\", \"class\": \"Key\"}}'"
      ]
     },
     "execution_count": 290,
     "metadata": {},
     "output_type": "execute_result"
    }
   ],
   "source": [
    "q.text"
   ]
  },
  {
   "cell_type": "code",
   "execution_count": 286,
   "metadata": {},
   "outputs": [
    {
     "ename": "JSONDecodeError",
     "evalue": "Expecting ',' delimiter: line 1 column 53 (char 52)",
     "output_type": "error",
     "traceback": [
      "\u001b[0;31m---------------------------------------------------------------------------\u001b[0m",
      "\u001b[0;31mJSONDecodeError\u001b[0m                           Traceback (most recent call last)",
      "\u001b[0;32m<ipython-input-286-735efb86f1f6>\u001b[0m in \u001b[0;36m<module>\u001b[0;34m()\u001b[0m\n\u001b[0;32m----> 1\u001b[0;31m \u001b[0mRenderJSON\u001b[0m\u001b[0;34m(\u001b[0m\u001b[0mq\u001b[0m\u001b[0;34m.\u001b[0m\u001b[0mjson\u001b[0m\u001b[0;34m(\u001b[0m\u001b[0;34m)\u001b[0m\u001b[0;34m)\u001b[0m\u001b[0;34m\u001b[0m\u001b[0m\n\u001b[0m",
      "\u001b[0;32m/opt/conda/lib/python3.6/site-packages/requests/models.py\u001b[0m in \u001b[0;36mjson\u001b[0;34m(self, **kwargs)\u001b[0m\n\u001b[1;32m    882\u001b[0m                 \u001b[0;32mtry\u001b[0m\u001b[0;34m:\u001b[0m\u001b[0;34m\u001b[0m\u001b[0m\n\u001b[1;32m    883\u001b[0m                     return complexjson.loads(\n\u001b[0;32m--> 884\u001b[0;31m                         \u001b[0mself\u001b[0m\u001b[0;34m.\u001b[0m\u001b[0mcontent\u001b[0m\u001b[0;34m.\u001b[0m\u001b[0mdecode\u001b[0m\u001b[0;34m(\u001b[0m\u001b[0mencoding\u001b[0m\u001b[0;34m)\u001b[0m\u001b[0;34m,\u001b[0m \u001b[0;34m**\u001b[0m\u001b[0mkwargs\u001b[0m\u001b[0;34m\u001b[0m\u001b[0m\n\u001b[0m\u001b[1;32m    885\u001b[0m                     )\n\u001b[1;32m    886\u001b[0m                 \u001b[0;32mexcept\u001b[0m \u001b[0mUnicodeDecodeError\u001b[0m\u001b[0;34m:\u001b[0m\u001b[0;34m\u001b[0m\u001b[0m\n",
      "\u001b[0;32m/opt/conda/lib/python3.6/json/__init__.py\u001b[0m in \u001b[0;36mloads\u001b[0;34m(s, encoding, cls, object_hook, parse_float, parse_int, parse_constant, object_pairs_hook, **kw)\u001b[0m\n\u001b[1;32m    352\u001b[0m             \u001b[0mparse_int\u001b[0m \u001b[0;32mis\u001b[0m \u001b[0;32mNone\u001b[0m \u001b[0;32mand\u001b[0m \u001b[0mparse_float\u001b[0m \u001b[0;32mis\u001b[0m \u001b[0;32mNone\u001b[0m \u001b[0;32mand\u001b[0m\u001b[0;34m\u001b[0m\u001b[0m\n\u001b[1;32m    353\u001b[0m             parse_constant is None and object_pairs_hook is None and not kw):\n\u001b[0;32m--> 354\u001b[0;31m         \u001b[0;32mreturn\u001b[0m \u001b[0m_default_decoder\u001b[0m\u001b[0;34m.\u001b[0m\u001b[0mdecode\u001b[0m\u001b[0;34m(\u001b[0m\u001b[0ms\u001b[0m\u001b[0;34m)\u001b[0m\u001b[0;34m\u001b[0m\u001b[0m\n\u001b[0m\u001b[1;32m    355\u001b[0m     \u001b[0;32mif\u001b[0m \u001b[0mcls\u001b[0m \u001b[0;32mis\u001b[0m \u001b[0;32mNone\u001b[0m\u001b[0;34m:\u001b[0m\u001b[0;34m\u001b[0m\u001b[0m\n\u001b[1;32m    356\u001b[0m         \u001b[0mcls\u001b[0m \u001b[0;34m=\u001b[0m \u001b[0mJSONDecoder\u001b[0m\u001b[0;34m\u001b[0m\u001b[0m\n",
      "\u001b[0;32m/opt/conda/lib/python3.6/json/decoder.py\u001b[0m in \u001b[0;36mdecode\u001b[0;34m(self, s, _w)\u001b[0m\n\u001b[1;32m    337\u001b[0m \u001b[0;34m\u001b[0m\u001b[0m\n\u001b[1;32m    338\u001b[0m         \"\"\"\n\u001b[0;32m--> 339\u001b[0;31m         \u001b[0mobj\u001b[0m\u001b[0;34m,\u001b[0m \u001b[0mend\u001b[0m \u001b[0;34m=\u001b[0m \u001b[0mself\u001b[0m\u001b[0;34m.\u001b[0m\u001b[0mraw_decode\u001b[0m\u001b[0;34m(\u001b[0m\u001b[0ms\u001b[0m\u001b[0;34m,\u001b[0m \u001b[0midx\u001b[0m\u001b[0;34m=\u001b[0m\u001b[0m_w\u001b[0m\u001b[0;34m(\u001b[0m\u001b[0ms\u001b[0m\u001b[0;34m,\u001b[0m \u001b[0;36m0\u001b[0m\u001b[0;34m)\u001b[0m\u001b[0;34m.\u001b[0m\u001b[0mend\u001b[0m\u001b[0;34m(\u001b[0m\u001b[0;34m)\u001b[0m\u001b[0;34m)\u001b[0m\u001b[0;34m\u001b[0m\u001b[0m\n\u001b[0m\u001b[1;32m    340\u001b[0m         \u001b[0mend\u001b[0m \u001b[0;34m=\u001b[0m \u001b[0m_w\u001b[0m\u001b[0;34m(\u001b[0m\u001b[0ms\u001b[0m\u001b[0;34m,\u001b[0m \u001b[0mend\u001b[0m\u001b[0;34m)\u001b[0m\u001b[0;34m.\u001b[0m\u001b[0mend\u001b[0m\u001b[0;34m(\u001b[0m\u001b[0;34m)\u001b[0m\u001b[0;34m\u001b[0m\u001b[0m\n\u001b[1;32m    341\u001b[0m         \u001b[0;32mif\u001b[0m \u001b[0mend\u001b[0m \u001b[0;34m!=\u001b[0m \u001b[0mlen\u001b[0m\u001b[0;34m(\u001b[0m\u001b[0ms\u001b[0m\u001b[0;34m)\u001b[0m\u001b[0;34m:\u001b[0m\u001b[0;34m\u001b[0m\u001b[0m\n",
      "\u001b[0;32m/opt/conda/lib/python3.6/json/decoder.py\u001b[0m in \u001b[0;36mraw_decode\u001b[0;34m(self, s, idx)\u001b[0m\n\u001b[1;32m    353\u001b[0m         \"\"\"\n\u001b[1;32m    354\u001b[0m         \u001b[0;32mtry\u001b[0m\u001b[0;34m:\u001b[0m\u001b[0;34m\u001b[0m\u001b[0m\n\u001b[0;32m--> 355\u001b[0;31m             \u001b[0mobj\u001b[0m\u001b[0;34m,\u001b[0m \u001b[0mend\u001b[0m \u001b[0;34m=\u001b[0m \u001b[0mself\u001b[0m\u001b[0;34m.\u001b[0m\u001b[0mscan_once\u001b[0m\u001b[0;34m(\u001b[0m\u001b[0ms\u001b[0m\u001b[0;34m,\u001b[0m \u001b[0midx\u001b[0m\u001b[0;34m)\u001b[0m\u001b[0;34m\u001b[0m\u001b[0m\n\u001b[0m\u001b[1;32m    356\u001b[0m         \u001b[0;32mexcept\u001b[0m \u001b[0mStopIteration\u001b[0m \u001b[0;32mas\u001b[0m \u001b[0merr\u001b[0m\u001b[0;34m:\u001b[0m\u001b[0;34m\u001b[0m\u001b[0m\n\u001b[1;32m    357\u001b[0m             \u001b[0;32mraise\u001b[0m \u001b[0mJSONDecodeError\u001b[0m\u001b[0;34m(\u001b[0m\u001b[0;34m\"Expecting value\"\u001b[0m\u001b[0;34m,\u001b[0m \u001b[0ms\u001b[0m\u001b[0;34m,\u001b[0m \u001b[0merr\u001b[0m\u001b[0;34m.\u001b[0m\u001b[0mvalue\u001b[0m\u001b[0;34m)\u001b[0m \u001b[0;32mfrom\u001b[0m \u001b[0;32mNone\u001b[0m\u001b[0;34m\u001b[0m\u001b[0m\n",
      "\u001b[0;31mJSONDecodeError\u001b[0m: Expecting ',' delimiter: line 1 column 53 (char 52)"
     ]
    }
   ],
   "source": [
    "RenderJSON(q.json())"
   ]
  },
  {
   "cell_type": "code",
   "execution_count": 277,
   "metadata": {},
   "outputs": [],
   "source": [
    "o = requests.post(engine + \"/jasper/observers/reasoning2\", data = json.dumps({'protocol':\"WEBSOCKET\"}) , headers=default_headers).json()"
   ]
  },
  {
   "cell_type": "code",
   "execution_count": 278,
   "metadata": {},
   "outputs": [
    {
     "data": {
      "text/html": [
       "<div id=\"3cd1b94a-e1fd-42ce-a7f5-337fed0ea5af\" style=\"height: 150px; width:100%;\"></div>"
      ]
     },
     "metadata": {},
     "output_type": "display_data"
    },
    {
     "data": {
      "application/javascript": [
       "\n",
       "        require([\"https://rawgit.com/caldwell/renderjson/master/renderjson.js\"], function() {\n",
       "          document.getElementById('3cd1b94a-e1fd-42ce-a7f5-337fed0ea5af').appendChild(renderjson({\"@type\": \"vocals:StreamDescriptor\", \"dcat:dataset\": {\"@id\": \"http://localhost:8181/jasper/streams/reasoning2\", \"@type\": \"vocals:RDFStream\", \"vocals:hasEndpoint\": [{\"@type\": \"vocals:StreamEndpoint\", \"dcat:accessURL\": \"ws://localhost:8183/jasper/streams/reasoning2/observers/498528965\", \"dcat:format\": \"frmt:JSON-LD\", \"vsd:publishedBy\": \"http://localhost:8181/jasper\"}]}, \"@context\": {\"dcat\": \"http://www.w3.org/ns/dcat#\", \"vocals\": \"http://w3id.org/rsp/vocals#\", \"vsd\": \"http://w3id.org/rsp/vocals-sd#\"}}))\n",
       "        });\n",
       "        "
      ]
     },
     "metadata": {},
     "output_type": "display_data"
    }
   ],
   "source": [
    "RenderJSON(o)"
   ]
  },
  {
   "cell_type": "code",
   "execution_count": 335,
   "metadata": {},
   "outputs": [],
   "source": [
    "qs = requests.get(engine + \"/jasper/queries\")"
   ]
  },
  {
   "cell_type": "code",
   "execution_count": 336,
   "metadata": {},
   "outputs": [
    {
     "data": {
      "text/plain": [
       "[]"
      ]
     },
     "execution_count": 336,
     "metadata": {},
     "output_type": "execute_result"
    }
   ],
   "source": [
    "qs.json()"
   ]
  },
  {
   "cell_type": "code",
   "execution_count": 429,
   "metadata": {},
   "outputs": [
    {
     "data": {
      "text/plain": [
       "<Response [200]>"
      ]
     },
     "execution_count": 429,
     "metadata": {},
     "output_type": "execute_result"
    }
   ],
   "source": [
    "requests.delete(engine + \"/jasper/queries/redcount\")"
   ]
  },
  {
   "cell_type": "code",
   "execution_count": null,
   "metadata": {},
   "outputs": [],
   "source": []
  }
 ],
 "metadata": {
  "kernelspec": {
   "display_name": "Python 3",
   "language": "python",
   "name": "python3"
  },
  "language_info": {
   "codemirror_mode": {
    "name": "ipython",
    "version": 3
   },
   "file_extension": ".py",
   "mimetype": "text/x-python",
   "name": "python",
   "nbconvert_exporter": "python",
   "pygments_lexer": "ipython3",
   "version": "3.6.2"
  }
 },
 "nbformat": 4,
 "nbformat_minor": 2
}
