{
 "cells": [
  {
   "cell_type": "code",
   "execution_count": 29,
   "metadata": {},
   "outputs": [
    {
     "name": "stdout",
     "output_type": "stream",
     "text": [
      "Requirement already satisfied: requests in /opt/conda/lib/python3.6/site-packages\n",
      "Requirement already satisfied: chardet<3.1.0,>=3.0.2 in /opt/conda/lib/python3.6/site-packages (from requests)\n",
      "Requirement already satisfied: idna<2.7,>=2.5 in /opt/conda/lib/python3.6/site-packages (from requests)\n",
      "Requirement already satisfied: urllib3<1.23,>=1.21.1 in /opt/conda/lib/python3.6/site-packages (from requests)\n",
      "Requirement already satisfied: certifi>=2017.4.17 in /opt/conda/lib/python3.6/site-packages (from requests)\n",
      "\u001b[33mYou are using pip version 9.0.1, however version 18.0 is available.\n",
      "You should consider upgrading via the 'pip install --upgrade pip' command.\u001b[0m\n"
     ]
    }
   ],
   "source": [
    "!pip install requests\n"
   ]
  },
  {
   "cell_type": "code",
   "execution_count": 7,
   "metadata": {},
   "outputs": [],
   "source": [
    "import requests, json"
   ]
  },
  {
   "cell_type": "code",
   "execution_count": 8,
   "metadata": {},
   "outputs": [],
   "source": [
    "host = \"http://streamhub:9292/streamhub\""
   ]
  },
  {
   "cell_type": "markdown",
   "metadata": {},
   "source": [
    "# Check the Publisher Endpoint"
   ]
  },
  {
   "cell_type": "code",
   "execution_count": 9,
   "metadata": {},
   "outputs": [
    {
     "data": {
      "text/plain": [
       "{'@graph': [{'@id': '_:node1co3dhf4ax1',\n",
       "   'vocals:feature': {'@id': 'http://localhost:8181/streamhub/StreamFullRegistrationFeature'},\n",
       "   'vsd:body': '{\"query\":\"http://www.w3.org/2001/XMLSchema#string\"}',\n",
       "   'vsd:body_param': {'@id': '_:node1co3dhf4ax3'},\n",
       "   'vsd:endpoint': '/streams',\n",
       "   'vsd:method': 'POST',\n",
       "   'vsd:name': 'StreamFullRegistrationFeature'},\n",
       "  {'@id': '_:node1co3dhf4ax2', 'vsd:name': 'query'},\n",
       "  {'@id': '_:node1co3dhf4ax3',\n",
       "   '@type': 'xsd:string',\n",
       "   'vsd:index': '0',\n",
       "   'vsd:name': 'query'},\n",
       "  {'@id': '_:node1co3dhf4ax4',\n",
       "   'vocals:feature': {'@id': 'http://localhost:8181/streamhub/StreamGetterFeature'},\n",
       "   'vsd:endpoint': '/streams/:stream',\n",
       "   'vsd:method': 'GET',\n",
       "   'vsd:name': 'StreamGetterFeature',\n",
       "   'vsd:uri_param': {'@id': '_:node1co3dhf4ax5'}},\n",
       "  {'@id': '_:node1co3dhf4ax5',\n",
       "   'vsd:index': '0',\n",
       "   'vsd:name': 'stream',\n",
       "   'vsd:type': {'@id': 'xsd:string'}},\n",
       "  {'@id': '_:node1co3dhf4ax6',\n",
       "   'vocals:feature': {'@id': 'http://localhost:8181/streamhub/StreamsGetterFeature'},\n",
       "   'vsd:endpoint': '/streams',\n",
       "   'vsd:method': 'GET',\n",
       "   'vsd:name': 'StreamsGetterFeature'},\n",
       "  {'@id': '_:node1co3dhf4ax7',\n",
       "   'vocals:feature': {'@id': 'http://localhost:8181/streamhub/StreamDeletionFeature'},\n",
       "   'vsd:endpoint': '/streams/:stream',\n",
       "   'vsd:method': 'DELETE',\n",
       "   'vsd:name': 'StreamDeletionFeature',\n",
       "   'vsd:uri_param': {'@id': '_:node1co3dhf4ax8'}},\n",
       "  {'@id': '_:node1co3dhf4ax8',\n",
       "   'vsd:index': '0',\n",
       "   'vsd:name': 'stream',\n",
       "   'vsd:type': {'@id': 'xsd:string'}},\n",
       "  {'@id': 'http://localhost:8181/streamhub',\n",
       "   '@type': 'vsd:PublishingService',\n",
       "   'vsd:base': 'http://localhost:8181',\n",
       "   'vsd:hasService': [{'@id': '_:node1co3dhf4ax1'},\n",
       "    {'@id': '_:node1co3dhf4ax4'},\n",
       "    {'@id': '_:node1co3dhf4ax6'},\n",
       "    {'@id': '_:node1co3dhf4ax7'}]}],\n",
       " '@context': {'frmt': 'http://www.w3.org/ns/formats/',\n",
       "  'vsd': 'http://w3id.org/rsp/vocals-sd#',\n",
       "  'vocals': 'http://w3id.org/rsp/vocals#',\n",
       "  'xsd': 'http://www.w3.org/2001/XMLSchema#',\n",
       "  'vprov': 'http://w3id.org/rsp/vocals-prov#'}}"
      ]
     },
     "execution_count": 9,
     "metadata": {},
     "output_type": "execute_result"
    }
   ],
   "source": [
    "requests.get(host).json()"
   ]
  },
  {
   "cell_type": "markdown",
   "metadata": {},
   "source": [
    "# Publishing a Stream"
   ]
  },
  {
   "cell_type": "code",
   "execution_count": 10,
   "metadata": {},
   "outputs": [],
   "source": [
    "default_headers = {\n",
    "          'Content-Type': 'application/json',\n",
    "          'Access-Control-Allow-Origin': '*'\n",
    "        }"
   ]
  },
  {
   "cell_type": "markdown",
   "metadata": {},
   "source": [
    "## Publication Query - SPARQL-like Syntax"
   ]
  },
  {
   "cell_type": "code",
   "execution_count": 11,
   "metadata": {},
   "outputs": [],
   "source": [
    "body = { 'query': '''BASE  <http://localhost:9292/streamhub>\n",
    "PREFIX xsd: <http://www.w3.org/2001/XMLSchema#>\n",
    "PREFIX rdfs: <http://www.w3.org/2000/01/rdf-schema#>\n",
    "PREFIX dcat: <http://www.w3.org/ns/dcat#>\n",
    "PREFIX frmt: <http://www.w3.org/ns/formats/>\n",
    "PREFIX vocals: <http://w3id.org/rsp/vocals#>\n",
    "PREFIX vsd: <http://w3id.org/rsp/vocals-sd#>\n",
    "REGISTER STREAM :red\n",
    "FROM SOURCE <ws://redstream:2551/red>\n",
    "WHERE {\n",
    "\n",
    "           {this} a vocals:StreamDescriptor .\n",
    "\n",
    "           {publisher} a vsd:PublishingService ;\n",
    "                         vsd:hasFeature vsd:replaying ;\n",
    "                         vsd:resultFormat frmt:JSON-LD .\n",
    "\n",
    "           :RedColorEndpoint a vocals:StreamEndpoint ;\n",
    "                            dcat:title \"A Color Stream Endpoint\"^^xsd:string ;\n",
    "                            dcat:description \"Streaming endpoint to consume Colors via WebSocket\"^^xsd:string ;\n",
    "                            dcat:license <https://creativecommons.org/licenses/by-nc/4.0/> ;\n",
    "                            dcat:format frmt:JSON-LD ;\n",
    "                            dcat:accessURL {source} ;\n",
    "                            vsd:publishedBy {publisher} .\n",
    "\n",
    "           {stream} a vocals:RDFStream ;\n",
    "                    dcat:title \"Red Color Stream\"^^xsd:string ;\n",
    "                    dcat:description \"Stream of red color instances\"^^xsd:string ;\n",
    "                    dcat:publisher {publisher} ;\n",
    "                    dcat:landingPage <https://example.org/rw/colors/> ;\n",
    "                    vocals:hasEndpoint :RedColorEndpoint  .\n",
    "\n",
    "}\n",
    "\n",
    "''' }\n",
    "body = json.dumps(body)\n",
    "r = requests.post(host+\"/streams\",  data = body, headers=default_headers )"
   ]
  },
  {
   "cell_type": "code",
   "execution_count": 12,
   "metadata": {},
   "outputs": [
    {
     "data": {
      "text/plain": [
       "<Response [200]>"
      ]
     },
     "execution_count": 12,
     "metadata": {},
     "output_type": "execute_result"
    }
   ],
   "source": [
    "r"
   ]
  },
  {
   "cell_type": "markdown",
   "metadata": {},
   "source": [
    "## Checking if there is any stream"
   ]
  },
  {
   "cell_type": "code",
   "execution_count": 13,
   "metadata": {},
   "outputs": [
    {
     "data": {
      "text/plain": [
       "[{'iri': 'http://localhost:9292/streamhub/streams/red'}]"
      ]
     },
     "execution_count": 13,
     "metadata": {},
     "output_type": "execute_result"
    }
   ],
   "source": [
    "requests.get(host+\"/streams\").json()"
   ]
  },
  {
   "cell_type": "markdown",
   "metadata": {},
   "source": [
    "## Getting the stream just registered"
   ]
  },
  {
   "cell_type": "code",
   "execution_count": 61,
   "metadata": {},
   "outputs": [
    {
     "data": {
      "text/plain": [
       "'Not Found Resource with id [red]'"
      ]
     },
     "execution_count": 61,
     "metadata": {},
     "output_type": "execute_result"
    }
   ],
   "source": [
    "requests.get(host+\"/streams/red\").text"
   ]
  },
  {
   "cell_type": "markdown",
   "metadata": {},
   "source": [
    "## Deleting the stream registered"
   ]
  },
  {
   "cell_type": "code",
   "execution_count": 110,
   "metadata": {},
   "outputs": [
    {
     "ename": "JSONDecodeError",
     "evalue": "Expecting value: line 1 column 1 (char 0)",
     "output_type": "error",
     "traceback": [
      "\u001b[0;31m---------------------------------------------------------------------------\u001b[0m",
      "\u001b[0;31mJSONDecodeError\u001b[0m                           Traceback (most recent call last)",
      "\u001b[0;32m<ipython-input-110-5b1a51cb4ab0>\u001b[0m in \u001b[0;36m<module>\u001b[0;34m()\u001b[0m\n\u001b[0;32m----> 1\u001b[0;31m \u001b[0mr\u001b[0m \u001b[0;34m=\u001b[0m \u001b[0mrequests\u001b[0m\u001b[0;34m.\u001b[0m\u001b[0mdelete\u001b[0m\u001b[0;34m(\u001b[0m\u001b[0mhost\u001b[0m\u001b[0;34m+\u001b[0m\u001b[0;34m\"/streams/red\"\u001b[0m\u001b[0;34m)\u001b[0m\u001b[0;34m.\u001b[0m\u001b[0mjson\u001b[0m\u001b[0;34m(\u001b[0m\u001b[0;34m)\u001b[0m\u001b[0;34m\u001b[0m\u001b[0m\n\u001b[0m",
      "\u001b[0;32m/opt/conda/lib/python3.6/site-packages/requests/models.py\u001b[0m in \u001b[0;36mjson\u001b[0;34m(self, **kwargs)\u001b[0m\n\u001b[1;32m    882\u001b[0m                 \u001b[0;32mtry\u001b[0m\u001b[0;34m:\u001b[0m\u001b[0;34m\u001b[0m\u001b[0m\n\u001b[1;32m    883\u001b[0m                     return complexjson.loads(\n\u001b[0;32m--> 884\u001b[0;31m                         \u001b[0mself\u001b[0m\u001b[0;34m.\u001b[0m\u001b[0mcontent\u001b[0m\u001b[0;34m.\u001b[0m\u001b[0mdecode\u001b[0m\u001b[0;34m(\u001b[0m\u001b[0mencoding\u001b[0m\u001b[0;34m)\u001b[0m\u001b[0;34m,\u001b[0m \u001b[0;34m**\u001b[0m\u001b[0mkwargs\u001b[0m\u001b[0;34m\u001b[0m\u001b[0m\n\u001b[0m\u001b[1;32m    885\u001b[0m                     )\n\u001b[1;32m    886\u001b[0m                 \u001b[0;32mexcept\u001b[0m \u001b[0mUnicodeDecodeError\u001b[0m\u001b[0;34m:\u001b[0m\u001b[0;34m\u001b[0m\u001b[0m\n",
      "\u001b[0;32m/opt/conda/lib/python3.6/json/__init__.py\u001b[0m in \u001b[0;36mloads\u001b[0;34m(s, encoding, cls, object_hook, parse_float, parse_int, parse_constant, object_pairs_hook, **kw)\u001b[0m\n\u001b[1;32m    352\u001b[0m             \u001b[0mparse_int\u001b[0m \u001b[0;32mis\u001b[0m \u001b[0;32mNone\u001b[0m \u001b[0;32mand\u001b[0m \u001b[0mparse_float\u001b[0m \u001b[0;32mis\u001b[0m \u001b[0;32mNone\u001b[0m \u001b[0;32mand\u001b[0m\u001b[0;34m\u001b[0m\u001b[0m\n\u001b[1;32m    353\u001b[0m             parse_constant is None and object_pairs_hook is None and not kw):\n\u001b[0;32m--> 354\u001b[0;31m         \u001b[0;32mreturn\u001b[0m \u001b[0m_default_decoder\u001b[0m\u001b[0;34m.\u001b[0m\u001b[0mdecode\u001b[0m\u001b[0;34m(\u001b[0m\u001b[0ms\u001b[0m\u001b[0;34m)\u001b[0m\u001b[0;34m\u001b[0m\u001b[0m\n\u001b[0m\u001b[1;32m    355\u001b[0m     \u001b[0;32mif\u001b[0m \u001b[0mcls\u001b[0m \u001b[0;32mis\u001b[0m \u001b[0;32mNone\u001b[0m\u001b[0;34m:\u001b[0m\u001b[0;34m\u001b[0m\u001b[0m\n\u001b[1;32m    356\u001b[0m         \u001b[0mcls\u001b[0m \u001b[0;34m=\u001b[0m \u001b[0mJSONDecoder\u001b[0m\u001b[0;34m\u001b[0m\u001b[0m\n",
      "\u001b[0;32m/opt/conda/lib/python3.6/json/decoder.py\u001b[0m in \u001b[0;36mdecode\u001b[0;34m(self, s, _w)\u001b[0m\n\u001b[1;32m    337\u001b[0m \u001b[0;34m\u001b[0m\u001b[0m\n\u001b[1;32m    338\u001b[0m         \"\"\"\n\u001b[0;32m--> 339\u001b[0;31m         \u001b[0mobj\u001b[0m\u001b[0;34m,\u001b[0m \u001b[0mend\u001b[0m \u001b[0;34m=\u001b[0m \u001b[0mself\u001b[0m\u001b[0;34m.\u001b[0m\u001b[0mraw_decode\u001b[0m\u001b[0;34m(\u001b[0m\u001b[0ms\u001b[0m\u001b[0;34m,\u001b[0m \u001b[0midx\u001b[0m\u001b[0;34m=\u001b[0m\u001b[0m_w\u001b[0m\u001b[0;34m(\u001b[0m\u001b[0ms\u001b[0m\u001b[0;34m,\u001b[0m \u001b[0;36m0\u001b[0m\u001b[0;34m)\u001b[0m\u001b[0;34m.\u001b[0m\u001b[0mend\u001b[0m\u001b[0;34m(\u001b[0m\u001b[0;34m)\u001b[0m\u001b[0;34m)\u001b[0m\u001b[0;34m\u001b[0m\u001b[0m\n\u001b[0m\u001b[1;32m    340\u001b[0m         \u001b[0mend\u001b[0m \u001b[0;34m=\u001b[0m \u001b[0m_w\u001b[0m\u001b[0;34m(\u001b[0m\u001b[0ms\u001b[0m\u001b[0;34m,\u001b[0m \u001b[0mend\u001b[0m\u001b[0;34m)\u001b[0m\u001b[0;34m.\u001b[0m\u001b[0mend\u001b[0m\u001b[0;34m(\u001b[0m\u001b[0;34m)\u001b[0m\u001b[0;34m\u001b[0m\u001b[0m\n\u001b[1;32m    341\u001b[0m         \u001b[0;32mif\u001b[0m \u001b[0mend\u001b[0m \u001b[0;34m!=\u001b[0m \u001b[0mlen\u001b[0m\u001b[0;34m(\u001b[0m\u001b[0ms\u001b[0m\u001b[0;34m)\u001b[0m\u001b[0;34m:\u001b[0m\u001b[0;34m\u001b[0m\u001b[0m\n",
      "\u001b[0;32m/opt/conda/lib/python3.6/json/decoder.py\u001b[0m in \u001b[0;36mraw_decode\u001b[0;34m(self, s, idx)\u001b[0m\n\u001b[1;32m    355\u001b[0m             \u001b[0mobj\u001b[0m\u001b[0;34m,\u001b[0m \u001b[0mend\u001b[0m \u001b[0;34m=\u001b[0m \u001b[0mself\u001b[0m\u001b[0;34m.\u001b[0m\u001b[0mscan_once\u001b[0m\u001b[0;34m(\u001b[0m\u001b[0ms\u001b[0m\u001b[0;34m,\u001b[0m \u001b[0midx\u001b[0m\u001b[0;34m)\u001b[0m\u001b[0;34m\u001b[0m\u001b[0m\n\u001b[1;32m    356\u001b[0m         \u001b[0;32mexcept\u001b[0m \u001b[0mStopIteration\u001b[0m \u001b[0;32mas\u001b[0m \u001b[0merr\u001b[0m\u001b[0;34m:\u001b[0m\u001b[0;34m\u001b[0m\u001b[0m\n\u001b[0;32m--> 357\u001b[0;31m             \u001b[0;32mraise\u001b[0m \u001b[0mJSONDecodeError\u001b[0m\u001b[0;34m(\u001b[0m\u001b[0;34m\"Expecting value\"\u001b[0m\u001b[0;34m,\u001b[0m \u001b[0ms\u001b[0m\u001b[0;34m,\u001b[0m \u001b[0merr\u001b[0m\u001b[0;34m.\u001b[0m\u001b[0mvalue\u001b[0m\u001b[0;34m)\u001b[0m \u001b[0;32mfrom\u001b[0m \u001b[0;32mNone\u001b[0m\u001b[0;34m\u001b[0m\u001b[0m\n\u001b[0m\u001b[1;32m    358\u001b[0m         \u001b[0;32mreturn\u001b[0m \u001b[0mobj\u001b[0m\u001b[0;34m,\u001b[0m \u001b[0mend\u001b[0m\u001b[0;34m\u001b[0m\u001b[0m\n",
      "\u001b[0;31mJSONDecodeError\u001b[0m: Expecting value: line 1 column 1 (char 0)"
     ]
    }
   ],
   "source": [
    "r = requests.delete(host+\"/streams/red\").json()\n"
   ]
  },
  {
   "cell_type": "code",
   "execution_count": 111,
   "metadata": {},
   "outputs": [
    {
     "data": {
      "text/plain": [
       "{'@id': 'streams/red',\n",
       " '@type': 'vocals:StreamDescriptor',\n",
       " 'dcat:dataset': {'@id': 'streams/red',\n",
       "  '@type': 'vocals:RDFStream',\n",
       "  'dcat:description': 'Aggregated stream of different streams produced by traffic sensors spread around Milan',\n",
       "  'dcat:landingPage': 'https://example.org/rw/colors/',\n",
       "  'dcat:publisher': 'http://localhost:9292/streamhub',\n",
       "  'dcat:title': 'Milan Traffic Stream',\n",
       "  'vocals:hasEndpoint': [[{'@id': 'http://localhost:9292/streamhub/ColorEndpoint',\n",
       "     '@type': 'http://w3id.org/rsp/vocals#StreamEndpoint',\n",
       "     'dcat:title': 'A Color Stream Endpoint',\n",
       "     'dcat:description': 'Streaming endpoint to consume Colors via WebSocket',\n",
       "     'dcat:license': 'https://creativecommons.org/licenses/by-nc/4.0/',\n",
       "     'dcat:format': 'http://www.w3.org/ns/formats/JSON-LD',\n",
       "     'dcat:accessURL': 'ws://docker.for.mac.localhost:2551/red',\n",
       "     'vsd:publishedBy': 'http://localhost:9292/streamhub'}],\n",
       "   'http://localhost:9292/streamhub/ColorEndpoint']},\n",
       " 'vsd:publishedBy': {'@id': './',\n",
       "  '@type': 'vsd:PublishingService',\n",
       "  'vsd:hasFeature': 'http://w3id.org/rsp/vocals-sd#replaying',\n",
       "  'vsd:resultFormat': 'http://www.w3.org/ns/formats/JSON-LD'},\n",
       " '@context': {'frmt': 'http://www.w3.org/ns/formats/',\n",
       "  'owl': 'http://www.w3.org/2002/07/owl#',\n",
       "  'rdf': 'http://www.w3.org/1999/02/22-rdf-syntax-ns#',\n",
       "  'vsd': 'http://w3id.org/rsp/vocals-sd#',\n",
       "  'xsd': 'http://www.w3.org/2001/XMLSchema#',\n",
       "  'format': 'http://www.w3.org/ns/formats/',\n",
       "  'vocals': 'http://w3id.org/rsp/vocals#',\n",
       "  'rdfs': 'http://www.w3.org/2000/01/rdf-schema#',\n",
       "  'vprov': 'http://w3id.org/rsp/vocals-prov#',\n",
       "  'dcat': 'http://www.w3.org/ns/dcat#',\n",
       "  '@base': 'http://localhost:9292/streamhub/',\n",
       "  'dcat:accessURL': {'@type': 'xsd:string'},\n",
       "  'dcat:description': {'@type': 'http://www.w3.org/2001/XMLSchema#string'},\n",
       "  'dcat:title': {'@type': 'http://www.w3.org/2001/XMLSchema#string'}}}"
      ]
     },
     "execution_count": 111,
     "metadata": {},
     "output_type": "execute_result"
    }
   ],
   "source": [
    "r"
   ]
  },
  {
   "cell_type": "code",
   "execution_count": 61,
   "metadata": {},
   "outputs": [
    {
     "data": {
      "text/plain": [
       "{'@id': 'streams/stream1',\n",
       " '@type': 'vocals:StreamDescriptor',\n",
       " 'dcat:dataset': {'@id': 'streams/stream1',\n",
       "  '@type': 'vocals:RDFStream',\n",
       "  'vocals:hasEndpoint': [{'@id': 'http://localhost:8181/pub/ColorEndpoint',\n",
       "    '@type': 'http://w3id.org/rsp/vocals#StreamEndpoint',\n",
       "    'http://www.w3.org/ns/dcat#title': 'A Color Stream Endpoint',\n",
       "    'http://www.w3.org/ns/dcat#description': 'Streaming endpoint to consume Colors via WebSocket',\n",
       "    'http://www.w3.org/ns/dcat#license': 'https://creativecommons.org/licenses/by-nc/4.0/',\n",
       "    'http://www.w3.org/ns/dcat#format': 'http://www.w3.org/ns/formats/JSON-LD',\n",
       "    'http://www.w3.org/ns/dcat#accessURL': 'ws://sdasd.org',\n",
       "    'http://w3id.org/rsp/vocals-sd#publishedBy': 'http://localhost:8181/pub/'}],\n",
       "  'dcat:description': 'Aggregated stream of different streams produced by traffic sensors spread around Milan',\n",
       "  'dcat:landingPage': 'https://example.org/rw/colors/',\n",
       "  'dcat:publisher': 'http://localhost:8181/pub/',\n",
       "  'dcat:title': 'Milan Traffic Stream'},\n",
       " 'vsd:publishedBy': {'@id': './',\n",
       "  '@type': 'vsd:PublishingService',\n",
       "  'vsd:hasFeature': 'http://w3id.org/rsp/vocals-sd#replaying',\n",
       "  'vsd:resultFormat': 'http://www.w3.org/ns/formats/JSON-LD'},\n",
       " '@context': {'frmt': 'http://www.w3.org/ns/formats/',\n",
       "  'owl': 'http://www.w3.org/2002/07/owl#',\n",
       "  'rdf': 'http://www.w3.org/1999/02/22-rdf-syntax-ns#',\n",
       "  'vsd': 'http://w3id.org/rsp/vocals-sd#',\n",
       "  'xsd': 'http://www.w3.org/2001/XMLSchema#',\n",
       "  'format': 'http://www.w3.org/ns/formats/',\n",
       "  'vocals': 'http://w3id.org/rsp/vocals#',\n",
       "  'rdfs': 'http://www.w3.org/2000/01/rdf-schema#',\n",
       "  'vprov': 'http://w3id.org/rsp/vocals-prov#',\n",
       "  'dcat': 'http://www.w3.org/ns/dcat#',\n",
       "  'dcat:accessURL': {'@type': 'xsd:string'},\n",
       "  '@base': 'http://localhost:8181/pub/',\n",
       "  'http://www.w3.org/ns/dcat#description': {'@type': 'http://www.w3.org/2001/XMLSchema#string'},\n",
       "  'http://www.w3.org/ns/dcat#title': {'@type': 'http://www.w3.org/2001/XMLSchema#string'}}}"
      ]
     },
     "execution_count": 61,
     "metadata": {},
     "output_type": "execute_result"
    }
   ],
   "source": [
    "r"
   ]
  },
  {
   "cell_type": "code",
   "execution_count": 62,
   "metadata": {},
   "outputs": [
    {
     "data": {
      "text/plain": [
       "[]"
      ]
     },
     "execution_count": 62,
     "metadata": {},
     "output_type": "execute_result"
    }
   ],
   "source": [
    "requests.get(host+\"/pub/streams\").json()"
   ]
  },
  {
   "cell_type": "code",
   "execution_count": null,
   "metadata": {},
   "outputs": [],
   "source": []
  }
 ],
 "metadata": {
  "kernelspec": {
   "display_name": "Python 3",
   "language": "python",
   "name": "python3"
  },
  "language_info": {
   "codemirror_mode": {
    "name": "ipython",
    "version": 3
   },
   "file_extension": ".py",
   "mimetype": "text/x-python",
   "name": "python",
   "nbconvert_exporter": "python",
   "pygments_lexer": "ipython3",
   "version": "3.6.4"
  }
 },
 "nbformat": 4,
 "nbformat_minor": 2
}
