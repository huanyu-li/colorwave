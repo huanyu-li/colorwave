{
 "cells": [
  {
   "cell_type": "code",
   "execution_count": 29,
   "metadata": {},
   "outputs": [
    {
     "name": "stdout",
     "output_type": "stream",
     "text": [
      "Requirement already satisfied: requests in /opt/conda/lib/python3.6/site-packages\n",
      "Requirement already satisfied: chardet<3.1.0,>=3.0.2 in /opt/conda/lib/python3.6/site-packages (from requests)\n",
      "Requirement already satisfied: idna<2.7,>=2.5 in /opt/conda/lib/python3.6/site-packages (from requests)\n",
      "Requirement already satisfied: urllib3<1.23,>=1.21.1 in /opt/conda/lib/python3.6/site-packages (from requests)\n",
      "Requirement already satisfied: certifi>=2017.4.17 in /opt/conda/lib/python3.6/site-packages (from requests)\n",
      "\u001b[33mYou are using pip version 9.0.1, however version 18.0 is available.\n",
      "You should consider upgrading via the 'pip install --upgrade pip' command.\u001b[0m\n"
     ]
    }
   ],
   "source": [
    "!pip install requests\n"
   ]
  },
  {
   "cell_type": "code",
   "execution_count": 2,
   "metadata": {},
   "outputs": [],
   "source": [
    "import requests, json"
   ]
  },
  {
   "cell_type": "markdown",
   "metadata": {},
   "source": [
    "# Check the Publisher Endpoint"
   ]
  },
  {
   "cell_type": "code",
   "execution_count": 4,
   "metadata": {},
   "outputs": [
    {
     "data": {
      "text/plain": [
       "{'@graph': [{'@id': '_:node1cntuv5h9x1',\n",
       "   'vocals:feature': {'@id': 'http://localhost:8181/colorwave/StreamFullRegistrationFeature'},\n",
       "   'vsd:body': '{\"query\":\"http://www.w3.org/2001/XMLSchema#string\"}',\n",
       "   'vsd:body_param': {'@id': '_:node1cntuv5h9x3'},\n",
       "   'vsd:endpoint': '/streams',\n",
       "   'vsd:method': 'POST',\n",
       "   'vsd:name': 'StreamFullRegistrationFeature'},\n",
       "  {'@id': '_:node1cntuv5h9x2', 'vsd:name': 'query'},\n",
       "  {'@id': '_:node1cntuv5h9x3',\n",
       "   '@type': 'xsd:string',\n",
       "   'vsd:index': '0',\n",
       "   'vsd:name': 'query'},\n",
       "  {'@id': '_:node1cntuv5h9x4',\n",
       "   'vocals:feature': {'@id': 'http://localhost:8181/colorwave/StreamGetterFeature'},\n",
       "   'vsd:endpoint': '/streams/:stream',\n",
       "   'vsd:method': 'GET',\n",
       "   'vsd:name': 'StreamGetterFeature',\n",
       "   'vsd:uri_param': {'@id': '_:node1cntuv5h9x5'}},\n",
       "  {'@id': '_:node1cntuv5h9x5',\n",
       "   'vsd:index': '0',\n",
       "   'vsd:name': 'stream',\n",
       "   'vsd:type': {'@id': 'xsd:string'}},\n",
       "  {'@id': '_:node1cntuv5h9x6',\n",
       "   'vocals:feature': {'@id': 'http://localhost:8181/colorwave/StreamsGetterFeature'},\n",
       "   'vsd:endpoint': '/streams',\n",
       "   'vsd:method': 'GET',\n",
       "   'vsd:name': 'StreamsGetterFeature'},\n",
       "  {'@id': '_:node1cntuv5h9x7',\n",
       "   'vocals:feature': {'@id': 'http://localhost:8181/colorwave/StreamDeletionFeature'},\n",
       "   'vsd:endpoint': '/streams/:stream',\n",
       "   'vsd:method': 'DELETE',\n",
       "   'vsd:name': 'StreamDeletionFeature',\n",
       "   'vsd:uri_param': {'@id': '_:node1cntuv5h9x8'}},\n",
       "  {'@id': '_:node1cntuv5h9x8',\n",
       "   'vsd:index': '0',\n",
       "   'vsd:name': 'stream',\n",
       "   'vsd:type': {'@id': 'xsd:string'}},\n",
       "  {'@id': 'http://localhost:8181/colorwave',\n",
       "   '@type': 'vsd:PublishingService',\n",
       "   'vsd:base': 'http://localhost:8181',\n",
       "   'vsd:hasService': [{'@id': '_:node1cntuv5h9x1'},\n",
       "    {'@id': '_:node1cntuv5h9x4'},\n",
       "    {'@id': '_:node1cntuv5h9x6'},\n",
       "    {'@id': '_:node1cntuv5h9x7'}]}],\n",
       " '@context': {'frmt': 'http://www.w3.org/ns/formats/',\n",
       "  'vsd': 'http://w3id.org/rsp/vocals-sd#',\n",
       "  'vocals': 'http://w3id.org/rsp/vocals#',\n",
       "  'xsd': 'http://www.w3.org/2001/XMLSchema#',\n",
       "  'vprov': 'http://w3id.org/rsp/vocals-prov#'}}"
      ]
     },
     "execution_count": 4,
     "metadata": {},
     "output_type": "execute_result"
    }
   ],
   "source": [
    "requests.get(\"http://docker.for.mac.localhost:8181/colorwave\").json()"
   ]
  },
  {
   "cell_type": "markdown",
   "metadata": {},
   "source": [
    "# Publishing a Stream"
   ]
  },
  {
   "cell_type": "code",
   "execution_count": 5,
   "metadata": {},
   "outputs": [],
   "source": [
    "default_headers = {\n",
    "          'Content-Type': 'application/json',\n",
    "          'Access-Control-Allow-Origin': '*'\n",
    "        }"
   ]
  },
  {
   "cell_type": "markdown",
   "metadata": {},
   "source": [
    "## Publication Query - SPARQL-like Syntax"
   ]
  },
  {
   "cell_type": "code",
   "execution_count": 15,
   "metadata": {},
   "outputs": [
    {
     "data": {
      "text/plain": [
       "{'@id': 'streams/green',\n",
       " '@type': 'vocals:StreamDescriptor',\n",
       " 'dcat:dataset': {'@id': 'streams/green',\n",
       "  'vocals:hasEndpoint': [{'@id': 'http://localhost:8181/colorwave/GreenColorStreamEndpoint',\n",
       "    '@type': 'http://w3id.org/rsp/vocals#StreamEndpoint',\n",
       "    'dcat:title': 'A Color Stream Endpoint',\n",
       "    'dcat:description': 'Periodically produces instances of the Green Color Class',\n",
       "    'dcat:license': 'https://creativecommons.org/licenses/by-nc/4.0/',\n",
       "    'dcat:format': 'http://www.w3.org/ns/formats/JSON-LD',\n",
       "    'dcat:accessURL': 'ws://localhost:2552/green',\n",
       "    'vsd:publishedBy': 'http://localhost:8181/colorwave/'}]},\n",
       " 'vsd:publishedBy': {'@id': './',\n",
       "  '@type': 'vsd:PublishingService',\n",
       "  'vsd:hasFeature': 'http://w3id.org/rsp/vocals-sd#replaying',\n",
       "  'vsd:resultFormat': 'http://www.w3.org/ns/formats/JSON-LD'},\n",
       " '@context': {'frmt': 'http://www.w3.org/ns/formats/',\n",
       "  'owl': 'http://www.w3.org/2002/07/owl#',\n",
       "  'rdf': 'http://www.w3.org/1999/02/22-rdf-syntax-ns#',\n",
       "  'vsd': 'http://w3id.org/rsp/vocals-sd#',\n",
       "  'xsd': 'http://www.w3.org/2001/XMLSchema#',\n",
       "  'format': 'http://www.w3.org/ns/formats/',\n",
       "  'vocals': 'http://w3id.org/rsp/vocals#',\n",
       "  'rdfs': 'http://www.w3.org/2000/01/rdf-schema#',\n",
       "  'vprov': 'http://w3id.org/rsp/vocals-prov#',\n",
       "  'dcat': 'http://www.w3.org/ns/dcat#',\n",
       "  '@base': 'http://localhost:8181/colorwave/',\n",
       "  'dcat:accessURL': {'@type': 'xsd:string'},\n",
       "  'dcat:description': {'@type': 'http://www.w3.org/2001/XMLSchema#string'},\n",
       "  'dcat:title': {'@type': 'http://www.w3.org/2001/XMLSchema#string'}}}"
      ]
     },
     "execution_count": 15,
     "metadata": {},
     "output_type": "execute_result"
    }
   ],
   "source": [
    "body = { 'query': '''BASE  <http://localhost:8181/colorwave>\n",
    "PREFIX xsd: <http://www.w3.org/2001/XMLSchema#>\n",
    "PREFIX rdfs: <http://www.w3.org/2000/01/rdf-schema#>\n",
    "PREFIX dcat: <http://www.w3.org/ns/dcat#>\n",
    "PREFIX frmt: <http://www.w3.org/ns/formats/>\n",
    "PREFIX vocals: <http://w3id.org/rsp/vocals#>\n",
    "PREFIX vsd: <http://w3id.org/rsp/vocals-sd#>\n",
    "REGISTER STREAM :green\n",
    "FROM SOURCE <ws://localhost:2552/green>\n",
    "WHERE {\n",
    "\n",
    "           {this} a vocals:StreamDescriptor .\n",
    "\n",
    "           {publisher} a vsd:PublishingService ;\n",
    "                         vsd:hasFeature vsd:replaying ;\n",
    "                         vsd:resultFormat frmt:JSON-LD .\n",
    "\n",
    "           :GreenColorStreamEndpoint a vocals:StreamEndpoint ;\n",
    "                            dcat:title \"A Color Stream Endpoint\"^^xsd:string ;\n",
    "                            dcat:description \"Periodically produces instances of the Green Color Class\"^^xsd:string ;\n",
    "                            dcat:license <https://creativecommons.org/licenses/by-nc/4.0/> ;\n",
    "                            dcat:format frmt:JSON-LD ;\n",
    "                            dcat:accessURL {source} ;\n",
    "                            vsd:publishedBy {publisher} .\n",
    "\n",
    "           {stream} a vocals:RDFStream ;\n",
    "                    dcat:title \"Green Color Stream\"^^xsd:string ;\n",
    "                    dcat:description \"Streaming endpoint to consume Green color instances via websocket\"^^xsd:string ;\n",
    "                    dcat:publisher {publisher} ;\n",
    "                    dcat:landingPage <https://example.org/green/> ;\n",
    "                    vocals:hasEndpoint :GreenColorStreamEndpoint  .\n",
    "\n",
    "}\n",
    "\n",
    "''' }\n",
    "body = json.dumps(body)\n",
    "requests.post(\"http://docker.for.mac.localhost:8181/colorwave/streams\",  data = body, headers=default_headers ).json()"
   ]
  },
  {
   "cell_type": "markdown",
   "metadata": {},
   "source": [
    "## Checking if there is any stream"
   ]
  },
  {
   "cell_type": "code",
   "execution_count": 16,
   "metadata": {},
   "outputs": [
    {
     "data": {
      "text/plain": [
       "[{'iri': 'http://localhost:8181/colorwave/streams/green'}]"
      ]
     },
     "execution_count": 16,
     "metadata": {},
     "output_type": "execute_result"
    }
   ],
   "source": [
    "requests.get(\"http://docker.for.mac.localhost:8181/colorwave/streams\").json()"
   ]
  },
  {
   "cell_type": "markdown",
   "metadata": {},
   "source": [
    "## Getting the stream just registered"
   ]
  },
  {
   "cell_type": "code",
   "execution_count": 17,
   "metadata": {},
   "outputs": [
    {
     "data": {
      "text/plain": [
       "{'@id': 'streams/green',\n",
       " '@type': 'vocals:StreamDescriptor',\n",
       " 'dcat:dataset': {'@id': 'streams/green',\n",
       "  'vocals:hasEndpoint': [{'@id': 'http://localhost:8181/colorwave/GreenColorStreamEndpoint',\n",
       "    '@type': 'http://w3id.org/rsp/vocals#StreamEndpoint',\n",
       "    'dcat:title': 'A Color Stream Endpoint',\n",
       "    'dcat:description': 'Periodically produces instances of the Green Color Class',\n",
       "    'dcat:license': 'https://creativecommons.org/licenses/by-nc/4.0/',\n",
       "    'dcat:format': 'http://www.w3.org/ns/formats/JSON-LD',\n",
       "    'dcat:accessURL': 'ws://localhost:2552/green',\n",
       "    'vsd:publishedBy': 'http://localhost:8181/colorwave/'}]},\n",
       " 'vsd:publishedBy': {'@id': './',\n",
       "  '@type': 'vsd:PublishingService',\n",
       "  'vsd:hasFeature': 'http://w3id.org/rsp/vocals-sd#replaying',\n",
       "  'vsd:resultFormat': 'http://www.w3.org/ns/formats/JSON-LD'},\n",
       " '@context': {'frmt': 'http://www.w3.org/ns/formats/',\n",
       "  'owl': 'http://www.w3.org/2002/07/owl#',\n",
       "  'rdf': 'http://www.w3.org/1999/02/22-rdf-syntax-ns#',\n",
       "  'vsd': 'http://w3id.org/rsp/vocals-sd#',\n",
       "  'xsd': 'http://www.w3.org/2001/XMLSchema#',\n",
       "  'format': 'http://www.w3.org/ns/formats/',\n",
       "  'vocals': 'http://w3id.org/rsp/vocals#',\n",
       "  'rdfs': 'http://www.w3.org/2000/01/rdf-schema#',\n",
       "  'vprov': 'http://w3id.org/rsp/vocals-prov#',\n",
       "  'dcat': 'http://www.w3.org/ns/dcat#',\n",
       "  '@base': 'http://localhost:8181/colorwave/',\n",
       "  'dcat:accessURL': {'@type': 'xsd:string'},\n",
       "  'dcat:description': {'@type': 'http://www.w3.org/2001/XMLSchema#string'},\n",
       "  'dcat:title': {'@type': 'http://www.w3.org/2001/XMLSchema#string'}}}"
      ]
     },
     "execution_count": 17,
     "metadata": {},
     "output_type": "execute_result"
    }
   ],
   "source": [
    "requests.get(\"http://docker.for.mac.localhost:8181/colorwave/streams/green\").json()"
   ]
  },
  {
   "cell_type": "markdown",
   "metadata": {},
   "source": [
    "## Deleting the stream registered"
   ]
  },
  {
   "cell_type": "code",
   "execution_count": 60,
   "metadata": {},
   "outputs": [],
   "source": [
    "r = requests.delete(\"http://docker.for.mac.localhost:8181/pub/streams/stream1\").json()"
   ]
  },
  {
   "cell_type": "code",
   "execution_count": 64,
   "metadata": {},
   "outputs": [
    {
     "data": {
      "text/plain": [
       "{'@graph': [{'@id': '_:node1cntjrp7ix1',\n",
       "   'vocals:feature': {'@id': 'http://10.169.208.191:8181/pub/StreamFullRegistrationFeature'},\n",
       "   'vsd:body': '{\"query\":\"http://www.w3.org/2001/XMLSchema#string\"}',\n",
       "   'vsd:body_param': {'@id': '_:node1cntjrp7ix3'},\n",
       "   'vsd:endpoint': '/streams',\n",
       "   'vsd:method': 'POST',\n",
       "   'vsd:name': 'StreamFullRegistrationFeature'},\n",
       "  {'@id': '_:node1cntjrp7ix2', 'vsd:name': 'query'},\n",
       "  {'@id': '_:node1cntjrp7ix3',\n",
       "   '@type': 'xsd:string',\n",
       "   'vsd:index': '0',\n",
       "   'vsd:name': 'query'},\n",
       "  {'@id': '_:node1cntjrp7ix4',\n",
       "   'vocals:feature': {'@id': 'http://10.169.208.191:8181/pub/StreamGetterFeature'},\n",
       "   'vsd:endpoint': '/streams/:stream',\n",
       "   'vsd:method': 'GET',\n",
       "   'vsd:name': 'StreamGetterFeature',\n",
       "   'vsd:uri_param': {'@id': '_:node1cntjrp7ix5'}},\n",
       "  {'@id': '_:node1cntjrp7ix5',\n",
       "   'vsd:index': '0',\n",
       "   'vsd:name': 'stream',\n",
       "   'vsd:type': {'@id': 'xsd:string'}},\n",
       "  {'@id': '_:node1cntjrp7ix6',\n",
       "   'vocals:feature': {'@id': 'http://10.169.208.191:8181/pub/StreamsGetterFeature'},\n",
       "   'vsd:endpoint': '/streams',\n",
       "   'vsd:method': 'GET',\n",
       "   'vsd:name': 'StreamsGetterFeature'},\n",
       "  {'@id': '_:node1cntjrp7ix7',\n",
       "   'vocals:feature': {'@id': 'http://10.169.208.191:8181/pub/StreamDeletionFeature'},\n",
       "   'vsd:endpoint': '/streams/:stream',\n",
       "   'vsd:method': 'DELETE',\n",
       "   'vsd:name': 'StreamDeletionFeature',\n",
       "   'vsd:uri_param': {'@id': '_:node1cntjrp7ix8'}},\n",
       "  {'@id': '_:node1cntjrp7ix8',\n",
       "   'vsd:index': '0',\n",
       "   'vsd:name': 'stream',\n",
       "   'vsd:type': {'@id': 'xsd:string'}},\n",
       "  {'@id': 'http://10.169.208.191:8181/pub',\n",
       "   '@type': 'vsd:PublishingService',\n",
       "   'vsd:base': 'http://10.169.208.191:8181',\n",
       "   'vsd:hasService': [{'@id': '_:node1cntjrp7ix1'},\n",
       "    {'@id': '_:node1cntjrp7ix4'},\n",
       "    {'@id': '_:node1cntjrp7ix6'},\n",
       "    {'@id': '_:node1cntjrp7ix7'}]}],\n",
       " '@context': {'frmt': 'http://www.w3.org/ns/formats/',\n",
       "  'vsd': 'http://w3id.org/rsp/vocals-sd#',\n",
       "  'vocals': 'http://w3id.org/rsp/vocals#',\n",
       "  'xsd': 'http://www.w3.org/2001/XMLSchema#',\n",
       "  'vprov': 'http://w3id.org/rsp/vocals-prov#'}}"
      ]
     },
     "execution_count": 64,
     "metadata": {},
     "output_type": "execute_result"
    }
   ],
   "source": []
  },
  {
   "cell_type": "code",
   "execution_count": 61,
   "metadata": {},
   "outputs": [
    {
     "data": {
      "text/plain": [
       "{'@id': 'streams/stream1',\n",
       " '@type': 'vocals:StreamDescriptor',\n",
       " 'dcat:dataset': {'@id': 'streams/stream1',\n",
       "  '@type': 'vocals:RDFStream',\n",
       "  'vocals:hasEndpoint': [{'@id': 'http://localhost:8181/pub/ColorEndpoint',\n",
       "    '@type': 'http://w3id.org/rsp/vocals#StreamEndpoint',\n",
       "    'http://www.w3.org/ns/dcat#title': 'A Color Stream Endpoint',\n",
       "    'http://www.w3.org/ns/dcat#description': 'Streaming endpoint to consume Colors via WebSocket',\n",
       "    'http://www.w3.org/ns/dcat#license': 'https://creativecommons.org/licenses/by-nc/4.0/',\n",
       "    'http://www.w3.org/ns/dcat#format': 'http://www.w3.org/ns/formats/JSON-LD',\n",
       "    'http://www.w3.org/ns/dcat#accessURL': 'ws://sdasd.org',\n",
       "    'http://w3id.org/rsp/vocals-sd#publishedBy': 'http://localhost:8181/pub/'}],\n",
       "  'dcat:description': 'Aggregated stream of different streams produced by traffic sensors spread around Milan',\n",
       "  'dcat:landingPage': 'https://example.org/rw/colors/',\n",
       "  'dcat:publisher': 'http://localhost:8181/pub/',\n",
       "  'dcat:title': 'Milan Traffic Stream'},\n",
       " 'vsd:publishedBy': {'@id': './',\n",
       "  '@type': 'vsd:PublishingService',\n",
       "  'vsd:hasFeature': 'http://w3id.org/rsp/vocals-sd#replaying',\n",
       "  'vsd:resultFormat': 'http://www.w3.org/ns/formats/JSON-LD'},\n",
       " '@context': {'frmt': 'http://www.w3.org/ns/formats/',\n",
       "  'owl': 'http://www.w3.org/2002/07/owl#',\n",
       "  'rdf': 'http://www.w3.org/1999/02/22-rdf-syntax-ns#',\n",
       "  'vsd': 'http://w3id.org/rsp/vocals-sd#',\n",
       "  'xsd': 'http://www.w3.org/2001/XMLSchema#',\n",
       "  'format': 'http://www.w3.org/ns/formats/',\n",
       "  'vocals': 'http://w3id.org/rsp/vocals#',\n",
       "  'rdfs': 'http://www.w3.org/2000/01/rdf-schema#',\n",
       "  'vprov': 'http://w3id.org/rsp/vocals-prov#',\n",
       "  'dcat': 'http://www.w3.org/ns/dcat#',\n",
       "  'dcat:accessURL': {'@type': 'xsd:string'},\n",
       "  '@base': 'http://localhost:8181/pub/',\n",
       "  'http://www.w3.org/ns/dcat#description': {'@type': 'http://www.w3.org/2001/XMLSchema#string'},\n",
       "  'http://www.w3.org/ns/dcat#title': {'@type': 'http://www.w3.org/2001/XMLSchema#string'}}}"
      ]
     },
     "execution_count": 61,
     "metadata": {},
     "output_type": "execute_result"
    }
   ],
   "source": [
    "r"
   ]
  },
  {
   "cell_type": "code",
   "execution_count": 62,
   "metadata": {},
   "outputs": [
    {
     "data": {
      "text/plain": [
       "[]"
      ]
     },
     "execution_count": 62,
     "metadata": {},
     "output_type": "execute_result"
    }
   ],
   "source": [
    "requests.get(\"http://docker.for.mac.localhost:8181/pub/streams\").json()"
   ]
  },
  {
   "cell_type": "code",
   "execution_count": null,
   "metadata": {},
   "outputs": [],
   "source": []
  }
 ],
 "metadata": {
  "kernelspec": {
   "display_name": "Python 3",
   "language": "python",
   "name": "python3"
  },
  "language_info": {
   "codemirror_mode": {
    "name": "ipython",
    "version": 3
   },
   "file_extension": ".py",
   "mimetype": "text/x-python",
   "name": "python",
   "nbconvert_exporter": "python",
   "pygments_lexer": "ipython3",
   "version": "3.6.4"
  }
 },
 "nbformat": 4,
 "nbformat_minor": 2
}
